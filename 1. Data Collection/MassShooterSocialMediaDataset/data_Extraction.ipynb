{
 "cells": [
  {
   "cell_type": "code",
   "execution_count": 3,
   "metadata": {},
   "outputs": [
    {
     "name": "stdout",
     "output_type": "stream",
     "text": [
      "                                               tweet                  date  \\\n",
      "0                                                     Mar 9, 2019, 4:16 PM   \n",
      "1                                                Why  Mar 9, 2019, 4:28 PM   \n",
      "2   Today in “Manosphere Grift or Terrorist Recru...  Mar 9, 2019, 4:43 PM   \n",
      "3   How can anyone see this as a good luck charm?...  Mar 9, 2019, 4:46 PM   \n",
      "4                                  Hamms is good tho  Mar 9, 2019, 5:44 PM   \n",
      "\n",
      "                                              source     RT  user_tag  \\\n",
      "0  (Source: https://twitter.com/iamthespookster/s...  False     False   \n",
      "1  (Source: https://twitter.com/iamthespookster/s...  False      True   \n",
      "2  (Source: https://twitter.com/iamthespookster/s...   True      True   \n",
      "3  (Source: https://twitter.com/iamthespookster/s...   True      True   \n",
      "4  (Source: https://twitter.com/iamthespookster/s...  False      True   \n",
      "\n",
      "            account  ext_link link  \n",
      "0                       False       \n",
      "1  @LetsJetTogether     False       \n",
      "2   @mollycrabapple     False       \n",
      "3  @JackieMorrisArt      True       \n",
      "4       @Lubchansky     False       \n",
      "3002\n"
     ]
    }
   ],
   "source": [
    "import pdfplumber\n",
    "import re\n",
    "import pandas as pd\n",
    "\n",
    "# STEP 1 - Read in Tweets from PDF\n",
    "pdf_path = \"Twitter-iamthespookster-2019-08-04 (1).pdf\"\n",
    "with pdfplumber.open(pdf_path) as pdf:\n",
    "    raw_data = \"\\n\".join([page.extract_text() for page in pdf.pages if page.extract_text()])\n",
    "\n",
    "# STEP 2 - Extract Tweets from Raw Data\n",
    "dat = raw_data.split(\"\\n\")\n",
    "dat = dat[4:]  # Remove first four lines (heading/whitespace)\n",
    "\n",
    "# Find and remove line breaks\n",
    "LBs = [i for i, line in enumerate(dat) if line == \"\"]\n",
    "dat = [line for i, line in enumerate(dat) if i not in LBs]\n",
    "\n",
    "# Find the Line Containing the Source of Each Tweet\n",
    "source_line = [i for i, line in enumerate(dat) if \"(Source:\" in line]\n",
    "\n",
    "# Extract Tweet, Date, Source from Content\n",
    "tweets, dates, sources = [], [], []\n",
    "start = 0\n",
    "for i in source_line:\n",
    "    tweet_in = dat[start:i+1]\n",
    "    tweets.append(\" \".join(tweet_in[:-2]))\n",
    "    dates.append(tweet_in[-2])\n",
    "    sources.append(tweet_in[-1])\n",
    "    start = i + 1\n",
    "\n",
    "data = pd.DataFrame({\"tweet\": tweets, \"date\": dates, \"source\": sources})\n",
    "\n",
    "# STEP 3 - Extract Data from Tweet\n",
    "url_pattern = re.compile(r\"http[s]?://(?:[a-zA-Z]|[0-9]|[$-_@.&+]|[!*\\\\(\\\\),]|(?:%[0-9a-fA-F][0-9a-fA-F]))+\")\n",
    "\n",
    "data[\"RT\"] = data[\"tweet\"].str.startswith(\"RT \")\n",
    "data[\"tweet\"] = data[\"tweet\"].str.replace(r\"^RT \", \"\", regex=True)\n",
    "\n",
    "data[\"user_tag\"] = data[\"tweet\"].str.contains(\"@\")\n",
    "data[\"account\"] = data[\"tweet\"].apply(lambda x: \",\".join(re.findall(r\"@\\w+\", x)))\n",
    "data[\"tweet\"] = data[\"tweet\"].apply(lambda x: re.sub(r\"@\\w+|:\", \"\", x))\n",
    "\n",
    "data[\"ext_link\"] = data[\"tweet\"].str.contains(\"http\")\n",
    "data[\"link\"] = data[\"tweet\"].apply(lambda x: \",\".join(url_pattern.findall(x)))\n",
    "data[\"tweet\"] = data[\"tweet\"].apply(lambda x: url_pattern.sub(\"\", x))\n",
    "\n",
    "print(data.head())\n",
    "print(data.shape[0])\n",
    "\n",
    "data.to_csv(\"tweets.csv\", index=False, encoding=\"utf-8-sig\")\n"
   ]
  }
 ],
 "metadata": {
  "kernelspec": {
   "display_name": "Python 3",
   "language": "python",
   "name": "python3"
  },
  "language_info": {
   "codemirror_mode": {
    "name": "ipython",
    "version": 3
   },
   "file_extension": ".py",
   "mimetype": "text/x-python",
   "name": "python",
   "nbconvert_exporter": "python",
   "pygments_lexer": "ipython3",
   "version": "3.11.3"
  }
 },
 "nbformat": 4,
 "nbformat_minor": 2
}
