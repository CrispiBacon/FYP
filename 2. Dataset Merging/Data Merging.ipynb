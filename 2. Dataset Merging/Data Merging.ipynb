{
 "cells": [
  {
   "cell_type": "markdown",
   "id": "a2b17fe6",
   "metadata": {},
   "source": [
    "## Data Loading"
   ]
  },
  {
   "cell_type": "code",
   "execution_count": 7,
   "id": "4332f734",
   "metadata": {},
   "outputs": [],
   "source": [
    "import pandas as pd\n",
    "\n",
    "df1 = pd.read_excel('Dataset_labelled.xlsx', header=0)\n",
    "df2 = pd.read_csv(r'tweets_labelled.csv', header=0)\n",
    "df3 = pd.read_csv(r'..\\1. Data Collection\\Threat Texts.csv', encoding='cp1252', header=None,  names=['Threat_Text'])\n",
    "df4 = pd.read_csv(r'..\\1. Data Collection\\synthetic_social_media_data.csv', header=0)\n",
    "df5 = pd.read_csv(r'..\\1. Data Collection\\sentimentdataset.csv', header=0)\n"
   ]
  },
  {
   "cell_type": "markdown",
   "id": "3232c0aa",
   "metadata": {},
   "source": [
    "## Adding Target labels for dataset 3 & 4"
   ]
  },
  {
   "cell_type": "code",
   "execution_count": 8,
   "id": "b9dd5d52",
   "metadata": {},
   "outputs": [],
   "source": [
    "df3[\"Target\"] = 2 \n",
    "df4[\"Target\"] = 0\n",
    "df5[\"Target\"] = 0"
   ]
  },
  {
   "cell_type": "markdown",
   "id": "554d95a3",
   "metadata": {},
   "source": [
    "## Data Filtering"
   ]
  },
  {
   "cell_type": "code",
   "execution_count": 9,
   "id": "20c2c725",
   "metadata": {},
   "outputs": [],
   "source": [
    "# Filtering out incomplete post from dataset 2\n",
    "df2 = df2[~df2['tweet'].str.endswith('...', na=False)]\n",
    "\n",
    "# Filtering out data with external link from dataset 2\n",
    "df2 = df2[df2['ext_link'].fillna(False) == False]\n",
    "\n",
    "#take only the data where language = en in df4\n",
    "df4 = df4[df4['Language'] == 'en']"
   ]
  },
  {
   "cell_type": "markdown",
   "id": "2910cac6",
   "metadata": {},
   "source": [
    "## Add Source Column for each dataset "
   ]
  },
  {
   "cell_type": "code",
   "execution_count": 10,
   "id": "535b9773",
   "metadata": {},
   "outputs": [],
   "source": [
    "df1['Source'] = 'SchooshooterTexts'\n",
    "df2['Source'] = 'massshootertweets'\n",
    "df3['Source'] = 'Threat Texts'\n",
    "df4['Source'] = 'Beningn Data 1'\n",
    "df5['Source'] = 'Beningn Data 2'"
   ]
  },
  {
   "cell_type": "markdown",
   "id": "04fc880c",
   "metadata": {},
   "source": [
    "##  Column Selection"
   ]
  },
  {
   "cell_type": "code",
   "execution_count": 11,
   "id": "a0dd646c",
   "metadata": {},
   "outputs": [
    {
     "name": "stdout",
     "output_type": "stream",
     "text": [
      "df1 columns: ['Post', 'Target', 'Source']\n",
      "df2 columns: ['tweet', 'date', 'source', 'RT', 'user_tag', 'account', 'ext_link', 'link', 'Target', 'Source']\n",
      "df3 columns: ['Threat_Text', 'Target', 'Source']\n",
      "df4 columns: ['Post ID', 'Post Content', 'Sentiment Label', 'Number of Likes', 'Number of Shares', 'Number of Comments', 'User Follower Count', 'Post Date and Time', 'Post Type', 'Language', 'Target', 'Source']\n",
      "df5 columns: ['Unnamed: 0.1', 'Unnamed: 0', 'Text', 'Sentiment', 'Timestamp', 'User', 'Platform', 'Hashtags', 'Retweets', 'Likes', 'Country', 'Year', 'Month', 'Day', 'Hour', 'Target', 'Source']\n"
     ]
    }
   ],
   "source": [
    "#Check Columns in each df\n",
    "print(\"df1 columns:\", df1.columns.tolist())\n",
    "print(\"df2 columns:\", df2.columns.tolist())\n",
    "print(\"df3 columns:\", df3.columns.tolist())\n",
    "print(\"df4 columns:\", df4.columns.tolist())\n",
    "print(\"df5 columns:\", df5.columns.tolist())"
   ]
  },
  {
   "cell_type": "code",
   "execution_count": 12,
   "id": "2c6fdd9d",
   "metadata": {},
   "outputs": [],
   "source": [
    "df1 = df1[[\"Post\",\"Target\", \"Source\"]]\n",
    "df2 = df2[[\"tweet\",\"Target\", \"Source\"]]\n",
    "df3 = df3[[\"Threat_Text\", \"Target\", \"Source\"]]\n",
    "df4 = df4[[\"Post Content\",\"Target\", \"Source\"]]\n",
    "df5 = df5[[\"Text\",\"Target\", \"Source\"]]"
   ]
  },
  {
   "cell_type": "markdown",
   "id": "b02beeba",
   "metadata": {},
   "source": [
    "## Column Standardization"
   ]
  },
  {
   "cell_type": "code",
   "execution_count": 13,
   "id": "cf874d65",
   "metadata": {},
   "outputs": [],
   "source": [
    "df1.rename(columns={\"Post\": \"Text\"}, inplace=True)\n",
    "df2.rename(columns={\"tweet\": \"Text\"}, inplace=True)\n",
    "df3.rename(columns={\"Threat_Text\": \"Text\"}, inplace=True)\n",
    "df4.rename(columns={\"Post Content\": \"Text\"}, inplace=True)"
   ]
  },
  {
   "cell_type": "markdown",
   "id": "6dd056b0",
   "metadata": {},
   "source": [
    "## Merging Dataset"
   ]
  },
  {
   "cell_type": "code",
   "execution_count": 15,
   "id": "f9559b21",
   "metadata": {},
   "outputs": [
    {
     "name": "stdout",
     "output_type": "stream",
     "text": [
      "<class 'pandas.core.frame.DataFrame'>\n",
      "RangeIndex: 4280 entries, 0 to 4279\n",
      "Data columns (total 3 columns):\n",
      " #   Column  Non-Null Count  Dtype  \n",
      "---  ------  --------------  -----  \n",
      " 0   Text    4278 non-null   object \n",
      " 1   Target  4280 non-null   float64\n",
      " 2   Source  4280 non-null   object \n",
      "dtypes: float64(1), object(2)\n",
      "memory usage: 100.4+ KB\n"
     ]
    }
   ],
   "source": [
    "df_merged = pd.concat([df1, df2, df3, df4,df5], ignore_index=True)\n",
    "\n",
    "df_merged.info()"
   ]
  },
  {
   "cell_type": "code",
   "execution_count": 16,
   "id": "9bccdca2",
   "metadata": {},
   "outputs": [
    {
     "name": "stdout",
     "output_type": "stream",
     "text": [
      "Target\n",
      "1.0    2118\n",
      "0.0    1722\n",
      "2.0     440\n",
      "Name: count, dtype: int64\n"
     ]
    }
   ],
   "source": [
    "print(df_merged['Target'].value_counts())"
   ]
  },
  {
   "cell_type": "markdown",
   "id": "d026124e",
   "metadata": {},
   "source": [
    "## Save merged dataset for pre-processing"
   ]
  },
  {
   "cell_type": "code",
   "execution_count": 17,
   "id": "c7a9f0c1",
   "metadata": {},
   "outputs": [],
   "source": [
    "df_merged.to_csv('../3. Data Understanding/merged_data.csv', index=False, quoting=1)"
   ]
  },
  {
   "cell_type": "code",
   "execution_count": null,
   "id": "10a4fa5a",
   "metadata": {},
   "outputs": [],
   "source": []
  }
 ],
 "metadata": {
  "kernelspec": {
   "display_name": "Python 3",
   "language": "python",
   "name": "python3"
  },
  "language_info": {
   "codemirror_mode": {
    "name": "ipython",
    "version": 3
   },
   "file_extension": ".py",
   "mimetype": "text/x-python",
   "name": "python",
   "nbconvert_exporter": "python",
   "pygments_lexer": "ipython3",
   "version": "3.11.3"
  }
 },
 "nbformat": 4,
 "nbformat_minor": 5
}
