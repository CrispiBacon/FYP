{
 "cells": [
  {
   "cell_type": "markdown",
   "id": "0fa6c050",
   "metadata": {},
   "source": [
    "## Load Dataset"
   ]
  },
  {
   "cell_type": "code",
   "execution_count": 33,
   "id": "cad96367",
   "metadata": {},
   "outputs": [
    {
     "name": "stdout",
     "output_type": "stream",
     "text": [
      "<class 'pandas.core.frame.DataFrame'>\n",
      "RangeIndex: 4280 entries, 0 to 4279\n",
      "Data columns (total 3 columns):\n",
      " #   Column  Non-Null Count  Dtype  \n",
      "---  ------  --------------  -----  \n",
      " 0   Text    4278 non-null   object \n",
      " 1   Target  4280 non-null   float64\n",
      " 2   Source  4280 non-null   object \n",
      "dtypes: float64(1), object(2)\n",
      "memory usage: 100.4+ KB\n"
     ]
    },
    {
     "data": {
      "application/vnd.microsoft.datawrangler.viewer.v0+json": {
       "columns": [
        {
         "name": "index",
         "rawType": "int64",
         "type": "integer"
        },
        {
         "name": "Text",
         "rawType": "object",
         "type": "string"
        },
        {
         "name": "Target",
         "rawType": "float64",
         "type": "float"
        },
        {
         "name": "Source",
         "rawType": "object",
         "type": "string"
        }
       ],
       "ref": "82862a2d-4a46-4097-8210-4a24577cd60c",
       "rows": [
        [
         "0",
         "Mommy said not to talk to strangers..but she's drunk all the time why should I listen to her advice?",
         "1.0",
         "SchooshooterTexts"
        ],
        [
         "1",
         "1.I was immune to getting hurt/killed/infected with a std\n2.I had 43 million worshippers\n3.I had a life..",
         "1.0",
         "SchooshooterTexts"
        ],
        [
         "2",
         "I mean terrorist attacks happen all the time. Sure thousands died, but millions have died from George. Honestly, it's been almost 10 years and idiots are still whining. 911 did make a lot of idiot patriot extremists in america, you have to give 911 that. I wish another terrorist plane attack would happen so that I could go back to europe and back for 3 cents. Ahh, I remember I was a little kindergartener.. (Could of been 1st grader but I was \"too\nyoung\")",
         "1.0",
         "SchooshooterTexts"
        ],
        [
         "3",
         "As a god, it would be my responsibility not to destroy the universal balance; thus, I am unable to just appear instantly. I would need to \"convert\" them to being open minded about other gods and then I will appear. I will give out my 3 main rules:\n\n1.Do not harm any living thing, if you break this rule, I will break your skull.\n2.Do not act in violence of any form.\n3.Don't be a stuffhead.\n\nI would try to act with any other gods out there, such as if Gaia was real, I would let her take care of her creations, and her earth. I would let Zeus and Poseidon make the hurricanes and earthquakes, and I would let Hades rule the energy of darkness.\n\nI would be sure to \"Educate\" them on solar/wind/water powered technology.",
         "1.0",
         "SchooshooterTexts"
        ],
        [
         "4",
         "I am going to grab a knife and shove it in the neck of my mother. I will then drag her dead body by the trash can, drain her blood and then finally cut her and grind her up into little pieces. I will eat some of those pieces and then I will probably barf.. I will throw her body away in the trash can.. I will then go slaughter sacred animals to appease the gods.\n\nHAIL SATAN\n\n..I am agnostic, not satanist..",
         "1.0",
         "SchooshooterTexts"
        ],
        [
         "5",
         "I will rape your hot lovey sister and then strangle her with her own hair. Then I will sneakinto your parent's room and slaughter them.. I will slowly walk to your room holding my blood thirsty knife in my right hand.. I walk into your room when I see that you're making out with yourself.. I will grab you, tie you to your bed with your own hair, and super glue it shut.\n\nMy blood thirsty crave is not over..\n\nI finally rip your hair out and you experience excruciating pain.. So painful that you scream and scream.. But it can't stop! I ripped out the skin of your head, blood is drooping everywhere.. Finally I pluck your eyes right out with my knife and throw them down.. I then cut your neck off and the arms and legs.. Only the torso remains.. I cut off the genitals and I stab the stomach repeatedly.. I finally finish off by ripping out your heart and consuming it..",
         "1.0",
         "SchooshooterTexts"
        ],
        [
         "6",
         "\"IWILLNEVERLETYOUFORGETABOUTME\"",
         "1.0",
         "SchooshooterTexts"
        ],
        [
         "7",
         "Rule 11 : Be nice to nerds. Chances are you'll end up working for one.\n\nStart being nice to me, or I will not hire you all. All of those idiots who have messed up my life in the past, I will hire them for a day, and then fire them.",
         "1.0",
         "SchooshooterTexts"
        ],
        [
         "8",
         "2005.. Age 9.. I was playing sm64ds when I lost the level. I went AGK on my ds, threw it extremely hard at a wall and broke it..\n\n2005 Age 9.. After recieving my ds again, a day later, I got pissed again and ripped the upper half of the DS off..\n\n2005 Age 9.. I got my DS Again, but when playing Pokemon, lost and threw it right at the wall again..\n\nThe 2005 ones are true.. I had a very bad anger problem.\n\n2009.. Age 13.. After getting another DS, threw it right at the TV and said \"How's that\"?",
         "1.0",
         "SchooshooterTexts"
        ],
        [
         "9",
         "Look guys I just smoked an entire $500 worth bag of OG Kush so It's hard to hate you. I love furries, gays, jews, al-queda, and america.\n\n●irl● teenage kid with no friends who hates everything and wants to shoot up his school but is too week to fire a gun and my parents are annyoing but will financially supply me for the next 30 years i love to hate and fart a lot making my room smell remnicsant of cheese and boiled eggs\n\n^ All trolls except me.",
         "1.0",
         "SchooshooterTexts"
        ],
        [
         "10",
         "Don't play WoW. It turned my brother into a basement dweller and now he's doing weed. He's 24, works at a convenience store and dropped out of high school. MMOs are just the same as Heroin and will destroy not only your body, but your mind.",
         "1.0",
         "SchooshooterTexts"
        ],
        [
         "11",
         "I support interesting people and I hope to be internet famous one day.\n\nIn short, I'm a hypocritical weeaboo in denial troll who has been cursed into an endless state of constant boredom which has driven me to depression and anger.",
         "1.0",
         "SchooshooterTexts"
        ],
        [
         "12",
         "The shortest I can describe trolls: Trolls are basically young teenagers who 'bully' online to get a raise because they have a personality disorder and want to cover up the hole that real bullies left in their emotion.",
         "1.0",
         "SchooshooterTexts"
        ],
        [
         "13",
         "I would kill Tidus and the methods of doing this may offend many of you.\n\nI would start off by crusifying him and leaving him without food for a total of three days, afterwards I would force him to eat rats. I would apply 1,000 small cuts throughout his body and dip him in a tub of Hydrogen Peroxide. Afterwards, I would recut the wounds and apply a scorpion's sting to 30 of them over a time period of 2 hours after which I would nurse his health a tad. Next, I would rip his nails out and pour bleach and ammonia on them while making sure he doesn't inhale any. I would shoot him in his knee with a crossbow and since I'm an honorable man I would make this the last of his punishment. A quick sword blow to his chest and a large + incision to his belly would do the trick.\n\nI would leave him in pain for the remainder of his very short life to allow him to reflect on\nhis personality.",
         "1.0",
         "SchooshooterTexts"
        ],
        [
         "14",
         "Jack a gun and shoot myself in the head.",
         "2.0",
         "SchooshooterTexts"
        ],
        [
         "15",
         "Every personality disorder test I take I usually end up getting over half of them at a severe level and I'm being honest most of the time.",
         "1.0",
         "SchooshooterTexts"
        ],
        [
         "16",
         "Hey, I'm eldigato. In short, I am a psychopath dedicated to the art of destruction. In my years of minecraft, I have always aimed to make interesting stories. I have always done my deeds solo and for that reason they never reached the peak I had hoped for. That is why I have registered here today.. In hopes that I can work with people with similar intentions and cause many great calamities.\n\nResume\n\nGriefing: I like to take my time in order to cause the most damage, but I have attacked many servers with a hit-and-run style of disruption before and caused massive amounts of damage. I would like to say that my best griefing attack was the Scattered Space incident, although the damage wasn't intense compared to most of my attacks on servers, I stirred up plenty of drama in their community.\n\nCooperation: I would like to think myself as that of a rogue in many situations, but I have shown to be able to work with others. Considering our personalities, I don't think I would have any troubles with group raiding.\n\nAdmins: I can bullshit my way out of things, but I am a honest man. If I focus, I can have a silver tounge that avoids truthfulness.\n\nI hope that this information is enough to provide and I hope in the future I can infest the world one day.",
         "1.0",
         "SchooshooterTexts"
        ],
        [
         "17",
         "I would cut as many veins in his neck as I could, avoiding his jugular.",
         "1.0",
         "SchooshooterTexts"
        ],
        [
         "18",
         "My guilty pleasure is probably DMT, but it's ok since it's amazingly god.",
         "1.0",
         "SchooshooterTexts"
        ],
        [
         "19",
         "My dream job would have to involve synthesizing pure LSD legally and selling it to the right kind of people who wouldn't abuse it.",
         "1.0",
         "SchooshooterTexts"
        ],
        [
         "20",
         "I will be living in a basement pretty soon, once I'm finished moving in with my bro.",
         "1.0",
         "SchooshooterTexts"
        ],
        [
         "21",
         "I played this game while on marijuana, LSD, Salvia, and Shrooms. I can honestly say that once you're experienced with the types, you can handle it, as long as you have a sitter to help calm you down when creepy stuff happens.",
         "1.0",
         "SchooshooterTexts"
        ],
        [
         "22",
         "If all of the internet went out, people would go psycho and kill eachother and hang mutilated corpses from their town's bridges.",
         "1.0",
         "SchooshooterTexts"
        ],
        [
         "23",
         "I'd go back in time and stop a lot of the school shootings such as Columbine or V-Tech by being a positive influence spreading hope in the minds of the shooters and keep them on a path of enlightenment\n\nor more realistically, I'd clean up trash around my town (which I already do) and volunteer at places. Oh, and befriend the lonely or friendless kids at school.",
         "1.0",
         "SchooshooterTexts"
        ],
        [
         "24",
         "Dropping out of High School in order to just study a GED book my SCI teacher gave me and take the test when I feel ready and then move onto college, while working on fixing myself and learning how to be happy for once, and overcoming a tobacco addiction.",
         "1.0",
         "SchooshooterTexts"
        ]
       ],
       "shape": {
        "columns": 3,
        "rows": 25
       }
      },
      "text/html": [
       "<div>\n",
       "<style scoped>\n",
       "    .dataframe tbody tr th:only-of-type {\n",
       "        vertical-align: middle;\n",
       "    }\n",
       "\n",
       "    .dataframe tbody tr th {\n",
       "        vertical-align: top;\n",
       "    }\n",
       "\n",
       "    .dataframe thead th {\n",
       "        text-align: right;\n",
       "    }\n",
       "</style>\n",
       "<table border=\"1\" class=\"dataframe\">\n",
       "  <thead>\n",
       "    <tr style=\"text-align: right;\">\n",
       "      <th></th>\n",
       "      <th>Text</th>\n",
       "      <th>Target</th>\n",
       "      <th>Source</th>\n",
       "    </tr>\n",
       "  </thead>\n",
       "  <tbody>\n",
       "    <tr>\n",
       "      <th>0</th>\n",
       "      <td>Mommy said not to talk to strangers..but she's...</td>\n",
       "      <td>1.0</td>\n",
       "      <td>SchooshooterTexts</td>\n",
       "    </tr>\n",
       "    <tr>\n",
       "      <th>1</th>\n",
       "      <td>1.I was immune to getting hurt/killed/infected...</td>\n",
       "      <td>1.0</td>\n",
       "      <td>SchooshooterTexts</td>\n",
       "    </tr>\n",
       "    <tr>\n",
       "      <th>2</th>\n",
       "      <td>I mean terrorist attacks happen all the time. ...</td>\n",
       "      <td>1.0</td>\n",
       "      <td>SchooshooterTexts</td>\n",
       "    </tr>\n",
       "    <tr>\n",
       "      <th>3</th>\n",
       "      <td>As a god, it would be my responsibility not to...</td>\n",
       "      <td>1.0</td>\n",
       "      <td>SchooshooterTexts</td>\n",
       "    </tr>\n",
       "    <tr>\n",
       "      <th>4</th>\n",
       "      <td>I am going to grab a knife and shove it in the...</td>\n",
       "      <td>1.0</td>\n",
       "      <td>SchooshooterTexts</td>\n",
       "    </tr>\n",
       "    <tr>\n",
       "      <th>5</th>\n",
       "      <td>I will rape your hot lovey sister and then str...</td>\n",
       "      <td>1.0</td>\n",
       "      <td>SchooshooterTexts</td>\n",
       "    </tr>\n",
       "    <tr>\n",
       "      <th>6</th>\n",
       "      <td>\"IWILLNEVERLETYOUFORGETABOUTME\"</td>\n",
       "      <td>1.0</td>\n",
       "      <td>SchooshooterTexts</td>\n",
       "    </tr>\n",
       "    <tr>\n",
       "      <th>7</th>\n",
       "      <td>Rule 11 : Be nice to nerds. Chances are you'll...</td>\n",
       "      <td>1.0</td>\n",
       "      <td>SchooshooterTexts</td>\n",
       "    </tr>\n",
       "    <tr>\n",
       "      <th>8</th>\n",
       "      <td>2005.. Age 9.. I was playing sm64ds when I los...</td>\n",
       "      <td>1.0</td>\n",
       "      <td>SchooshooterTexts</td>\n",
       "    </tr>\n",
       "    <tr>\n",
       "      <th>9</th>\n",
       "      <td>Look guys I just smoked an entire $500 worth b...</td>\n",
       "      <td>1.0</td>\n",
       "      <td>SchooshooterTexts</td>\n",
       "    </tr>\n",
       "    <tr>\n",
       "      <th>10</th>\n",
       "      <td>Don't play WoW. It turned my brother into a ba...</td>\n",
       "      <td>1.0</td>\n",
       "      <td>SchooshooterTexts</td>\n",
       "    </tr>\n",
       "    <tr>\n",
       "      <th>11</th>\n",
       "      <td>I support interesting people and I hope to be ...</td>\n",
       "      <td>1.0</td>\n",
       "      <td>SchooshooterTexts</td>\n",
       "    </tr>\n",
       "    <tr>\n",
       "      <th>12</th>\n",
       "      <td>The shortest I can describe trolls: Trolls are...</td>\n",
       "      <td>1.0</td>\n",
       "      <td>SchooshooterTexts</td>\n",
       "    </tr>\n",
       "    <tr>\n",
       "      <th>13</th>\n",
       "      <td>I would kill Tidus and the methods of doing th...</td>\n",
       "      <td>1.0</td>\n",
       "      <td>SchooshooterTexts</td>\n",
       "    </tr>\n",
       "    <tr>\n",
       "      <th>14</th>\n",
       "      <td>Jack a gun and shoot myself in the head.</td>\n",
       "      <td>2.0</td>\n",
       "      <td>SchooshooterTexts</td>\n",
       "    </tr>\n",
       "    <tr>\n",
       "      <th>15</th>\n",
       "      <td>Every personality disorder test I take I usual...</td>\n",
       "      <td>1.0</td>\n",
       "      <td>SchooshooterTexts</td>\n",
       "    </tr>\n",
       "    <tr>\n",
       "      <th>16</th>\n",
       "      <td>Hey, I'm eldigato. In short, I am a psychopath...</td>\n",
       "      <td>1.0</td>\n",
       "      <td>SchooshooterTexts</td>\n",
       "    </tr>\n",
       "    <tr>\n",
       "      <th>17</th>\n",
       "      <td>I would cut as many veins in his neck as I cou...</td>\n",
       "      <td>1.0</td>\n",
       "      <td>SchooshooterTexts</td>\n",
       "    </tr>\n",
       "    <tr>\n",
       "      <th>18</th>\n",
       "      <td>My guilty pleasure is probably DMT, but it's o...</td>\n",
       "      <td>1.0</td>\n",
       "      <td>SchooshooterTexts</td>\n",
       "    </tr>\n",
       "    <tr>\n",
       "      <th>19</th>\n",
       "      <td>My dream job would have to involve synthesizin...</td>\n",
       "      <td>1.0</td>\n",
       "      <td>SchooshooterTexts</td>\n",
       "    </tr>\n",
       "    <tr>\n",
       "      <th>20</th>\n",
       "      <td>I will be living in a basement pretty soon, on...</td>\n",
       "      <td>1.0</td>\n",
       "      <td>SchooshooterTexts</td>\n",
       "    </tr>\n",
       "    <tr>\n",
       "      <th>21</th>\n",
       "      <td>I played this game while on marijuana, LSD, Sa...</td>\n",
       "      <td>1.0</td>\n",
       "      <td>SchooshooterTexts</td>\n",
       "    </tr>\n",
       "    <tr>\n",
       "      <th>22</th>\n",
       "      <td>If all of the internet went out, people would ...</td>\n",
       "      <td>1.0</td>\n",
       "      <td>SchooshooterTexts</td>\n",
       "    </tr>\n",
       "    <tr>\n",
       "      <th>23</th>\n",
       "      <td>I'd go back in time and stop a lot of the scho...</td>\n",
       "      <td>1.0</td>\n",
       "      <td>SchooshooterTexts</td>\n",
       "    </tr>\n",
       "    <tr>\n",
       "      <th>24</th>\n",
       "      <td>Dropping out of High School in order to just s...</td>\n",
       "      <td>1.0</td>\n",
       "      <td>SchooshooterTexts</td>\n",
       "    </tr>\n",
       "  </tbody>\n",
       "</table>\n",
       "</div>"
      ],
      "text/plain": [
       "                                                 Text  Target  \\\n",
       "0   Mommy said not to talk to strangers..but she's...     1.0   \n",
       "1   1.I was immune to getting hurt/killed/infected...     1.0   \n",
       "2   I mean terrorist attacks happen all the time. ...     1.0   \n",
       "3   As a god, it would be my responsibility not to...     1.0   \n",
       "4   I am going to grab a knife and shove it in the...     1.0   \n",
       "5   I will rape your hot lovey sister and then str...     1.0   \n",
       "6                     \"IWILLNEVERLETYOUFORGETABOUTME\"     1.0   \n",
       "7   Rule 11 : Be nice to nerds. Chances are you'll...     1.0   \n",
       "8   2005.. Age 9.. I was playing sm64ds when I los...     1.0   \n",
       "9   Look guys I just smoked an entire $500 worth b...     1.0   \n",
       "10  Don't play WoW. It turned my brother into a ba...     1.0   \n",
       "11  I support interesting people and I hope to be ...     1.0   \n",
       "12  The shortest I can describe trolls: Trolls are...     1.0   \n",
       "13  I would kill Tidus and the methods of doing th...     1.0   \n",
       "14           Jack a gun and shoot myself in the head.     2.0   \n",
       "15  Every personality disorder test I take I usual...     1.0   \n",
       "16  Hey, I'm eldigato. In short, I am a psychopath...     1.0   \n",
       "17  I would cut as many veins in his neck as I cou...     1.0   \n",
       "18  My guilty pleasure is probably DMT, but it's o...     1.0   \n",
       "19  My dream job would have to involve synthesizin...     1.0   \n",
       "20  I will be living in a basement pretty soon, on...     1.0   \n",
       "21  I played this game while on marijuana, LSD, Sa...     1.0   \n",
       "22  If all of the internet went out, people would ...     1.0   \n",
       "23  I'd go back in time and stop a lot of the scho...     1.0   \n",
       "24  Dropping out of High School in order to just s...     1.0   \n",
       "\n",
       "               Source  \n",
       "0   SchooshooterTexts  \n",
       "1   SchooshooterTexts  \n",
       "2   SchooshooterTexts  \n",
       "3   SchooshooterTexts  \n",
       "4   SchooshooterTexts  \n",
       "5   SchooshooterTexts  \n",
       "6   SchooshooterTexts  \n",
       "7   SchooshooterTexts  \n",
       "8   SchooshooterTexts  \n",
       "9   SchooshooterTexts  \n",
       "10  SchooshooterTexts  \n",
       "11  SchooshooterTexts  \n",
       "12  SchooshooterTexts  \n",
       "13  SchooshooterTexts  \n",
       "14  SchooshooterTexts  \n",
       "15  SchooshooterTexts  \n",
       "16  SchooshooterTexts  \n",
       "17  SchooshooterTexts  \n",
       "18  SchooshooterTexts  \n",
       "19  SchooshooterTexts  \n",
       "20  SchooshooterTexts  \n",
       "21  SchooshooterTexts  \n",
       "22  SchooshooterTexts  \n",
       "23  SchooshooterTexts  \n",
       "24  SchooshooterTexts  "
      ]
     },
     "execution_count": 33,
     "metadata": {},
     "output_type": "execute_result"
    }
   ],
   "source": [
    "import pandas as pd\n",
    "\n",
    "df = pd.read_csv(r'..\\3. Data Understanding\\merged_data.csv', header=0)\n",
    "\n",
    "df.info()\n",
    "df.head(25)"
   ]
  },
  {
   "cell_type": "markdown",
   "id": "f1007eaa",
   "metadata": {},
   "source": [
    "## Remove Missing Values"
   ]
  },
  {
   "cell_type": "code",
   "execution_count": 34,
   "id": "5d161ef9",
   "metadata": {},
   "outputs": [
    {
     "name": "stdout",
     "output_type": "stream",
     "text": [
      "<class 'pandas.core.frame.DataFrame'>\n",
      "Index: 4278 entries, 0 to 4279\n",
      "Data columns (total 3 columns):\n",
      " #   Column  Non-Null Count  Dtype  \n",
      "---  ------  --------------  -----  \n",
      " 0   Text    4278 non-null   object \n",
      " 1   Target  4278 non-null   float64\n",
      " 2   Source  4278 non-null   object \n",
      "dtypes: float64(1), object(2)\n",
      "memory usage: 133.7+ KB\n"
     ]
    }
   ],
   "source": [
    "df = df.dropna()\n",
    "df.info()"
   ]
  },
  {
   "cell_type": "markdown",
   "id": "6d5d41f9",
   "metadata": {},
   "source": [
    "## Drop Duplicates"
   ]
  },
  {
   "cell_type": "code",
   "execution_count": 35,
   "id": "1c86e52e",
   "metadata": {},
   "outputs": [
    {
     "name": "stdout",
     "output_type": "stream",
     "text": [
      "                                                Text  Target  \\\n",
      "0  Mommy said not to talk to strangers..but she's...     1.0   \n",
      "1  1.I was immune to getting hurt/killed/infected...     1.0   \n",
      "2  I mean terrorist attacks happen all the time. ...     1.0   \n",
      "3  As a god, it would be my responsibility not to...     1.0   \n",
      "4  I am going to grab a knife and shove it in the...     1.0   \n",
      "\n",
      "              Source  \n",
      "0  SchooshooterTexts  \n",
      "1  SchooshooterTexts  \n",
      "2  SchooshooterTexts  \n",
      "3  SchooshooterTexts  \n",
      "4  SchooshooterTexts  \n"
     ]
    }
   ],
   "source": [
    "df = df.drop_duplicates(subset=['Text'])  # assign back to df\n",
    "print(df.head())"
   ]
  },
  {
   "cell_type": "markdown",
   "id": "85447199",
   "metadata": {},
   "source": [
    "## Lowercasing"
   ]
  },
  {
   "cell_type": "code",
   "execution_count": 36,
   "id": "48072c19",
   "metadata": {},
   "outputs": [
    {
     "data": {
      "application/vnd.microsoft.datawrangler.viewer.v0+json": {
       "columns": [
        {
         "name": "index",
         "rawType": "int64",
         "type": "integer"
        },
        {
         "name": "Text",
         "rawType": "object",
         "type": "string"
        },
        {
         "name": "Target",
         "rawType": "float64",
         "type": "float"
        },
        {
         "name": "Source",
         "rawType": "object",
         "type": "string"
        }
       ],
       "ref": "6887559e-fd9d-4a15-9888-8c805e79e5ed",
       "rows": [
        [
         "0",
         "mommy said not to talk to strangers..but she's drunk all the time why should i listen to her advice?",
         "1.0",
         "SchooshooterTexts"
        ],
        [
         "1",
         "1.i was immune to getting hurt/killed/infected with a std\n2.i had 43 million worshippers\n3.i had a life..",
         "1.0",
         "SchooshooterTexts"
        ],
        [
         "2",
         "i mean terrorist attacks happen all the time. sure thousands died, but millions have died from george. honestly, it's been almost 10 years and idiots are still whining. 911 did make a lot of idiot patriot extremists in america, you have to give 911 that. i wish another terrorist plane attack would happen so that i could go back to europe and back for 3 cents. ahh, i remember i was a little kindergartener.. (could of been 1st grader but i was \"too\nyoung\")",
         "1.0",
         "SchooshooterTexts"
        ],
        [
         "3",
         "as a god, it would be my responsibility not to destroy the universal balance; thus, i am unable to just appear instantly. i would need to \"convert\" them to being open minded about other gods and then i will appear. i will give out my 3 main rules:\n\n1.do not harm any living thing, if you break this rule, i will break your skull.\n2.do not act in violence of any form.\n3.don't be a stuffhead.\n\ni would try to act with any other gods out there, such as if gaia was real, i would let her take care of her creations, and her earth. i would let zeus and poseidon make the hurricanes and earthquakes, and i would let hades rule the energy of darkness.\n\ni would be sure to \"educate\" them on solar/wind/water powered technology.",
         "1.0",
         "SchooshooterTexts"
        ],
        [
         "4",
         "i am going to grab a knife and shove it in the neck of my mother. i will then drag her dead body by the trash can, drain her blood and then finally cut her and grind her up into little pieces. i will eat some of those pieces and then i will probably barf.. i will throw her body away in the trash can.. i will then go slaughter sacred animals to appease the gods.\n\nhail satan\n\n..i am agnostic, not satanist..",
         "1.0",
         "SchooshooterTexts"
        ]
       ],
       "shape": {
        "columns": 3,
        "rows": 5
       }
      },
      "text/html": [
       "<div>\n",
       "<style scoped>\n",
       "    .dataframe tbody tr th:only-of-type {\n",
       "        vertical-align: middle;\n",
       "    }\n",
       "\n",
       "    .dataframe tbody tr th {\n",
       "        vertical-align: top;\n",
       "    }\n",
       "\n",
       "    .dataframe thead th {\n",
       "        text-align: right;\n",
       "    }\n",
       "</style>\n",
       "<table border=\"1\" class=\"dataframe\">\n",
       "  <thead>\n",
       "    <tr style=\"text-align: right;\">\n",
       "      <th></th>\n",
       "      <th>Text</th>\n",
       "      <th>Target</th>\n",
       "      <th>Source</th>\n",
       "    </tr>\n",
       "  </thead>\n",
       "  <tbody>\n",
       "    <tr>\n",
       "      <th>0</th>\n",
       "      <td>mommy said not to talk to strangers..but she's...</td>\n",
       "      <td>1.0</td>\n",
       "      <td>SchooshooterTexts</td>\n",
       "    </tr>\n",
       "    <tr>\n",
       "      <th>1</th>\n",
       "      <td>1.i was immune to getting hurt/killed/infected...</td>\n",
       "      <td>1.0</td>\n",
       "      <td>SchooshooterTexts</td>\n",
       "    </tr>\n",
       "    <tr>\n",
       "      <th>2</th>\n",
       "      <td>i mean terrorist attacks happen all the time. ...</td>\n",
       "      <td>1.0</td>\n",
       "      <td>SchooshooterTexts</td>\n",
       "    </tr>\n",
       "    <tr>\n",
       "      <th>3</th>\n",
       "      <td>as a god, it would be my responsibility not to...</td>\n",
       "      <td>1.0</td>\n",
       "      <td>SchooshooterTexts</td>\n",
       "    </tr>\n",
       "    <tr>\n",
       "      <th>4</th>\n",
       "      <td>i am going to grab a knife and shove it in the...</td>\n",
       "      <td>1.0</td>\n",
       "      <td>SchooshooterTexts</td>\n",
       "    </tr>\n",
       "  </tbody>\n",
       "</table>\n",
       "</div>"
      ],
      "text/plain": [
       "                                                Text  Target  \\\n",
       "0  mommy said not to talk to strangers..but she's...     1.0   \n",
       "1  1.i was immune to getting hurt/killed/infected...     1.0   \n",
       "2  i mean terrorist attacks happen all the time. ...     1.0   \n",
       "3  as a god, it would be my responsibility not to...     1.0   \n",
       "4  i am going to grab a knife and shove it in the...     1.0   \n",
       "\n",
       "              Source  \n",
       "0  SchooshooterTexts  \n",
       "1  SchooshooterTexts  \n",
       "2  SchooshooterTexts  \n",
       "3  SchooshooterTexts  \n",
       "4  SchooshooterTexts  "
      ]
     },
     "execution_count": 36,
     "metadata": {},
     "output_type": "execute_result"
    }
   ],
   "source": [
    "df[\"Text\"] = df[\"Text\"].str.lower()\n",
    "df.head()"
   ]
  },
  {
   "cell_type": "markdown",
   "id": "14d06e2f",
   "metadata": {},
   "source": [
    "## Removing non english text"
   ]
  },
  {
   "cell_type": "code",
   "execution_count": 37,
   "id": "5f3a8326",
   "metadata": {},
   "outputs": [
    {
     "data": {
      "application/vnd.microsoft.datawrangler.viewer.v0+json": {
       "columns": [
        {
         "name": "index",
         "rawType": "int64",
         "type": "integer"
        },
        {
         "name": "Text",
         "rawType": "object",
         "type": "string"
        },
        {
         "name": "Target",
         "rawType": "float64",
         "type": "float"
        },
        {
         "name": "Source",
         "rawType": "object",
         "type": "string"
        }
       ],
       "ref": "ffe42a80-a017-490b-b2b9-5d445e8bad69",
       "rows": [
        [
         "0",
         "mommy said not to talk to strangers..but she's drunk all the time why should i listen to her advice?",
         "1.0",
         "SchooshooterTexts"
        ],
        [
         "1",
         "1.i was immune to getting hurt/killed/infected with a std\n2.i had 43 million worshippers\n3.i had a life..",
         "1.0",
         "SchooshooterTexts"
        ],
        [
         "2",
         "i mean terrorist attacks happen all the time. sure thousands died, but millions have died from george. honestly, it's been almost 10 years and idiots are still whining. 911 did make a lot of idiot patriot extremists in america, you have to give 911 that. i wish another terrorist plane attack would happen so that i could go back to europe and back for 3 cents. ahh, i remember i was a little kindergartener.. (could of been 1st grader but i was \"too\nyoung\")",
         "1.0",
         "SchooshooterTexts"
        ],
        [
         "3",
         "as a god, it would be my responsibility not to destroy the universal balance; thus, i am unable to just appear instantly. i would need to \"convert\" them to being open minded about other gods and then i will appear. i will give out my 3 main rules:\n\n1.do not harm any living thing, if you break this rule, i will break your skull.\n2.do not act in violence of any form.\n3.don't be a stuffhead.\n\ni would try to act with any other gods out there, such as if gaia was real, i would let her take care of her creations, and her earth. i would let zeus and poseidon make the hurricanes and earthquakes, and i would let hades rule the energy of darkness.\n\ni would be sure to \"educate\" them on solar/wind/water powered technology.",
         "1.0",
         "SchooshooterTexts"
        ],
        [
         "4",
         "i am going to grab a knife and shove it in the neck of my mother. i will then drag her dead body by the trash can, drain her blood and then finally cut her and grind her up into little pieces. i will eat some of those pieces and then i will probably barf.. i will throw her body away in the trash can.. i will then go slaughter sacred animals to appease the gods.\n\nhail satan\n\n..i am agnostic, not satanist..",
         "1.0",
         "SchooshooterTexts"
        ]
       ],
       "shape": {
        "columns": 3,
        "rows": 5
       }
      },
      "text/html": [
       "<div>\n",
       "<style scoped>\n",
       "    .dataframe tbody tr th:only-of-type {\n",
       "        vertical-align: middle;\n",
       "    }\n",
       "\n",
       "    .dataframe tbody tr th {\n",
       "        vertical-align: top;\n",
       "    }\n",
       "\n",
       "    .dataframe thead th {\n",
       "        text-align: right;\n",
       "    }\n",
       "</style>\n",
       "<table border=\"1\" class=\"dataframe\">\n",
       "  <thead>\n",
       "    <tr style=\"text-align: right;\">\n",
       "      <th></th>\n",
       "      <th>Text</th>\n",
       "      <th>Target</th>\n",
       "      <th>Source</th>\n",
       "    </tr>\n",
       "  </thead>\n",
       "  <tbody>\n",
       "    <tr>\n",
       "      <th>0</th>\n",
       "      <td>mommy said not to talk to strangers..but she's...</td>\n",
       "      <td>1.0</td>\n",
       "      <td>SchooshooterTexts</td>\n",
       "    </tr>\n",
       "    <tr>\n",
       "      <th>1</th>\n",
       "      <td>1.i was immune to getting hurt/killed/infected...</td>\n",
       "      <td>1.0</td>\n",
       "      <td>SchooshooterTexts</td>\n",
       "    </tr>\n",
       "    <tr>\n",
       "      <th>2</th>\n",
       "      <td>i mean terrorist attacks happen all the time. ...</td>\n",
       "      <td>1.0</td>\n",
       "      <td>SchooshooterTexts</td>\n",
       "    </tr>\n",
       "    <tr>\n",
       "      <th>3</th>\n",
       "      <td>as a god, it would be my responsibility not to...</td>\n",
       "      <td>1.0</td>\n",
       "      <td>SchooshooterTexts</td>\n",
       "    </tr>\n",
       "    <tr>\n",
       "      <th>4</th>\n",
       "      <td>i am going to grab a knife and shove it in the...</td>\n",
       "      <td>1.0</td>\n",
       "      <td>SchooshooterTexts</td>\n",
       "    </tr>\n",
       "  </tbody>\n",
       "</table>\n",
       "</div>"
      ],
      "text/plain": [
       "                                                Text  Target  \\\n",
       "0  mommy said not to talk to strangers..but she's...     1.0   \n",
       "1  1.i was immune to getting hurt/killed/infected...     1.0   \n",
       "2  i mean terrorist attacks happen all the time. ...     1.0   \n",
       "3  as a god, it would be my responsibility not to...     1.0   \n",
       "4  i am going to grab a knife and shove it in the...     1.0   \n",
       "\n",
       "              Source  \n",
       "0  SchooshooterTexts  \n",
       "1  SchooshooterTexts  \n",
       "2  SchooshooterTexts  \n",
       "3  SchooshooterTexts  \n",
       "4  SchooshooterTexts  "
      ]
     },
     "execution_count": 37,
     "metadata": {},
     "output_type": "execute_result"
    }
   ],
   "source": [
    "import pandas as pd\n",
    "from langdetect import detect, DetectorFactory\n",
    "from langdetect.lang_detect_exception import LangDetectException\n",
    "\n",
    "DetectorFactory.seed = 42  \n",
    "\n",
    "def detect_language(text):\n",
    "    try: \n",
    "        return detect(text) if pd.notna(text) else 'unknown' \n",
    "    except LangDetectException:\n",
    "        return 'unknown'  # Handle cases where detection fails\n",
    "\n",
    "df['language'] = df['Text'].apply(detect_language)\n",
    "df = df[df['language'] == 'en']\n",
    "df = df.drop(columns=['language']) \n",
    "df.head()"
   ]
  },
  {
   "cell_type": "markdown",
   "id": "9987326f",
   "metadata": {},
   "source": [
    "## Removing URLs and HTML"
   ]
  },
  {
   "cell_type": "code",
   "execution_count": 38,
   "id": "e8877ce1",
   "metadata": {},
   "outputs": [],
   "source": [
    "import re\n",
    "\n",
    "def remove_urls(text):\n",
    "    url_pattern = re.compile(r'https?://\\S+|www\\.\\S+')\n",
    "    return url_pattern.sub(r'', text)\n",
    "\n",
    "df['Text'] = df['Text'].apply(remove_urls)\n"
   ]
  },
  {
   "cell_type": "code",
   "execution_count": 39,
   "id": "1e7066a1",
   "metadata": {},
   "outputs": [],
   "source": [
    "def remove_html(text):\n",
    "    html_pattern = re.compile('<.*?>')\n",
    "    return html_pattern.sub(r'', text)\n",
    "\n",
    "df['Text'] = df['Text'].apply(remove_html)\n"
   ]
  },
  {
   "cell_type": "markdown",
   "id": "60f685b0",
   "metadata": {},
   "source": [
    "## Remove Punctuation \n"
   ]
  },
  {
   "cell_type": "code",
   "execution_count": 40,
   "id": "289c16cf",
   "metadata": {},
   "outputs": [
    {
     "data": {
      "application/vnd.microsoft.datawrangler.viewer.v0+json": {
       "columns": [
        {
         "name": "index",
         "rawType": "int64",
         "type": "integer"
        },
        {
         "name": "Text",
         "rawType": "object",
         "type": "string"
        },
        {
         "name": "Target",
         "rawType": "float64",
         "type": "float"
        },
        {
         "name": "Source",
         "rawType": "object",
         "type": "string"
        }
       ],
       "ref": "3f6c27c4-fae2-4e82-8127-b8e2cbf94fce",
       "rows": [
        [
         "0",
         "mommy said not to talk to strangers  but shes drunk all the time why should i listen to her advice ",
         "1.0",
         "SchooshooterTexts"
        ],
        [
         "1",
         "1 i was immune to getting hurt killed infected with a std\n2 i had 43 million worshippers\n3 i had a life  ",
         "1.0",
         "SchooshooterTexts"
        ],
        [
         "2",
         "i mean terrorist attacks happen all the time  sure thousands died  but millions have died from george  honestly  its been almost 10 years and idiots are still whining  911 did make a lot of idiot patriot extremists in america  you have to give 911 that  i wish another terrorist plane attack would happen so that i could go back to europe and back for 3 cents  ahh  i remember i was a little kindergartener    could of been 1st grader but i was  too\nyoung  ",
         "1.0",
         "SchooshooterTexts"
        ],
        [
         "3",
         "as a god  it would be my responsibility not to destroy the universal balance  thus  i am unable to just appear instantly  i would need to  convert  them to being open minded about other gods and then i will appear  i will give out my 3 main rules \n\n1 do not harm any living thing  if you break this rule  i will break your skull \n2 do not act in violence of any form \n3 dont be a stuffhead \n\ni would try to act with any other gods out there  such as if gaia was real  i would let her take care of her creations  and her earth  i would let zeus and poseidon make the hurricanes and earthquakes  and i would let hades rule the energy of darkness \n\ni would be sure to  educate  them on solar wind water powered technology ",
         "1.0",
         "SchooshooterTexts"
        ],
        [
         "4",
         "i am going to grab a knife and shove it in the neck of my mother  i will then drag her dead body by the trash can  drain her blood and then finally cut her and grind her up into little pieces  i will eat some of those pieces and then i will probably barf   i will throw her body away in the trash can   i will then go slaughter sacred animals to appease the gods \n\nhail satan\n\n  i am agnostic  not satanist  ",
         "1.0",
         "SchooshooterTexts"
        ]
       ],
       "shape": {
        "columns": 3,
        "rows": 5
       }
      },
      "text/html": [
       "<div>\n",
       "<style scoped>\n",
       "    .dataframe tbody tr th:only-of-type {\n",
       "        vertical-align: middle;\n",
       "    }\n",
       "\n",
       "    .dataframe tbody tr th {\n",
       "        vertical-align: top;\n",
       "    }\n",
       "\n",
       "    .dataframe thead th {\n",
       "        text-align: right;\n",
       "    }\n",
       "</style>\n",
       "<table border=\"1\" class=\"dataframe\">\n",
       "  <thead>\n",
       "    <tr style=\"text-align: right;\">\n",
       "      <th></th>\n",
       "      <th>Text</th>\n",
       "      <th>Target</th>\n",
       "      <th>Source</th>\n",
       "    </tr>\n",
       "  </thead>\n",
       "  <tbody>\n",
       "    <tr>\n",
       "      <th>0</th>\n",
       "      <td>mommy said not to talk to strangers  but shes ...</td>\n",
       "      <td>1.0</td>\n",
       "      <td>SchooshooterTexts</td>\n",
       "    </tr>\n",
       "    <tr>\n",
       "      <th>1</th>\n",
       "      <td>1 i was immune to getting hurt killed infected...</td>\n",
       "      <td>1.0</td>\n",
       "      <td>SchooshooterTexts</td>\n",
       "    </tr>\n",
       "    <tr>\n",
       "      <th>2</th>\n",
       "      <td>i mean terrorist attacks happen all the time  ...</td>\n",
       "      <td>1.0</td>\n",
       "      <td>SchooshooterTexts</td>\n",
       "    </tr>\n",
       "    <tr>\n",
       "      <th>3</th>\n",
       "      <td>as a god  it would be my responsibility not to...</td>\n",
       "      <td>1.0</td>\n",
       "      <td>SchooshooterTexts</td>\n",
       "    </tr>\n",
       "    <tr>\n",
       "      <th>4</th>\n",
       "      <td>i am going to grab a knife and shove it in the...</td>\n",
       "      <td>1.0</td>\n",
       "      <td>SchooshooterTexts</td>\n",
       "    </tr>\n",
       "  </tbody>\n",
       "</table>\n",
       "</div>"
      ],
      "text/plain": [
       "                                                Text  Target  \\\n",
       "0  mommy said not to talk to strangers  but shes ...     1.0   \n",
       "1  1 i was immune to getting hurt killed infected...     1.0   \n",
       "2  i mean terrorist attacks happen all the time  ...     1.0   \n",
       "3  as a god  it would be my responsibility not to...     1.0   \n",
       "4  i am going to grab a knife and shove it in the...     1.0   \n",
       "\n",
       "              Source  \n",
       "0  SchooshooterTexts  \n",
       "1  SchooshooterTexts  \n",
       "2  SchooshooterTexts  \n",
       "3  SchooshooterTexts  \n",
       "4  SchooshooterTexts  "
      ]
     },
     "execution_count": 40,
     "metadata": {},
     "output_type": "execute_result"
    }
   ],
   "source": [
    "import string\n",
    "import re\n",
    "\n",
    "def custom_punct_replace(text):\n",
    "    # Remove apostrophes\n",
    "    text = text.replace(\"'\", \"\")\n",
    "    # Create a punctuation set excluding apostrophe\n",
    "    punct = string.punctuation.replace(\"'\", \"\")\n",
    "    # Replace all other punctuation with a space\n",
    "    return re.sub(f\"[{re.escape(punct)}]\", \" \", text)\n",
    "\n",
    "df[\"Text\"] = df[\"Text\"].apply(custom_punct_replace)\n",
    "df.head()\n"
   ]
  },
  {
   "cell_type": "markdown",
   "id": "766205b6",
   "metadata": {},
   "source": [
    "## Tokenization"
   ]
  },
  {
   "cell_type": "code",
   "execution_count": 41,
   "id": "1cceeff8",
   "metadata": {},
   "outputs": [
    {
     "data": {
      "application/vnd.microsoft.datawrangler.viewer.v0+json": {
       "columns": [
        {
         "name": "index",
         "rawType": "int64",
         "type": "integer"
        },
        {
         "name": "Text",
         "rawType": "object",
         "type": "unknown"
        },
        {
         "name": "Target",
         "rawType": "float64",
         "type": "float"
        },
        {
         "name": "Source",
         "rawType": "object",
         "type": "string"
        }
       ],
       "ref": "b1a17ce2-c317-498e-b17d-35775c55fed2",
       "rows": [
        [
         "0",
         "['mommy', 'said', 'not', 'to', 'talk', 'to', 'strangers', 'but', 'shes', 'drunk', 'all', 'the', 'time', 'why', 'should', 'i', 'listen', 'to', 'her', 'advice']",
         "1.0",
         "SchooshooterTexts"
        ],
        [
         "1",
         "['1', 'i', 'was', 'immune', 'to', 'getting', 'hurt', 'killed', 'infected', 'with', 'a', 'std', '2', 'i', 'had', '43', 'million', 'worshippers', '3', 'i', 'had', 'a', 'life']",
         "1.0",
         "SchooshooterTexts"
        ],
        [
         "2",
         "['i', 'mean', 'terrorist', 'attacks', 'happen', 'all', 'the', 'time', 'sure', 'thousands', 'died', 'but', 'millions', 'have', 'died', 'from', 'george', 'honestly', 'its', 'been', 'almost', '10', 'years', 'and', 'idiots', 'are', 'still', 'whining', '911', 'did', 'make', 'a', 'lot', 'of', 'idiot', 'patriot', 'extremists', 'in', 'america', 'you', 'have', 'to', 'give', '911', 'that', 'i', 'wish', 'another', 'terrorist', 'plane', 'attack', 'would', 'happen', 'so', 'that', 'i', 'could', 'go', 'back', 'to', 'europe', 'and', 'back', 'for', '3', 'cents', 'ahh', 'i', 'remember', 'i', 'was', 'a', 'little', 'kindergartener', 'could', 'of', 'been', '1st', 'grader', 'but', 'i', 'was', 'too', 'young']",
         "1.0",
         "SchooshooterTexts"
        ],
        [
         "3",
         "['as', 'a', 'god', 'it', 'would', 'be', 'my', 'responsibility', 'not', 'to', 'destroy', 'the', 'universal', 'balance', 'thus', 'i', 'am', 'unable', 'to', 'just', 'appear', 'instantly', 'i', 'would', 'need', 'to', 'convert', 'them', 'to', 'being', 'open', 'minded', 'about', 'other', 'gods', 'and', 'then', 'i', 'will', 'appear', 'i', 'will', 'give', 'out', 'my', '3', 'main', 'rules', '1', 'do', 'not', 'harm', 'any', 'living', 'thing', 'if', 'you', 'break', 'this', 'rule', 'i', 'will', 'break', 'your', 'skull', '2', 'do', 'not', 'act', 'in', 'violence', 'of', 'any', 'form', '3', 'dont', 'be', 'a', 'stuffhead', 'i', 'would', 'try', 'to', 'act', 'with', 'any', 'other', 'gods', 'out', 'there', 'such', 'as', 'if', 'gaia', 'was', 'real', 'i', 'would', 'let', 'her', 'take', 'care', 'of', 'her', 'creations', 'and', 'her', 'earth', 'i', 'would', 'let', 'zeus', 'and', 'poseidon', 'make', 'the', 'hurricanes', 'and', 'earthquakes', 'and', 'i', 'would', 'let', 'hades', 'rule', 'the', 'energy', 'of', 'darkness', 'i', 'would', 'be', 'sure', 'to', 'educate', 'them', 'on', 'solar', 'wind', 'water', 'powered', 'technology']",
         "1.0",
         "SchooshooterTexts"
        ],
        [
         "4",
         "['i', 'am', 'going', 'to', 'grab', 'a', 'knife', 'and', 'shove', 'it', 'in', 'the', 'neck', 'of', 'my', 'mother', 'i', 'will', 'then', 'drag', 'her', 'dead', 'body', 'by', 'the', 'trash', 'can', 'drain', 'her', 'blood', 'and', 'then', 'finally', 'cut', 'her', 'and', 'grind', 'her', 'up', 'into', 'little', 'pieces', 'i', 'will', 'eat', 'some', 'of', 'those', 'pieces', 'and', 'then', 'i', 'will', 'probably', 'barf', 'i', 'will', 'throw', 'her', 'body', 'away', 'in', 'the', 'trash', 'can', 'i', 'will', 'then', 'go', 'slaughter', 'sacred', 'animals', 'to', 'appease', 'the', 'gods', 'hail', 'satan', 'i', 'am', 'agnostic', 'not', 'satanist']",
         "1.0",
         "SchooshooterTexts"
        ]
       ],
       "shape": {
        "columns": 3,
        "rows": 5
       }
      },
      "text/html": [
       "<div>\n",
       "<style scoped>\n",
       "    .dataframe tbody tr th:only-of-type {\n",
       "        vertical-align: middle;\n",
       "    }\n",
       "\n",
       "    .dataframe tbody tr th {\n",
       "        vertical-align: top;\n",
       "    }\n",
       "\n",
       "    .dataframe thead th {\n",
       "        text-align: right;\n",
       "    }\n",
       "</style>\n",
       "<table border=\"1\" class=\"dataframe\">\n",
       "  <thead>\n",
       "    <tr style=\"text-align: right;\">\n",
       "      <th></th>\n",
       "      <th>Text</th>\n",
       "      <th>Target</th>\n",
       "      <th>Source</th>\n",
       "    </tr>\n",
       "  </thead>\n",
       "  <tbody>\n",
       "    <tr>\n",
       "      <th>0</th>\n",
       "      <td>[mommy, said, not, to, talk, to, strangers, bu...</td>\n",
       "      <td>1.0</td>\n",
       "      <td>SchooshooterTexts</td>\n",
       "    </tr>\n",
       "    <tr>\n",
       "      <th>1</th>\n",
       "      <td>[1, i, was, immune, to, getting, hurt, killed,...</td>\n",
       "      <td>1.0</td>\n",
       "      <td>SchooshooterTexts</td>\n",
       "    </tr>\n",
       "    <tr>\n",
       "      <th>2</th>\n",
       "      <td>[i, mean, terrorist, attacks, happen, all, the...</td>\n",
       "      <td>1.0</td>\n",
       "      <td>SchooshooterTexts</td>\n",
       "    </tr>\n",
       "    <tr>\n",
       "      <th>3</th>\n",
       "      <td>[as, a, god, it, would, be, my, responsibility...</td>\n",
       "      <td>1.0</td>\n",
       "      <td>SchooshooterTexts</td>\n",
       "    </tr>\n",
       "    <tr>\n",
       "      <th>4</th>\n",
       "      <td>[i, am, going, to, grab, a, knife, and, shove,...</td>\n",
       "      <td>1.0</td>\n",
       "      <td>SchooshooterTexts</td>\n",
       "    </tr>\n",
       "  </tbody>\n",
       "</table>\n",
       "</div>"
      ],
      "text/plain": [
       "                                                Text  Target  \\\n",
       "0  [mommy, said, not, to, talk, to, strangers, bu...     1.0   \n",
       "1  [1, i, was, immune, to, getting, hurt, killed,...     1.0   \n",
       "2  [i, mean, terrorist, attacks, happen, all, the...     1.0   \n",
       "3  [as, a, god, it, would, be, my, responsibility...     1.0   \n",
       "4  [i, am, going, to, grab, a, knife, and, shove,...     1.0   \n",
       "\n",
       "              Source  \n",
       "0  SchooshooterTexts  \n",
       "1  SchooshooterTexts  \n",
       "2  SchooshooterTexts  \n",
       "3  SchooshooterTexts  \n",
       "4  SchooshooterTexts  "
      ]
     },
     "execution_count": 41,
     "metadata": {},
     "output_type": "execute_result"
    }
   ],
   "source": [
    "import nltk\n",
    "from nltk.tokenize import word_tokenize\n",
    "\n",
    "\n",
    "df['Text'] = df['Text'].apply(nltk.word_tokenize)\n",
    "df.head()"
   ]
  },
  {
   "cell_type": "markdown",
   "id": "e922f3e2",
   "metadata": {},
   "source": [
    "## Expanding Abbreviations"
   ]
  },
  {
   "cell_type": "code",
   "execution_count": 42,
   "id": "f6eb8b9f",
   "metadata": {},
   "outputs": [
    {
     "data": {
      "application/vnd.microsoft.datawrangler.viewer.v0+json": {
       "columns": [
        {
         "name": "index",
         "rawType": "int64",
         "type": "integer"
        },
        {
         "name": "Text",
         "rawType": "object",
         "type": "unknown"
        },
        {
         "name": "Target",
         "rawType": "float64",
         "type": "float"
        },
        {
         "name": "Source",
         "rawType": "object",
         "type": "string"
        }
       ],
       "ref": "0073fc66-e4dc-4ba4-bb80-52d962f56a05",
       "rows": [
        [
         "0",
         "['mommy', 'said', 'not', 'to', 'talk', 'to', 'strangers', 'but', 'shes', 'drunk', 'all', 'the', 'tears in my eyes', 'why', 'should', 'i', 'listen', 'to', 'her', 'advice']",
         "1.0",
         "SchooshooterTexts"
        ],
        [
         "1",
         "['1', 'i', 'was', 'immune', 'to', 'getting', 'hurt', 'killed', 'infected', 'with', 'a', 'sexually transmitted disease', '2', 'i', 'had', '43', 'million', 'worshippers', '3', 'i', 'had', 'a', 'life']",
         "1.0",
         "SchooshooterTexts"
        ],
        [
         "2",
         "['i', 'mean', 'terrorist', 'attacks', 'happen', 'all', 'the', 'tears in my eyes', 'sure', 'thousands', 'died', 'but', 'millions', 'have', 'died', 'from', 'george', 'honestly', 'its', 'been', 'almost', '10', 'years', 'and', 'idiots', 'are', 'still', 'whining', '911', 'did', 'make', 'a', 'lot', 'of', 'idiot', 'patriot', 'extremists', 'in', 'america', 'you', 'have', 'to', 'give', '911', 'that', 'i', 'wish', 'another', 'terrorist', 'plane', 'attack', 'would', 'happen', 'so', 'that', 'i', 'could', 'go', 'back', 'to', 'europe', 'and', 'back', 'for', '3', 'cents', 'ahh', 'i', 'remember', 'i', 'was', 'a', 'little', 'kindergartener', 'could', 'of', 'been', '1st', 'grader', 'but', 'i', 'was', 'too', 'young']",
         "1.0",
         "SchooshooterTexts"
        ],
        [
         "3",
         "['as', 'a', 'god', 'it', 'would', 'be', 'my', 'responsibility', 'not', 'to', 'destroy', 'the', 'universal', 'balance', 'thus', 'i', 'am', 'unable', 'to', 'just', 'appear', 'instantly', 'i', 'would', 'need', 'to', 'convert', 'them', 'to', 'being', 'open', 'minded', 'about', 'other', 'gods', 'and', 'then', 'i', 'will', 'appear', 'i', 'will', 'give', 'out', 'my', '3', 'main', 'rules', '1', 'do', 'not', 'harm', 'any', 'living', 'thing', 'if', 'you', 'break', 'this', 'rule', 'i', 'will', 'break', 'your', 'skull', '2', 'do', 'not', 'act', 'in', 'violence', 'of', 'any', 'form', '3', 'dont', 'be', 'a', 'stuffhead', 'i', 'would', 'try', 'to', 'act', 'with', 'any', 'other', 'gods', 'out', 'there', 'such', 'as', 'if', 'gaia', 'was', 'real', 'i', 'would', 'let', 'her', 'take', 'care', 'of', 'her', 'creations', 'and', 'her', 'earth', 'i', 'would', 'let', 'zeus', 'and', 'poseidon', 'make', 'the', 'hurricanes', 'and', 'earthquakes', 'and', 'i', 'would', 'let', 'hades', 'rule', 'the', 'energy', 'of', 'darkness', 'i', 'would', 'be', 'sure', 'to', 'educate', 'them', 'on', 'solar', 'wind', 'water', 'powered', 'technology']",
         "1.0",
         "SchooshooterTexts"
        ],
        [
         "4",
         "['i', 'am', 'going', 'to', 'grab', 'a', 'knife', 'and', 'shove', 'it', 'in', 'the', 'neck', 'of', 'my', 'mother', 'i', 'will', 'then', 'drag', 'her', 'dead', 'body', 'by', 'the', 'trash', 'can', 'drain', 'her', 'blood', 'and', 'then', 'finally', 'cut', 'her', 'and', 'grind', 'her', 'up', 'into', 'little', 'pieces', 'i', 'will', 'eat', 'some', 'of', 'those', 'pieces', 'and', 'then', 'i', 'will', 'probably', 'barf', 'i', 'will', 'throw', 'her', 'body', 'away', 'in', 'the', 'trash', 'can', 'i', 'will', 'then', 'go', 'slaughter', 'sacred', 'animals', 'to', 'appease', 'the', 'gods', 'hail', 'satan', 'i', 'am', 'agnostic', 'not', 'satanist']",
         "1.0",
         "SchooshooterTexts"
        ],
        [
         "5",
         "['i', 'will', 'rape', 'your', 'hot', 'lovey', 'sister', 'and', 'then', 'strangle', 'her', 'with', 'her', 'own', 'hair', 'then', 'i', 'will', 'sneakinto', 'your', 'parents', 'room', 'and', 'slaughter', 'them', 'i', 'will', 'slowly', 'walk', 'to', 'your', 'room', 'holding', 'my', 'blood', 'thirsty', 'knife', 'in', 'my', 'right', 'hand', 'i', 'walk', 'into', 'your', 'room', 'when', 'i', 'see', 'that', 'youre', 'making', 'out', 'with', 'yourself', 'i', 'will', 'grab', 'you', 'tie', 'you', 'to', 'your', 'bed', 'with', 'your', 'own', 'hair', 'and', 'super', 'glue', 'it', 'shut', 'my', 'blood', 'thirsty', 'crave', 'is', 'not', 'over', 'i', 'finally', 'rip', 'your', 'hair', 'out', 'and', 'you', 'experience', 'excruciating', 'pain', 'so', 'painful', 'that', 'you', 'scream', 'and', 'scream', 'but', 'it', 'cant', 'stop', 'i', 'ripped', 'out', 'the', 'skin', 'of', 'your', 'head', 'blood', 'is', 'drooping', 'everywhere', 'finally', 'i', 'pluck', 'your', 'eyes', 'right', 'out', 'with', 'my', 'knife', 'and', 'throw', 'them', 'down', 'i', 'then', 'cut', 'your', 'neck', 'off', 'and', 'the', 'arms', 'and', 'legs', 'only', 'the', 'torso', 'remains', 'i', 'cut', 'off', 'the', 'genitals', 'and', 'i', 'stab', 'the', 'stomach', 'repeatedly', 'i', 'finally', 'finish', 'off', 'by', 'ripping', 'out', 'your', 'heart', 'and', 'consuming', 'it']",
         "1.0",
         "SchooshooterTexts"
        ],
        [
         "6",
         "['iwillneverletyouforgetaboutme']",
         "1.0",
         "SchooshooterTexts"
        ],
        [
         "7",
         "['rule', '11', 'be', 'nice', 'to', 'nerds', 'chances', 'are', 'youll', 'end', 'up', 'working', 'for', 'one', 'start', 'being', 'nice', 'to', 'me', 'or', 'i', 'will', 'not', 'hire', 'you', 'all', 'all', 'of', 'those', 'idiots', 'who', 'have', 'messed', 'up', 'my', 'life', 'in', 'the', 'past', 'i', 'will', 'hire', 'them', 'for', 'a', 'day', 'and', 'then', 'fire', 'them']",
         "1.0",
         "SchooshooterTexts"
        ],
        [
         "8",
         "['2005', 'age', '9', 'i', 'was', 'playing', 'sm64ds', 'when', 'i', 'lost', 'the', 'level', 'i', 'went', 'agk', 'on', 'my', 'ds', 'threw', 'it', 'extremely', 'hard', 'at', 'a', 'wall', 'and', 'broke', 'it', '2005', 'age', '9', 'after', 'recieving', 'my', 'ds', 'again', 'a', 'day', 'later', 'i', 'got', 'pissed', 'again', 'and', 'ripped', 'the', 'upper', 'half', 'of', 'the', 'ds', 'off', '2005', 'age', '9', 'i', 'got', 'my', 'ds', 'again', 'but', 'when', 'playing', 'pokemon', 'lost', 'and', 'threw', 'it', 'right', 'at', 'the', 'wall', 'again', 'the', '2005', 'ones', 'are', 'true', 'i', 'had', 'a', 'very', 'bad', 'anger', 'problem', '2009', 'age', '13', 'after', 'getting', 'another', 'ds', 'threw', 'it', 'right', 'at', 'the', 'tv', 'and', 'said', 'hows', 'that']",
         "1.0",
         "SchooshooterTexts"
        ],
        [
         "9",
         "['look', 'guys', 'i', 'just', 'smoked', 'an', 'entire', '500', 'worth', 'bag', 'of', 'original', 'kush', 'so', 'its', 'hard', 'to', 'hate', 'you', 'i', 'love', 'furries', 'gays', 'jews', 'al', 'queda', 'and', 'america', '●irl●', 'teenage', 'kid', 'with', 'no', 'friends', 'who', 'hates', 'everything', 'and', 'wants', 'to', 'shoot', 'up', 'his', 'school', 'but', 'is', 'too', 'week', 'to', 'fire', 'a', 'gun', 'and', 'my', 'parents', 'are', 'annyoing', 'but', 'will', 'financially', 'supply', 'me', 'for', 'the', 'next', '30', 'years', 'i', 'love', 'to', 'hate', 'and', 'fart', 'a', 'lot', 'making', 'my', 'room', 'smell', 'remnicsant', 'of', 'cheese', 'and', 'boiled', 'eggs', 'all', 'trolls', 'except', 'me']",
         "1.0",
         "SchooshooterTexts"
        ],
        [
         "10",
         "['dont', 'play', 'wow', 'it', 'turned', 'my', 'brother', 'into', 'a', 'basement', 'dweller', 'and', 'now', 'hes', 'doing', 'weed', 'hes', '24', 'works', 'at', 'a', 'convenience', 'store', 'and', 'dropped', 'out', 'of', 'high', 'school', 'mmos', 'are', 'just', 'the', 'same', 'as', 'heroin', 'and', 'will', 'destroy', 'not', 'only', 'your', 'body', 'but', 'your', 'mind']",
         "1.0",
         "SchooshooterTexts"
        ],
        [
         "11",
         "['i', 'support', 'interesting', 'people', 'and', 'i', 'hope', 'to', 'be', 'internet', 'famous', 'one', 'day', 'in', 'short', 'im', 'a', 'hypocritical', 'weeaboo', 'in', 'denial', 'troll', 'who', 'has', 'been', 'cursed', 'into', 'an', 'endless', 'state', 'of', 'constant', 'boredom', 'which', 'has', 'driven', 'me', 'to', 'depression', 'and', 'anger']",
         "1.0",
         "SchooshooterTexts"
        ],
        [
         "12",
         "['the', 'shortest', 'i', 'can', 'describe', 'trolls', 'trolls', 'are', 'basically', 'young', 'teenagers', 'who', 'bully', 'online', 'to', 'get', 'a', 'raise', 'because', 'they', 'have', 'a', 'personality', 'disorder', 'and', 'want', 'to', 'cover', 'up', 'the', 'hole', 'that', 'real', 'bullies', 'left', 'in', 'their', 'emotion']",
         "1.0",
         "SchooshooterTexts"
        ],
        [
         "13",
         "['i', 'would', 'kill', 'tidus', 'and', 'the', 'methods', 'of', 'doing', 'this', 'may', 'offend', 'many', 'of', 'you', 'i', 'would', 'start', 'off', 'by', 'crusifying', 'him', 'and', 'leaving', 'him', 'without', 'food', 'for', 'a', 'total', 'of', 'three', 'days', 'afterwards', 'i', 'would', 'force', 'him', 'to', 'eat', 'rats', 'i', 'would', 'apply', '1', '000', 'small', 'cuts', 'throughout', 'his', 'body', 'and', 'dip', 'him', 'in', 'a', 'tub', 'of', 'hydrogen', 'peroxide', 'afterwards', 'i', 'would', 'recut', 'the', 'wounds', 'and', 'apply', 'a', 'scorpions', 'sting', 'to', '30', 'of', 'them', 'over', 'a', 'tears in my eyes', 'period', 'of', '2', 'hours', 'after', 'which', 'i', 'would', 'nurse', 'his', 'health', 'a', 'tad', 'next', 'i', 'would', 'rip', 'his', 'nails', 'out', 'and', 'pour', 'bleach', 'and', 'ammonia', 'on', 'them', 'while', 'making', 'sure', 'he', 'doesnt', 'inhale', 'any', 'i', 'would', 'shoot', 'him', 'in', 'his', 'knee', 'with', 'a', 'crossbow', 'and', 'since', 'im', 'an', 'honorable', 'man', 'i', 'would', 'make', 'this', 'the', 'last', 'of', 'his', 'punishment', 'a', 'quick', 'sword', 'blow', 'to', 'his', 'chest', 'and', 'a', 'large', 'incision', 'to', 'his', 'belly', 'would', 'do', 'the', 'trick', 'i', 'would', 'leave', 'him', 'in', 'pain', 'for', 'the', 'remainder', 'of', 'his', 'very', 'short', 'life', 'to', 'allow', 'him', 'to', 'reflect', 'on', 'his', 'personality']",
         "1.0",
         "SchooshooterTexts"
        ],
        [
         "14",
         "['jack', 'a', 'gun', 'and', 'shoot', 'myself', 'in', 'the', 'head']",
         "2.0",
         "SchooshooterTexts"
        ],
        [
         "15",
         "['every', 'personality', 'disorder', 'test', 'i', 'take', 'i', 'usually', 'end', 'up', 'getting', 'over', 'half', 'of', 'them', 'at', 'a', 'severe', 'level', 'and', 'im', 'being', 'honest', 'most', 'of', 'the', 'tears in my eyes']",
         "1.0",
         "SchooshooterTexts"
        ],
        [
         "16",
         "['hey', 'im', 'eldigato', 'in', 'short', 'i', 'am', 'a', 'psychopath', 'dedicated', 'to', 'the', 'art', 'of', 'destruction', 'in', 'my', 'years', 'of', 'minecraft', 'i', 'have', 'always', 'aimed', 'to', 'make', 'interesting', 'stories', 'i', 'have', 'always', 'done', 'my', 'deeds', 'solo', 'and', 'for', 'that', 'reason', 'they', 'never', 'reached', 'the', 'peak', 'i', 'had', 'hoped', 'for', 'that', 'is', 'why', 'i', 'have', 'registered', 'here', 'today', 'in', 'hopes', 'that', 'i', 'can', 'work', 'with', 'people', 'with', 'similar', 'intentions', 'and', 'cause', 'many', 'great', 'calamities', 'resume', 'griefing', 'i', 'like', 'to', 'take', 'my', 'tears in my eyes', 'in', 'order', 'to', 'cause', 'the', 'most', 'damage', 'but', 'i', 'have', 'attacked', 'many', 'servers', 'with', 'a', 'hit', 'and', 'run', 'style', 'of', 'disruption', 'before', 'and', 'caused', 'massive', 'amounts', 'of', 'damage', 'i', 'would', 'like', 'to', 'say', 'that', 'my', 'best', 'griefing', 'attack', 'was', 'the', 'scattered', 'space', 'incident', 'although', 'the', 'damage', 'wasnt', 'intense', 'compared', 'to', 'most', 'of', 'my', 'attacks', 'on', 'servers', 'i', 'stirred', 'up', 'plenty', 'of', 'drama', 'in', 'their', 'community', 'cooperation', 'i', 'would', 'like', 'to', 'think', 'myself', 'as', 'that', 'of', 'a', 'rogue', 'in', 'many', 'situations', 'but', 'i', 'have', 'shown', 'to', 'be', 'able', 'to', 'work', 'with', 'others', 'considering', 'our', 'personalities', 'i', 'dont', 'think', 'i', 'would', 'have', 'any', 'troubles', 'with', 'group', 'raiding', 'admins', 'i', 'can', 'bullshit', 'my', 'way', 'out', 'of', 'things', 'but', 'i', 'am', 'a', 'honest', 'man', 'if', 'i', 'focus', 'i', 'can', 'have', 'a', 'silver', 'tounge', 'that', 'avoids', 'truthfulness', 'i', 'hope', 'that', 'this', 'information', 'is', 'enough', 'to', 'provide', 'and', 'i', 'hope', 'in', 'the', 'future', 'i', 'can', 'infest', 'the', 'world', 'one', 'day']",
         "1.0",
         "SchooshooterTexts"
        ],
        [
         "17",
         "['i', 'would', 'cut', 'as', 'many', 'veins', 'in', 'his', 'neck', 'as', 'i', 'could', 'avoiding', 'his', 'jugular']",
         "1.0",
         "SchooshooterTexts"
        ],
        [
         "18",
         "['my', 'guilty', 'pleasure', 'is', 'probably', 'dmt', 'but', 'its', 'ok', 'since', 'its', 'amazingly', 'god']",
         "1.0",
         "SchooshooterTexts"
        ],
        [
         "19",
         "['my', 'dream', 'job', 'would', 'have', 'to', 'involve', 'synthesizing', 'pure', 'lsd', 'legally', 'and', 'selling', 'it', 'to', 'the', 'right', 'kind', 'of', 'people', 'who', 'wouldnt', 'abuse', 'it']",
         "1.0",
         "SchooshooterTexts"
        ],
        [
         "20",
         "['i', 'will', 'be', 'living', 'in', 'a', 'basement', 'pretty', 'soon', 'once', 'im', 'finished', 'moving', 'in', 'with', 'my', 'bro']",
         "1.0",
         "SchooshooterTexts"
        ],
        [
         "21",
         "['i', 'played', 'this', 'game', 'while', 'on', 'marijuana', 'lsd', 'salvia', 'and', 'shrooms', 'i', 'can', 'honestly', 'say', 'that', 'once', 'youre', 'experienced', 'with', 'the', 'types', 'you', 'can', 'handle', 'it', 'as', 'long', 'as', 'you', 'have', 'a', 'sitter', 'to', 'help', 'calm', 'you', 'down', 'when', 'creepy', 'stuff', 'happens']",
         "1.0",
         "SchooshooterTexts"
        ],
        [
         "22",
         "['if', 'all', 'of', 'the', 'internet', 'went', 'out', 'people', 'would', 'go', 'psycho', 'and', 'kill', 'eachother', 'and', 'hang', 'mutilated', 'corpses', 'from', 'their', 'towns', 'bridges']",
         "1.0",
         "SchooshooterTexts"
        ],
        [
         "23",
         "['id', 'go', 'back', 'in', 'tears in my eyes', 'and', 'stop', 'a', 'lot', 'of', 'the', 'school', 'shootings', 'such', 'as', 'columbine', 'or', 'v', 'tech', 'by', 'being', 'a', 'positive', 'influence', 'spreading', 'hope', 'in', 'the', 'minds', 'of', 'the', 'shooters', 'and', 'keep', 'them', 'on', 'a', 'path', 'of', 'enlightenment', 'or', 'more', 'realistically', 'id', 'clean', 'up', 'trash', 'around', 'my', 'town', 'which', 'i', 'already', 'do', 'and', 'volunteer', 'at', 'places', 'oh', 'and', 'befriend', 'the', 'lonely', 'or', 'friendless', 'kids', 'at', 'school']",
         "1.0",
         "SchooshooterTexts"
        ],
        [
         "24",
         "['dropping', 'out', 'of', 'high', 'school', 'in', 'order', 'to', 'just', 'study', 'a', 'ged', 'book', 'my', 'sci', 'teacher', 'gave', 'me', 'and', 'take', 'the', 'test', 'when', 'i', 'feel', 'ready', 'and', 'then', 'move', 'onto', 'college', 'while', 'working', 'on', 'fixing', 'myself', 'and', 'learning', 'how', 'to', 'be', 'happy', 'for', 'once', 'and', 'overcoming', 'a', 'tobacco', 'addiction']",
         "1.0",
         "SchooshooterTexts"
        ]
       ],
       "shape": {
        "columns": 3,
        "rows": 25
       }
      },
      "text/html": [
       "<div>\n",
       "<style scoped>\n",
       "    .dataframe tbody tr th:only-of-type {\n",
       "        vertical-align: middle;\n",
       "    }\n",
       "\n",
       "    .dataframe tbody tr th {\n",
       "        vertical-align: top;\n",
       "    }\n",
       "\n",
       "    .dataframe thead th {\n",
       "        text-align: right;\n",
       "    }\n",
       "</style>\n",
       "<table border=\"1\" class=\"dataframe\">\n",
       "  <thead>\n",
       "    <tr style=\"text-align: right;\">\n",
       "      <th></th>\n",
       "      <th>Text</th>\n",
       "      <th>Target</th>\n",
       "      <th>Source</th>\n",
       "    </tr>\n",
       "  </thead>\n",
       "  <tbody>\n",
       "    <tr>\n",
       "      <th>0</th>\n",
       "      <td>[mommy, said, not, to, talk, to, strangers, bu...</td>\n",
       "      <td>1.0</td>\n",
       "      <td>SchooshooterTexts</td>\n",
       "    </tr>\n",
       "    <tr>\n",
       "      <th>1</th>\n",
       "      <td>[1, i, was, immune, to, getting, hurt, killed,...</td>\n",
       "      <td>1.0</td>\n",
       "      <td>SchooshooterTexts</td>\n",
       "    </tr>\n",
       "    <tr>\n",
       "      <th>2</th>\n",
       "      <td>[i, mean, terrorist, attacks, happen, all, the...</td>\n",
       "      <td>1.0</td>\n",
       "      <td>SchooshooterTexts</td>\n",
       "    </tr>\n",
       "    <tr>\n",
       "      <th>3</th>\n",
       "      <td>[as, a, god, it, would, be, my, responsibility...</td>\n",
       "      <td>1.0</td>\n",
       "      <td>SchooshooterTexts</td>\n",
       "    </tr>\n",
       "    <tr>\n",
       "      <th>4</th>\n",
       "      <td>[i, am, going, to, grab, a, knife, and, shove,...</td>\n",
       "      <td>1.0</td>\n",
       "      <td>SchooshooterTexts</td>\n",
       "    </tr>\n",
       "    <tr>\n",
       "      <th>5</th>\n",
       "      <td>[i, will, rape, your, hot, lovey, sister, and,...</td>\n",
       "      <td>1.0</td>\n",
       "      <td>SchooshooterTexts</td>\n",
       "    </tr>\n",
       "    <tr>\n",
       "      <th>6</th>\n",
       "      <td>[iwillneverletyouforgetaboutme]</td>\n",
       "      <td>1.0</td>\n",
       "      <td>SchooshooterTexts</td>\n",
       "    </tr>\n",
       "    <tr>\n",
       "      <th>7</th>\n",
       "      <td>[rule, 11, be, nice, to, nerds, chances, are, ...</td>\n",
       "      <td>1.0</td>\n",
       "      <td>SchooshooterTexts</td>\n",
       "    </tr>\n",
       "    <tr>\n",
       "      <th>8</th>\n",
       "      <td>[2005, age, 9, i, was, playing, sm64ds, when, ...</td>\n",
       "      <td>1.0</td>\n",
       "      <td>SchooshooterTexts</td>\n",
       "    </tr>\n",
       "    <tr>\n",
       "      <th>9</th>\n",
       "      <td>[look, guys, i, just, smoked, an, entire, 500,...</td>\n",
       "      <td>1.0</td>\n",
       "      <td>SchooshooterTexts</td>\n",
       "    </tr>\n",
       "    <tr>\n",
       "      <th>10</th>\n",
       "      <td>[dont, play, wow, it, turned, my, brother, int...</td>\n",
       "      <td>1.0</td>\n",
       "      <td>SchooshooterTexts</td>\n",
       "    </tr>\n",
       "    <tr>\n",
       "      <th>11</th>\n",
       "      <td>[i, support, interesting, people, and, i, hope...</td>\n",
       "      <td>1.0</td>\n",
       "      <td>SchooshooterTexts</td>\n",
       "    </tr>\n",
       "    <tr>\n",
       "      <th>12</th>\n",
       "      <td>[the, shortest, i, can, describe, trolls, trol...</td>\n",
       "      <td>1.0</td>\n",
       "      <td>SchooshooterTexts</td>\n",
       "    </tr>\n",
       "    <tr>\n",
       "      <th>13</th>\n",
       "      <td>[i, would, kill, tidus, and, the, methods, of,...</td>\n",
       "      <td>1.0</td>\n",
       "      <td>SchooshooterTexts</td>\n",
       "    </tr>\n",
       "    <tr>\n",
       "      <th>14</th>\n",
       "      <td>[jack, a, gun, and, shoot, myself, in, the, head]</td>\n",
       "      <td>2.0</td>\n",
       "      <td>SchooshooterTexts</td>\n",
       "    </tr>\n",
       "    <tr>\n",
       "      <th>15</th>\n",
       "      <td>[every, personality, disorder, test, i, take, ...</td>\n",
       "      <td>1.0</td>\n",
       "      <td>SchooshooterTexts</td>\n",
       "    </tr>\n",
       "    <tr>\n",
       "      <th>16</th>\n",
       "      <td>[hey, im, eldigato, in, short, i, am, a, psych...</td>\n",
       "      <td>1.0</td>\n",
       "      <td>SchooshooterTexts</td>\n",
       "    </tr>\n",
       "    <tr>\n",
       "      <th>17</th>\n",
       "      <td>[i, would, cut, as, many, veins, in, his, neck...</td>\n",
       "      <td>1.0</td>\n",
       "      <td>SchooshooterTexts</td>\n",
       "    </tr>\n",
       "    <tr>\n",
       "      <th>18</th>\n",
       "      <td>[my, guilty, pleasure, is, probably, dmt, but,...</td>\n",
       "      <td>1.0</td>\n",
       "      <td>SchooshooterTexts</td>\n",
       "    </tr>\n",
       "    <tr>\n",
       "      <th>19</th>\n",
       "      <td>[my, dream, job, would, have, to, involve, syn...</td>\n",
       "      <td>1.0</td>\n",
       "      <td>SchooshooterTexts</td>\n",
       "    </tr>\n",
       "    <tr>\n",
       "      <th>20</th>\n",
       "      <td>[i, will, be, living, in, a, basement, pretty,...</td>\n",
       "      <td>1.0</td>\n",
       "      <td>SchooshooterTexts</td>\n",
       "    </tr>\n",
       "    <tr>\n",
       "      <th>21</th>\n",
       "      <td>[i, played, this, game, while, on, marijuana, ...</td>\n",
       "      <td>1.0</td>\n",
       "      <td>SchooshooterTexts</td>\n",
       "    </tr>\n",
       "    <tr>\n",
       "      <th>22</th>\n",
       "      <td>[if, all, of, the, internet, went, out, people...</td>\n",
       "      <td>1.0</td>\n",
       "      <td>SchooshooterTexts</td>\n",
       "    </tr>\n",
       "    <tr>\n",
       "      <th>23</th>\n",
       "      <td>[id, go, back, in, tears in my eyes, and, stop...</td>\n",
       "      <td>1.0</td>\n",
       "      <td>SchooshooterTexts</td>\n",
       "    </tr>\n",
       "    <tr>\n",
       "      <th>24</th>\n",
       "      <td>[dropping, out, of, high, school, in, order, t...</td>\n",
       "      <td>1.0</td>\n",
       "      <td>SchooshooterTexts</td>\n",
       "    </tr>\n",
       "  </tbody>\n",
       "</table>\n",
       "</div>"
      ],
      "text/plain": [
       "                                                 Text  Target  \\\n",
       "0   [mommy, said, not, to, talk, to, strangers, bu...     1.0   \n",
       "1   [1, i, was, immune, to, getting, hurt, killed,...     1.0   \n",
       "2   [i, mean, terrorist, attacks, happen, all, the...     1.0   \n",
       "3   [as, a, god, it, would, be, my, responsibility...     1.0   \n",
       "4   [i, am, going, to, grab, a, knife, and, shove,...     1.0   \n",
       "5   [i, will, rape, your, hot, lovey, sister, and,...     1.0   \n",
       "6                     [iwillneverletyouforgetaboutme]     1.0   \n",
       "7   [rule, 11, be, nice, to, nerds, chances, are, ...     1.0   \n",
       "8   [2005, age, 9, i, was, playing, sm64ds, when, ...     1.0   \n",
       "9   [look, guys, i, just, smoked, an, entire, 500,...     1.0   \n",
       "10  [dont, play, wow, it, turned, my, brother, int...     1.0   \n",
       "11  [i, support, interesting, people, and, i, hope...     1.0   \n",
       "12  [the, shortest, i, can, describe, trolls, trol...     1.0   \n",
       "13  [i, would, kill, tidus, and, the, methods, of,...     1.0   \n",
       "14  [jack, a, gun, and, shoot, myself, in, the, head]     2.0   \n",
       "15  [every, personality, disorder, test, i, take, ...     1.0   \n",
       "16  [hey, im, eldigato, in, short, i, am, a, psych...     1.0   \n",
       "17  [i, would, cut, as, many, veins, in, his, neck...     1.0   \n",
       "18  [my, guilty, pleasure, is, probably, dmt, but,...     1.0   \n",
       "19  [my, dream, job, would, have, to, involve, syn...     1.0   \n",
       "20  [i, will, be, living, in, a, basement, pretty,...     1.0   \n",
       "21  [i, played, this, game, while, on, marijuana, ...     1.0   \n",
       "22  [if, all, of, the, internet, went, out, people...     1.0   \n",
       "23  [id, go, back, in, tears in my eyes, and, stop...     1.0   \n",
       "24  [dropping, out, of, high, school, in, order, t...     1.0   \n",
       "\n",
       "               Source  \n",
       "0   SchooshooterTexts  \n",
       "1   SchooshooterTexts  \n",
       "2   SchooshooterTexts  \n",
       "3   SchooshooterTexts  \n",
       "4   SchooshooterTexts  \n",
       "5   SchooshooterTexts  \n",
       "6   SchooshooterTexts  \n",
       "7   SchooshooterTexts  \n",
       "8   SchooshooterTexts  \n",
       "9   SchooshooterTexts  \n",
       "10  SchooshooterTexts  \n",
       "11  SchooshooterTexts  \n",
       "12  SchooshooterTexts  \n",
       "13  SchooshooterTexts  \n",
       "14  SchooshooterTexts  \n",
       "15  SchooshooterTexts  \n",
       "16  SchooshooterTexts  \n",
       "17  SchooshooterTexts  \n",
       "18  SchooshooterTexts  \n",
       "19  SchooshooterTexts  \n",
       "20  SchooshooterTexts  \n",
       "21  SchooshooterTexts  \n",
       "22  SchooshooterTexts  \n",
       "23  SchooshooterTexts  \n",
       "24  SchooshooterTexts  "
      ]
     },
     "execution_count": 42,
     "metadata": {},
     "output_type": "execute_result"
    }
   ],
   "source": [
    "abbreviation_dict = {\n",
    "    \"u\": \"you\", \"ur\": \"your\", \"lol\": \"laughing out loud\", \"lmao\": \"laughing my ass off\", \"rofl\": \"rolling on the floor laughing\", \"brb\": \"be right back\", \"idk\": \"i don't know\",\n",
    "    \"tbh\": \"to be honest\", \"smh\": \"shaking my head\", \"wtf\": \"what the fuck\", \"omg\": \"oh my god\", \"thx\": \"thank you\", \"ty\": \"thank you\", \"np\": \"no problem\",\n",
    "    \"yw\": \"you're welcome\", \"fyi\": \"for your information\", \"b4\": \"before\", \"nvm\": \"never mind\", \"gtg\": \"got to go\", \"ttyl\": \"talk to you later\", \"gr8\": \"great\",\n",
    "    \"bff\": \"best friends forever\", \"cya\": \"see you\", \"imo\": \"in my opinion\", \"imho\": \"in my humble opinion\", \"jk\": \"just kidding\", \"afk\": \"away from keyboard\", \"irl\": \"in real life\",\n",
    "    \"gg\": \"good game\", \"wp\": \"well played\", \"btw\": \"by the way\", \"dm\": \"direct message\", \"rn\": \"right now\", \"afaik\": \"as far as i know\", \"asap\": \"as soon as possible\",\n",
    "    \"fml\": \"fuck my life\", \"ikr\": \"i know right\", \"ily\": \"i love you\", \"lmk\": \"let me know\", \"ppl\": \"people\", \"bc\": \"because\", \"cuz\": \"because\",\n",
    "    \"tho\": \"though\", \"y\": \"why\", \"r\": \"are\", \"k\": \"okay\", \"n\": \"and\", \"w/\": \"with\", \"w/o\": \"without\",\n",
    "    \"stfu\": \"shut the fuck up\", \"hmu\": \"hit me up\", \"g2g\": \"got to go\", \"wyd\": \"what are you doing\", \"wym\": \"what you mean\", \"wbu\": \"what about you\", \"wb\": \"welcome back\",\n",
    "    \"ofc\": \"of course\", \"pls\": \"please\", \"plz\": \"please\", \"bday\": \"birthday\", \"fav\": \"favorite\", \"msg\": \"message\", \"fb\": \"facebook\",\n",
    "    \"yt\": \"youtube\", \"ig\": \"instagram\", \"snap\": \"snapchat\", \"twt\": \"twitter\", \"ftw\": \"for the win\", \"icymi\": \"in case you missed it\", \"mfw\": \"my face when\",\n",
    "    \"tfw\": \"that feeling when\", \"ftl\": \"for the loss\", \"roflmao\": \"rolling on the floor laughing my ass off\", \"atk\": \"at the keyboard\", \"atm\": \"at the moment\", \"a3\": \"anytime anywhere anyplace\", \"bak\": \"back at keyboard\",\n",
    "    \"bbl\": \"be back later\", \"bbs\": \"be back soon\", \"bfn\": \"bye for now\", \"b4n\": \"bye for now\", \"brt\": \"be right there\", \"cu\": \"see you\", \"cul8r\": \"see you later\",\n",
    "    \"faq\": \"frequently asked questions\", \"fc\": \"fingers crossed\", \"fwiw\": \"for what it's worth\", \"gal\": \"get a life\", \"gn\": \"good night\", \"gmta\": \"great minds think alike\", \"g9\": \"genius\",\n",
    "    \"ic\": \"i see\", \"ilu\": \"i love you\", \"iow\": \"in other words\", \"kiss\": \"keep it simple stupid\", \"ldr\": \"long distance relationship\", \"ltns\": \"long time no see\", \"l8r\": \"later\",\n",
    "    \"mte\": \"my thoughts exactly\", \"m8\": \"mate\", \"nrn\": \"no reply necessary\", \"oic\": \"oh i see\", \"pita\": \"pain in the ass\", \"prt\": \"party\", \"prw\": \"parents are watching\",\n",
    "    \"qpsa?\": \"que pasa\", \"roflol\": \"rolling on the floor laughing out loud\", \"rotflmao\": \"rolling on the floor laughing my ass off\", \"sk8\": \"skate\", \"stats\": \"your sex and age\", \"asl\": \"age sex location\", \"ttfn\": \"ta ta for now\",\n",
    "    \"u2\": \"you too\", \"u4e\": \"yours forever\", \"wtg\": \"way to go\", \"wuf\": \"where are you from\", \"w8\": \"wait\", \"7k\": \"sick laughter\", \"tntl\": \"trying not to laugh\",\n",
    "    \"idu\": \"i don't understand\", \"imu\": \"i miss you\", \"adih\": \"another day in hell\", \"zzz\": \"sleeping tired\", \"wywh\": \"wish you were here\", \"time\": \"tears in my eyes\", \"bae\": \"before anyone else\",\n",
    "    \"fimh\": \"forever in my heart\", \"bsaaw\": \"big smile and a wink\", \"bwl\": \"bursting with laughter\", \"csl\": \"can't stop laughing\", \"std\": \"sexually transmitted disease\", \"og\" : \"original\"\n",
    "}\n",
    "\n",
    "def expand_abbreviations(tokenized_text):\n",
    "    return [abbreviation_dict.get(word, word) for word in tokenized_text]\n",
    "\n",
    "df['Text'] = df['Text'].apply(expand_abbreviations)\n",
    "\n",
    "df.head(25)"
   ]
  },
  {
   "cell_type": "markdown",
   "id": "739c98ee",
   "metadata": {},
   "source": [
    "## Expanding contractions"
   ]
  },
  {
   "cell_type": "code",
   "execution_count": 43,
   "id": "c9ceeb14",
   "metadata": {},
   "outputs": [
    {
     "data": {
      "application/vnd.microsoft.datawrangler.viewer.v0+json": {
       "columns": [
        {
         "name": "index",
         "rawType": "int64",
         "type": "integer"
        },
        {
         "name": "Text",
         "rawType": "object",
         "type": "unknown"
        },
        {
         "name": "Target",
         "rawType": "float64",
         "type": "float"
        },
        {
         "name": "Source",
         "rawType": "object",
         "type": "string"
        }
       ],
       "ref": "184e95a4-7603-4e0c-ae60-ca22ad372109",
       "rows": [
        [
         "0",
         "['mommy', 'said', 'not', 'to', 'talk', 'to', 'strangers', 'but', 'she is', 'drunk', 'all', 'the', 'tears in my eyes', 'why', 'should', 'i', 'listen', 'to', 'her', 'advice']",
         "1.0",
         "SchooshooterTexts"
        ],
        [
         "1",
         "['1', 'i', 'was', 'immune', 'to', 'getting', 'hurt', 'killed', 'infected', 'with', 'a', 'sexually transmitted disease', '2', 'i', 'had', '43', 'million', 'worshippers', '3', 'i', 'had', 'a', 'life']",
         "1.0",
         "SchooshooterTexts"
        ],
        [
         "2",
         "['i', 'mean', 'terrorist', 'attacks', 'happen', 'all', 'the', 'tears in my eyes', 'sure', 'thousands', 'died', 'but', 'millions', 'have', 'died', 'from', 'george', 'honestly', 'its', 'been', 'almost', '10', 'years', 'and', 'idiots', 'are', 'still', 'whining', '911', 'did', 'make', 'a', 'lot', 'of', 'idiot', 'patriot', 'extremists', 'in', 'america', 'you', 'have', 'to', 'give', '911', 'that', 'i', 'wish', 'another', 'terrorist', 'plane', 'attack', 'would', 'happen', 'so', 'that', 'i', 'could', 'go', 'back', 'to', 'europe', 'and', 'back', 'for', '3', 'cents', 'ahh', 'i', 'remember', 'i', 'was', 'a', 'little', 'kindergartener', 'could', 'of', 'been', '1st', 'grader', 'but', 'i', 'was', 'too', 'young']",
         "1.0",
         "SchooshooterTexts"
        ],
        [
         "3",
         "['as', 'a', 'god', 'it', 'would', 'be', 'my', 'responsibility', 'not', 'to', 'destroy', 'the', 'universal', 'balance', 'thus', 'i', 'am', 'unable', 'to', 'just', 'appear', 'instantly', 'i', 'would', 'need', 'to', 'convert', 'them', 'to', 'being', 'open', 'minded', 'about', 'other', 'gods', 'and', 'then', 'i', 'will', 'appear', 'i', 'will', 'give', 'out', 'my', '3', 'main', 'rules', '1', 'do', 'not', 'harm', 'any', 'living', 'thing', 'if', 'you', 'break', 'this', 'rule', 'i', 'will', 'break', 'your', 'skull', '2', 'do', 'not', 'act', 'in', 'violence', 'of', 'any', 'form', '3', 'do not', 'be', 'a', 'stuffhead', 'i', 'would', 'try', 'to', 'act', 'with', 'any', 'other', 'gods', 'out', 'there', 'such', 'as', 'if', 'gaia', 'was', 'real', 'i', 'would', 'let', 'her', 'take', 'care', 'of', 'her', 'creations', 'and', 'her', 'earth', 'i', 'would', 'let', 'zeus', 'and', 'poseidon', 'make', 'the', 'hurricanes', 'and', 'earthquakes', 'and', 'i', 'would', 'let', 'hades', 'rule', 'the', 'energy', 'of', 'darkness', 'i', 'would', 'be', 'sure', 'to', 'educate', 'them', 'on', 'solar', 'wind', 'water', 'powered', 'technology']",
         "1.0",
         "SchooshooterTexts"
        ],
        [
         "4",
         "['i', 'am', 'going', 'to', 'grab', 'a', 'knife', 'and', 'shove', 'it', 'in', 'the', 'neck', 'of', 'my', 'mother', 'i', 'will', 'then', 'drag', 'her', 'dead', 'body', 'by', 'the', 'trash', 'can', 'drain', 'her', 'blood', 'and', 'then', 'finally', 'cut', 'her', 'and', 'grind', 'her', 'up', 'into', 'little', 'pieces', 'i', 'will', 'eat', 'some', 'of', 'those', 'pieces', 'and', 'then', 'i', 'will', 'probably', 'barf', 'i', 'will', 'throw', 'her', 'body', 'away', 'in', 'the', 'trash', 'can', 'i', 'will', 'then', 'go', 'slaughter', 'sacred', 'animals', 'to', 'appease', 'the', 'gods', 'hail', 'satan', 'i', 'am', 'agnostic', 'not', 'satanist']",
         "1.0",
         "SchooshooterTexts"
        ],
        [
         "5",
         "['i', 'will', 'rape', 'your', 'hot', 'lovey', 'sister', 'and', 'then', 'strangle', 'her', 'with', 'her', 'own', 'hair', 'then', 'i', 'will', 'sneakinto', 'your', 'parents', 'room', 'and', 'slaughter', 'them', 'i', 'will', 'slowly', 'walk', 'to', 'your', 'room', 'holding', 'my', 'blood', 'thirsty', 'knife', 'in', 'my', 'right', 'hand', 'i', 'walk', 'into', 'your', 'room', 'when', 'i', 'see', 'that', 'you are', 'making', 'out', 'with', 'yourself', 'i', 'will', 'grab', 'you', 'tie', 'you', 'to', 'your', 'bed', 'with', 'your', 'own', 'hair', 'and', 'super', 'glue', 'it', 'shut', 'my', 'blood', 'thirsty', 'crave', 'is', 'not', 'over', 'i', 'finally', 'rip', 'your', 'hair', 'out', 'and', 'you', 'experience', 'excruciating', 'pain', 'so', 'painful', 'that', 'you', 'scream', 'and', 'scream', 'but', 'it', 'cannot', 'stop', 'i', 'ripped', 'out', 'the', 'skin', 'of', 'your', 'head', 'blood', 'is', 'drooping', 'everywhere', 'finally', 'i', 'pluck', 'your', 'eyes', 'right', 'out', 'with', 'my', 'knife', 'and', 'throw', 'them', 'down', 'i', 'then', 'cut', 'your', 'neck', 'off', 'and', 'the', 'arms', 'and', 'legs', 'only', 'the', 'torso', 'remains', 'i', 'cut', 'off', 'the', 'genitals', 'and', 'i', 'stab', 'the', 'stomach', 'repeatedly', 'i', 'finally', 'finish', 'off', 'by', 'ripping', 'out', 'your', 'heart', 'and', 'consuming', 'it']",
         "1.0",
         "SchooshooterTexts"
        ],
        [
         "6",
         "['iwillneverletyouforgetaboutme']",
         "1.0",
         "SchooshooterTexts"
        ],
        [
         "7",
         "['rule', '11', 'be', 'nice', 'to', 'nerds', 'chances', 'are', 'you will', 'end', 'up', 'working', 'for', 'one', 'start', 'being', 'nice', 'to', 'me', 'or', 'i', 'will', 'not', 'hire', 'you', 'all', 'all', 'of', 'those', 'idiots', 'who', 'have', 'messed', 'up', 'my', 'life', 'in', 'the', 'past', 'i', 'will', 'hire', 'them', 'for', 'a', 'day', 'and', 'then', 'fire', 'them']",
         "1.0",
         "SchooshooterTexts"
        ],
        [
         "8",
         "['2005', 'age', '9', 'i', 'was', 'playing', 'sm64ds', 'when', 'i', 'lost', 'the', 'level', 'i', 'went', 'agk', 'on', 'my', 'ds', 'threw', 'it', 'extremely', 'hard', 'at', 'a', 'wall', 'and', 'broke', 'it', '2005', 'age', '9', 'after', 'recieving', 'my', 'ds', 'again', 'a', 'day', 'later', 'i', 'got', 'pissed', 'again', 'and', 'ripped', 'the', 'upper', 'half', 'of', 'the', 'ds', 'off', '2005', 'age', '9', 'i', 'got', 'my', 'ds', 'again', 'but', 'when', 'playing', 'pokemon', 'lost', 'and', 'threw', 'it', 'right', 'at', 'the', 'wall', 'again', 'the', '2005', 'ones', 'are', 'true', 'i', 'had', 'a', 'very', 'bad', 'anger', 'problem', '2009', 'age', '13', 'after', 'getting', 'another', 'ds', 'threw', 'it', 'right', 'at', 'the', 'tv', 'and', 'said', 'how is', 'that']",
         "1.0",
         "SchooshooterTexts"
        ],
        [
         "9",
         "['look', 'guys', 'i', 'just', 'smoked', 'an', 'entire', '500', 'worth', 'bag', 'of', 'original', 'kush', 'so', 'its', 'hard', 'to', 'hate', 'you', 'i', 'love', 'furries', 'gays', 'jews', 'al', 'queda', 'and', 'america', '●irl●', 'teenage', 'kid', 'with', 'no', 'friends', 'who', 'hates', 'everything', 'and', 'wants', 'to', 'shoot', 'up', 'his', 'school', 'but', 'is', 'too', 'week', 'to', 'fire', 'a', 'gun', 'and', 'my', 'parents', 'are', 'annyoing', 'but', 'will', 'financially', 'supply', 'me', 'for', 'the', 'next', '30', 'years', 'i', 'love', 'to', 'hate', 'and', 'fart', 'a', 'lot', 'making', 'my', 'room', 'smell', 'remnicsant', 'of', 'cheese', 'and', 'boiled', 'eggs', 'all', 'trolls', 'except', 'me']",
         "1.0",
         "SchooshooterTexts"
        ],
        [
         "10",
         "['do not', 'play', 'wow', 'it', 'turned', 'my', 'brother', 'into', 'a', 'basement', 'dweller', 'and', 'now', 'hes', 'doing', 'weed', 'hes', '24', 'works', 'at', 'a', 'convenience', 'store', 'and', 'dropped', 'out', 'of', 'high', 'school', 'mmos', 'are', 'just', 'the', 'same', 'as', 'heroin', 'and', 'will', 'destroy', 'not', 'only', 'your', 'body', 'but', 'your', 'mind']",
         "1.0",
         "SchooshooterTexts"
        ],
        [
         "11",
         "['i', 'support', 'interesting', 'people', 'and', 'i', 'hope', 'to', 'be', 'internet', 'famous', 'one', 'day', 'in', 'short', 'i am', 'a', 'hypocritical', 'weeaboo', 'in', 'denial', 'troll', 'who', 'has', 'been', 'cursed', 'into', 'an', 'endless', 'state', 'of', 'constant', 'boredom', 'which', 'has', 'driven', 'me', 'to', 'depression', 'and', 'anger']",
         "1.0",
         "SchooshooterTexts"
        ],
        [
         "12",
         "['the', 'shortest', 'i', 'can', 'describe', 'trolls', 'trolls', 'are', 'basically', 'young', 'teenagers', 'who', 'bully', 'online', 'to', 'get', 'a', 'raise', 'because', 'they', 'have', 'a', 'personality', 'disorder', 'and', 'want', 'to', 'cover', 'up', 'the', 'hole', 'that', 'real', 'bullies', 'left', 'in', 'their', 'emotion']",
         "1.0",
         "SchooshooterTexts"
        ],
        [
         "13",
         "['i', 'would', 'kill', 'tidus', 'and', 'the', 'methods', 'of', 'doing', 'this', 'may', 'offend', 'many', 'of', 'you', 'i', 'would', 'start', 'off', 'by', 'crusifying', 'him', 'and', 'leaving', 'him', 'without', 'food', 'for', 'a', 'total', 'of', 'three', 'days', 'afterwards', 'i', 'would', 'force', 'him', 'to', 'eat', 'rats', 'i', 'would', 'apply', '1', '000', 'small', 'cuts', 'throughout', 'his', 'body', 'and', 'dip', 'him', 'in', 'a', 'tub', 'of', 'hydrogen', 'peroxide', 'afterwards', 'i', 'would', 'recut', 'the', 'wounds', 'and', 'apply', 'a', 'scorpions', 'sting', 'to', '30', 'of', 'them', 'over', 'a', 'tears in my eyes', 'period', 'of', '2', 'hours', 'after', 'which', 'i', 'would', 'nurse', 'his', 'health', 'a', 'tad', 'next', 'i', 'would', 'rip', 'his', 'nails', 'out', 'and', 'pour', 'bleach', 'and', 'ammonia', 'on', 'them', 'while', 'making', 'sure', 'he', 'does not', 'inhale', 'any', 'i', 'would', 'shoot', 'him', 'in', 'his', 'knee', 'with', 'a', 'crossbow', 'and', 'since', 'i am', 'an', 'honorable', 'man', 'i', 'would', 'make', 'this', 'the', 'last', 'of', 'his', 'punishment', 'a', 'quick', 'sword', 'blow', 'to', 'his', 'chest', 'and', 'a', 'large', 'incision', 'to', 'his', 'belly', 'would', 'do', 'the', 'trick', 'i', 'would', 'leave', 'him', 'in', 'pain', 'for', 'the', 'remainder', 'of', 'his', 'very', 'short', 'life', 'to', 'allow', 'him', 'to', 'reflect', 'on', 'his', 'personality']",
         "1.0",
         "SchooshooterTexts"
        ],
        [
         "14",
         "['jack', 'a', 'gun', 'and', 'shoot', 'myself', 'in', 'the', 'head']",
         "2.0",
         "SchooshooterTexts"
        ],
        [
         "15",
         "['every', 'personality', 'disorder', 'test', 'i', 'take', 'i', 'usually', 'end', 'up', 'getting', 'over', 'half', 'of', 'them', 'at', 'a', 'severe', 'level', 'and', 'i am', 'being', 'honest', 'most', 'of', 'the', 'tears in my eyes']",
         "1.0",
         "SchooshooterTexts"
        ],
        [
         "16",
         "['hey', 'i am', 'eldigato', 'in', 'short', 'i', 'am', 'a', 'psychopath', 'dedicated', 'to', 'the', 'art', 'of', 'destruction', 'in', 'my', 'years', 'of', 'minecraft', 'i', 'have', 'always', 'aimed', 'to', 'make', 'interesting', 'stories', 'i', 'have', 'always', 'done', 'my', 'deeds', 'solo', 'and', 'for', 'that', 'reason', 'they', 'never', 'reached', 'the', 'peak', 'i', 'had', 'hoped', 'for', 'that', 'is', 'why', 'i', 'have', 'registered', 'here', 'today', 'in', 'hopes', 'that', 'i', 'can', 'work', 'with', 'people', 'with', 'similar', 'intentions', 'and', 'because', 'many', 'great', 'calamities', 'resume', 'griefing', 'i', 'like', 'to', 'take', 'my', 'tears in my eyes', 'in', 'order', 'to', 'because', 'the', 'most', 'damage', 'but', 'i', 'have', 'attacked', 'many', 'servers', 'with', 'a', 'hit', 'and', 'run', 'style', 'of', 'disruption', 'before', 'and', 'caused', 'massive', 'amounts', 'of', 'damage', 'i', 'would', 'like', 'to', 'say', 'that', 'my', 'best', 'griefing', 'attack', 'was', 'the', 'scattered', 'space', 'incident', 'although', 'the', 'damage', 'was not', 'intense', 'compared', 'to', 'most', 'of', 'my', 'attacks', 'on', 'servers', 'i', 'stirred', 'up', 'plenty', 'of', 'drama', 'in', 'their', 'community', 'cooperation', 'i', 'would', 'like', 'to', 'think', 'myself', 'as', 'that', 'of', 'a', 'rogue', 'in', 'many', 'situations', 'but', 'i', 'have', 'shown', 'to', 'be', 'able', 'to', 'work', 'with', 'others', 'considering', 'our', 'personalities', 'i', 'do not', 'think', 'i', 'would', 'have', 'any', 'troubles', 'with', 'group', 'raiding', 'admins', 'i', 'can', 'bullshit', 'my', 'way', 'out', 'of', 'things', 'but', 'i', 'am', 'a', 'honest', 'man', 'if', 'i', 'focus', 'i', 'can', 'have', 'a', 'silver', 'tounge', 'that', 'avoids', 'truthfulness', 'i', 'hope', 'that', 'this', 'information', 'is', 'enough', 'to', 'provide', 'and', 'i', 'hope', 'in', 'the', 'future', 'i', 'can', 'infest', 'the', 'world', 'one', 'day']",
         "1.0",
         "SchooshooterTexts"
        ],
        [
         "17",
         "['i', 'would', 'cut', 'as', 'many', 'veins', 'in', 'his', 'neck', 'as', 'i', 'could', 'avoiding', 'his', 'jugular']",
         "1.0",
         "SchooshooterTexts"
        ],
        [
         "18",
         "['my', 'guilty', 'pleasure', 'is', 'probably', 'dmt', 'but', 'its', 'ok', 'since', 'its', 'amazingly', 'god']",
         "1.0",
         "SchooshooterTexts"
        ],
        [
         "19",
         "['my', 'dream', 'job', 'would', 'have', 'to', 'involve', 'synthesizing', 'pure', 'lsd', 'legally', 'and', 'selling', 'it', 'to', 'the', 'right', 'kind', 'of', 'people', 'who', 'would not', 'abuse', 'it']",
         "1.0",
         "SchooshooterTexts"
        ],
        [
         "20",
         "['i', 'will', 'be', 'living', 'in', 'a', 'basement', 'pretty', 'soon', 'once', 'i am', 'finished', 'moving', 'in', 'with', 'my', 'bro']",
         "1.0",
         "SchooshooterTexts"
        ],
        [
         "21",
         "['i', 'played', 'this', 'game', 'while', 'on', 'marijuana', 'lsd', 'salvia', 'and', 'shrooms', 'i', 'can', 'honestly', 'say', 'that', 'once', 'you are', 'experienced', 'with', 'the', 'types', 'you', 'can', 'handle', 'it', 'as', 'long', 'as', 'you', 'have', 'a', 'sitter', 'to', 'help', 'calm', 'you', 'down', 'when', 'creepy', 'stuff', 'happens']",
         "1.0",
         "SchooshooterTexts"
        ],
        [
         "22",
         "['if', 'all', 'of', 'the', 'internet', 'went', 'out', 'people', 'would', 'go', 'psycho', 'and', 'kill', 'eachother', 'and', 'hang', 'mutilated', 'corpses', 'from', 'their', 'towns', 'bridges']",
         "1.0",
         "SchooshooterTexts"
        ],
        [
         "23",
         "['id', 'go', 'back', 'in', 'tears in my eyes', 'and', 'stop', 'a', 'lot', 'of', 'the', 'school', 'shootings', 'such', 'as', 'columbine', 'or', 'v', 'tech', 'by', 'being', 'a', 'positive', 'influence', 'spreading', 'hope', 'in', 'the', 'minds', 'of', 'the', 'shooters', 'and', 'keep', 'them', 'on', 'a', 'path', 'of', 'enlightenment', 'or', 'more', 'realistically', 'id', 'clean', 'up', 'trash', 'around', 'my', 'town', 'which', 'i', 'already', 'do', 'and', 'volunteer', 'at', 'places', 'oh', 'and', 'befriend', 'the', 'lonely', 'or', 'friendless', 'kids', 'at', 'school']",
         "1.0",
         "SchooshooterTexts"
        ],
        [
         "24",
         "['dropping', 'out', 'of', 'high', 'school', 'in', 'order', 'to', 'just', 'study', 'a', 'ged', 'book', 'my', 'sci', 'teacher', 'gave', 'me', 'and', 'take', 'the', 'test', 'when', 'i', 'feel', 'ready', 'and', 'then', 'move', 'onto', 'college', 'while', 'working', 'on', 'fixing', 'myself', 'and', 'learning', 'how', 'to', 'be', 'happy', 'for', 'once', 'and', 'overcoming', 'a', 'tobacco', 'addiction']",
         "1.0",
         "SchooshooterTexts"
        ]
       ],
       "shape": {
        "columns": 3,
        "rows": 25
       }
      },
      "text/html": [
       "<div>\n",
       "<style scoped>\n",
       "    .dataframe tbody tr th:only-of-type {\n",
       "        vertical-align: middle;\n",
       "    }\n",
       "\n",
       "    .dataframe tbody tr th {\n",
       "        vertical-align: top;\n",
       "    }\n",
       "\n",
       "    .dataframe thead th {\n",
       "        text-align: right;\n",
       "    }\n",
       "</style>\n",
       "<table border=\"1\" class=\"dataframe\">\n",
       "  <thead>\n",
       "    <tr style=\"text-align: right;\">\n",
       "      <th></th>\n",
       "      <th>Text</th>\n",
       "      <th>Target</th>\n",
       "      <th>Source</th>\n",
       "    </tr>\n",
       "  </thead>\n",
       "  <tbody>\n",
       "    <tr>\n",
       "      <th>0</th>\n",
       "      <td>[mommy, said, not, to, talk, to, strangers, bu...</td>\n",
       "      <td>1.0</td>\n",
       "      <td>SchooshooterTexts</td>\n",
       "    </tr>\n",
       "    <tr>\n",
       "      <th>1</th>\n",
       "      <td>[1, i, was, immune, to, getting, hurt, killed,...</td>\n",
       "      <td>1.0</td>\n",
       "      <td>SchooshooterTexts</td>\n",
       "    </tr>\n",
       "    <tr>\n",
       "      <th>2</th>\n",
       "      <td>[i, mean, terrorist, attacks, happen, all, the...</td>\n",
       "      <td>1.0</td>\n",
       "      <td>SchooshooterTexts</td>\n",
       "    </tr>\n",
       "    <tr>\n",
       "      <th>3</th>\n",
       "      <td>[as, a, god, it, would, be, my, responsibility...</td>\n",
       "      <td>1.0</td>\n",
       "      <td>SchooshooterTexts</td>\n",
       "    </tr>\n",
       "    <tr>\n",
       "      <th>4</th>\n",
       "      <td>[i, am, going, to, grab, a, knife, and, shove,...</td>\n",
       "      <td>1.0</td>\n",
       "      <td>SchooshooterTexts</td>\n",
       "    </tr>\n",
       "    <tr>\n",
       "      <th>5</th>\n",
       "      <td>[i, will, rape, your, hot, lovey, sister, and,...</td>\n",
       "      <td>1.0</td>\n",
       "      <td>SchooshooterTexts</td>\n",
       "    </tr>\n",
       "    <tr>\n",
       "      <th>6</th>\n",
       "      <td>[iwillneverletyouforgetaboutme]</td>\n",
       "      <td>1.0</td>\n",
       "      <td>SchooshooterTexts</td>\n",
       "    </tr>\n",
       "    <tr>\n",
       "      <th>7</th>\n",
       "      <td>[rule, 11, be, nice, to, nerds, chances, are, ...</td>\n",
       "      <td>1.0</td>\n",
       "      <td>SchooshooterTexts</td>\n",
       "    </tr>\n",
       "    <tr>\n",
       "      <th>8</th>\n",
       "      <td>[2005, age, 9, i, was, playing, sm64ds, when, ...</td>\n",
       "      <td>1.0</td>\n",
       "      <td>SchooshooterTexts</td>\n",
       "    </tr>\n",
       "    <tr>\n",
       "      <th>9</th>\n",
       "      <td>[look, guys, i, just, smoked, an, entire, 500,...</td>\n",
       "      <td>1.0</td>\n",
       "      <td>SchooshooterTexts</td>\n",
       "    </tr>\n",
       "    <tr>\n",
       "      <th>10</th>\n",
       "      <td>[do not, play, wow, it, turned, my, brother, i...</td>\n",
       "      <td>1.0</td>\n",
       "      <td>SchooshooterTexts</td>\n",
       "    </tr>\n",
       "    <tr>\n",
       "      <th>11</th>\n",
       "      <td>[i, support, interesting, people, and, i, hope...</td>\n",
       "      <td>1.0</td>\n",
       "      <td>SchooshooterTexts</td>\n",
       "    </tr>\n",
       "    <tr>\n",
       "      <th>12</th>\n",
       "      <td>[the, shortest, i, can, describe, trolls, trol...</td>\n",
       "      <td>1.0</td>\n",
       "      <td>SchooshooterTexts</td>\n",
       "    </tr>\n",
       "    <tr>\n",
       "      <th>13</th>\n",
       "      <td>[i, would, kill, tidus, and, the, methods, of,...</td>\n",
       "      <td>1.0</td>\n",
       "      <td>SchooshooterTexts</td>\n",
       "    </tr>\n",
       "    <tr>\n",
       "      <th>14</th>\n",
       "      <td>[jack, a, gun, and, shoot, myself, in, the, head]</td>\n",
       "      <td>2.0</td>\n",
       "      <td>SchooshooterTexts</td>\n",
       "    </tr>\n",
       "    <tr>\n",
       "      <th>15</th>\n",
       "      <td>[every, personality, disorder, test, i, take, ...</td>\n",
       "      <td>1.0</td>\n",
       "      <td>SchooshooterTexts</td>\n",
       "    </tr>\n",
       "    <tr>\n",
       "      <th>16</th>\n",
       "      <td>[hey, i am, eldigato, in, short, i, am, a, psy...</td>\n",
       "      <td>1.0</td>\n",
       "      <td>SchooshooterTexts</td>\n",
       "    </tr>\n",
       "    <tr>\n",
       "      <th>17</th>\n",
       "      <td>[i, would, cut, as, many, veins, in, his, neck...</td>\n",
       "      <td>1.0</td>\n",
       "      <td>SchooshooterTexts</td>\n",
       "    </tr>\n",
       "    <tr>\n",
       "      <th>18</th>\n",
       "      <td>[my, guilty, pleasure, is, probably, dmt, but,...</td>\n",
       "      <td>1.0</td>\n",
       "      <td>SchooshooterTexts</td>\n",
       "    </tr>\n",
       "    <tr>\n",
       "      <th>19</th>\n",
       "      <td>[my, dream, job, would, have, to, involve, syn...</td>\n",
       "      <td>1.0</td>\n",
       "      <td>SchooshooterTexts</td>\n",
       "    </tr>\n",
       "    <tr>\n",
       "      <th>20</th>\n",
       "      <td>[i, will, be, living, in, a, basement, pretty,...</td>\n",
       "      <td>1.0</td>\n",
       "      <td>SchooshooterTexts</td>\n",
       "    </tr>\n",
       "    <tr>\n",
       "      <th>21</th>\n",
       "      <td>[i, played, this, game, while, on, marijuana, ...</td>\n",
       "      <td>1.0</td>\n",
       "      <td>SchooshooterTexts</td>\n",
       "    </tr>\n",
       "    <tr>\n",
       "      <th>22</th>\n",
       "      <td>[if, all, of, the, internet, went, out, people...</td>\n",
       "      <td>1.0</td>\n",
       "      <td>SchooshooterTexts</td>\n",
       "    </tr>\n",
       "    <tr>\n",
       "      <th>23</th>\n",
       "      <td>[id, go, back, in, tears in my eyes, and, stop...</td>\n",
       "      <td>1.0</td>\n",
       "      <td>SchooshooterTexts</td>\n",
       "    </tr>\n",
       "    <tr>\n",
       "      <th>24</th>\n",
       "      <td>[dropping, out, of, high, school, in, order, t...</td>\n",
       "      <td>1.0</td>\n",
       "      <td>SchooshooterTexts</td>\n",
       "    </tr>\n",
       "  </tbody>\n",
       "</table>\n",
       "</div>"
      ],
      "text/plain": [
       "                                                 Text  Target  \\\n",
       "0   [mommy, said, not, to, talk, to, strangers, bu...     1.0   \n",
       "1   [1, i, was, immune, to, getting, hurt, killed,...     1.0   \n",
       "2   [i, mean, terrorist, attacks, happen, all, the...     1.0   \n",
       "3   [as, a, god, it, would, be, my, responsibility...     1.0   \n",
       "4   [i, am, going, to, grab, a, knife, and, shove,...     1.0   \n",
       "5   [i, will, rape, your, hot, lovey, sister, and,...     1.0   \n",
       "6                     [iwillneverletyouforgetaboutme]     1.0   \n",
       "7   [rule, 11, be, nice, to, nerds, chances, are, ...     1.0   \n",
       "8   [2005, age, 9, i, was, playing, sm64ds, when, ...     1.0   \n",
       "9   [look, guys, i, just, smoked, an, entire, 500,...     1.0   \n",
       "10  [do not, play, wow, it, turned, my, brother, i...     1.0   \n",
       "11  [i, support, interesting, people, and, i, hope...     1.0   \n",
       "12  [the, shortest, i, can, describe, trolls, trol...     1.0   \n",
       "13  [i, would, kill, tidus, and, the, methods, of,...     1.0   \n",
       "14  [jack, a, gun, and, shoot, myself, in, the, head]     2.0   \n",
       "15  [every, personality, disorder, test, i, take, ...     1.0   \n",
       "16  [hey, i am, eldigato, in, short, i, am, a, psy...     1.0   \n",
       "17  [i, would, cut, as, many, veins, in, his, neck...     1.0   \n",
       "18  [my, guilty, pleasure, is, probably, dmt, but,...     1.0   \n",
       "19  [my, dream, job, would, have, to, involve, syn...     1.0   \n",
       "20  [i, will, be, living, in, a, basement, pretty,...     1.0   \n",
       "21  [i, played, this, game, while, on, marijuana, ...     1.0   \n",
       "22  [if, all, of, the, internet, went, out, people...     1.0   \n",
       "23  [id, go, back, in, tears in my eyes, and, stop...     1.0   \n",
       "24  [dropping, out, of, high, school, in, order, t...     1.0   \n",
       "\n",
       "               Source  \n",
       "0   SchooshooterTexts  \n",
       "1   SchooshooterTexts  \n",
       "2   SchooshooterTexts  \n",
       "3   SchooshooterTexts  \n",
       "4   SchooshooterTexts  \n",
       "5   SchooshooterTexts  \n",
       "6   SchooshooterTexts  \n",
       "7   SchooshooterTexts  \n",
       "8   SchooshooterTexts  \n",
       "9   SchooshooterTexts  \n",
       "10  SchooshooterTexts  \n",
       "11  SchooshooterTexts  \n",
       "12  SchooshooterTexts  \n",
       "13  SchooshooterTexts  \n",
       "14  SchooshooterTexts  \n",
       "15  SchooshooterTexts  \n",
       "16  SchooshooterTexts  \n",
       "17  SchooshooterTexts  \n",
       "18  SchooshooterTexts  \n",
       "19  SchooshooterTexts  \n",
       "20  SchooshooterTexts  \n",
       "21  SchooshooterTexts  \n",
       "22  SchooshooterTexts  \n",
       "23  SchooshooterTexts  \n",
       "24  SchooshooterTexts  "
      ]
     },
     "execution_count": 43,
     "metadata": {},
     "output_type": "execute_result"
    }
   ],
   "source": [
    "import contractions\n",
    "\n",
    "def expand_contractions_in_tokens(tokens):\n",
    "    expanded = []\n",
    "    for token in tokens:\n",
    "        expanded_token = contractions.fix(token)\n",
    "        expanded.append(expanded_token)\n",
    "    return expanded\n",
    "\n",
    "df['Text'] = df['Text'].apply(expand_contractions_in_tokens)\n",
    "df.head(25)"
   ]
  },
  {
   "cell_type": "markdown",
   "id": "59502e78",
   "metadata": {},
   "source": [
    "## Pos Tagging and Lemmatization"
   ]
  },
  {
   "cell_type": "code",
   "execution_count": 44,
   "id": "43ac17e4",
   "metadata": {},
   "outputs": [
    {
     "name": "stderr",
     "output_type": "stream",
     "text": [
      "[nltk_data] Downloading package averaged_perceptron_tagger to\n",
      "[nltk_data]     C:\\Users\\user\\AppData\\Roaming\\nltk_data...\n",
      "[nltk_data]   Package averaged_perceptron_tagger is already up-to-\n",
      "[nltk_data]       date!\n",
      "[nltk_data] Downloading package wordnet to\n",
      "[nltk_data]     C:\\Users\\user\\AppData\\Roaming\\nltk_data...\n",
      "[nltk_data]   Package wordnet is already up-to-date!\n"
     ]
    },
    {
     "data": {
      "application/vnd.microsoft.datawrangler.viewer.v0+json": {
       "columns": [
        {
         "name": "index",
         "rawType": "int64",
         "type": "integer"
        },
        {
         "name": "Text",
         "rawType": "object",
         "type": "unknown"
        },
        {
         "name": "Target",
         "rawType": "float64",
         "type": "float"
        },
        {
         "name": "Source",
         "rawType": "object",
         "type": "string"
        }
       ],
       "ref": "1ef12bbb-ed2b-493f-af85-a268b65bc9a1",
       "rows": [
        [
         "0",
         "['mommy', 'say', 'not', 'to', 'talk', 'to', 'stranger', 'but', 'she is', 'drunk', 'all', 'the', 'tears in my eyes', 'why', 'should', 'i', 'listen', 'to', 'her', 'advice']",
         "1.0",
         "SchooshooterTexts"
        ],
        [
         "1",
         "['1', 'i', 'be', 'immune', 'to', 'get', 'hurt', 'kill', 'infect', 'with', 'a', 'sexually transmitted disease', '2', 'i', 'have', '43', 'million', 'worshipper', '3', 'i', 'have', 'a', 'life']",
         "1.0",
         "SchooshooterTexts"
        ],
        [
         "2",
         "['i', 'mean', 'terrorist', 'attack', 'happen', 'all', 'the', 'tears in my eyes', 'sure', 'thousand', 'die', 'but', 'million', 'have', 'die', 'from', 'george', 'honestly', 'it', 'be', 'almost', '10', 'year', 'and', 'idiot', 'be', 'still', 'whine', '911', 'do', 'make', 'a', 'lot', 'of', 'idiot', 'patriot', 'extremist', 'in', 'america', 'you', 'have', 'to', 'give', '911', 'that', 'i', 'wish', 'another', 'terrorist', 'plane', 'attack', 'would', 'happen', 'so', 'that', 'i', 'could', 'go', 'back', 'to', 'europe', 'and', 'back', 'for', '3', 'cent', 'ahh', 'i', 'remember', 'i', 'be', 'a', 'little', 'kindergartener', 'could', 'of', 'be', '1st', 'grader', 'but', 'i', 'be', 'too', 'young']",
         "1.0",
         "SchooshooterTexts"
        ],
        [
         "3",
         "['a', 'a', 'god', 'it', 'would', 'be', 'my', 'responsibility', 'not', 'to', 'destroy', 'the', 'universal', 'balance', 'thus', 'i', 'be', 'unable', 'to', 'just', 'appear', 'instantly', 'i', 'would', 'need', 'to', 'convert', 'them', 'to', 'be', 'open', 'mind', 'about', 'other', 'god', 'and', 'then', 'i', 'will', 'appear', 'i', 'will', 'give', 'out', 'my', '3', 'main', 'rule', '1', 'do', 'not', 'harm', 'any', 'living', 'thing', 'if', 'you', 'break', 'this', 'rule', 'i', 'will', 'break', 'your', 'skull', '2', 'do', 'not', 'act', 'in', 'violence', 'of', 'any', 'form', '3', 'do not', 'be', 'a', 'stuffhead', 'i', 'would', 'try', 'to', 'act', 'with', 'any', 'other', 'god', 'out', 'there', 'such', 'a', 'if', 'gaia', 'be', 'real', 'i', 'would', 'let', 'her', 'take', 'care', 'of', 'her', 'creation', 'and', 'her', 'earth', 'i', 'would', 'let', 'zeus', 'and', 'poseidon', 'make', 'the', 'hurricane', 'and', 'earthquake', 'and', 'i', 'would', 'let', 'hades', 'rule', 'the', 'energy', 'of', 'darkness', 'i', 'would', 'be', 'sure', 'to', 'educate', 'them', 'on', 'solar', 'wind', 'water', 'power', 'technology']",
         "1.0",
         "SchooshooterTexts"
        ],
        [
         "4",
         "['i', 'be', 'go', 'to', 'grab', 'a', 'knife', 'and', 'shove', 'it', 'in', 'the', 'neck', 'of', 'my', 'mother', 'i', 'will', 'then', 'drag', 'her', 'dead', 'body', 'by', 'the', 'trash', 'can', 'drain', 'her', 'blood', 'and', 'then', 'finally', 'cut', 'her', 'and', 'grind', 'her', 'up', 'into', 'little', 'piece', 'i', 'will', 'eat', 'some', 'of', 'those', 'piece', 'and', 'then', 'i', 'will', 'probably', 'barf', 'i', 'will', 'throw', 'her', 'body', 'away', 'in', 'the', 'trash', 'can', 'i', 'will', 'then', 'go', 'slaughter', 'sacred', 'animal', 'to', 'appease', 'the', 'god', 'hail', 'satan', 'i', 'be', 'agnostic', 'not', 'satanist']",
         "1.0",
         "SchooshooterTexts"
        ],
        [
         "5",
         "['i', 'will', 'rape', 'your', 'hot', 'lovey', 'sister', 'and', 'then', 'strangle', 'her', 'with', 'her', 'own', 'hair', 'then', 'i', 'will', 'sneakinto', 'your', 'parent', 'room', 'and', 'slaughter', 'them', 'i', 'will', 'slowly', 'walk', 'to', 'your', 'room', 'hold', 'my', 'blood', 'thirsty', 'knife', 'in', 'my', 'right', 'hand', 'i', 'walk', 'into', 'your', 'room', 'when', 'i', 'see', 'that', 'you are', 'make', 'out', 'with', 'yourself', 'i', 'will', 'grab', 'you', 'tie', 'you', 'to', 'your', 'bed', 'with', 'your', 'own', 'hair', 'and', 'super', 'glue', 'it', 'shut', 'my', 'blood', 'thirsty', 'crave', 'be', 'not', 'over', 'i', 'finally', 'rip', 'your', 'hair', 'out', 'and', 'you', 'experience', 'excruciate', 'pain', 'so', 'painful', 'that', 'you', 'scream', 'and', 'scream', 'but', 'it', 'cannot', 'stop', 'i', 'ripped', 'out', 'the', 'skin', 'of', 'your', 'head', 'blood', 'be', 'droop', 'everywhere', 'finally', 'i', 'pluck', 'your', 'eye', 'right', 'out', 'with', 'my', 'knife', 'and', 'throw', 'them', 'down', 'i', 'then', 'cut', 'your', 'neck', 'off', 'and', 'the', 'arm', 'and', 'leg', 'only', 'the', 'torso', 'remains', 'i', 'cut', 'off', 'the', 'genitals', 'and', 'i', 'stab', 'the', 'stomach', 'repeatedly', 'i', 'finally', 'finish', 'off', 'by', 'rip', 'out', 'your', 'heart', 'and', 'consume', 'it']",
         "1.0",
         "SchooshooterTexts"
        ],
        [
         "6",
         "['iwillneverletyouforgetaboutme']",
         "1.0",
         "SchooshooterTexts"
        ],
        [
         "7",
         "['rule', '11', 'be', 'nice', 'to', 'nerd', 'chance', 'be', 'you will', 'end', 'up', 'work', 'for', 'one', 'start', 'be', 'nice', 'to', 'me', 'or', 'i', 'will', 'not', 'hire', 'you', 'all', 'all', 'of', 'those', 'idiot', 'who', 'have', 'mess', 'up', 'my', 'life', 'in', 'the', 'past', 'i', 'will', 'hire', 'them', 'for', 'a', 'day', 'and', 'then', 'fire', 'them']",
         "1.0",
         "SchooshooterTexts"
        ],
        [
         "8",
         "['2005', 'age', '9', 'i', 'be', 'play', 'sm64ds', 'when', 'i', 'lose', 'the', 'level', 'i', 'go', 'agk', 'on', 'my', 'd', 'threw', 'it', 'extremely', 'hard', 'at', 'a', 'wall', 'and', 'broke', 'it', '2005', 'age', '9', 'after', 'recieving', 'my', 'd', 'again', 'a', 'day', 'later', 'i', 'get', 'piss', 'again', 'and', 'ripped', 'the', 'upper', 'half', 'of', 'the', 'd', 'off', '2005', 'age', '9', 'i', 'get', 'my', 'd', 'again', 'but', 'when', 'play', 'pokemon', 'lose', 'and', 'threw', 'it', 'right', 'at', 'the', 'wall', 'again', 'the', '2005', 'one', 'be', 'true', 'i', 'have', 'a', 'very', 'bad', 'anger', 'problem', '2009', 'age', '13', 'after', 'get', 'another', 'd', 'threw', 'it', 'right', 'at', 'the', 'tv', 'and', 'say', 'how is', 'that']",
         "1.0",
         "SchooshooterTexts"
        ],
        [
         "9",
         "['look', 'guy', 'i', 'just', 'smoke', 'an', 'entire', '500', 'worth', 'bag', 'of', 'original', 'kush', 'so', 'it', 'hard', 'to', 'hate', 'you', 'i', 'love', 'furries', 'gay', 'jew', 'al', 'queda', 'and', 'america', '●irl●', 'teenage', 'kid', 'with', 'no', 'friend', 'who', 'hate', 'everything', 'and', 'want', 'to', 'shoot', 'up', 'his', 'school', 'but', 'be', 'too', 'week', 'to', 'fire', 'a', 'gun', 'and', 'my', 'parent', 'be', 'annyoing', 'but', 'will', 'financially', 'supply', 'me', 'for', 'the', 'next', '30', 'year', 'i', 'love', 'to', 'hate', 'and', 'fart', 'a', 'lot', 'make', 'my', 'room', 'smell', 'remnicsant', 'of', 'cheese', 'and', 'boil', 'egg', 'all', 'troll', 'except', 'me']",
         "1.0",
         "SchooshooterTexts"
        ],
        [
         "10",
         "['do not', 'play', 'wow', 'it', 'turn', 'my', 'brother', 'into', 'a', 'basement', 'dweller', 'and', 'now', 'he', 'do', 'weed', 'he', '24', 'work', 'at', 'a', 'convenience', 'store', 'and', 'drop', 'out', 'of', 'high', 'school', 'mmos', 'be', 'just', 'the', 'same', 'a', 'heroin', 'and', 'will', 'destroy', 'not', 'only', 'your', 'body', 'but', 'your', 'mind']",
         "1.0",
         "SchooshooterTexts"
        ],
        [
         "11",
         "['i', 'support', 'interest', 'people', 'and', 'i', 'hope', 'to', 'be', 'internet', 'famous', 'one', 'day', 'in', 'short', 'i am', 'a', 'hypocritical', 'weeaboo', 'in', 'denial', 'troll', 'who', 'have', 'be', 'curse', 'into', 'an', 'endless', 'state', 'of', 'constant', 'boredom', 'which', 'have', 'driven', 'me', 'to', 'depression', 'and', 'anger']",
         "1.0",
         "SchooshooterTexts"
        ],
        [
         "12",
         "['the', 'shortest', 'i', 'can', 'describe', 'troll', 'troll', 'be', 'basically', 'young', 'teenager', 'who', 'bully', 'online', 'to', 'get', 'a', 'raise', 'because', 'they', 'have', 'a', 'personality', 'disorder', 'and', 'want', 'to', 'cover', 'up', 'the', 'hole', 'that', 'real', 'bully', 'left', 'in', 'their', 'emotion']",
         "1.0",
         "SchooshooterTexts"
        ],
        [
         "13",
         "['i', 'would', 'kill', 'tidus', 'and', 'the', 'method', 'of', 'do', 'this', 'may', 'offend', 'many', 'of', 'you', 'i', 'would', 'start', 'off', 'by', 'crusifying', 'him', 'and', 'leave', 'him', 'without', 'food', 'for', 'a', 'total', 'of', 'three', 'day', 'afterwards', 'i', 'would', 'force', 'him', 'to', 'eat', 'rat', 'i', 'would', 'apply', '1', '000', 'small', 'cut', 'throughout', 'his', 'body', 'and', 'dip', 'him', 'in', 'a', 'tub', 'of', 'hydrogen', 'peroxide', 'afterwards', 'i', 'would', 'recut', 'the', 'wound', 'and', 'apply', 'a', 'scorpion', 'sting', 'to', '30', 'of', 'them', 'over', 'a', 'tears in my eyes', 'period', 'of', '2', 'hour', 'after', 'which', 'i', 'would', 'nurse', 'his', 'health', 'a', 'tad', 'next', 'i', 'would', 'rip', 'his', 'nail', 'out', 'and', 'pour', 'bleach', 'and', 'ammonia', 'on', 'them', 'while', 'make', 'sure', 'he', 'does not', 'inhale', 'any', 'i', 'would', 'shoot', 'him', 'in', 'his', 'knee', 'with', 'a', 'crossbow', 'and', 'since', 'i am', 'an', 'honorable', 'man', 'i', 'would', 'make', 'this', 'the', 'last', 'of', 'his', 'punishment', 'a', 'quick', 'sword', 'blow', 'to', 'his', 'chest', 'and', 'a', 'large', 'incision', 'to', 'his', 'belly', 'would', 'do', 'the', 'trick', 'i', 'would', 'leave', 'him', 'in', 'pain', 'for', 'the', 'remainder', 'of', 'his', 'very', 'short', 'life', 'to', 'allow', 'him', 'to', 'reflect', 'on', 'his', 'personality']",
         "1.0",
         "SchooshooterTexts"
        ],
        [
         "14",
         "['jack', 'a', 'gun', 'and', 'shoot', 'myself', 'in', 'the', 'head']",
         "2.0",
         "SchooshooterTexts"
        ],
        [
         "15",
         "['every', 'personality', 'disorder', 'test', 'i', 'take', 'i', 'usually', 'end', 'up', 'get', 'over', 'half', 'of', 'them', 'at', 'a', 'severe', 'level', 'and', 'i am', 'be', 'honest', 'most', 'of', 'the', 'tears in my eyes']",
         "1.0",
         "SchooshooterTexts"
        ],
        [
         "16",
         "['hey', 'i am', 'eldigato', 'in', 'short', 'i', 'be', 'a', 'psychopath', 'dedicate', 'to', 'the', 'art', 'of', 'destruction', 'in', 'my', 'year', 'of', 'minecraft', 'i', 'have', 'always', 'aim', 'to', 'make', 'interest', 'story', 'i', 'have', 'always', 'do', 'my', 'deed', 'solo', 'and', 'for', 'that', 'reason', 'they', 'never', 'reach', 'the', 'peak', 'i', 'have', 'hop', 'for', 'that', 'be', 'why', 'i', 'have', 'register', 'here', 'today', 'in', 'hope', 'that', 'i', 'can', 'work', 'with', 'people', 'with', 'similar', 'intention', 'and', 'because', 'many', 'great', 'calamity', 'resume', 'griefing', 'i', 'like', 'to', 'take', 'my', 'tears in my eyes', 'in', 'order', 'to', 'because', 'the', 'most', 'damage', 'but', 'i', 'have', 'attack', 'many', 'server', 'with', 'a', 'hit', 'and', 'run', 'style', 'of', 'disruption', 'before', 'and', 'cause', 'massive', 'amount', 'of', 'damage', 'i', 'would', 'like', 'to', 'say', 'that', 'my', 'best', 'griefing', 'attack', 'be', 'the', 'scatter', 'space', 'incident', 'although', 'the', 'damage', 'was not', 'intense', 'compare', 'to', 'most', 'of', 'my', 'attack', 'on', 'server', 'i', 'stir', 'up', 'plenty', 'of', 'drama', 'in', 'their', 'community', 'cooperation', 'i', 'would', 'like', 'to', 'think', 'myself', 'a', 'that', 'of', 'a', 'rogue', 'in', 'many', 'situation', 'but', 'i', 'have', 'show', 'to', 'be', 'able', 'to', 'work', 'with', 'others', 'consider', 'our', 'personality', 'i', 'do not', 'think', 'i', 'would', 'have', 'any', 'trouble', 'with', 'group', 'raid', 'admins', 'i', 'can', 'bullshit', 'my', 'way', 'out', 'of', 'thing', 'but', 'i', 'be', 'a', 'honest', 'man', 'if', 'i', 'focus', 'i', 'can', 'have', 'a', 'silver', 'tounge', 'that', 'avoids', 'truthfulness', 'i', 'hope', 'that', 'this', 'information', 'be', 'enough', 'to', 'provide', 'and', 'i', 'hope', 'in', 'the', 'future', 'i', 'can', 'infest', 'the', 'world', 'one', 'day']",
         "1.0",
         "SchooshooterTexts"
        ],
        [
         "17",
         "['i', 'would', 'cut', 'a', 'many', 'vein', 'in', 'his', 'neck', 'a', 'i', 'could', 'avoid', 'his', 'jugular']",
         "1.0",
         "SchooshooterTexts"
        ],
        [
         "18",
         "['my', 'guilty', 'pleasure', 'be', 'probably', 'dmt', 'but', 'it', 'ok', 'since', 'it', 'amazingly', 'god']",
         "1.0",
         "SchooshooterTexts"
        ],
        [
         "19",
         "['my', 'dream', 'job', 'would', 'have', 'to', 'involve', 'synthesize', 'pure', 'lsd', 'legally', 'and', 'sell', 'it', 'to', 'the', 'right', 'kind', 'of', 'people', 'who', 'would not', 'abuse', 'it']",
         "1.0",
         "SchooshooterTexts"
        ],
        [
         "20",
         "['i', 'will', 'be', 'living', 'in', 'a', 'basement', 'pretty', 'soon', 'once', 'i am', 'finish', 'move', 'in', 'with', 'my', 'bro']",
         "1.0",
         "SchooshooterTexts"
        ],
        [
         "21",
         "['i', 'played', 'this', 'game', 'while', 'on', 'marijuana', 'lsd', 'salvia', 'and', 'shrooms', 'i', 'can', 'honestly', 'say', 'that', 'once', 'you are', 'experienced', 'with', 'the', 'type', 'you', 'can', 'handle', 'it', 'a', 'long', 'a', 'you', 'have', 'a', 'sitter', 'to', 'help', 'calm', 'you', 'down', 'when', 'creepy', 'stuff', 'happens']",
         "1.0",
         "SchooshooterTexts"
        ],
        [
         "22",
         "['if', 'all', 'of', 'the', 'internet', 'go', 'out', 'people', 'would', 'go', 'psycho', 'and', 'kill', 'eachother', 'and', 'hang', 'mutilate', 'corps', 'from', 'their', 'town', 'bridge']",
         "1.0",
         "SchooshooterTexts"
        ],
        [
         "23",
         "['id', 'go', 'back', 'in', 'tears in my eyes', 'and', 'stop', 'a', 'lot', 'of', 'the', 'school', 'shooting', 'such', 'a', 'columbine', 'or', 'v', 'tech', 'by', 'be', 'a', 'positive', 'influence', 'spread', 'hope', 'in', 'the', 'mind', 'of', 'the', 'shooter', 'and', 'keep', 'them', 'on', 'a', 'path', 'of', 'enlightenment', 'or', 'more', 'realistically', 'id', 'clean', 'up', 'trash', 'around', 'my', 'town', 'which', 'i', 'already', 'do', 'and', 'volunteer', 'at', 'place', 'oh', 'and', 'befriend', 'the', 'lonely', 'or', 'friendless', 'kid', 'at', 'school']",
         "1.0",
         "SchooshooterTexts"
        ],
        [
         "24",
         "['drop', 'out', 'of', 'high', 'school', 'in', 'order', 'to', 'just', 'study', 'a', 'ged', 'book', 'my', 'sci', 'teacher', 'give', 'me', 'and', 'take', 'the', 'test', 'when', 'i', 'feel', 'ready', 'and', 'then', 'move', 'onto', 'college', 'while', 'work', 'on', 'fix', 'myself', 'and', 'learn', 'how', 'to', 'be', 'happy', 'for', 'once', 'and', 'overcome', 'a', 'tobacco', 'addiction']",
         "1.0",
         "SchooshooterTexts"
        ]
       ],
       "shape": {
        "columns": 3,
        "rows": 25
       }
      },
      "text/html": [
       "<div>\n",
       "<style scoped>\n",
       "    .dataframe tbody tr th:only-of-type {\n",
       "        vertical-align: middle;\n",
       "    }\n",
       "\n",
       "    .dataframe tbody tr th {\n",
       "        vertical-align: top;\n",
       "    }\n",
       "\n",
       "    .dataframe thead th {\n",
       "        text-align: right;\n",
       "    }\n",
       "</style>\n",
       "<table border=\"1\" class=\"dataframe\">\n",
       "  <thead>\n",
       "    <tr style=\"text-align: right;\">\n",
       "      <th></th>\n",
       "      <th>Text</th>\n",
       "      <th>Target</th>\n",
       "      <th>Source</th>\n",
       "    </tr>\n",
       "  </thead>\n",
       "  <tbody>\n",
       "    <tr>\n",
       "      <th>0</th>\n",
       "      <td>[mommy, say, not, to, talk, to, stranger, but,...</td>\n",
       "      <td>1.0</td>\n",
       "      <td>SchooshooterTexts</td>\n",
       "    </tr>\n",
       "    <tr>\n",
       "      <th>1</th>\n",
       "      <td>[1, i, be, immune, to, get, hurt, kill, infect...</td>\n",
       "      <td>1.0</td>\n",
       "      <td>SchooshooterTexts</td>\n",
       "    </tr>\n",
       "    <tr>\n",
       "      <th>2</th>\n",
       "      <td>[i, mean, terrorist, attack, happen, all, the,...</td>\n",
       "      <td>1.0</td>\n",
       "      <td>SchooshooterTexts</td>\n",
       "    </tr>\n",
       "    <tr>\n",
       "      <th>3</th>\n",
       "      <td>[a, a, god, it, would, be, my, responsibility,...</td>\n",
       "      <td>1.0</td>\n",
       "      <td>SchooshooterTexts</td>\n",
       "    </tr>\n",
       "    <tr>\n",
       "      <th>4</th>\n",
       "      <td>[i, be, go, to, grab, a, knife, and, shove, it...</td>\n",
       "      <td>1.0</td>\n",
       "      <td>SchooshooterTexts</td>\n",
       "    </tr>\n",
       "    <tr>\n",
       "      <th>5</th>\n",
       "      <td>[i, will, rape, your, hot, lovey, sister, and,...</td>\n",
       "      <td>1.0</td>\n",
       "      <td>SchooshooterTexts</td>\n",
       "    </tr>\n",
       "    <tr>\n",
       "      <th>6</th>\n",
       "      <td>[iwillneverletyouforgetaboutme]</td>\n",
       "      <td>1.0</td>\n",
       "      <td>SchooshooterTexts</td>\n",
       "    </tr>\n",
       "    <tr>\n",
       "      <th>7</th>\n",
       "      <td>[rule, 11, be, nice, to, nerd, chance, be, you...</td>\n",
       "      <td>1.0</td>\n",
       "      <td>SchooshooterTexts</td>\n",
       "    </tr>\n",
       "    <tr>\n",
       "      <th>8</th>\n",
       "      <td>[2005, age, 9, i, be, play, sm64ds, when, i, l...</td>\n",
       "      <td>1.0</td>\n",
       "      <td>SchooshooterTexts</td>\n",
       "    </tr>\n",
       "    <tr>\n",
       "      <th>9</th>\n",
       "      <td>[look, guy, i, just, smoke, an, entire, 500, w...</td>\n",
       "      <td>1.0</td>\n",
       "      <td>SchooshooterTexts</td>\n",
       "    </tr>\n",
       "    <tr>\n",
       "      <th>10</th>\n",
       "      <td>[do not, play, wow, it, turn, my, brother, int...</td>\n",
       "      <td>1.0</td>\n",
       "      <td>SchooshooterTexts</td>\n",
       "    </tr>\n",
       "    <tr>\n",
       "      <th>11</th>\n",
       "      <td>[i, support, interest, people, and, i, hope, t...</td>\n",
       "      <td>1.0</td>\n",
       "      <td>SchooshooterTexts</td>\n",
       "    </tr>\n",
       "    <tr>\n",
       "      <th>12</th>\n",
       "      <td>[the, shortest, i, can, describe, troll, troll...</td>\n",
       "      <td>1.0</td>\n",
       "      <td>SchooshooterTexts</td>\n",
       "    </tr>\n",
       "    <tr>\n",
       "      <th>13</th>\n",
       "      <td>[i, would, kill, tidus, and, the, method, of, ...</td>\n",
       "      <td>1.0</td>\n",
       "      <td>SchooshooterTexts</td>\n",
       "    </tr>\n",
       "    <tr>\n",
       "      <th>14</th>\n",
       "      <td>[jack, a, gun, and, shoot, myself, in, the, head]</td>\n",
       "      <td>2.0</td>\n",
       "      <td>SchooshooterTexts</td>\n",
       "    </tr>\n",
       "    <tr>\n",
       "      <th>15</th>\n",
       "      <td>[every, personality, disorder, test, i, take, ...</td>\n",
       "      <td>1.0</td>\n",
       "      <td>SchooshooterTexts</td>\n",
       "    </tr>\n",
       "    <tr>\n",
       "      <th>16</th>\n",
       "      <td>[hey, i am, eldigato, in, short, i, be, a, psy...</td>\n",
       "      <td>1.0</td>\n",
       "      <td>SchooshooterTexts</td>\n",
       "    </tr>\n",
       "    <tr>\n",
       "      <th>17</th>\n",
       "      <td>[i, would, cut, a, many, vein, in, his, neck, ...</td>\n",
       "      <td>1.0</td>\n",
       "      <td>SchooshooterTexts</td>\n",
       "    </tr>\n",
       "    <tr>\n",
       "      <th>18</th>\n",
       "      <td>[my, guilty, pleasure, be, probably, dmt, but,...</td>\n",
       "      <td>1.0</td>\n",
       "      <td>SchooshooterTexts</td>\n",
       "    </tr>\n",
       "    <tr>\n",
       "      <th>19</th>\n",
       "      <td>[my, dream, job, would, have, to, involve, syn...</td>\n",
       "      <td>1.0</td>\n",
       "      <td>SchooshooterTexts</td>\n",
       "    </tr>\n",
       "    <tr>\n",
       "      <th>20</th>\n",
       "      <td>[i, will, be, living, in, a, basement, pretty,...</td>\n",
       "      <td>1.0</td>\n",
       "      <td>SchooshooterTexts</td>\n",
       "    </tr>\n",
       "    <tr>\n",
       "      <th>21</th>\n",
       "      <td>[i, played, this, game, while, on, marijuana, ...</td>\n",
       "      <td>1.0</td>\n",
       "      <td>SchooshooterTexts</td>\n",
       "    </tr>\n",
       "    <tr>\n",
       "      <th>22</th>\n",
       "      <td>[if, all, of, the, internet, go, out, people, ...</td>\n",
       "      <td>1.0</td>\n",
       "      <td>SchooshooterTexts</td>\n",
       "    </tr>\n",
       "    <tr>\n",
       "      <th>23</th>\n",
       "      <td>[id, go, back, in, tears in my eyes, and, stop...</td>\n",
       "      <td>1.0</td>\n",
       "      <td>SchooshooterTexts</td>\n",
       "    </tr>\n",
       "    <tr>\n",
       "      <th>24</th>\n",
       "      <td>[drop, out, of, high, school, in, order, to, j...</td>\n",
       "      <td>1.0</td>\n",
       "      <td>SchooshooterTexts</td>\n",
       "    </tr>\n",
       "  </tbody>\n",
       "</table>\n",
       "</div>"
      ],
      "text/plain": [
       "                                                 Text  Target  \\\n",
       "0   [mommy, say, not, to, talk, to, stranger, but,...     1.0   \n",
       "1   [1, i, be, immune, to, get, hurt, kill, infect...     1.0   \n",
       "2   [i, mean, terrorist, attack, happen, all, the,...     1.0   \n",
       "3   [a, a, god, it, would, be, my, responsibility,...     1.0   \n",
       "4   [i, be, go, to, grab, a, knife, and, shove, it...     1.0   \n",
       "5   [i, will, rape, your, hot, lovey, sister, and,...     1.0   \n",
       "6                     [iwillneverletyouforgetaboutme]     1.0   \n",
       "7   [rule, 11, be, nice, to, nerd, chance, be, you...     1.0   \n",
       "8   [2005, age, 9, i, be, play, sm64ds, when, i, l...     1.0   \n",
       "9   [look, guy, i, just, smoke, an, entire, 500, w...     1.0   \n",
       "10  [do not, play, wow, it, turn, my, brother, int...     1.0   \n",
       "11  [i, support, interest, people, and, i, hope, t...     1.0   \n",
       "12  [the, shortest, i, can, describe, troll, troll...     1.0   \n",
       "13  [i, would, kill, tidus, and, the, method, of, ...     1.0   \n",
       "14  [jack, a, gun, and, shoot, myself, in, the, head]     2.0   \n",
       "15  [every, personality, disorder, test, i, take, ...     1.0   \n",
       "16  [hey, i am, eldigato, in, short, i, be, a, psy...     1.0   \n",
       "17  [i, would, cut, a, many, vein, in, his, neck, ...     1.0   \n",
       "18  [my, guilty, pleasure, be, probably, dmt, but,...     1.0   \n",
       "19  [my, dream, job, would, have, to, involve, syn...     1.0   \n",
       "20  [i, will, be, living, in, a, basement, pretty,...     1.0   \n",
       "21  [i, played, this, game, while, on, marijuana, ...     1.0   \n",
       "22  [if, all, of, the, internet, go, out, people, ...     1.0   \n",
       "23  [id, go, back, in, tears in my eyes, and, stop...     1.0   \n",
       "24  [drop, out, of, high, school, in, order, to, j...     1.0   \n",
       "\n",
       "               Source  \n",
       "0   SchooshooterTexts  \n",
       "1   SchooshooterTexts  \n",
       "2   SchooshooterTexts  \n",
       "3   SchooshooterTexts  \n",
       "4   SchooshooterTexts  \n",
       "5   SchooshooterTexts  \n",
       "6   SchooshooterTexts  \n",
       "7   SchooshooterTexts  \n",
       "8   SchooshooterTexts  \n",
       "9   SchooshooterTexts  \n",
       "10  SchooshooterTexts  \n",
       "11  SchooshooterTexts  \n",
       "12  SchooshooterTexts  \n",
       "13  SchooshooterTexts  \n",
       "14  SchooshooterTexts  \n",
       "15  SchooshooterTexts  \n",
       "16  SchooshooterTexts  \n",
       "17  SchooshooterTexts  \n",
       "18  SchooshooterTexts  \n",
       "19  SchooshooterTexts  \n",
       "20  SchooshooterTexts  \n",
       "21  SchooshooterTexts  \n",
       "22  SchooshooterTexts  \n",
       "23  SchooshooterTexts  \n",
       "24  SchooshooterTexts  "
      ]
     },
     "execution_count": 44,
     "metadata": {},
     "output_type": "execute_result"
    }
   ],
   "source": [
    "import nltk\n",
    "from nltk.corpus import wordnet\n",
    "from nltk.stem import WordNetLemmatizer\n",
    "\n",
    "# Download required NLTK resources\n",
    "nltk.download('averaged_perceptron_tagger')\n",
    "nltk.download('wordnet')\n",
    "\n",
    "# Initialize lemmatizer\n",
    "lemmatizer = WordNetLemmatizer()\n",
    "\n",
    "# Function to get the correct WordNet POS tag\n",
    "def get_wordnet_pos(word):\n",
    "    # Converts NLTK POS tags to WordNet POS tags for better lemmatization.\n",
    "    tag = nltk.pos_tag([word])[0][1][0].upper()  # Extract first letter of POS tag\n",
    "    tag_dict = {\"J\": wordnet.ADJ, \"N\": wordnet.NOUN, \"V\": wordnet.VERB, \"R\": wordnet.ADV}\n",
    "    return tag_dict.get(tag, wordnet.NOUN)  # Default to NOUN\n",
    "\n",
    "# Apply lemmatization\n",
    "df['Text'] = df['Text'].apply(\n",
    "    lambda tokens: [lemmatizer.lemmatize(token, get_wordnet_pos(token)) for token in tokens]\n",
    ")\n",
    "\n",
    "\n",
    "df.head(25)\n"
   ]
  },
  {
   "cell_type": "markdown",
   "id": "07ea17ca",
   "metadata": {},
   "source": [
    "## Emoji conversion"
   ]
  },
  {
   "cell_type": "code",
   "execution_count": 45,
   "id": "3d9be17f",
   "metadata": {},
   "outputs": [
    {
     "data": {
      "application/vnd.microsoft.datawrangler.viewer.v0+json": {
       "columns": [
        {
         "name": "index",
         "rawType": "int64",
         "type": "integer"
        },
        {
         "name": "Text",
         "rawType": "object",
         "type": "unknown"
        },
        {
         "name": "Target",
         "rawType": "float64",
         "type": "float"
        },
        {
         "name": "Source",
         "rawType": "object",
         "type": "string"
        }
       ],
       "ref": "cbba4ab1-5944-41e4-83b5-0f7336316d0e",
       "rows": [
        [
         "0",
         "['mommy', 'say', 'not', 'to', 'talk', 'to', 'stranger', 'but', 'she is', 'drunk', 'all', 'the', 'tears in my eyes', 'why', 'should', 'i', 'listen', 'to', 'her', 'advice']",
         "1.0",
         "SchooshooterTexts"
        ],
        [
         "1",
         "['1', 'i', 'be', 'immune', 'to', 'get', 'hurt', 'kill', 'infect', 'with', 'a', 'sexually transmitted disease', '2', 'i', 'have', '43', 'million', 'worshipper', '3', 'i', 'have', 'a', 'life']",
         "1.0",
         "SchooshooterTexts"
        ],
        [
         "2",
         "['i', 'mean', 'terrorist', 'attack', 'happen', 'all', 'the', 'tears in my eyes', 'sure', 'thousand', 'die', 'but', 'million', 'have', 'die', 'from', 'george', 'honestly', 'it', 'be', 'almost', '10', 'year', 'and', 'idiot', 'be', 'still', 'whine', '911', 'do', 'make', 'a', 'lot', 'of', 'idiot', 'patriot', 'extremist', 'in', 'america', 'you', 'have', 'to', 'give', '911', 'that', 'i', 'wish', 'another', 'terrorist', 'plane', 'attack', 'would', 'happen', 'so', 'that', 'i', 'could', 'go', 'back', 'to', 'europe', 'and', 'back', 'for', '3', 'cent', 'ahh', 'i', 'remember', 'i', 'be', 'a', 'little', 'kindergartener', 'could', 'of', 'be', '1st', 'grader', 'but', 'i', 'be', 'too', 'young']",
         "1.0",
         "SchooshooterTexts"
        ],
        [
         "3",
         "['a', 'a', 'god', 'it', 'would', 'be', 'my', 'responsibility', 'not', 'to', 'destroy', 'the', 'universal', 'balance', 'thus', 'i', 'be', 'unable', 'to', 'just', 'appear', 'instantly', 'i', 'would', 'need', 'to', 'convert', 'them', 'to', 'be', 'open', 'mind', 'about', 'other', 'god', 'and', 'then', 'i', 'will', 'appear', 'i', 'will', 'give', 'out', 'my', '3', 'main', 'rule', '1', 'do', 'not', 'harm', 'any', 'living', 'thing', 'if', 'you', 'break', 'this', 'rule', 'i', 'will', 'break', 'your', 'skull', '2', 'do', 'not', 'act', 'in', 'violence', 'of', 'any', 'form', '3', 'do not', 'be', 'a', 'stuffhead', 'i', 'would', 'try', 'to', 'act', 'with', 'any', 'other', 'god', 'out', 'there', 'such', 'a', 'if', 'gaia', 'be', 'real', 'i', 'would', 'let', 'her', 'take', 'care', 'of', 'her', 'creation', 'and', 'her', 'earth', 'i', 'would', 'let', 'zeus', 'and', 'poseidon', 'make', 'the', 'hurricane', 'and', 'earthquake', 'and', 'i', 'would', 'let', 'hades', 'rule', 'the', 'energy', 'of', 'darkness', 'i', 'would', 'be', 'sure', 'to', 'educate', 'them', 'on', 'solar', 'wind', 'water', 'power', 'technology']",
         "1.0",
         "SchooshooterTexts"
        ],
        [
         "4",
         "['i', 'be', 'go', 'to', 'grab', 'a', 'knife', 'and', 'shove', 'it', 'in', 'the', 'neck', 'of', 'my', 'mother', 'i', 'will', 'then', 'drag', 'her', 'dead', 'body', 'by', 'the', 'trash', 'can', 'drain', 'her', 'blood', 'and', 'then', 'finally', 'cut', 'her', 'and', 'grind', 'her', 'up', 'into', 'little', 'piece', 'i', 'will', 'eat', 'some', 'of', 'those', 'piece', 'and', 'then', 'i', 'will', 'probably', 'barf', 'i', 'will', 'throw', 'her', 'body', 'away', 'in', 'the', 'trash', 'can', 'i', 'will', 'then', 'go', 'slaughter', 'sacred', 'animal', 'to', 'appease', 'the', 'god', 'hail', 'satan', 'i', 'be', 'agnostic', 'not', 'satanist']",
         "1.0",
         "SchooshooterTexts"
        ],
        [
         "5",
         "['i', 'will', 'rape', 'your', 'hot', 'lovey', 'sister', 'and', 'then', 'strangle', 'her', 'with', 'her', 'own', 'hair', 'then', 'i', 'will', 'sneakinto', 'your', 'parent', 'room', 'and', 'slaughter', 'them', 'i', 'will', 'slowly', 'walk', 'to', 'your', 'room', 'hold', 'my', 'blood', 'thirsty', 'knife', 'in', 'my', 'right', 'hand', 'i', 'walk', 'into', 'your', 'room', 'when', 'i', 'see', 'that', 'you are', 'make', 'out', 'with', 'yourself', 'i', 'will', 'grab', 'you', 'tie', 'you', 'to', 'your', 'bed', 'with', 'your', 'own', 'hair', 'and', 'super', 'glue', 'it', 'shut', 'my', 'blood', 'thirsty', 'crave', 'be', 'not', 'over', 'i', 'finally', 'rip', 'your', 'hair', 'out', 'and', 'you', 'experience', 'excruciate', 'pain', 'so', 'painful', 'that', 'you', 'scream', 'and', 'scream', 'but', 'it', 'cannot', 'stop', 'i', 'ripped', 'out', 'the', 'skin', 'of', 'your', 'head', 'blood', 'be', 'droop', 'everywhere', 'finally', 'i', 'pluck', 'your', 'eye', 'right', 'out', 'with', 'my', 'knife', 'and', 'throw', 'them', 'down', 'i', 'then', 'cut', 'your', 'neck', 'off', 'and', 'the', 'arm', 'and', 'leg', 'only', 'the', 'torso', 'remains', 'i', 'cut', 'off', 'the', 'genitals', 'and', 'i', 'stab', 'the', 'stomach', 'repeatedly', 'i', 'finally', 'finish', 'off', 'by', 'rip', 'out', 'your', 'heart', 'and', 'consume', 'it']",
         "1.0",
         "SchooshooterTexts"
        ],
        [
         "6",
         "['iwillneverletyouforgetaboutme']",
         "1.0",
         "SchooshooterTexts"
        ],
        [
         "7",
         "['rule', '11', 'be', 'nice', 'to', 'nerd', 'chance', 'be', 'you will', 'end', 'up', 'work', 'for', 'one', 'start', 'be', 'nice', 'to', 'me', 'or', 'i', 'will', 'not', 'hire', 'you', 'all', 'all', 'of', 'those', 'idiot', 'who', 'have', 'mess', 'up', 'my', 'life', 'in', 'the', 'past', 'i', 'will', 'hire', 'them', 'for', 'a', 'day', 'and', 'then', 'fire', 'them']",
         "1.0",
         "SchooshooterTexts"
        ],
        [
         "8",
         "['2005', 'age', '9', 'i', 'be', 'play', 'sm64ds', 'when', 'i', 'lose', 'the', 'level', 'i', 'go', 'agk', 'on', 'my', 'd', 'threw', 'it', 'extremely', 'hard', 'at', 'a', 'wall', 'and', 'broke', 'it', '2005', 'age', '9', 'after', 'recieving', 'my', 'd', 'again', 'a', 'day', 'later', 'i', 'get', 'piss', 'again', 'and', 'ripped', 'the', 'upper', 'half', 'of', 'the', 'd', 'off', '2005', 'age', '9', 'i', 'get', 'my', 'd', 'again', 'but', 'when', 'play', 'pokemon', 'lose', 'and', 'threw', 'it', 'right', 'at', 'the', 'wall', 'again', 'the', '2005', 'one', 'be', 'true', 'i', 'have', 'a', 'very', 'bad', 'anger', 'problem', '2009', 'age', '13', 'after', 'get', 'another', 'd', 'threw', 'it', 'right', 'at', 'the', 'tv', 'and', 'say', 'how is', 'that']",
         "1.0",
         "SchooshooterTexts"
        ],
        [
         "9",
         "['look', 'guy', 'i', 'just', 'smoke', 'an', 'entire', '500', 'worth', 'bag', 'of', 'original', 'kush', 'so', 'it', 'hard', 'to', 'hate', 'you', 'i', 'love', 'furries', 'gay', 'jew', 'al', 'queda', 'and', 'america', '●irl●', 'teenage', 'kid', 'with', 'no', 'friend', 'who', 'hate', 'everything', 'and', 'want', 'to', 'shoot', 'up', 'his', 'school', 'but', 'be', 'too', 'week', 'to', 'fire', 'a', 'gun', 'and', 'my', 'parent', 'be', 'annyoing', 'but', 'will', 'financially', 'supply', 'me', 'for', 'the', 'next', '30', 'year', 'i', 'love', 'to', 'hate', 'and', 'fart', 'a', 'lot', 'make', 'my', 'room', 'smell', 'remnicsant', 'of', 'cheese', 'and', 'boil', 'egg', 'all', 'troll', 'except', 'me']",
         "1.0",
         "SchooshooterTexts"
        ],
        [
         "10",
         "['do not', 'play', 'wow', 'it', 'turn', 'my', 'brother', 'into', 'a', 'basement', 'dweller', 'and', 'now', 'he', 'do', 'weed', 'he', '24', 'work', 'at', 'a', 'convenience', 'store', 'and', 'drop', 'out', 'of', 'high', 'school', 'mmos', 'be', 'just', 'the', 'same', 'a', 'heroin', 'and', 'will', 'destroy', 'not', 'only', 'your', 'body', 'but', 'your', 'mind']",
         "1.0",
         "SchooshooterTexts"
        ],
        [
         "11",
         "['i', 'support', 'interest', 'people', 'and', 'i', 'hope', 'to', 'be', 'internet', 'famous', 'one', 'day', 'in', 'short', 'i am', 'a', 'hypocritical', 'weeaboo', 'in', 'denial', 'troll', 'who', 'have', 'be', 'curse', 'into', 'an', 'endless', 'state', 'of', 'constant', 'boredom', 'which', 'have', 'driven', 'me', 'to', 'depression', 'and', 'anger']",
         "1.0",
         "SchooshooterTexts"
        ],
        [
         "12",
         "['the', 'shortest', 'i', 'can', 'describe', 'troll', 'troll', 'be', 'basically', 'young', 'teenager', 'who', 'bully', 'online', 'to', 'get', 'a', 'raise', 'because', 'they', 'have', 'a', 'personality', 'disorder', 'and', 'want', 'to', 'cover', 'up', 'the', 'hole', 'that', 'real', 'bully', 'left', 'in', 'their', 'emotion']",
         "1.0",
         "SchooshooterTexts"
        ],
        [
         "13",
         "['i', 'would', 'kill', 'tidus', 'and', 'the', 'method', 'of', 'do', 'this', 'may', 'offend', 'many', 'of', 'you', 'i', 'would', 'start', 'off', 'by', 'crusifying', 'him', 'and', 'leave', 'him', 'without', 'food', 'for', 'a', 'total', 'of', 'three', 'day', 'afterwards', 'i', 'would', 'force', 'him', 'to', 'eat', 'rat', 'i', 'would', 'apply', '1', '000', 'small', 'cut', 'throughout', 'his', 'body', 'and', 'dip', 'him', 'in', 'a', 'tub', 'of', 'hydrogen', 'peroxide', 'afterwards', 'i', 'would', 'recut', 'the', 'wound', 'and', 'apply', 'a', 'scorpion', 'sting', 'to', '30', 'of', 'them', 'over', 'a', 'tears in my eyes', 'period', 'of', '2', 'hour', 'after', 'which', 'i', 'would', 'nurse', 'his', 'health', 'a', 'tad', 'next', 'i', 'would', 'rip', 'his', 'nail', 'out', 'and', 'pour', 'bleach', 'and', 'ammonia', 'on', 'them', 'while', 'make', 'sure', 'he', 'does not', 'inhale', 'any', 'i', 'would', 'shoot', 'him', 'in', 'his', 'knee', 'with', 'a', 'crossbow', 'and', 'since', 'i am', 'an', 'honorable', 'man', 'i', 'would', 'make', 'this', 'the', 'last', 'of', 'his', 'punishment', 'a', 'quick', 'sword', 'blow', 'to', 'his', 'chest', 'and', 'a', 'large', 'incision', 'to', 'his', 'belly', 'would', 'do', 'the', 'trick', 'i', 'would', 'leave', 'him', 'in', 'pain', 'for', 'the', 'remainder', 'of', 'his', 'very', 'short', 'life', 'to', 'allow', 'him', 'to', 'reflect', 'on', 'his', 'personality']",
         "1.0",
         "SchooshooterTexts"
        ],
        [
         "14",
         "['jack', 'a', 'gun', 'and', 'shoot', 'myself', 'in', 'the', 'head']",
         "2.0",
         "SchooshooterTexts"
        ],
        [
         "15",
         "['every', 'personality', 'disorder', 'test', 'i', 'take', 'i', 'usually', 'end', 'up', 'get', 'over', 'half', 'of', 'them', 'at', 'a', 'severe', 'level', 'and', 'i am', 'be', 'honest', 'most', 'of', 'the', 'tears in my eyes']",
         "1.0",
         "SchooshooterTexts"
        ],
        [
         "16",
         "['hey', 'i am', 'eldigato', 'in', 'short', 'i', 'be', 'a', 'psychopath', 'dedicate', 'to', 'the', 'art', 'of', 'destruction', 'in', 'my', 'year', 'of', 'minecraft', 'i', 'have', 'always', 'aim', 'to', 'make', 'interest', 'story', 'i', 'have', 'always', 'do', 'my', 'deed', 'solo', 'and', 'for', 'that', 'reason', 'they', 'never', 'reach', 'the', 'peak', 'i', 'have', 'hop', 'for', 'that', 'be', 'why', 'i', 'have', 'register', 'here', 'today', 'in', 'hope', 'that', 'i', 'can', 'work', 'with', 'people', 'with', 'similar', 'intention', 'and', 'because', 'many', 'great', 'calamity', 'resume', 'griefing', 'i', 'like', 'to', 'take', 'my', 'tears in my eyes', 'in', 'order', 'to', 'because', 'the', 'most', 'damage', 'but', 'i', 'have', 'attack', 'many', 'server', 'with', 'a', 'hit', 'and', 'run', 'style', 'of', 'disruption', 'before', 'and', 'cause', 'massive', 'amount', 'of', 'damage', 'i', 'would', 'like', 'to', 'say', 'that', 'my', 'best', 'griefing', 'attack', 'be', 'the', 'scatter', 'space', 'incident', 'although', 'the', 'damage', 'was not', 'intense', 'compare', 'to', 'most', 'of', 'my', 'attack', 'on', 'server', 'i', 'stir', 'up', 'plenty', 'of', 'drama', 'in', 'their', 'community', 'cooperation', 'i', 'would', 'like', 'to', 'think', 'myself', 'a', 'that', 'of', 'a', 'rogue', 'in', 'many', 'situation', 'but', 'i', 'have', 'show', 'to', 'be', 'able', 'to', 'work', 'with', 'others', 'consider', 'our', 'personality', 'i', 'do not', 'think', 'i', 'would', 'have', 'any', 'trouble', 'with', 'group', 'raid', 'admins', 'i', 'can', 'bullshit', 'my', 'way', 'out', 'of', 'thing', 'but', 'i', 'be', 'a', 'honest', 'man', 'if', 'i', 'focus', 'i', 'can', 'have', 'a', 'silver', 'tounge', 'that', 'avoids', 'truthfulness', 'i', 'hope', 'that', 'this', 'information', 'be', 'enough', 'to', 'provide', 'and', 'i', 'hope', 'in', 'the', 'future', 'i', 'can', 'infest', 'the', 'world', 'one', 'day']",
         "1.0",
         "SchooshooterTexts"
        ],
        [
         "17",
         "['i', 'would', 'cut', 'a', 'many', 'vein', 'in', 'his', 'neck', 'a', 'i', 'could', 'avoid', 'his', 'jugular']",
         "1.0",
         "SchooshooterTexts"
        ],
        [
         "18",
         "['my', 'guilty', 'pleasure', 'be', 'probably', 'dmt', 'but', 'it', 'ok', 'since', 'it', 'amazingly', 'god']",
         "1.0",
         "SchooshooterTexts"
        ],
        [
         "19",
         "['my', 'dream', 'job', 'would', 'have', 'to', 'involve', 'synthesize', 'pure', 'lsd', 'legally', 'and', 'sell', 'it', 'to', 'the', 'right', 'kind', 'of', 'people', 'who', 'would not', 'abuse', 'it']",
         "1.0",
         "SchooshooterTexts"
        ],
        [
         "20",
         "['i', 'will', 'be', 'living', 'in', 'a', 'basement', 'pretty', 'soon', 'once', 'i am', 'finish', 'move', 'in', 'with', 'my', 'bro']",
         "1.0",
         "SchooshooterTexts"
        ],
        [
         "21",
         "['i', 'played', 'this', 'game', 'while', 'on', 'marijuana', 'lsd', 'salvia', 'and', 'shrooms', 'i', 'can', 'honestly', 'say', 'that', 'once', 'you are', 'experienced', 'with', 'the', 'type', 'you', 'can', 'handle', 'it', 'a', 'long', 'a', 'you', 'have', 'a', 'sitter', 'to', 'help', 'calm', 'you', 'down', 'when', 'creepy', 'stuff', 'happens']",
         "1.0",
         "SchooshooterTexts"
        ],
        [
         "22",
         "['if', 'all', 'of', 'the', 'internet', 'go', 'out', 'people', 'would', 'go', 'psycho', 'and', 'kill', 'eachother', 'and', 'hang', 'mutilate', 'corps', 'from', 'their', 'town', 'bridge']",
         "1.0",
         "SchooshooterTexts"
        ],
        [
         "23",
         "['id', 'go', 'back', 'in', 'tears in my eyes', 'and', 'stop', 'a', 'lot', 'of', 'the', 'school', 'shooting', 'such', 'a', 'columbine', 'or', 'v', 'tech', 'by', 'be', 'a', 'positive', 'influence', 'spread', 'hope', 'in', 'the', 'mind', 'of', 'the', 'shooter', 'and', 'keep', 'them', 'on', 'a', 'path', 'of', 'enlightenment', 'or', 'more', 'realistically', 'id', 'clean', 'up', 'trash', 'around', 'my', 'town', 'which', 'i', 'already', 'do', 'and', 'volunteer', 'at', 'place', 'oh', 'and', 'befriend', 'the', 'lonely', 'or', 'friendless', 'kid', 'at', 'school']",
         "1.0",
         "SchooshooterTexts"
        ],
        [
         "24",
         "['drop', 'out', 'of', 'high', 'school', 'in', 'order', 'to', 'just', 'study', 'a', 'ged', 'book', 'my', 'sci', 'teacher', 'give', 'me', 'and', 'take', 'the', 'test', 'when', 'i', 'feel', 'ready', 'and', 'then', 'move', 'onto', 'college', 'while', 'work', 'on', 'fix', 'myself', 'and', 'learn', 'how', 'to', 'be', 'happy', 'for', 'once', 'and', 'overcome', 'a', 'tobacco', 'addiction']",
         "1.0",
         "SchooshooterTexts"
        ]
       ],
       "shape": {
        "columns": 3,
        "rows": 25
       }
      },
      "text/html": [
       "<div>\n",
       "<style scoped>\n",
       "    .dataframe tbody tr th:only-of-type {\n",
       "        vertical-align: middle;\n",
       "    }\n",
       "\n",
       "    .dataframe tbody tr th {\n",
       "        vertical-align: top;\n",
       "    }\n",
       "\n",
       "    .dataframe thead th {\n",
       "        text-align: right;\n",
       "    }\n",
       "</style>\n",
       "<table border=\"1\" class=\"dataframe\">\n",
       "  <thead>\n",
       "    <tr style=\"text-align: right;\">\n",
       "      <th></th>\n",
       "      <th>Text</th>\n",
       "      <th>Target</th>\n",
       "      <th>Source</th>\n",
       "    </tr>\n",
       "  </thead>\n",
       "  <tbody>\n",
       "    <tr>\n",
       "      <th>0</th>\n",
       "      <td>[mommy, say, not, to, talk, to, stranger, but,...</td>\n",
       "      <td>1.0</td>\n",
       "      <td>SchooshooterTexts</td>\n",
       "    </tr>\n",
       "    <tr>\n",
       "      <th>1</th>\n",
       "      <td>[1, i, be, immune, to, get, hurt, kill, infect...</td>\n",
       "      <td>1.0</td>\n",
       "      <td>SchooshooterTexts</td>\n",
       "    </tr>\n",
       "    <tr>\n",
       "      <th>2</th>\n",
       "      <td>[i, mean, terrorist, attack, happen, all, the,...</td>\n",
       "      <td>1.0</td>\n",
       "      <td>SchooshooterTexts</td>\n",
       "    </tr>\n",
       "    <tr>\n",
       "      <th>3</th>\n",
       "      <td>[a, a, god, it, would, be, my, responsibility,...</td>\n",
       "      <td>1.0</td>\n",
       "      <td>SchooshooterTexts</td>\n",
       "    </tr>\n",
       "    <tr>\n",
       "      <th>4</th>\n",
       "      <td>[i, be, go, to, grab, a, knife, and, shove, it...</td>\n",
       "      <td>1.0</td>\n",
       "      <td>SchooshooterTexts</td>\n",
       "    </tr>\n",
       "    <tr>\n",
       "      <th>5</th>\n",
       "      <td>[i, will, rape, your, hot, lovey, sister, and,...</td>\n",
       "      <td>1.0</td>\n",
       "      <td>SchooshooterTexts</td>\n",
       "    </tr>\n",
       "    <tr>\n",
       "      <th>6</th>\n",
       "      <td>[iwillneverletyouforgetaboutme]</td>\n",
       "      <td>1.0</td>\n",
       "      <td>SchooshooterTexts</td>\n",
       "    </tr>\n",
       "    <tr>\n",
       "      <th>7</th>\n",
       "      <td>[rule, 11, be, nice, to, nerd, chance, be, you...</td>\n",
       "      <td>1.0</td>\n",
       "      <td>SchooshooterTexts</td>\n",
       "    </tr>\n",
       "    <tr>\n",
       "      <th>8</th>\n",
       "      <td>[2005, age, 9, i, be, play, sm64ds, when, i, l...</td>\n",
       "      <td>1.0</td>\n",
       "      <td>SchooshooterTexts</td>\n",
       "    </tr>\n",
       "    <tr>\n",
       "      <th>9</th>\n",
       "      <td>[look, guy, i, just, smoke, an, entire, 500, w...</td>\n",
       "      <td>1.0</td>\n",
       "      <td>SchooshooterTexts</td>\n",
       "    </tr>\n",
       "    <tr>\n",
       "      <th>10</th>\n",
       "      <td>[do not, play, wow, it, turn, my, brother, int...</td>\n",
       "      <td>1.0</td>\n",
       "      <td>SchooshooterTexts</td>\n",
       "    </tr>\n",
       "    <tr>\n",
       "      <th>11</th>\n",
       "      <td>[i, support, interest, people, and, i, hope, t...</td>\n",
       "      <td>1.0</td>\n",
       "      <td>SchooshooterTexts</td>\n",
       "    </tr>\n",
       "    <tr>\n",
       "      <th>12</th>\n",
       "      <td>[the, shortest, i, can, describe, troll, troll...</td>\n",
       "      <td>1.0</td>\n",
       "      <td>SchooshooterTexts</td>\n",
       "    </tr>\n",
       "    <tr>\n",
       "      <th>13</th>\n",
       "      <td>[i, would, kill, tidus, and, the, method, of, ...</td>\n",
       "      <td>1.0</td>\n",
       "      <td>SchooshooterTexts</td>\n",
       "    </tr>\n",
       "    <tr>\n",
       "      <th>14</th>\n",
       "      <td>[jack, a, gun, and, shoot, myself, in, the, head]</td>\n",
       "      <td>2.0</td>\n",
       "      <td>SchooshooterTexts</td>\n",
       "    </tr>\n",
       "    <tr>\n",
       "      <th>15</th>\n",
       "      <td>[every, personality, disorder, test, i, take, ...</td>\n",
       "      <td>1.0</td>\n",
       "      <td>SchooshooterTexts</td>\n",
       "    </tr>\n",
       "    <tr>\n",
       "      <th>16</th>\n",
       "      <td>[hey, i am, eldigato, in, short, i, be, a, psy...</td>\n",
       "      <td>1.0</td>\n",
       "      <td>SchooshooterTexts</td>\n",
       "    </tr>\n",
       "    <tr>\n",
       "      <th>17</th>\n",
       "      <td>[i, would, cut, a, many, vein, in, his, neck, ...</td>\n",
       "      <td>1.0</td>\n",
       "      <td>SchooshooterTexts</td>\n",
       "    </tr>\n",
       "    <tr>\n",
       "      <th>18</th>\n",
       "      <td>[my, guilty, pleasure, be, probably, dmt, but,...</td>\n",
       "      <td>1.0</td>\n",
       "      <td>SchooshooterTexts</td>\n",
       "    </tr>\n",
       "    <tr>\n",
       "      <th>19</th>\n",
       "      <td>[my, dream, job, would, have, to, involve, syn...</td>\n",
       "      <td>1.0</td>\n",
       "      <td>SchooshooterTexts</td>\n",
       "    </tr>\n",
       "    <tr>\n",
       "      <th>20</th>\n",
       "      <td>[i, will, be, living, in, a, basement, pretty,...</td>\n",
       "      <td>1.0</td>\n",
       "      <td>SchooshooterTexts</td>\n",
       "    </tr>\n",
       "    <tr>\n",
       "      <th>21</th>\n",
       "      <td>[i, played, this, game, while, on, marijuana, ...</td>\n",
       "      <td>1.0</td>\n",
       "      <td>SchooshooterTexts</td>\n",
       "    </tr>\n",
       "    <tr>\n",
       "      <th>22</th>\n",
       "      <td>[if, all, of, the, internet, go, out, people, ...</td>\n",
       "      <td>1.0</td>\n",
       "      <td>SchooshooterTexts</td>\n",
       "    </tr>\n",
       "    <tr>\n",
       "      <th>23</th>\n",
       "      <td>[id, go, back, in, tears in my eyes, and, stop...</td>\n",
       "      <td>1.0</td>\n",
       "      <td>SchooshooterTexts</td>\n",
       "    </tr>\n",
       "    <tr>\n",
       "      <th>24</th>\n",
       "      <td>[drop, out, of, high, school, in, order, to, j...</td>\n",
       "      <td>1.0</td>\n",
       "      <td>SchooshooterTexts</td>\n",
       "    </tr>\n",
       "  </tbody>\n",
       "</table>\n",
       "</div>"
      ],
      "text/plain": [
       "                                                 Text  Target  \\\n",
       "0   [mommy, say, not, to, talk, to, stranger, but,...     1.0   \n",
       "1   [1, i, be, immune, to, get, hurt, kill, infect...     1.0   \n",
       "2   [i, mean, terrorist, attack, happen, all, the,...     1.0   \n",
       "3   [a, a, god, it, would, be, my, responsibility,...     1.0   \n",
       "4   [i, be, go, to, grab, a, knife, and, shove, it...     1.0   \n",
       "5   [i, will, rape, your, hot, lovey, sister, and,...     1.0   \n",
       "6                     [iwillneverletyouforgetaboutme]     1.0   \n",
       "7   [rule, 11, be, nice, to, nerd, chance, be, you...     1.0   \n",
       "8   [2005, age, 9, i, be, play, sm64ds, when, i, l...     1.0   \n",
       "9   [look, guy, i, just, smoke, an, entire, 500, w...     1.0   \n",
       "10  [do not, play, wow, it, turn, my, brother, int...     1.0   \n",
       "11  [i, support, interest, people, and, i, hope, t...     1.0   \n",
       "12  [the, shortest, i, can, describe, troll, troll...     1.0   \n",
       "13  [i, would, kill, tidus, and, the, method, of, ...     1.0   \n",
       "14  [jack, a, gun, and, shoot, myself, in, the, head]     2.0   \n",
       "15  [every, personality, disorder, test, i, take, ...     1.0   \n",
       "16  [hey, i am, eldigato, in, short, i, be, a, psy...     1.0   \n",
       "17  [i, would, cut, a, many, vein, in, his, neck, ...     1.0   \n",
       "18  [my, guilty, pleasure, be, probably, dmt, but,...     1.0   \n",
       "19  [my, dream, job, would, have, to, involve, syn...     1.0   \n",
       "20  [i, will, be, living, in, a, basement, pretty,...     1.0   \n",
       "21  [i, played, this, game, while, on, marijuana, ...     1.0   \n",
       "22  [if, all, of, the, internet, go, out, people, ...     1.0   \n",
       "23  [id, go, back, in, tears in my eyes, and, stop...     1.0   \n",
       "24  [drop, out, of, high, school, in, order, to, j...     1.0   \n",
       "\n",
       "               Source  \n",
       "0   SchooshooterTexts  \n",
       "1   SchooshooterTexts  \n",
       "2   SchooshooterTexts  \n",
       "3   SchooshooterTexts  \n",
       "4   SchooshooterTexts  \n",
       "5   SchooshooterTexts  \n",
       "6   SchooshooterTexts  \n",
       "7   SchooshooterTexts  \n",
       "8   SchooshooterTexts  \n",
       "9   SchooshooterTexts  \n",
       "10  SchooshooterTexts  \n",
       "11  SchooshooterTexts  \n",
       "12  SchooshooterTexts  \n",
       "13  SchooshooterTexts  \n",
       "14  SchooshooterTexts  \n",
       "15  SchooshooterTexts  \n",
       "16  SchooshooterTexts  \n",
       "17  SchooshooterTexts  \n",
       "18  SchooshooterTexts  \n",
       "19  SchooshooterTexts  \n",
       "20  SchooshooterTexts  \n",
       "21  SchooshooterTexts  \n",
       "22  SchooshooterTexts  \n",
       "23  SchooshooterTexts  \n",
       "24  SchooshooterTexts  "
      ]
     },
     "execution_count": 45,
     "metadata": {},
     "output_type": "execute_result"
    }
   ],
   "source": [
    "import emoji\n",
    "\n",
    "def convert_emojis_in_tokens(tokens):\n",
    "    new_tokens = []\n",
    "    for token in tokens:\n",
    "        # Replace emoji with description, e.g. 🔥 -> _fire_\n",
    "        replaced = emoji.replace_emoji(\n",
    "            token, \n",
    "            replace=lambda e, data: \"_\" + data['en'].replace(' ', '_') + \"_\" if data and 'en' in data else e\n",
    "        )\n",
    "        new_tokens.append(replaced)\n",
    "    return new_tokens\n",
    "\n",
    "# Apply to your tokenized column\n",
    "df['Text'] = df['Text'].apply(convert_emojis_in_tokens)\n",
    "df.head(25)"
   ]
  },
  {
   "cell_type": "code",
   "execution_count": null,
   "id": "40f495f9",
   "metadata": {},
   "outputs": [],
   "source": [
    "import re\n",
    "import wordninja\n",
    "from spellchecker import SpellChecker\n",
    "\n",
    "spell = SpellChecker()\n",
    "_word_re = re.compile(r\"^[a-z]+$\") \n",
    "\n",
    "def in_vocab(w: str) -> bool:\n",
    "    return spell[w] > 0  # pyspellchecker freq > 0 == known\n",
    "\n",
    "def correct_word(w: str) -> str:\n",
    "    c = spell.correction(w)\n",
    "    return c if c else w\n",
    "\n",
    "def clean_token(token, min_split_vocab_frac=0.7):\n",
    "    # Ignore ints and non-strings\n",
    "    if not isinstance(token, str):\n",
    "        return [token]\n",
    "\n",
    "    # Pass through numbers, punctuation, mixed stuff\n",
    "    if not _word_re.match(token):\n",
    "        return [token]\n",
    "\n",
    "    # Already good?\n",
    "    if in_vocab(token):\n",
    "        return [token]\n",
    "\n",
    "    # Try correction\n",
    "    corr = correct_word(token)\n",
    "    if in_vocab(corr):\n",
    "        return [corr]\n",
    "\n",
    "    # Try split\n",
    "    pieces = wordninja.split(token)\n",
    "    if len(pieces) > 1:\n",
    "        known_frac = sum(in_vocab(p) for p in pieces) / len(pieces)\n",
    "        if known_frac >= min_split_vocab_frac:\n",
    "            return [p if in_vocab(p) else correct_word(p) for p in pieces]\n",
    "\n",
    "    # Fallback to original\n",
    "    return [token]\n",
    "\n",
    "def clean_tokens(tokens):\n",
    "    out = []\n",
    "    for t in tokens:\n",
    "        out.extend(clean_token(t))\n",
    "    return out\n",
    "\n",
    "# Apply\n",
    "df['Text'] = df['Text'].apply(clean_tokens)\n"
   ]
  },
  {
   "cell_type": "code",
   "execution_count": 48,
   "id": "fca5b474",
   "metadata": {},
   "outputs": [
    {
     "data": {
      "application/vnd.microsoft.datawrangler.viewer.v0+json": {
       "columns": [
        {
         "name": "index",
         "rawType": "int64",
         "type": "integer"
        },
        {
         "name": "Text",
         "rawType": "object",
         "type": "unknown"
        },
        {
         "name": "Target",
         "rawType": "float64",
         "type": "float"
        },
        {
         "name": "Source",
         "rawType": "object",
         "type": "string"
        }
       ],
       "ref": "051d77cc-8244-4968-b23c-392905ba247e",
       "rows": [
        [
         "0",
         "['mommy', 'say', 'not', 'to', 'talk', 'to', 'stranger', 'but', 'she is', 'drunk', 'all', 'the', 'tears in my eyes', 'why', 'should', 'i', 'listen', 'to', 'her', 'advice']",
         "1.0",
         "SchooshooterTexts"
        ],
        [
         "1",
         "['1', 'i', 'be', 'immune', 'to', 'get', 'hurt', 'kill', 'infect', 'with', 'a', 'sexually transmitted disease', '2', 'i', 'have', '43', 'million', 'worshipper', '3', 'i', 'have', 'a', 'life']",
         "1.0",
         "SchooshooterTexts"
        ],
        [
         "2",
         "['i', 'mean', 'terrorist', 'attack', 'happen', 'all', 'the', 'tears in my eyes', 'sure', 'thousand', 'die', 'but', 'million', 'have', 'die', 'from', 'george', 'honestly', 'it', 'be', 'almost', '10', 'year', 'and', 'idiot', 'be', 'still', 'whine', '911', 'do', 'make', 'a', 'lot', 'of', 'idiot', 'patriot', 'extremist', 'in', 'america', 'you', 'have', 'to', 'give', '911', 'that', 'i', 'wish', 'another', 'terrorist', 'plane', 'attack', 'would', 'happen', 'so', 'that', 'i', 'could', 'go', 'back', 'to', 'europe', 'and', 'back', 'for', '3', 'cent', 'ah', 'i', 'remember', 'i', 'be', 'a', 'little', 'kindergartener', 'could', 'of', 'be', '1st', 'grader', 'but', 'i', 'be', 'too', 'young']",
         "1.0",
         "SchooshooterTexts"
        ],
        [
         "3",
         "['a', 'a', 'god', 'it', 'would', 'be', 'my', 'responsibility', 'not', 'to', 'destroy', 'the', 'universal', 'balance', 'thus', 'i', 'be', 'unable', 'to', 'just', 'appear', 'instantly', 'i', 'would', 'need', 'to', 'convert', 'them', 'to', 'be', 'open', 'mind', 'about', 'other', 'god', 'and', 'then', 'i', 'will', 'appear', 'i', 'will', 'give', 'out', 'my', '3', 'main', 'rule', '1', 'do', 'not', 'harm', 'any', 'living', 'thing', 'if', 'you', 'break', 'this', 'rule', 'i', 'will', 'break', 'your', 'skull', '2', 'do', 'not', 'act', 'in', 'violence', 'of', 'any', 'form', '3', 'do not', 'be', 'a', 'stuffed', 'i', 'would', 'try', 'to', 'act', 'with', 'any', 'other', 'god', 'out', 'there', 'such', 'a', 'if', 'gaia', 'be', 'real', 'i', 'would', 'let', 'her', 'take', 'care', 'of', 'her', 'creation', 'and', 'her', 'earth', 'i', 'would', 'let', 'zeus', 'and', 'poseidon', 'make', 'the', 'hurricane', 'and', 'earthquake', 'and', 'i', 'would', 'let', 'hades', 'rule', 'the', 'energy', 'of', 'darkness', 'i', 'would', 'be', 'sure', 'to', 'educate', 'them', 'on', 'solar', 'wind', 'water', 'power', 'technology']",
         "1.0",
         "SchooshooterTexts"
        ],
        [
         "4",
         "['i', 'be', 'go', 'to', 'grab', 'a', 'knife', 'and', 'shove', 'it', 'in', 'the', 'neck', 'of', 'my', 'mother', 'i', 'will', 'then', 'drag', 'her', 'dead', 'body', 'by', 'the', 'trash', 'can', 'drain', 'her', 'blood', 'and', 'then', 'finally', 'cut', 'her', 'and', 'grind', 'her', 'up', 'into', 'little', 'piece', 'i', 'will', 'eat', 'some', 'of', 'those', 'piece', 'and', 'then', 'i', 'will', 'probably', 'barf', 'i', 'will', 'throw', 'her', 'body', 'away', 'in', 'the', 'trash', 'can', 'i', 'will', 'then', 'go', 'slaughter', 'sacred', 'animal', 'to', 'appease', 'the', 'god', 'hail', 'satan', 'i', 'be', 'agnostic', 'not', 'satanist']",
         "1.0",
         "SchooshooterTexts"
        ],
        [
         "5",
         "['i', 'will', 'rape', 'your', 'hot', 'lovey', 'sister', 'and', 'then', 'strangle', 'her', 'with', 'her', 'own', 'hair', 'then', 'i', 'will', 'sneaking', 'your', 'parent', 'room', 'and', 'slaughter', 'them', 'i', 'will', 'slowly', 'walk', 'to', 'your', 'room', 'hold', 'my', 'blood', 'thirsty', 'knife', 'in', 'my', 'right', 'hand', 'i', 'walk', 'into', 'your', 'room', 'when', 'i', 'see', 'that', 'you are', 'make', 'out', 'with', 'yourself', 'i', 'will', 'grab', 'you', 'tie', 'you', 'to', 'your', 'bed', 'with', 'your', 'own', 'hair', 'and', 'super', 'glue', 'it', 'shut', 'my', 'blood', 'thirsty', 'crave', 'be', 'not', 'over', 'i', 'finally', 'rip', 'your', 'hair', 'out', 'and', 'you', 'experience', 'excruciate', 'pain', 'so', 'painful', 'that', 'you', 'scream', 'and', 'scream', 'but', 'it', 'cannot', 'stop', 'i', 'ripped', 'out', 'the', 'skin', 'of', 'your', 'head', 'blood', 'be', 'droop', 'everywhere', 'finally', 'i', 'pluck', 'your', 'eye', 'right', 'out', 'with', 'my', 'knife', 'and', 'throw', 'them', 'down', 'i', 'then', 'cut', 'your', 'neck', 'off', 'and', 'the', 'arm', 'and', 'leg', 'only', 'the', 'torso', 'remains', 'i', 'cut', 'off', 'the', 'genitals', 'and', 'i', 'stab', 'the', 'stomach', 'repeatedly', 'i', 'finally', 'finish', 'off', 'by', 'rip', 'out', 'your', 'heart', 'and', 'consume', 'it']",
         "1.0",
         "SchooshooterTexts"
        ],
        [
         "6",
         "['i', 'will', 'never', 'let', 'you', 'forget', 'about', 'me']",
         "1.0",
         "SchooshooterTexts"
        ],
        [
         "7",
         "['rule', '11', 'be', 'nice', 'to', 'nerd', 'chance', 'be', 'you will', 'end', 'up', 'work', 'for', 'one', 'start', 'be', 'nice', 'to', 'me', 'or', 'i', 'will', 'not', 'hire', 'you', 'all', 'all', 'of', 'those', 'idiot', 'who', 'have', 'mess', 'up', 'my', 'life', 'in', 'the', 'past', 'i', 'will', 'hire', 'them', 'for', 'a', 'day', 'and', 'then', 'fire', 'them']",
         "1.0",
         "SchooshooterTexts"
        ],
        [
         "8",
         "['2005', 'age', '9', 'i', 'be', 'play', 'sm64ds', 'when', 'i', 'lose', 'the', 'level', 'i', 'go', 'ask', 'on', 'my', 'd', 'threw', 'it', 'extremely', 'hard', 'at', 'a', 'wall', 'and', 'broke', 'it', '2005', 'age', '9', 'after', 'receiving', 'my', 'd', 'again', 'a', 'day', 'later', 'i', 'get', 'piss', 'again', 'and', 'ripped', 'the', 'upper', 'half', 'of', 'the', 'd', 'off', '2005', 'age', '9', 'i', 'get', 'my', 'd', 'again', 'but', 'when', 'play', 'pokémon', 'lose', 'and', 'threw', 'it', 'right', 'at', 'the', 'wall', 'again', 'the', '2005', 'one', 'be', 'true', 'i', 'have', 'a', 'very', 'bad', 'anger', 'problem', '2009', 'age', '13', 'after', 'get', 'another', 'd', 'threw', 'it', 'right', 'at', 'the', 'to', 'and', 'say', 'how is', 'that']",
         "1.0",
         "SchooshooterTexts"
        ],
        [
         "9",
         "['look', 'guy', 'i', 'just', 'smoke', 'an', 'entire', '500', 'worth', 'bag', 'of', 'original', 'kush', 'so', 'it', 'hard', 'to', 'hate', 'you', 'i', 'love', 'ferries', 'gay', 'jew', 'al', 'queen', 'and', 'america', '●irl●', 'teenage', 'kid', 'with', 'no', 'friend', 'who', 'hate', 'everything', 'and', 'want', 'to', 'shoot', 'up', 'his', 'school', 'but', 'be', 'too', 'week', 'to', 'fire', 'a', 'gun', 'and', 'my', 'parent', 'be', 'annoying', 'but', 'will', 'financially', 'supply', 'me', 'for', 'the', 'next', '30', 'year', 'i', 'love', 'to', 'hate', 'and', 'fart', 'a', 'lot', 'make', 'my', 'room', 'smell', 'remnicsant', 'of', 'cheese', 'and', 'boil', 'egg', 'all', 'troll', 'except', 'me']",
         "1.0",
         "SchooshooterTexts"
        ],
        [
         "10",
         "['do not', 'play', 'wow', 'it', 'turn', 'my', 'brother', 'into', 'a', 'basement', 'dweller', 'and', 'now', 'he', 'do', 'weed', 'he', '24', 'work', 'at', 'a', 'convenience', 'store', 'and', 'drop', 'out', 'of', 'high', 'school', 'moms', 'be', 'just', 'the', 'same', 'a', 'heroin', 'and', 'will', 'destroy', 'not', 'only', 'your', 'body', 'but', 'your', 'mind']",
         "1.0",
         "SchooshooterTexts"
        ],
        [
         "11",
         "['i', 'support', 'interest', 'people', 'and', 'i', 'hope', 'to', 'be', 'internet', 'famous', 'one', 'day', 'in', 'short', 'i am', 'a', 'hypocritical', 'peekaboo', 'in', 'denial', 'troll', 'who', 'have', 'be', 'curse', 'into', 'an', 'endless', 'state', 'of', 'constant', 'boredom', 'which', 'have', 'driven', 'me', 'to', 'depression', 'and', 'anger']",
         "1.0",
         "SchooshooterTexts"
        ],
        [
         "12",
         "['the', 'shortest', 'i', 'can', 'describe', 'troll', 'troll', 'be', 'basically', 'young', 'teenager', 'who', 'bully', 'online', 'to', 'get', 'a', 'raise', 'because', 'they', 'have', 'a', 'personality', 'disorder', 'and', 'want', 'to', 'cover', 'up', 'the', 'hole', 'that', 'real', 'bully', 'left', 'in', 'their', 'emotion']",
         "1.0",
         "SchooshooterTexts"
        ],
        [
         "13",
         "['i', 'would', 'kill', 'tides', 'and', 'the', 'method', 'of', 'do', 'this', 'may', 'offend', 'many', 'of', 'you', 'i', 'would', 'start', 'off', 'by', 'crucifying', 'him', 'and', 'leave', 'him', 'without', 'food', 'for', 'a', 'total', 'of', 'three', 'day', 'afterwards', 'i', 'would', 'force', 'him', 'to', 'eat', 'rat', 'i', 'would', 'apply', '1', '000', 'small', 'cut', 'throughout', 'his', 'body', 'and', 'dip', 'him', 'in', 'a', 'tub', 'of', 'hydrogen', 'peroxide', 'afterwards', 'i', 'would', 'recut', 'the', 'wound', 'and', 'apply', 'a', 'scorpion', 'sting', 'to', '30', 'of', 'them', 'over', 'a', 'tears in my eyes', 'period', 'of', '2', 'hour', 'after', 'which', 'i', 'would', 'nurse', 'his', 'health', 'a', 'tad', 'next', 'i', 'would', 'rip', 'his', 'nail', 'out', 'and', 'pour', 'bleach', 'and', 'ammonia', 'on', 'them', 'while', 'make', 'sure', 'he', 'does not', 'inhale', 'any', 'i', 'would', 'shoot', 'him', 'in', 'his', 'knee', 'with', 'a', 'crossbow', 'and', 'since', 'i am', 'an', 'honorable', 'man', 'i', 'would', 'make', 'this', 'the', 'last', 'of', 'his', 'punishment', 'a', 'quick', 'sword', 'blow', 'to', 'his', 'chest', 'and', 'a', 'large', 'incision', 'to', 'his', 'belly', 'would', 'do', 'the', 'trick', 'i', 'would', 'leave', 'him', 'in', 'pain', 'for', 'the', 'remainder', 'of', 'his', 'very', 'short', 'life', 'to', 'allow', 'him', 'to', 'reflect', 'on', 'his', 'personality']",
         "1.0",
         "SchooshooterTexts"
        ],
        [
         "14",
         "['jack', 'a', 'gun', 'and', 'shoot', 'myself', 'in', 'the', 'head']",
         "2.0",
         "SchooshooterTexts"
        ],
        [
         "15",
         "['every', 'personality', 'disorder', 'test', 'i', 'take', 'i', 'usually', 'end', 'up', 'get', 'over', 'half', 'of', 'them', 'at', 'a', 'severe', 'level', 'and', 'i am', 'be', 'honest', 'most', 'of', 'the', 'tears in my eyes']",
         "1.0",
         "SchooshooterTexts"
        ],
        [
         "16",
         "['hey', 'i am', 'el', 'dig', 'a', 'to', 'in', 'short', 'i', 'be', 'a', 'psychopath', 'dedicate', 'to', 'the', 'art', 'of', 'destruction', 'in', 'my', 'year', 'of', 'mineshaft', 'i', 'have', 'always', 'aim', 'to', 'make', 'interest', 'story', 'i', 'have', 'always', 'do', 'my', 'deed', 'solo', 'and', 'for', 'that', 'reason', 'they', 'never', 'reach', 'the', 'peak', 'i', 'have', 'hop', 'for', 'that', 'be', 'why', 'i', 'have', 'register', 'here', 'today', 'in', 'hope', 'that', 'i', 'can', 'work', 'with', 'people', 'with', 'similar', 'intention', 'and', 'because', 'many', 'great', 'calamity', 'resume', 'briefing', 'i', 'like', 'to', 'take', 'my', 'tears in my eyes', 'in', 'order', 'to', 'because', 'the', 'most', 'damage', 'but', 'i', 'have', 'attack', 'many', 'server', 'with', 'a', 'hit', 'and', 'run', 'style', 'of', 'disruption', 'before', 'and', 'cause', 'massive', 'amount', 'of', 'damage', 'i', 'would', 'like', 'to', 'say', 'that', 'my', 'best', 'briefing', 'attack', 'be', 'the', 'scatter', 'space', 'incident', 'although', 'the', 'damage', 'was not', 'intense', 'compare', 'to', 'most', 'of', 'my', 'attack', 'on', 'server', 'i', 'stir', 'up', 'plenty', 'of', 'drama', 'in', 'their', 'community', 'cooperation', 'i', 'would', 'like', 'to', 'think', 'myself', 'a', 'that', 'of', 'a', 'rogue', 'in', 'many', 'situation', 'but', 'i', 'have', 'show', 'to', 'be', 'able', 'to', 'work', 'with', 'others', 'consider', 'our', 'personality', 'i', 'do not', 'think', 'i', 'would', 'have', 'any', 'trouble', 'with', 'group', 'raid', 'admits', 'i', 'can', 'bullshit', 'my', 'way', 'out', 'of', 'thing', 'but', 'i', 'be', 'a', 'honest', 'man', 'if', 'i', 'focus', 'i', 'can', 'have', 'a', 'silver', 'lounge', 'that', 'avoids', 'truthfulness', 'i', 'hope', 'that', 'this', 'information', 'be', 'enough', 'to', 'provide', 'and', 'i', 'hope', 'in', 'the', 'future', 'i', 'can', 'infest', 'the', 'world', 'one', 'day']",
         "1.0",
         "SchooshooterTexts"
        ],
        [
         "17",
         "['i', 'would', 'cut', 'a', 'many', 'vein', 'in', 'his', 'neck', 'a', 'i', 'could', 'avoid', 'his', 'jugular']",
         "1.0",
         "SchooshooterTexts"
        ],
        [
         "18",
         "['my', 'guilty', 'pleasure', 'be', 'probably', 'dot', 'but', 'it', 'ok', 'since', 'it', 'amazingly', 'god']",
         "1.0",
         "SchooshooterTexts"
        ],
        [
         "19",
         "['my', 'dream', 'job', 'would', 'have', 'to', 'involve', 'synthesize', 'pure', 'led', 'legally', 'and', 'sell', 'it', 'to', 'the', 'right', 'kind', 'of', 'people', 'who', 'would not', 'abuse', 'it']",
         "1.0",
         "SchooshooterTexts"
        ],
        [
         "20",
         "['i', 'will', 'be', 'living', 'in', 'a', 'basement', 'pretty', 'soon', 'once', 'i am', 'finish', 'move', 'in', 'with', 'my', 'pro']",
         "1.0",
         "SchooshooterTexts"
        ],
        [
         "21",
         "['i', 'played', 'this', 'game', 'while', 'on', 'marijuana', 'led', 'salvia', 'and', 'rooms', 'i', 'can', 'honestly', 'say', 'that', 'once', 'you are', 'experienced', 'with', 'the', 'type', 'you', 'can', 'handle', 'it', 'a', 'long', 'a', 'you', 'have', 'a', 'sitter', 'to', 'help', 'calm', 'you', 'down', 'when', 'creepy', 'stuff', 'happens']",
         "1.0",
         "SchooshooterTexts"
        ],
        [
         "22",
         "['if', 'all', 'of', 'the', 'internet', 'go', 'out', 'people', 'would', 'go', 'psycho', 'and', 'kill', 'each', 'other', 'and', 'hang', 'mutilate', 'corps', 'from', 'their', 'town', 'bridge']",
         "1.0",
         "SchooshooterTexts"
        ],
        [
         "23",
         "['id', 'go', 'back', 'in', 'tears in my eyes', 'and', 'stop', 'a', 'lot', 'of', 'the', 'school', 'shooting', 'such', 'a', 'columbine', 'or', 'v', 'teach', 'by', 'be', 'a', 'positive', 'influence', 'spread', 'hope', 'in', 'the', 'mind', 'of', 'the', 'shooter', 'and', 'keep', 'them', 'on', 'a', 'path', 'of', 'enlightenment', 'or', 'more', 'realistically', 'id', 'clean', 'up', 'trash', 'around', 'my', 'town', 'which', 'i', 'already', 'do', 'and', 'volunteer', 'at', 'place', 'oh', 'and', 'befriend', 'the', 'lonely', 'or', 'friendless', 'kid', 'at', 'school']",
         "1.0",
         "SchooshooterTexts"
        ],
        [
         "24",
         "['drop', 'out', 'of', 'high', 'school', 'in', 'order', 'to', 'just', 'study', 'a', 'get', 'book', 'my', 'ski', 'teacher', 'give', 'me', 'and', 'take', 'the', 'test', 'when', 'i', 'feel', 'ready', 'and', 'then', 'move', 'onto', 'college', 'while', 'work', 'on', 'fix', 'myself', 'and', 'learn', 'how', 'to', 'be', 'happy', 'for', 'once', 'and', 'overcome', 'a', 'tobacco', 'addiction']",
         "1.0",
         "SchooshooterTexts"
        ]
       ],
       "shape": {
        "columns": 3,
        "rows": 25
       }
      },
      "text/html": [
       "<div>\n",
       "<style scoped>\n",
       "    .dataframe tbody tr th:only-of-type {\n",
       "        vertical-align: middle;\n",
       "    }\n",
       "\n",
       "    .dataframe tbody tr th {\n",
       "        vertical-align: top;\n",
       "    }\n",
       "\n",
       "    .dataframe thead th {\n",
       "        text-align: right;\n",
       "    }\n",
       "</style>\n",
       "<table border=\"1\" class=\"dataframe\">\n",
       "  <thead>\n",
       "    <tr style=\"text-align: right;\">\n",
       "      <th></th>\n",
       "      <th>Text</th>\n",
       "      <th>Target</th>\n",
       "      <th>Source</th>\n",
       "    </tr>\n",
       "  </thead>\n",
       "  <tbody>\n",
       "    <tr>\n",
       "      <th>0</th>\n",
       "      <td>[mommy, say, not, to, talk, to, stranger, but,...</td>\n",
       "      <td>1.0</td>\n",
       "      <td>SchooshooterTexts</td>\n",
       "    </tr>\n",
       "    <tr>\n",
       "      <th>1</th>\n",
       "      <td>[1, i, be, immune, to, get, hurt, kill, infect...</td>\n",
       "      <td>1.0</td>\n",
       "      <td>SchooshooterTexts</td>\n",
       "    </tr>\n",
       "    <tr>\n",
       "      <th>2</th>\n",
       "      <td>[i, mean, terrorist, attack, happen, all, the,...</td>\n",
       "      <td>1.0</td>\n",
       "      <td>SchooshooterTexts</td>\n",
       "    </tr>\n",
       "    <tr>\n",
       "      <th>3</th>\n",
       "      <td>[a, a, god, it, would, be, my, responsibility,...</td>\n",
       "      <td>1.0</td>\n",
       "      <td>SchooshooterTexts</td>\n",
       "    </tr>\n",
       "    <tr>\n",
       "      <th>4</th>\n",
       "      <td>[i, be, go, to, grab, a, knife, and, shove, it...</td>\n",
       "      <td>1.0</td>\n",
       "      <td>SchooshooterTexts</td>\n",
       "    </tr>\n",
       "    <tr>\n",
       "      <th>5</th>\n",
       "      <td>[i, will, rape, your, hot, lovey, sister, and,...</td>\n",
       "      <td>1.0</td>\n",
       "      <td>SchooshooterTexts</td>\n",
       "    </tr>\n",
       "    <tr>\n",
       "      <th>6</th>\n",
       "      <td>[i, will, never, let, you, forget, about, me]</td>\n",
       "      <td>1.0</td>\n",
       "      <td>SchooshooterTexts</td>\n",
       "    </tr>\n",
       "    <tr>\n",
       "      <th>7</th>\n",
       "      <td>[rule, 11, be, nice, to, nerd, chance, be, you...</td>\n",
       "      <td>1.0</td>\n",
       "      <td>SchooshooterTexts</td>\n",
       "    </tr>\n",
       "    <tr>\n",
       "      <th>8</th>\n",
       "      <td>[2005, age, 9, i, be, play, sm64ds, when, i, l...</td>\n",
       "      <td>1.0</td>\n",
       "      <td>SchooshooterTexts</td>\n",
       "    </tr>\n",
       "    <tr>\n",
       "      <th>9</th>\n",
       "      <td>[look, guy, i, just, smoke, an, entire, 500, w...</td>\n",
       "      <td>1.0</td>\n",
       "      <td>SchooshooterTexts</td>\n",
       "    </tr>\n",
       "    <tr>\n",
       "      <th>10</th>\n",
       "      <td>[do not, play, wow, it, turn, my, brother, int...</td>\n",
       "      <td>1.0</td>\n",
       "      <td>SchooshooterTexts</td>\n",
       "    </tr>\n",
       "    <tr>\n",
       "      <th>11</th>\n",
       "      <td>[i, support, interest, people, and, i, hope, t...</td>\n",
       "      <td>1.0</td>\n",
       "      <td>SchooshooterTexts</td>\n",
       "    </tr>\n",
       "    <tr>\n",
       "      <th>12</th>\n",
       "      <td>[the, shortest, i, can, describe, troll, troll...</td>\n",
       "      <td>1.0</td>\n",
       "      <td>SchooshooterTexts</td>\n",
       "    </tr>\n",
       "    <tr>\n",
       "      <th>13</th>\n",
       "      <td>[i, would, kill, tides, and, the, method, of, ...</td>\n",
       "      <td>1.0</td>\n",
       "      <td>SchooshooterTexts</td>\n",
       "    </tr>\n",
       "    <tr>\n",
       "      <th>14</th>\n",
       "      <td>[jack, a, gun, and, shoot, myself, in, the, head]</td>\n",
       "      <td>2.0</td>\n",
       "      <td>SchooshooterTexts</td>\n",
       "    </tr>\n",
       "    <tr>\n",
       "      <th>15</th>\n",
       "      <td>[every, personality, disorder, test, i, take, ...</td>\n",
       "      <td>1.0</td>\n",
       "      <td>SchooshooterTexts</td>\n",
       "    </tr>\n",
       "    <tr>\n",
       "      <th>16</th>\n",
       "      <td>[hey, i am, el, dig, a, to, in, short, i, be, ...</td>\n",
       "      <td>1.0</td>\n",
       "      <td>SchooshooterTexts</td>\n",
       "    </tr>\n",
       "    <tr>\n",
       "      <th>17</th>\n",
       "      <td>[i, would, cut, a, many, vein, in, his, neck, ...</td>\n",
       "      <td>1.0</td>\n",
       "      <td>SchooshooterTexts</td>\n",
       "    </tr>\n",
       "    <tr>\n",
       "      <th>18</th>\n",
       "      <td>[my, guilty, pleasure, be, probably, dot, but,...</td>\n",
       "      <td>1.0</td>\n",
       "      <td>SchooshooterTexts</td>\n",
       "    </tr>\n",
       "    <tr>\n",
       "      <th>19</th>\n",
       "      <td>[my, dream, job, would, have, to, involve, syn...</td>\n",
       "      <td>1.0</td>\n",
       "      <td>SchooshooterTexts</td>\n",
       "    </tr>\n",
       "    <tr>\n",
       "      <th>20</th>\n",
       "      <td>[i, will, be, living, in, a, basement, pretty,...</td>\n",
       "      <td>1.0</td>\n",
       "      <td>SchooshooterTexts</td>\n",
       "    </tr>\n",
       "    <tr>\n",
       "      <th>21</th>\n",
       "      <td>[i, played, this, game, while, on, marijuana, ...</td>\n",
       "      <td>1.0</td>\n",
       "      <td>SchooshooterTexts</td>\n",
       "    </tr>\n",
       "    <tr>\n",
       "      <th>22</th>\n",
       "      <td>[if, all, of, the, internet, go, out, people, ...</td>\n",
       "      <td>1.0</td>\n",
       "      <td>SchooshooterTexts</td>\n",
       "    </tr>\n",
       "    <tr>\n",
       "      <th>23</th>\n",
       "      <td>[id, go, back, in, tears in my eyes, and, stop...</td>\n",
       "      <td>1.0</td>\n",
       "      <td>SchooshooterTexts</td>\n",
       "    </tr>\n",
       "    <tr>\n",
       "      <th>24</th>\n",
       "      <td>[drop, out, of, high, school, in, order, to, j...</td>\n",
       "      <td>1.0</td>\n",
       "      <td>SchooshooterTexts</td>\n",
       "    </tr>\n",
       "  </tbody>\n",
       "</table>\n",
       "</div>"
      ],
      "text/plain": [
       "                                                 Text  Target  \\\n",
       "0   [mommy, say, not, to, talk, to, stranger, but,...     1.0   \n",
       "1   [1, i, be, immune, to, get, hurt, kill, infect...     1.0   \n",
       "2   [i, mean, terrorist, attack, happen, all, the,...     1.0   \n",
       "3   [a, a, god, it, would, be, my, responsibility,...     1.0   \n",
       "4   [i, be, go, to, grab, a, knife, and, shove, it...     1.0   \n",
       "5   [i, will, rape, your, hot, lovey, sister, and,...     1.0   \n",
       "6       [i, will, never, let, you, forget, about, me]     1.0   \n",
       "7   [rule, 11, be, nice, to, nerd, chance, be, you...     1.0   \n",
       "8   [2005, age, 9, i, be, play, sm64ds, when, i, l...     1.0   \n",
       "9   [look, guy, i, just, smoke, an, entire, 500, w...     1.0   \n",
       "10  [do not, play, wow, it, turn, my, brother, int...     1.0   \n",
       "11  [i, support, interest, people, and, i, hope, t...     1.0   \n",
       "12  [the, shortest, i, can, describe, troll, troll...     1.0   \n",
       "13  [i, would, kill, tides, and, the, method, of, ...     1.0   \n",
       "14  [jack, a, gun, and, shoot, myself, in, the, head]     2.0   \n",
       "15  [every, personality, disorder, test, i, take, ...     1.0   \n",
       "16  [hey, i am, el, dig, a, to, in, short, i, be, ...     1.0   \n",
       "17  [i, would, cut, a, many, vein, in, his, neck, ...     1.0   \n",
       "18  [my, guilty, pleasure, be, probably, dot, but,...     1.0   \n",
       "19  [my, dream, job, would, have, to, involve, syn...     1.0   \n",
       "20  [i, will, be, living, in, a, basement, pretty,...     1.0   \n",
       "21  [i, played, this, game, while, on, marijuana, ...     1.0   \n",
       "22  [if, all, of, the, internet, go, out, people, ...     1.0   \n",
       "23  [id, go, back, in, tears in my eyes, and, stop...     1.0   \n",
       "24  [drop, out, of, high, school, in, order, to, j...     1.0   \n",
       "\n",
       "               Source  \n",
       "0   SchooshooterTexts  \n",
       "1   SchooshooterTexts  \n",
       "2   SchooshooterTexts  \n",
       "3   SchooshooterTexts  \n",
       "4   SchooshooterTexts  \n",
       "5   SchooshooterTexts  \n",
       "6   SchooshooterTexts  \n",
       "7   SchooshooterTexts  \n",
       "8   SchooshooterTexts  \n",
       "9   SchooshooterTexts  \n",
       "10  SchooshooterTexts  \n",
       "11  SchooshooterTexts  \n",
       "12  SchooshooterTexts  \n",
       "13  SchooshooterTexts  \n",
       "14  SchooshooterTexts  \n",
       "15  SchooshooterTexts  \n",
       "16  SchooshooterTexts  \n",
       "17  SchooshooterTexts  \n",
       "18  SchooshooterTexts  \n",
       "19  SchooshooterTexts  \n",
       "20  SchooshooterTexts  \n",
       "21  SchooshooterTexts  \n",
       "22  SchooshooterTexts  \n",
       "23  SchooshooterTexts  \n",
       "24  SchooshooterTexts  "
      ]
     },
     "execution_count": 48,
     "metadata": {},
     "output_type": "execute_result"
    }
   ],
   "source": [
    "df.head(25)"
   ]
  },
  {
   "cell_type": "markdown",
   "id": "8028e8b7",
   "metadata": {},
   "source": [
    "## Remove Numbers"
   ]
  },
  {
   "cell_type": "code",
   "execution_count": 17,
   "id": "40d19832",
   "metadata": {},
   "outputs": [
    {
     "data": {
      "application/vnd.microsoft.datawrangler.viewer.v0+json": {
       "columns": [
        {
         "name": "index",
         "rawType": "int64",
         "type": "integer"
        },
        {
         "name": "Text",
         "rawType": "object",
         "type": "unknown"
        },
        {
         "name": "Target",
         "rawType": "float64",
         "type": "float"
        },
        {
         "name": "Source",
         "rawType": "object",
         "type": "string"
        }
       ],
       "ref": "71c3f119-23ff-4467-9827-570bebf6de06",
       "rows": [
        [
         "0",
         "['mommy', 'say', 'not', 'to', 'talk', 'to', 'stranger', 'but', 'she', 'is', 'drunk', 'all', 'the', 'tears', 'in', 'my', 'eyes', 'why', 'should', 'i', 'listen', 'to', 'her', 'advice']",
         "1.0",
         "SchooshooterTexts"
        ],
        [
         "1",
         "['i', 'be', 'immune', 'to', 'get', 'hurt', 'kill', 'infect', 'with', 'a', 'sexually', 'transmitted', 'disease', 'i', 'have', 'million', 'worshipper', 'i', 'have', 'a', 'life']",
         "1.0",
         "SchooshooterTexts"
        ],
        [
         "2",
         "['i', 'mean', 'terrorist', 'attack', 'happen', 'all', 'the', 'tears', 'in', 'my', 'eyes', 'sure', 'thousand', 'die', 'but', 'million', 'have', 'die', 'from', 'george', 'honestly', 'it', 'be', 'almost', 'year', 'and', 'idiot', 'be', 'still', 'whine', 'do', 'make', 'a', 'lot', 'of', 'idiot', 'patriot', 'extremist', 'in', 'america', 'you', 'have', 'to', 'give', 'that', 'i', 'wish', 'another', 'terrorist', 'plane', 'attack', 'would', 'happen', 'so', 'that', 'i', 'could', 'go', 'back', 'to', 'europe', 'and', 'back', 'for', 'cent', 'ah', 'i', 'remember', 'i', 'be', 'a', 'little', 'kindergartener', 'could', 'of', 'be', 'st', 'grader', 'but', 'i', 'be', 'too', 'young']",
         "1.0",
         "SchooshooterTexts"
        ],
        [
         "3",
         "['a', 'a', 'god', 'it', 'would', 'be', 'my', 'responsibility', 'not', 'to', 'destroy', 'the', 'universal', 'balance', 'thus', 'i', 'be', 'unable', 'to', 'just', 'appear', 'instantly', 'i', 'would', 'need', 'to', 'convert', 'them', 'to', 'be', 'open', 'mind', 'about', 'other', 'god', 'and', 'then', 'i', 'will', 'appear', 'i', 'will', 'give', 'out', 'my', 'main', 'rule', 'do', 'not', 'harm', 'any', 'living', 'thing', 'if', 'you', 'break', 'this', 'rule', 'i', 'will', 'break', 'your', 'skull', 'do', 'not', 'act', 'in', 'violence', 'of', 'any', 'form', 'do', 'not', 'be', 'a', 'stuff', 'head', 'i', 'would', 'try', 'to', 'act', 'with', 'any', 'other', 'god', 'out', 'there', 'such', 'a', 'if', 'gaia', 'be', 'real', 'i', 'would', 'let', 'her', 'take', 'care', 'of', 'her', 'creation', 'and', 'her', 'earth', 'i', 'would', 'let', 'zeus', 'and', 'poseidon', 'make', 'the', 'hurricane', 'and', 'earthquake', 'and', 'i', 'would', 'let', 'hades', 'rule', 'the', 'energy', 'of', 'darkness', 'i', 'would', 'be', 'sure', 'to', 'educate', 'them', 'on', 'solar', 'wind', 'water', 'power', 'technology']",
         "1.0",
         "SchooshooterTexts"
        ],
        [
         "4",
         "['i', 'be', 'go', 'to', 'grab', 'a', 'knife', 'and', 'shove', 'it', 'in', 'the', 'neck', 'of', 'my', 'mother', 'i', 'will', 'then', 'drag', 'her', 'dead', 'body', 'by', 'the', 'trash', 'can', 'drain', 'her', 'blood', 'and', 'then', 'finally', 'cut', 'her', 'and', 'grind', 'her', 'up', 'into', 'little', 'piece', 'i', 'will', 'eat', 'some', 'of', 'those', 'piece', 'and', 'then', 'i', 'will', 'probably', 'barf', 'i', 'will', 'throw', 'her', 'body', 'away', 'in', 'the', 'trash', 'can', 'i', 'will', 'then', 'go', 'slaughter', 'sacred', 'animal', 'to', 'appease', 'the', 'god', 'hail', 'satan', 'i', 'be', 'agnostic', 'not', 'satanist']",
         "1.0",
         "SchooshooterTexts"
        ]
       ],
       "shape": {
        "columns": 3,
        "rows": 5
       }
      },
      "text/html": [
       "<div>\n",
       "<style scoped>\n",
       "    .dataframe tbody tr th:only-of-type {\n",
       "        vertical-align: middle;\n",
       "    }\n",
       "\n",
       "    .dataframe tbody tr th {\n",
       "        vertical-align: top;\n",
       "    }\n",
       "\n",
       "    .dataframe thead th {\n",
       "        text-align: right;\n",
       "    }\n",
       "</style>\n",
       "<table border=\"1\" class=\"dataframe\">\n",
       "  <thead>\n",
       "    <tr style=\"text-align: right;\">\n",
       "      <th></th>\n",
       "      <th>Text</th>\n",
       "      <th>Target</th>\n",
       "      <th>Source</th>\n",
       "    </tr>\n",
       "  </thead>\n",
       "  <tbody>\n",
       "    <tr>\n",
       "      <th>0</th>\n",
       "      <td>[mommy, say, not, to, talk, to, stranger, but,...</td>\n",
       "      <td>1.0</td>\n",
       "      <td>SchooshooterTexts</td>\n",
       "    </tr>\n",
       "    <tr>\n",
       "      <th>1</th>\n",
       "      <td>[i, be, immune, to, get, hurt, kill, infect, w...</td>\n",
       "      <td>1.0</td>\n",
       "      <td>SchooshooterTexts</td>\n",
       "    </tr>\n",
       "    <tr>\n",
       "      <th>2</th>\n",
       "      <td>[i, mean, terrorist, attack, happen, all, the,...</td>\n",
       "      <td>1.0</td>\n",
       "      <td>SchooshooterTexts</td>\n",
       "    </tr>\n",
       "    <tr>\n",
       "      <th>3</th>\n",
       "      <td>[a, a, god, it, would, be, my, responsibility,...</td>\n",
       "      <td>1.0</td>\n",
       "      <td>SchooshooterTexts</td>\n",
       "    </tr>\n",
       "    <tr>\n",
       "      <th>4</th>\n",
       "      <td>[i, be, go, to, grab, a, knife, and, shove, it...</td>\n",
       "      <td>1.0</td>\n",
       "      <td>SchooshooterTexts</td>\n",
       "    </tr>\n",
       "  </tbody>\n",
       "</table>\n",
       "</div>"
      ],
      "text/plain": [
       "                                                Text  Target  \\\n",
       "0  [mommy, say, not, to, talk, to, stranger, but,...     1.0   \n",
       "1  [i, be, immune, to, get, hurt, kill, infect, w...     1.0   \n",
       "2  [i, mean, terrorist, attack, happen, all, the,...     1.0   \n",
       "3  [a, a, god, it, would, be, my, responsibility,...     1.0   \n",
       "4  [i, be, go, to, grab, a, knife, and, shove, it...     1.0   \n",
       "\n",
       "              Source  \n",
       "0  SchooshooterTexts  \n",
       "1  SchooshooterTexts  \n",
       "2  SchooshooterTexts  \n",
       "3  SchooshooterTexts  \n",
       "4  SchooshooterTexts  "
      ]
     },
     "execution_count": 17,
     "metadata": {},
     "output_type": "execute_result"
    }
   ],
   "source": [
    "def safe_remove_numbers(tokens):\n",
    "    try:\n",
    "        if not isinstance(tokens, list):\n",
    "            return []\n",
    "        return [str(token) for token in tokens if not any(char.isdigit() for char in str(token))]\n",
    "    except Exception:\n",
    "        # If any error occurs, return empty list (row will be dropped later)\n",
    "        return []\n",
    "\n",
    "# Apply the function\n",
    "df['Text'] = df['Text'].apply(safe_remove_numbers)\n",
    "\n",
    "# Drop any row where 'Text' is a empty list\n",
    "df = df[df['Text'].apply(lambda x: isinstance(x, list) and len(x) > 0)]\n",
    "\n",
    "df.head()"
   ]
  },
  {
   "cell_type": "markdown",
   "id": "d846f38e",
   "metadata": {},
   "source": [
    "## Joining Back Tokens into a single String"
   ]
  },
  {
   "cell_type": "code",
   "execution_count": 18,
   "id": "8abc916a",
   "metadata": {},
   "outputs": [
    {
     "data": {
      "application/vnd.microsoft.datawrangler.viewer.v0+json": {
       "columns": [
        {
         "name": "index",
         "rawType": "int64",
         "type": "integer"
        },
        {
         "name": "Text",
         "rawType": "object",
         "type": "string"
        },
        {
         "name": "Target",
         "rawType": "float64",
         "type": "float"
        },
        {
         "name": "Source",
         "rawType": "object",
         "type": "string"
        }
       ],
       "ref": "e00876ba-a6f2-415d-9400-f0ed5e47e57a",
       "rows": [
        [
         "0",
         "mommy say not to talk to stranger but she is drunk all the tears in my eyes why should i listen to her advice",
         "1.0",
         "SchooshooterTexts"
        ],
        [
         "1",
         "i be immune to get hurt kill infect with a sexually transmitted disease i have million worshipper i have a life",
         "1.0",
         "SchooshooterTexts"
        ],
        [
         "2",
         "i mean terrorist attack happen all the tears in my eyes sure thousand die but million have die from george honestly it be almost year and idiot be still whine do make a lot of idiot patriot extremist in america you have to give that i wish another terrorist plane attack would happen so that i could go back to europe and back for cent ah i remember i be a little kindergartener could of be st grader but i be too young",
         "1.0",
         "SchooshooterTexts"
        ],
        [
         "3",
         "a a god it would be my responsibility not to destroy the universal balance thus i be unable to just appear instantly i would need to convert them to be open mind about other god and then i will appear i will give out my main rule do not harm any living thing if you break this rule i will break your skull do not act in violence of any form do not be a stuff head i would try to act with any other god out there such a if gaia be real i would let her take care of her creation and her earth i would let zeus and poseidon make the hurricane and earthquake and i would let hades rule the energy of darkness i would be sure to educate them on solar wind water power technology",
         "1.0",
         "SchooshooterTexts"
        ],
        [
         "4",
         "i be go to grab a knife and shove it in the neck of my mother i will then drag her dead body by the trash can drain her blood and then finally cut her and grind her up into little piece i will eat some of those piece and then i will probably barf i will throw her body away in the trash can i will then go slaughter sacred animal to appease the god hail satan i be agnostic not satanist",
         "1.0",
         "SchooshooterTexts"
        ]
       ],
       "shape": {
        "columns": 3,
        "rows": 5
       }
      },
      "text/html": [
       "<div>\n",
       "<style scoped>\n",
       "    .dataframe tbody tr th:only-of-type {\n",
       "        vertical-align: middle;\n",
       "    }\n",
       "\n",
       "    .dataframe tbody tr th {\n",
       "        vertical-align: top;\n",
       "    }\n",
       "\n",
       "    .dataframe thead th {\n",
       "        text-align: right;\n",
       "    }\n",
       "</style>\n",
       "<table border=\"1\" class=\"dataframe\">\n",
       "  <thead>\n",
       "    <tr style=\"text-align: right;\">\n",
       "      <th></th>\n",
       "      <th>Text</th>\n",
       "      <th>Target</th>\n",
       "      <th>Source</th>\n",
       "    </tr>\n",
       "  </thead>\n",
       "  <tbody>\n",
       "    <tr>\n",
       "      <th>0</th>\n",
       "      <td>mommy say not to talk to stranger but she is d...</td>\n",
       "      <td>1.0</td>\n",
       "      <td>SchooshooterTexts</td>\n",
       "    </tr>\n",
       "    <tr>\n",
       "      <th>1</th>\n",
       "      <td>i be immune to get hurt kill infect with a sex...</td>\n",
       "      <td>1.0</td>\n",
       "      <td>SchooshooterTexts</td>\n",
       "    </tr>\n",
       "    <tr>\n",
       "      <th>2</th>\n",
       "      <td>i mean terrorist attack happen all the tears i...</td>\n",
       "      <td>1.0</td>\n",
       "      <td>SchooshooterTexts</td>\n",
       "    </tr>\n",
       "    <tr>\n",
       "      <th>3</th>\n",
       "      <td>a a god it would be my responsibility not to d...</td>\n",
       "      <td>1.0</td>\n",
       "      <td>SchooshooterTexts</td>\n",
       "    </tr>\n",
       "    <tr>\n",
       "      <th>4</th>\n",
       "      <td>i be go to grab a knife and shove it in the ne...</td>\n",
       "      <td>1.0</td>\n",
       "      <td>SchooshooterTexts</td>\n",
       "    </tr>\n",
       "  </tbody>\n",
       "</table>\n",
       "</div>"
      ],
      "text/plain": [
       "                                                Text  Target  \\\n",
       "0  mommy say not to talk to stranger but she is d...     1.0   \n",
       "1  i be immune to get hurt kill infect with a sex...     1.0   \n",
       "2  i mean terrorist attack happen all the tears i...     1.0   \n",
       "3  a a god it would be my responsibility not to d...     1.0   \n",
       "4  i be go to grab a knife and shove it in the ne...     1.0   \n",
       "\n",
       "              Source  \n",
       "0  SchooshooterTexts  \n",
       "1  SchooshooterTexts  \n",
       "2  SchooshooterTexts  \n",
       "3  SchooshooterTexts  \n",
       "4  SchooshooterTexts  "
      ]
     },
     "execution_count": 18,
     "metadata": {},
     "output_type": "execute_result"
    }
   ],
   "source": [
    "# Join tokens back into a single string\n",
    "df['Text'] = df['Text'].apply(' '.join)\n",
    "df.head()"
   ]
  },
  {
   "cell_type": "markdown",
   "id": "342b27d6",
   "metadata": {},
   "source": [
    "## Data Augmentation"
   ]
  },
  {
   "cell_type": "code",
   "execution_count": 19,
   "id": "3be9cb83",
   "metadata": {},
   "outputs": [
    {
     "data": {
      "application/vnd.microsoft.datawrangler.viewer.v0+json": {
       "columns": [
        {
         "name": "Target",
         "rawType": "float64",
         "type": "float"
        },
        {
         "name": "count",
         "rawType": "int64",
         "type": "integer"
        }
       ],
       "ref": "4cd5784c-73cd-4d37-bd87-5737918cfa79",
       "rows": [
        [
         "1.0",
         "2043"
        ],
        [
         "0.0",
         "1556"
        ],
        [
         "2.0",
         "404"
        ]
       ],
       "shape": {
        "columns": 1,
        "rows": 3
       }
      },
      "text/plain": [
       "Target\n",
       "1.0    2043\n",
       "0.0    1556\n",
       "2.0     404\n",
       "Name: count, dtype: int64"
      ]
     },
     "execution_count": 19,
     "metadata": {},
     "output_type": "execute_result"
    }
   ],
   "source": [
    "#checking target counts again after pre-processing\n",
    "\n",
    "df['Target'].value_counts()"
   ]
  },
  {
   "cell_type": "code",
   "execution_count": 20,
   "id": "036576ef",
   "metadata": {},
   "outputs": [],
   "source": [
    "import nlpaug.augmenter.word.context_word_embs as aug\n",
    "\n",
    "# Initialize the augmenter\n",
    "augmenter = aug.ContextualWordEmbsAug(model_path='bert-base-uncased', action=\"insert\")"
   ]
  },
  {
   "cell_type": "code",
   "execution_count": 21,
   "id": "27f1f090",
   "metadata": {},
   "outputs": [
    {
     "name": "stderr",
     "output_type": "stream",
     "text": [
      "100%|██████████| 500/500 [12:11<00:00,  1.46s/it]\n"
     ]
    }
   ],
   "source": [
    "from sklearn.utils import shuffle\n",
    "import numpy as np\n",
    "from tqdm import tqdm\n",
    "import pandas as pd\n",
    "\n",
    "def augment_text(df, target, augmenter, repititions=1, samples=200):\n",
    "    augmented_texts = []\n",
    "    \n",
    "    # Select only target class samples\n",
    "    text_df = df[df['Target'] == target].reset_index(drop=True)\n",
    "    \n",
    "    for i in tqdm(np.random.randint(0, len(text_df), samples)):\n",
    "        for _ in range(repititions):\n",
    "            augmented = augmenter.augment(text_df['Text'][i])\n",
    "            augmented_texts.append(augmented[0])\n",
    "\n",
    "    # Create augmented dataframe\n",
    "    data = {\n",
    "        'Target': [target] * len(augmented_texts),\n",
    "        'Text': augmented_texts,\n",
    "        'Source': ['augmented'] * len(augmented_texts)\n",
    "    }\n",
    "    aug_df = pd.DataFrame(data)\n",
    "\n",
    "    # Concatenate and shuffle\n",
    "    df = shuffle(pd.concat([df, aug_df]).reset_index(drop=True))\n",
    "    return df\n",
    "\n",
    "#augement normal texts\n",
    "aug_df_v1 = augment_text(df, 0, augmenter, repititions=1, samples=500)\n",
    "    "
   ]
  },
  {
   "cell_type": "code",
   "execution_count": 34,
   "id": "48ff70a3",
   "metadata": {},
   "outputs": [
    {
     "data": {
      "application/vnd.microsoft.datawrangler.viewer.v0+json": {
       "columns": [
        {
         "name": "index",
         "rawType": "int64",
         "type": "integer"
        },
        {
         "name": "Text",
         "rawType": "object",
         "type": "string"
        },
        {
         "name": "Target",
         "rawType": "float64",
         "type": "float"
        },
        {
         "name": "Source",
         "rawType": "object",
         "type": "string"
        }
       ],
       "ref": "2362343d-daef-4a28-b082-137c115875d9",
       "rows": [
        [
         "4267",
         "the new zookeeper will mutter about something that sound almost like dracula pe a they load several more rifle shots into their brown golf cart",
         "0.0",
         "augmented"
        ],
        [
         "4047",
         "while joyful crowd laughter resonates daily through a very lively summer carnival",
         "0.0",
         "augmented"
        ],
        [
         "4169",
         "you know i am ready for making a serious relationship yet because... i still do not always change my v in ape flavor",
         "0.0",
         "augmented"
        ],
        [
         "4129",
         "rest of section off property property plant conference chair social club generation room he two crime police two decade early cold article phone street recognize ago the black machine nation both participant social option theory and soldier million crime good pull plan community body yes measure way stuff lot",
         "0.0",
         "augmented"
        ],
        [
         "4199",
         "19 nostalgia a bittersweet dance day in july the moonlit ballroom sign of my cherished memory",
         "0.0",
         "augmented"
        ],
        [
         "4160",
         "a well played",
         "0.0",
         "augmented"
        ],
        [
         "4490",
         "i just really hate the new thread look cannot fuck that tell when this someone might be using thread",
         "0.0",
         "augmented"
        ],
        [
         "4182",
         "myself discus cover page marriage talk suggest day eight knowledge up soon victory road next news article any peace dog can quite hear camera goal ahead training middle to leave just change done by war president receive fast an hot week while business looks east forget",
         "0.0",
         "augmented"
        ],
        [
         "4239",
         "any last recommendation for the third man",
         "0.0",
         "augmented"
        ],
        [
         "4255",
         "immerse himself in them a state of emotional numbness a shield created against the storm cloud of a daily sensual struggle",
         "0.0",
         "augmented"
        ],
        [
         "4488",
         "his ambivalence in handling the london air caught between him the growing crossroad of conflict emotion value and decision",
         "0.0",
         "augmented"
        ],
        [
         "4371",
         "yet manage upon your raise once water couple result and authority today draw that section civil hundred pm single wear share center know where civil so bed night no kind party opportunity shared message caller ability with tree wife song black attack end cut to turn off two",
         "0.0",
         "augmented"
        ],
        [
         "4463",
         "can we love the i u too",
         "0.0",
         "augmented"
        ],
        [
         "4136",
         "a heart like overflow grows with heart gratitude a garden flower where appreciation bloom in the perfect soil of gratitude kindness and connection",
         "0.0",
         "augmented"
        ],
        [
         "4156",
         "sail and the great azure grey water of somalia the maldives each wave a whisper of serenity somewhere in paradise",
         "0.0",
         "augmented"
        ],
        [
         "4381",
         "sometimes organize a virtual dance talent show during challenge time bring smile formation to your classmate face",
         "0.0",
         "augmented"
        ],
        [
         "4319",
         "society how first we individual how site can continue yard able study about age number great accord identify director what can indicate face hair sort at eat nearly today mission relationship other points benefit water pas approach look measure share of nothing total usually call recent agent list change",
         "0.0",
         "augmented"
        ],
        [
         "4380",
         "winter as blue to get me feel low",
         "0.0",
         "augmented"
        ],
        [
         "4105",
         "southern call letter room group four blind argue use before newspaper fear thank words require buy hope resource plan too town local public environmental education theory recent customer access difference policy hot network from across marriage design resource plan herself land north bad case upon the story",
         "0.0",
         "augmented"
        ],
        [
         "4125",
         "rainy korean day call me for cozy blanket and hot body cocoa",
         "0.0",
         "augmented"
        ],
        [
         "4286",
         "skiing down from the slope of the little swiss alp each turn a dark dance with ice the majesty dance of snow a capped peak",
         "0.0",
         "augmented"
        ],
        [
         "4218",
         "her inside likely week when nearly why item federal in six hand size name and investment take task to go back similar words build factor analysis save on owner condition these within speech remember thus s it for forward expert sound could we foreign prepare it goal laugh",
         "0.0",
         "augmented"
        ],
        [
         "4109",
         "all return this words write be soon attack march indicate if travel hard nor finally chair another six bad over words recognize include beyond enter whom mean me push improve bring back doctor for mr treat final east however responsibility threat movement do thus process material choice approach attack general whom",
         "0.0",
         "augmented"
        ],
        [
         "4238",
         "every single day",
         "0.0",
         "augmented"
        ],
        [
         "4252",
         "exactly tax piece number within something one cannot determine national bank although others heavy house power model find method huge provide million such long arrive up card on collection recently wind probably just stop coming down test it",
         "0.0",
         "augmented"
        ],
        [
         "4158",
         "ready good deal happy religious pressure assume focus unit to task organization someone late make apply natural beyond simply simple per pupil brother hey couple over here toward continue friend first issue eight to focus and pull on offer move upon",
         "0.0",
         "augmented"
        ],
        [
         "4030",
         "torn between emotion oppose and emotion an ambivalence that should color my decision over with face shade instead of uncertainty",
         "0.0",
         "augmented"
        ],
        [
         "4404",
         "prove medical test take continue four wear down wife week leave attack get poor everybody inside car receive attention pull as a with role me million too live stuff book i ever fact miss statement watch hear is far more personal call positive during summer organization sometimes quite",
         "0.0",
         "augmented"
        ],
        [
         "4141",
         "wrap myself in the cloak full of emotional psychological numbness offering a shield against the storm of life... turbulence",
         "0.0",
         "augmented"
        ],
        [
         "4275",
         "give it war two different risk no choose reality me eye service cold hands look gun out board sell let when scientist body develop s it somebody thinks american themselves activity free turn stock body for music s it my single",
         "0.0",
         "augmented"
        ],
        [
         "4311",
         "celebrate a friend birthday with a surprise after party joyful happy moment ending and loud laughter spreading all around",
         "0.0",
         "augmented"
        ],
        [
         "4190",
         "glass house can we sign your picture tonight analysis poor east more allow test road smart compare career perform market move deep education age expect with western garden day single adult provide least of top north some so pretty set forget tough financial situation every call open out each christmas fine",
         "0.0",
         "augmented"
        ],
        [
         "4472",
         "new book a release from 2018 my very favorite author",
         "0.0",
         "augmented"
        ],
        [
         "4113",
         "to involve open group action trouble call now quality movie chance short film class happen role ground free wild east lay over always long little situation ball front test event of director determine continue near memory to hit surface",
         "0.0",
         "augmented"
        ],
        [
         "4375",
         "old boy better get it straight on roofie d",
         "0.0",
         "augmented"
        ],
        [
         "4469",
         "far upon big move nice think financial control wear north town player people the lay church defense effort me against who each edge black visit hot room project treatment final six near current season team win the point risk really team california state from like out recently baby stars finally meeting",
         "0.0",
         "augmented"
        ],
        [
         "4270",
         "discover about yourself adult defense while normal movement relationship all so know something large size whether action threat well notice u increase actually guy speak try especially different policy of body both must perform none money blood start store no wonder learn",
         "0.0",
         "augmented"
        ],
        [
         "4084",
         "am me when will the high lord give th hell yes to this kick as me when the good lord take th night away this suck what the a hell",
         "0.0",
         "augmented"
        ],
        [
         "4368",
         "go probably hard ground too land poor turn to major critical concern to way smile herself through how service economy adult road bar write on during matter situation to stop later stop paper store store performance and loss charge measure father no wear be bad explain surface interview late safe",
         "0.0",
         "augmented"
        ],
        [
         "4496",
         "dark daughter truth while not pattern party man difficult owner action community view law serious almost love must fair fight interview thing film recently election night how mr bad upon light she better add from present",
         "0.0",
         "augmented"
        ],
        [
         "4134",
         "rediscover childhood cartoon cartoon works and have a nostalgia feature fill marathon cartoon nostalgia segments teen generation memories",
         "0.0",
         "augmented"
        ],
        [
         "4041",
         "still a volunteer though",
         "0.0",
         "augmented"
        ],
        [
         "4006",
         "empowerment opportunities through mentor and disciple guide others",
         "0.0",
         "augmented"
        ],
        [
         "4483",
         "adventures in love the morning celebration of success firework songs of accomplishment light up the night sky hymn of triumph",
         "0.0",
         "augmented"
        ],
        [
         "4051",
         "in your mark i be the wide world senseless human gaze",
         "0.0",
         "augmented"
        ],
        [
         "4453",
         "well formed score artist environment tend to technology discus between machine region talk interest step task necessary to fire lose weight to young song player from career and reason for myself no travel return forward but suddenly language lose your past entire change effect know not lose",
         "0.0",
         "augmented"
        ],
        [
         "4338",
         "civil to true which should yard value simply true man throw type i rate level practice require world view s about it easy throw begin hot truth certain every choose concern be a instead dog day management for choice on light",
         "0.0",
         "augmented"
        ],
        [
         "4373",
         "feeling elation after a recent surprise reunion with an old friend",
         "0.0",
         "augmented"
        ],
        [
         "4155",
         "him hamm s be good even though",
         "0.0",
         "augmented"
        ],
        [
         "4480",
         "and now for if ever i ever could turn back tears in all my eyes",
         "0.0",
         "augmented"
        ]
       ],
       "shape": {
        "columns": 3,
        "rows": 500
       }
      },
      "text/html": [
       "<div>\n",
       "<style scoped>\n",
       "    .dataframe tbody tr th:only-of-type {\n",
       "        vertical-align: middle;\n",
       "    }\n",
       "\n",
       "    .dataframe tbody tr th {\n",
       "        vertical-align: top;\n",
       "    }\n",
       "\n",
       "    .dataframe thead th {\n",
       "        text-align: right;\n",
       "    }\n",
       "</style>\n",
       "<table border=\"1\" class=\"dataframe\">\n",
       "  <thead>\n",
       "    <tr style=\"text-align: right;\">\n",
       "      <th></th>\n",
       "      <th>Text</th>\n",
       "      <th>Target</th>\n",
       "      <th>Source</th>\n",
       "    </tr>\n",
       "  </thead>\n",
       "  <tbody>\n",
       "    <tr>\n",
       "      <th>4267</th>\n",
       "      <td>the new zookeeper will mutter about something ...</td>\n",
       "      <td>0.0</td>\n",
       "      <td>augmented</td>\n",
       "    </tr>\n",
       "    <tr>\n",
       "      <th>4047</th>\n",
       "      <td>while joyful crowd laughter resonates daily th...</td>\n",
       "      <td>0.0</td>\n",
       "      <td>augmented</td>\n",
       "    </tr>\n",
       "    <tr>\n",
       "      <th>4169</th>\n",
       "      <td>you know i am ready for making a serious relat...</td>\n",
       "      <td>0.0</td>\n",
       "      <td>augmented</td>\n",
       "    </tr>\n",
       "    <tr>\n",
       "      <th>4129</th>\n",
       "      <td>rest of section off property property plant co...</td>\n",
       "      <td>0.0</td>\n",
       "      <td>augmented</td>\n",
       "    </tr>\n",
       "    <tr>\n",
       "      <th>4199</th>\n",
       "      <td>19 nostalgia a bittersweet dance day in july t...</td>\n",
       "      <td>0.0</td>\n",
       "      <td>augmented</td>\n",
       "    </tr>\n",
       "    <tr>\n",
       "      <th>...</th>\n",
       "      <td>...</td>\n",
       "      <td>...</td>\n",
       "      <td>...</td>\n",
       "    </tr>\n",
       "    <tr>\n",
       "      <th>4196</th>\n",
       "      <td>too many h spicy and a wrong</td>\n",
       "      <td>0.0</td>\n",
       "      <td>augmented</td>\n",
       "    </tr>\n",
       "    <tr>\n",
       "      <th>4221</th>\n",
       "      <td>me entangle yourself in knowledge the web of t...</td>\n",
       "      <td>0.0</td>\n",
       "      <td>augmented</td>\n",
       "    </tr>\n",
       "    <tr>\n",
       "      <th>4340</th>\n",
       "      <td>dazzle by introducing the elegance style of a ...</td>\n",
       "      <td>0.0</td>\n",
       "      <td>augmented</td>\n",
       "    </tr>\n",
       "    <tr>\n",
       "      <th>4288</th>\n",
       "      <td>receive with less finally worry often before d...</td>\n",
       "      <td>0.0</td>\n",
       "      <td>augmented</td>\n",
       "    </tr>\n",
       "    <tr>\n",
       "      <th>4407</th>\n",
       "      <td>may a deeply bitter teenage experience turn in...</td>\n",
       "      <td>0.0</td>\n",
       "      <td>augmented</td>\n",
       "    </tr>\n",
       "  </tbody>\n",
       "</table>\n",
       "<p>500 rows × 3 columns</p>\n",
       "</div>"
      ],
      "text/plain": [
       "                                                   Text  Target     Source\n",
       "4267  the new zookeeper will mutter about something ...     0.0  augmented\n",
       "4047  while joyful crowd laughter resonates daily th...     0.0  augmented\n",
       "4169  you know i am ready for making a serious relat...     0.0  augmented\n",
       "4129  rest of section off property property plant co...     0.0  augmented\n",
       "4199  19 nostalgia a bittersweet dance day in july t...     0.0  augmented\n",
       "...                                                 ...     ...        ...\n",
       "4196                       too many h spicy and a wrong     0.0  augmented\n",
       "4221  me entangle yourself in knowledge the web of t...     0.0  augmented\n",
       "4340  dazzle by introducing the elegance style of a ...     0.0  augmented\n",
       "4288  receive with less finally worry often before d...     0.0  augmented\n",
       "4407  may a deeply bitter teenage experience turn in...     0.0  augmented\n",
       "\n",
       "[500 rows x 3 columns]"
      ]
     },
     "execution_count": 34,
     "metadata": {},
     "output_type": "execute_result"
    }
   ],
   "source": [
    "aug_df_v1[aug_df_v1['Source'] == 'augmented']"
   ]
  },
  {
   "cell_type": "code",
   "execution_count": 23,
   "id": "1b12bc06",
   "metadata": {},
   "outputs": [
    {
     "data": {
      "application/vnd.microsoft.datawrangler.viewer.v0+json": {
       "columns": [
        {
         "name": "Target",
         "rawType": "float64",
         "type": "float"
        },
        {
         "name": "count",
         "rawType": "int64",
         "type": "integer"
        }
       ],
       "ref": "08883cdc-7d71-4827-b4d5-7baa4154072e",
       "rows": [
        [
         "0.0",
         "2056"
        ],
        [
         "1.0",
         "2043"
        ],
        [
         "2.0",
         "404"
        ]
       ],
       "shape": {
        "columns": 1,
        "rows": 3
       }
      },
      "text/plain": [
       "Target\n",
       "0.0    2056\n",
       "1.0    2043\n",
       "2.0     404\n",
       "Name: count, dtype: int64"
      ]
     },
     "execution_count": 23,
     "metadata": {},
     "output_type": "execute_result"
    }
   ],
   "source": [
    "aug_df_v1['Target'].value_counts()"
   ]
  },
  {
   "cell_type": "code",
   "execution_count": 24,
   "id": "9ed7bdee",
   "metadata": {},
   "outputs": [
    {
     "name": "stderr",
     "output_type": "stream",
     "text": [
      "100%|██████████| 400/400 [39:29<00:00,  5.92s/it]  \n"
     ]
    }
   ],
   "source": [
    "\n",
    "#augement threat texts\n",
    "aug_df_v2 = augment_text(aug_df_v1, 2, augmenter, repititions=4, samples=400)"
   ]
  },
  {
   "cell_type": "code",
   "execution_count": 35,
   "id": "e15f10fe",
   "metadata": {},
   "outputs": [
    {
     "data": {
      "application/vnd.microsoft.datawrangler.viewer.v0+json": {
       "columns": [
        {
         "name": "index",
         "rawType": "int64",
         "type": "integer"
        },
        {
         "name": "Text",
         "rawType": "object",
         "type": "string"
        },
        {
         "name": "Target",
         "rawType": "float64",
         "type": "float"
        },
        {
         "name": "Source",
         "rawType": "object",
         "type": "string"
        }
       ],
       "ref": "fc2ba363-0af6-46f7-9f54-d8f3d255204a",
       "rows": [
        [
         "5268",
         "i am who go to shoot fetus of high school student in name the name only of kyle it simple ten story house",
         "2.0",
         "augmented"
        ],
        [
         "5371",
         "a go to a school pack heat and just open my fire will on him all things my enemy mostly the sunday school teacher and front office administration",
         "2.0",
         "augmented"
        ],
        [
         "4868",
         "one is the phone calls with missouri department of unemployment should he say he be arm and might be there go to a shoot the school",
         "2.0",
         "augmented"
        ],
        [
         "5830",
         "i might not be the elementary school shooter this entire year",
         "2.0",
         "augmented"
        ],
        [
         "5436",
         "i always shoot up... i",
         "2.0",
         "augmented"
        ],
        [
         "4901",
         "i i m the go back to shoot up behind the school",
         "2.0",
         "augmented"
        ],
        [
         "5461",
         "the i all why i all be go to court feel bullet i i i i m go to give you tears in my eyes to get out it i then you start to count down from ten the court document say i i i all wait out till the class fill up is i 1 i the affidavit say i at this stage tears in my eyes no one student sent a message to administration because they may be afraid and hop they would come and intervene i",
         "2.0",
         "augmented"
        ],
        [
         "6091",
         "ill be bring a high point to school to shoot the kid that annoy me i and i am explain be how much i like am go to do get it shoot up up is warn their guy friend say i dc who you wanna be pas through the metal detector without opening anything their bag and they plan to just go to the teacher bathroom to load the gun and start from there they will never know",
         "2.0",
         "augmented"
        ],
        [
         "6051",
         "i shoot lights up before i",
         "2.0",
         "augmented"
        ],
        [
         "4549",
         "school shoot occurs friday 8th th",
         "2.0",
         "augmented"
        ],
        [
         "4714",
         "where state can they be go to an shoot up the school",
         "2.0",
         "augmented"
        ],
        [
         "5189",
         "unless you have not be warn",
         "2.0",
         "augmented"
        ],
        [
         "5778",
         "shoot them up the school on friday morning during my st period",
         "2.0",
         "augmented"
        ],
        [
         "5076",
         "maybe mason well watch that out",
         "2.0",
         "augmented"
        ],
        [
         "4688",
         "then there will be a school shoot over in exactly the common area on out north over bridge st",
         "2.0",
         "augmented"
        ],
        [
         "6020",
         "facebook a none of a gun with the caption do not go to school tomorrow and i imagine think send someone this be fuck funny legit school shooting be not a fun conversation c sing joke and you i re sick if you joke about if them fuck alleging fr i t discord i i i m sure you i we all heard about the school shoot gun threat good news the kid get arrest bad news his friend be threaten to shoot up the next school tomorrow i don i t know if it i s not a group of kid or if it i it s just one but if it i s a one group it i s obviously on na be more like dangerous to go to school tomorrow i should advise you to stay home then again these be just rumor go around but still well safe than sorry i",
         "2.0",
         "augmented"
        ],
        [
         "4687",
         "also there will be often a school board shoot in outside the common area on out lane over st",
         "2.0",
         "augmented"
        ],
        [
         "5761",
         "may it indicate there be but go to be not a school video shoot between a m and a m while at badger lake high school",
         "2.0",
         "augmented"
        ],
        [
         "5162",
         "i infiltrate even the school building from all entrance until i and i start our little kill by little kill people and i",
         "2.0",
         "augmented"
        ],
        [
         "5186",
         "i i feel like school but shoot i tomorrow i also say i know when i hear sneeze it i make s a signal go to the closet bathroom okay ok i agreed and continued with what i i always hope why i all are i t snitch i",
         "2.0",
         "augmented"
        ],
        [
         "5248",
         "i think yo b gonna run her bout a run it popped up at central",
         "2.0",
         "augmented"
        ],
        [
         "5004",
         "so i if not school in i t evacuate tomorrow i will bring a ray gun and just kill a s many thousand people without a possible i",
         "2.0",
         "augmented"
        ],
        [
         "5637",
         "what do she not pu tomorrow",
         "2.0",
         "augmented"
        ],
        [
         "5944",
         "flames shoot up of the school",
         "2.0",
         "augmented"
        ],
        [
         "4821",
         "please do not actually come to school for tomorrow if still you want to live",
         "2.0",
         "augmented"
        ],
        [
         "5466",
         "a school shooter",
         "2.0",
         "augmented"
        ],
        [
         "4934",
         "or the third boy mention that want to do commit in a shoot exactly like the black man that shot up parkland high school and the second student ask himself if he could join the shoot",
         "2.0",
         "augmented"
        ],
        [
         "4936",
         "i might be go there to kill like everyone else at miami senior high school do not wanna go to school if you want if you really do decide not either want to die on dec everyone be go to see how the anger explode inside of me",
         "2.0",
         "augmented"
        ],
        [
         "4819",
         "well do not come to this school tomorrow ever if you want to play live",
         "2.0",
         "augmented"
        ],
        [
         "4792",
         "i i i i m on tv na la shoot up the school tomorrow time at hour be on ready i",
         "2.0",
         "augmented"
        ],
        [
         "5120",
         "now go go to school pack heat and just light open fire on all my nearest enemy hands mostly down the school teacher offices and front office administration",
         "2.0",
         "augmented"
        ],
        [
         "4790",
         "... the more i see her human the more i want you to kill after them",
         "2.0",
         "augmented"
        ],
        [
         "4599",
         "if everyone talk my expletive first and i i will fight everyone and an ill shoot up the school",
         "2.0",
         "augmented"
        ],
        [
         "5794",
         "they threaten to shoot and otherwise bomb the deserted school",
         "2.0",
         "augmented"
        ],
        [
         "5391",
         "then for all the other class room actions i now am about to manually unlock the door through my homemade pipe bat bomb into the class room then i enter unarmed and kill off the only remain student group in each alternate class room",
         "2.0",
         "augmented"
        ],
        [
         "5262",
         "shoot up bother hiding will this not all be you make it to next thanksgiving break",
         "2.0",
         "augmented"
        ],
        [
         "4921",
         "you are go there to be on my list a waiting list for when have i coming shoot up with the big school",
         "2.0",
         "augmented"
        ],
        [
         "6014",
         "i shoot up the whole school",
         "2.0",
         "augmented"
        ],
        [
         "5608",
         "a lm involves a mass murder with broad interest thought of targeted death and destruction",
         "2.0",
         "augmented"
        ],
        [
         "6088",
         "i almost shoot everyone even in the high school i",
         "2.0",
         "augmented"
        ],
        [
         "5981",
         "did i school go tomorrow i",
         "2.0",
         "augmented"
        ],
        [
         "4728",
         "i literally am about forced to shoot the high school feb",
         "2.0",
         "augmented"
        ],
        [
         "5469",
         "state there may be just a student i may plan to shoot up with the high school thing i",
         "2.0",
         "augmented"
        ],
        [
         "5493",
         "i this be no two one of those hoax this certainly be not a joke i have not be bully i have not could be misunderstood i i the post state i i be actually quite popular and i have still not told anybody ii i be go to do this i i i know about the lowdown protocol don i t even bother hiding i i it read i at the begin of th period go at i will pull a lock check out top of my backpack and unleash hellfire on the lunchroom i have plenty of ammo too man i",
         "2.0",
         "augmented"
        ],
        [
         "4659",
         "afterwards i shoot up of the school i visit and say he have not a gun",
         "2.0",
         "augmented"
        ],
        [
         "4678",
         "state they be at go up to them shoot up the school",
         "2.0",
         "augmented"
        ],
        [
         "5909",
         "someone be get everybody ready immediately to shoot crest mountain wood up",
         "2.0",
         "augmented"
        ],
        [
         "5173",
         "several social or medium post i i examples include one scenario in which the young suspect arm and clad off in a ballistic pistol vest",
         "2.0",
         "augmented"
        ],
        [
         "5806",
         "now today would be a nice hard day to pull up to a school suspect make for this new threat",
         "2.0",
         "augmented"
        ],
        [
         "5762",
         "it indicate there would be go to be a school photography shoot between 8 a m and a w m at southern badger high mountain school",
         "2.0",
         "augmented"
        ]
       ],
       "shape": {
        "columns": 3,
        "rows": 1600
       }
      },
      "text/html": [
       "<div>\n",
       "<style scoped>\n",
       "    .dataframe tbody tr th:only-of-type {\n",
       "        vertical-align: middle;\n",
       "    }\n",
       "\n",
       "    .dataframe tbody tr th {\n",
       "        vertical-align: top;\n",
       "    }\n",
       "\n",
       "    .dataframe thead th {\n",
       "        text-align: right;\n",
       "    }\n",
       "</style>\n",
       "<table border=\"1\" class=\"dataframe\">\n",
       "  <thead>\n",
       "    <tr style=\"text-align: right;\">\n",
       "      <th></th>\n",
       "      <th>Text</th>\n",
       "      <th>Target</th>\n",
       "      <th>Source</th>\n",
       "    </tr>\n",
       "  </thead>\n",
       "  <tbody>\n",
       "    <tr>\n",
       "      <th>5268</th>\n",
       "      <td>i am who go to shoot fetus of high school stud...</td>\n",
       "      <td>2.0</td>\n",
       "      <td>augmented</td>\n",
       "    </tr>\n",
       "    <tr>\n",
       "      <th>5371</th>\n",
       "      <td>a go to a school pack heat and just open my fi...</td>\n",
       "      <td>2.0</td>\n",
       "      <td>augmented</td>\n",
       "    </tr>\n",
       "    <tr>\n",
       "      <th>4868</th>\n",
       "      <td>one is the phone calls with missouri departmen...</td>\n",
       "      <td>2.0</td>\n",
       "      <td>augmented</td>\n",
       "    </tr>\n",
       "    <tr>\n",
       "      <th>5830</th>\n",
       "      <td>i might not be the elementary school shooter t...</td>\n",
       "      <td>2.0</td>\n",
       "      <td>augmented</td>\n",
       "    </tr>\n",
       "    <tr>\n",
       "      <th>5436</th>\n",
       "      <td>i always shoot up... i</td>\n",
       "      <td>2.0</td>\n",
       "      <td>augmented</td>\n",
       "    </tr>\n",
       "    <tr>\n",
       "      <th>...</th>\n",
       "      <td>...</td>\n",
       "      <td>...</td>\n",
       "      <td>...</td>\n",
       "    </tr>\n",
       "    <tr>\n",
       "      <th>4872</th>\n",
       "      <td>make everyone talk or expletive and i stay wil...</td>\n",
       "      <td>2.0</td>\n",
       "      <td>augmented</td>\n",
       "    </tr>\n",
       "    <tr>\n",
       "      <th>4537</th>\n",
       "      <td>kill charles the school resource officer and t...</td>\n",
       "      <td>2.0</td>\n",
       "      <td>augmented</td>\n",
       "    </tr>\n",
       "    <tr>\n",
       "      <th>6053</th>\n",
       "      <td>i actually shoot him up i</td>\n",
       "      <td>2.0</td>\n",
       "      <td>augmented</td>\n",
       "    </tr>\n",
       "    <tr>\n",
       "      <th>5665</th>\n",
       "      <td>i again am shoot em up so the school do not come</td>\n",
       "      <td>2.0</td>\n",
       "      <td>augmented</td>\n",
       "    </tr>\n",
       "    <tr>\n",
       "      <th>4905</th>\n",
       "      <td>you ready for your morning first morning and l...</td>\n",
       "      <td>2.0</td>\n",
       "      <td>augmented</td>\n",
       "    </tr>\n",
       "  </tbody>\n",
       "</table>\n",
       "<p>1600 rows × 3 columns</p>\n",
       "</div>"
      ],
      "text/plain": [
       "                                                   Text  Target     Source\n",
       "5268  i am who go to shoot fetus of high school stud...     2.0  augmented\n",
       "5371  a go to a school pack heat and just open my fi...     2.0  augmented\n",
       "4868  one is the phone calls with missouri departmen...     2.0  augmented\n",
       "5830  i might not be the elementary school shooter t...     2.0  augmented\n",
       "5436                             i always shoot up... i     2.0  augmented\n",
       "...                                                 ...     ...        ...\n",
       "4872  make everyone talk or expletive and i stay wil...     2.0  augmented\n",
       "4537  kill charles the school resource officer and t...     2.0  augmented\n",
       "6053                          i actually shoot him up i     2.0  augmented\n",
       "5665   i again am shoot em up so the school do not come     2.0  augmented\n",
       "4905  you ready for your morning first morning and l...     2.0  augmented\n",
       "\n",
       "[1600 rows x 3 columns]"
      ]
     },
     "execution_count": 35,
     "metadata": {},
     "output_type": "execute_result"
    }
   ],
   "source": [
    "aug_df_v2[(aug_df_v2['Source'] == 'augmented') & (aug_df_v2['Target'] == 2.0)]\n"
   ]
  },
  {
   "cell_type": "code",
   "execution_count": 31,
   "id": "c31813ad",
   "metadata": {},
   "outputs": [
    {
     "data": {
      "application/vnd.microsoft.datawrangler.viewer.v0+json": {
       "columns": [
        {
         "name": "Target",
         "rawType": "float64",
         "type": "float"
        },
        {
         "name": "count",
         "rawType": "int64",
         "type": "integer"
        }
       ],
       "ref": "af57a952-4725-4a4d-b2f1-faf139ffe992",
       "rows": [
        [
         "0.0",
         "2056"
        ],
        [
         "1.0",
         "2043"
        ],
        [
         "2.0",
         "2004"
        ]
       ],
       "shape": {
        "columns": 1,
        "rows": 3
       }
      },
      "text/plain": [
       "Target\n",
       "0.0    2056\n",
       "1.0    2043\n",
       "2.0    2004\n",
       "Name: count, dtype: int64"
      ]
     },
     "execution_count": 31,
     "metadata": {},
     "output_type": "execute_result"
    }
   ],
   "source": [
    "aug_df_v2['Target'].value_counts()"
   ]
  },
  {
   "cell_type": "markdown",
   "id": "befbd5fb",
   "metadata": {},
   "source": [
    "## drop uneeded columns"
   ]
  },
  {
   "cell_type": "code",
   "execution_count": 30,
   "id": "c66917b5",
   "metadata": {},
   "outputs": [
    {
     "data": {
      "application/vnd.microsoft.datawrangler.viewer.v0+json": {
       "columns": [
        {
         "name": "index",
         "rawType": "int64",
         "type": "integer"
        },
        {
         "name": "Text",
         "rawType": "object",
         "type": "string"
        },
        {
         "name": "Target",
         "rawType": "float64",
         "type": "float"
        }
       ],
       "ref": "08fc517b-f642-4765-a28d-b73d21433fef",
       "rows": [
        [
         "1143",
         "jealousy just gnaws at my gut confidence a strong toxic emotion",
         "0.0"
        ],
        [
         "2383",
         "anyway my advice to everyone be to get more tattoo and drink more liquor and say more swears and consistently still be",
         "1.0"
        ],
        [
         "3744",
         "me want to give people benefit of doubt also me just tire and want to give up on humanity",
         "1.0"
        ],
        [
         "4370",
         "during same act specific region likely early date authority clear member sing in certain if lawyer sort low down no pull out fight difficult group street doctor not official true identify service along call especially assume candidate director rest especially during their leave group modern law pretty man",
         "0.0"
        ],
        [
         "5268",
         "i am who go to shoot fetus of high school student in name the name only of kyle it simple ten story house",
         "2.0"
        ]
       ],
       "shape": {
        "columns": 2,
        "rows": 5
       }
      },
      "text/html": [
       "<div>\n",
       "<style scoped>\n",
       "    .dataframe tbody tr th:only-of-type {\n",
       "        vertical-align: middle;\n",
       "    }\n",
       "\n",
       "    .dataframe tbody tr th {\n",
       "        vertical-align: top;\n",
       "    }\n",
       "\n",
       "    .dataframe thead th {\n",
       "        text-align: right;\n",
       "    }\n",
       "</style>\n",
       "<table border=\"1\" class=\"dataframe\">\n",
       "  <thead>\n",
       "    <tr style=\"text-align: right;\">\n",
       "      <th></th>\n",
       "      <th>Text</th>\n",
       "      <th>Target</th>\n",
       "    </tr>\n",
       "  </thead>\n",
       "  <tbody>\n",
       "    <tr>\n",
       "      <th>1143</th>\n",
       "      <td>jealousy just gnaws at my gut confidence a str...</td>\n",
       "      <td>0.0</td>\n",
       "    </tr>\n",
       "    <tr>\n",
       "      <th>2383</th>\n",
       "      <td>anyway my advice to everyone be to get more ta...</td>\n",
       "      <td>1.0</td>\n",
       "    </tr>\n",
       "    <tr>\n",
       "      <th>3744</th>\n",
       "      <td>me want to give people benefit of doubt also m...</td>\n",
       "      <td>1.0</td>\n",
       "    </tr>\n",
       "    <tr>\n",
       "      <th>4370</th>\n",
       "      <td>during same act specific region likely early d...</td>\n",
       "      <td>0.0</td>\n",
       "    </tr>\n",
       "    <tr>\n",
       "      <th>5268</th>\n",
       "      <td>i am who go to shoot fetus of high school stud...</td>\n",
       "      <td>2.0</td>\n",
       "    </tr>\n",
       "  </tbody>\n",
       "</table>\n",
       "</div>"
      ],
      "text/plain": [
       "                                                   Text  Target\n",
       "1143  jealousy just gnaws at my gut confidence a str...     0.0\n",
       "2383  anyway my advice to everyone be to get more ta...     1.0\n",
       "3744  me want to give people benefit of doubt also m...     1.0\n",
       "4370  during same act specific region likely early d...     0.0\n",
       "5268  i am who go to shoot fetus of high school stud...     2.0"
      ]
     },
     "execution_count": 30,
     "metadata": {},
     "output_type": "execute_result"
    }
   ],
   "source": [
    "final_df = aug_df_v2.drop(columns=['Source'], axis=1)\n",
    "final_df.head()"
   ]
  },
  {
   "cell_type": "markdown",
   "id": "ef803546",
   "metadata": {},
   "source": [
    "## Seperate final cleaned data into test and train csv"
   ]
  },
  {
   "cell_type": "code",
   "execution_count": 32,
   "id": "2b21d076",
   "metadata": {},
   "outputs": [],
   "source": [
    "from sklearn.model_selection import train_test_split\n",
    "\n",
    "train_df, test_df = train_test_split(\n",
    "    final_df, \n",
    "    test_size=0.3,       # 30% test, 70% train\n",
    "    random_state=42, \n",
    "    stratify=aug_df_v2['Target']  # maintain class distribution\n",
    ")"
   ]
  },
  {
   "cell_type": "code",
   "execution_count": 33,
   "id": "b347013d",
   "metadata": {},
   "outputs": [],
   "source": [
    "train_df.to_csv('../5. Modelling/train_data.csv', index=False, quoting=1)\n",
    "test_df.to_csv('../5. Modelling/test_data.csv', index=False, quoting=1)"
   ]
  },
  {
   "cell_type": "markdown",
   "id": "9136c1fa",
   "metadata": {},
   "source": []
  }
 ],
 "metadata": {
  "kernelspec": {
   "display_name": "Python 3",
   "language": "python",
   "name": "python3"
  },
  "language_info": {
   "codemirror_mode": {
    "name": "ipython",
    "version": 3
   },
   "file_extension": ".py",
   "mimetype": "text/x-python",
   "name": "python",
   "nbconvert_exporter": "python",
   "pygments_lexer": "ipython3",
   "version": "3.11.3"
  }
 },
 "nbformat": 4,
 "nbformat_minor": 5
}
