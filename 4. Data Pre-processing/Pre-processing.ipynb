{
 "cells": [
  {
   "cell_type": "markdown",
   "id": "0fa6c050",
   "metadata": {},
   "source": [
    "## Load Dataset"
   ]
  },
  {
   "cell_type": "code",
   "execution_count": 1,
   "id": "cad96367",
   "metadata": {},
   "outputs": [
    {
     "name": "stdout",
     "output_type": "stream",
     "text": [
      "<class 'pandas.core.frame.DataFrame'>\n",
      "RangeIndex: 4280 entries, 0 to 4279\n",
      "Data columns (total 3 columns):\n",
      " #   Column  Non-Null Count  Dtype  \n",
      "---  ------  --------------  -----  \n",
      " 0   Text    4278 non-null   object \n",
      " 1   Target  4280 non-null   float64\n",
      " 2   Source  4280 non-null   object \n",
      "dtypes: float64(1), object(2)\n",
      "memory usage: 100.4+ KB\n"
     ]
    },
    {
     "data": {
      "application/vnd.microsoft.datawrangler.viewer.v0+json": {
       "columns": [
        {
         "name": "index",
         "rawType": "int64",
         "type": "integer"
        },
        {
         "name": "Text",
         "rawType": "object",
         "type": "string"
        },
        {
         "name": "Target",
         "rawType": "float64",
         "type": "float"
        },
        {
         "name": "Source",
         "rawType": "object",
         "type": "string"
        }
       ],
       "ref": "efb548b0-1f33-4e6d-a427-08b92a16114f",
       "rows": [
        [
         "0",
         "Mommy said not to talk to strangers..but she's drunk all the time why should I listen to her advice?",
         "1.0",
         "SchooshooterTexts"
        ],
        [
         "1",
         "1.I was immune to getting hurt/killed/infected with a std\n2.I had 43 million worshippers\n3.I had a life..",
         "1.0",
         "SchooshooterTexts"
        ],
        [
         "2",
         "I mean terrorist attacks happen all the time. Sure thousands died, but millions have died from George. Honestly, it's been almost 10 years and idiots are still whining. 911 did make a lot of idiot patriot extremists in america, you have to give 911 that. I wish another terrorist plane attack would happen so that I could go back to europe and back for 3 cents. Ahh, I remember I was a little kindergartener.. (Could of been 1st grader but I was \"too\nyoung\")",
         "1.0",
         "SchooshooterTexts"
        ],
        [
         "3",
         "As a god, it would be my responsibility not to destroy the universal balance; thus, I am unable to just appear instantly. I would need to \"convert\" them to being open minded about other gods and then I will appear. I will give out my 3 main rules:\n\n1.Do not harm any living thing, if you break this rule, I will break your skull.\n2.Do not act in violence of any form.\n3.Don't be a stuffhead.\n\nI would try to act with any other gods out there, such as if Gaia was real, I would let her take care of her creations, and her earth. I would let Zeus and Poseidon make the hurricanes and earthquakes, and I would let Hades rule the energy of darkness.\n\nI would be sure to \"Educate\" them on solar/wind/water powered technology.",
         "1.0",
         "SchooshooterTexts"
        ],
        [
         "4",
         "I am going to grab a knife and shove it in the neck of my mother. I will then drag her dead body by the trash can, drain her blood and then finally cut her and grind her up into little pieces. I will eat some of those pieces and then I will probably barf.. I will throw her body away in the trash can.. I will then go slaughter sacred animals to appease the gods.\n\nHAIL SATAN\n\n..I am agnostic, not satanist..",
         "1.0",
         "SchooshooterTexts"
        ]
       ],
       "shape": {
        "columns": 3,
        "rows": 5
       }
      },
      "text/html": [
       "<div>\n",
       "<style scoped>\n",
       "    .dataframe tbody tr th:only-of-type {\n",
       "        vertical-align: middle;\n",
       "    }\n",
       "\n",
       "    .dataframe tbody tr th {\n",
       "        vertical-align: top;\n",
       "    }\n",
       "\n",
       "    .dataframe thead th {\n",
       "        text-align: right;\n",
       "    }\n",
       "</style>\n",
       "<table border=\"1\" class=\"dataframe\">\n",
       "  <thead>\n",
       "    <tr style=\"text-align: right;\">\n",
       "      <th></th>\n",
       "      <th>Text</th>\n",
       "      <th>Target</th>\n",
       "      <th>Source</th>\n",
       "    </tr>\n",
       "  </thead>\n",
       "  <tbody>\n",
       "    <tr>\n",
       "      <th>0</th>\n",
       "      <td>Mommy said not to talk to strangers..but she's...</td>\n",
       "      <td>1.0</td>\n",
       "      <td>SchooshooterTexts</td>\n",
       "    </tr>\n",
       "    <tr>\n",
       "      <th>1</th>\n",
       "      <td>1.I was immune to getting hurt/killed/infected...</td>\n",
       "      <td>1.0</td>\n",
       "      <td>SchooshooterTexts</td>\n",
       "    </tr>\n",
       "    <tr>\n",
       "      <th>2</th>\n",
       "      <td>I mean terrorist attacks happen all the time. ...</td>\n",
       "      <td>1.0</td>\n",
       "      <td>SchooshooterTexts</td>\n",
       "    </tr>\n",
       "    <tr>\n",
       "      <th>3</th>\n",
       "      <td>As a god, it would be my responsibility not to...</td>\n",
       "      <td>1.0</td>\n",
       "      <td>SchooshooterTexts</td>\n",
       "    </tr>\n",
       "    <tr>\n",
       "      <th>4</th>\n",
       "      <td>I am going to grab a knife and shove it in the...</td>\n",
       "      <td>1.0</td>\n",
       "      <td>SchooshooterTexts</td>\n",
       "    </tr>\n",
       "  </tbody>\n",
       "</table>\n",
       "</div>"
      ],
      "text/plain": [
       "                                                Text  Target  \\\n",
       "0  Mommy said not to talk to strangers..but she's...     1.0   \n",
       "1  1.I was immune to getting hurt/killed/infected...     1.0   \n",
       "2  I mean terrorist attacks happen all the time. ...     1.0   \n",
       "3  As a god, it would be my responsibility not to...     1.0   \n",
       "4  I am going to grab a knife and shove it in the...     1.0   \n",
       "\n",
       "              Source  \n",
       "0  SchooshooterTexts  \n",
       "1  SchooshooterTexts  \n",
       "2  SchooshooterTexts  \n",
       "3  SchooshooterTexts  \n",
       "4  SchooshooterTexts  "
      ]
     },
     "execution_count": 1,
     "metadata": {},
     "output_type": "execute_result"
    }
   ],
   "source": [
    "import pandas as pd\n",
    "\n",
    "df = pd.read_csv(r'..\\3. Data Understanding\\merged_data.csv', header=0)\n",
    "\n",
    "df.info()\n",
    "df.head()"
   ]
  },
  {
   "cell_type": "markdown",
   "id": "f1007eaa",
   "metadata": {},
   "source": [
    "## Remove Missing Values"
   ]
  },
  {
   "cell_type": "code",
   "execution_count": 2,
   "id": "5d161ef9",
   "metadata": {},
   "outputs": [
    {
     "name": "stdout",
     "output_type": "stream",
     "text": [
      "<class 'pandas.core.frame.DataFrame'>\n",
      "Index: 4278 entries, 0 to 4279\n",
      "Data columns (total 3 columns):\n",
      " #   Column  Non-Null Count  Dtype  \n",
      "---  ------  --------------  -----  \n",
      " 0   Text    4278 non-null   object \n",
      " 1   Target  4278 non-null   float64\n",
      " 2   Source  4278 non-null   object \n",
      "dtypes: float64(1), object(2)\n",
      "memory usage: 133.7+ KB\n"
     ]
    }
   ],
   "source": [
    "df = df.dropna()\n",
    "df.head()\n",
    "df.info()"
   ]
  },
  {
   "cell_type": "markdown",
   "id": "6d5d41f9",
   "metadata": {},
   "source": [
    "## Drop Duplicates"
   ]
  },
  {
   "cell_type": "code",
   "execution_count": 3,
   "id": "1c86e52e",
   "metadata": {},
   "outputs": [
    {
     "name": "stdout",
     "output_type": "stream",
     "text": [
      "                                                Text  Target  \\\n",
      "0  Mommy said not to talk to strangers..but she's...     1.0   \n",
      "1  1.I was immune to getting hurt/killed/infected...     1.0   \n",
      "2  I mean terrorist attacks happen all the time. ...     1.0   \n",
      "3  As a god, it would be my responsibility not to...     1.0   \n",
      "4  I am going to grab a knife and shove it in the...     1.0   \n",
      "\n",
      "              Source  \n",
      "0  SchooshooterTexts  \n",
      "1  SchooshooterTexts  \n",
      "2  SchooshooterTexts  \n",
      "3  SchooshooterTexts  \n",
      "4  SchooshooterTexts  \n"
     ]
    }
   ],
   "source": [
    "df = df.drop_duplicates(subset=['Text'])  # assign back to df\n",
    "print(df.head())"
   ]
  },
  {
   "cell_type": "markdown",
   "id": "85447199",
   "metadata": {},
   "source": [
    "## Lowercasing"
   ]
  },
  {
   "cell_type": "code",
   "execution_count": 4,
   "id": "48072c19",
   "metadata": {},
   "outputs": [
    {
     "data": {
      "application/vnd.microsoft.datawrangler.viewer.v0+json": {
       "columns": [
        {
         "name": "index",
         "rawType": "int64",
         "type": "integer"
        },
        {
         "name": "Text",
         "rawType": "object",
         "type": "string"
        },
        {
         "name": "Target",
         "rawType": "float64",
         "type": "float"
        },
        {
         "name": "Source",
         "rawType": "object",
         "type": "string"
        }
       ],
       "ref": "23fe5aa0-8d25-4c83-8e01-68268eceebda",
       "rows": [
        [
         "0",
         "mommy said not to talk to strangers..but she's drunk all the time why should i listen to her advice?",
         "1.0",
         "SchooshooterTexts"
        ],
        [
         "1",
         "1.i was immune to getting hurt/killed/infected with a std\n2.i had 43 million worshippers\n3.i had a life..",
         "1.0",
         "SchooshooterTexts"
        ],
        [
         "2",
         "i mean terrorist attacks happen all the time. sure thousands died, but millions have died from george. honestly, it's been almost 10 years and idiots are still whining. 911 did make a lot of idiot patriot extremists in america, you have to give 911 that. i wish another terrorist plane attack would happen so that i could go back to europe and back for 3 cents. ahh, i remember i was a little kindergartener.. (could of been 1st grader but i was \"too\nyoung\")",
         "1.0",
         "SchooshooterTexts"
        ],
        [
         "3",
         "as a god, it would be my responsibility not to destroy the universal balance; thus, i am unable to just appear instantly. i would need to \"convert\" them to being open minded about other gods and then i will appear. i will give out my 3 main rules:\n\n1.do not harm any living thing, if you break this rule, i will break your skull.\n2.do not act in violence of any form.\n3.don't be a stuffhead.\n\ni would try to act with any other gods out there, such as if gaia was real, i would let her take care of her creations, and her earth. i would let zeus and poseidon make the hurricanes and earthquakes, and i would let hades rule the energy of darkness.\n\ni would be sure to \"educate\" them on solar/wind/water powered technology.",
         "1.0",
         "SchooshooterTexts"
        ],
        [
         "4",
         "i am going to grab a knife and shove it in the neck of my mother. i will then drag her dead body by the trash can, drain her blood and then finally cut her and grind her up into little pieces. i will eat some of those pieces and then i will probably barf.. i will throw her body away in the trash can.. i will then go slaughter sacred animals to appease the gods.\n\nhail satan\n\n..i am agnostic, not satanist..",
         "1.0",
         "SchooshooterTexts"
        ]
       ],
       "shape": {
        "columns": 3,
        "rows": 5
       }
      },
      "text/html": [
       "<div>\n",
       "<style scoped>\n",
       "    .dataframe tbody tr th:only-of-type {\n",
       "        vertical-align: middle;\n",
       "    }\n",
       "\n",
       "    .dataframe tbody tr th {\n",
       "        vertical-align: top;\n",
       "    }\n",
       "\n",
       "    .dataframe thead th {\n",
       "        text-align: right;\n",
       "    }\n",
       "</style>\n",
       "<table border=\"1\" class=\"dataframe\">\n",
       "  <thead>\n",
       "    <tr style=\"text-align: right;\">\n",
       "      <th></th>\n",
       "      <th>Text</th>\n",
       "      <th>Target</th>\n",
       "      <th>Source</th>\n",
       "    </tr>\n",
       "  </thead>\n",
       "  <tbody>\n",
       "    <tr>\n",
       "      <th>0</th>\n",
       "      <td>mommy said not to talk to strangers..but she's...</td>\n",
       "      <td>1.0</td>\n",
       "      <td>SchooshooterTexts</td>\n",
       "    </tr>\n",
       "    <tr>\n",
       "      <th>1</th>\n",
       "      <td>1.i was immune to getting hurt/killed/infected...</td>\n",
       "      <td>1.0</td>\n",
       "      <td>SchooshooterTexts</td>\n",
       "    </tr>\n",
       "    <tr>\n",
       "      <th>2</th>\n",
       "      <td>i mean terrorist attacks happen all the time. ...</td>\n",
       "      <td>1.0</td>\n",
       "      <td>SchooshooterTexts</td>\n",
       "    </tr>\n",
       "    <tr>\n",
       "      <th>3</th>\n",
       "      <td>as a god, it would be my responsibility not to...</td>\n",
       "      <td>1.0</td>\n",
       "      <td>SchooshooterTexts</td>\n",
       "    </tr>\n",
       "    <tr>\n",
       "      <th>4</th>\n",
       "      <td>i am going to grab a knife and shove it in the...</td>\n",
       "      <td>1.0</td>\n",
       "      <td>SchooshooterTexts</td>\n",
       "    </tr>\n",
       "  </tbody>\n",
       "</table>\n",
       "</div>"
      ],
      "text/plain": [
       "                                                Text  Target  \\\n",
       "0  mommy said not to talk to strangers..but she's...     1.0   \n",
       "1  1.i was immune to getting hurt/killed/infected...     1.0   \n",
       "2  i mean terrorist attacks happen all the time. ...     1.0   \n",
       "3  as a god, it would be my responsibility not to...     1.0   \n",
       "4  i am going to grab a knife and shove it in the...     1.0   \n",
       "\n",
       "              Source  \n",
       "0  SchooshooterTexts  \n",
       "1  SchooshooterTexts  \n",
       "2  SchooshooterTexts  \n",
       "3  SchooshooterTexts  \n",
       "4  SchooshooterTexts  "
      ]
     },
     "execution_count": 4,
     "metadata": {},
     "output_type": "execute_result"
    }
   ],
   "source": [
    "df[\"Text\"] = df[\"Text\"].str.lower()\n",
    "df.head()"
   ]
  },
  {
   "cell_type": "markdown",
   "id": "14d06e2f",
   "metadata": {},
   "source": [
    "## Removing non english text"
   ]
  },
  {
   "cell_type": "code",
   "execution_count": 5,
   "id": "5f3a8326",
   "metadata": {},
   "outputs": [
    {
     "data": {
      "application/vnd.microsoft.datawrangler.viewer.v0+json": {
       "columns": [
        {
         "name": "index",
         "rawType": "int64",
         "type": "integer"
        },
        {
         "name": "Text",
         "rawType": "object",
         "type": "string"
        },
        {
         "name": "Target",
         "rawType": "float64",
         "type": "float"
        },
        {
         "name": "Source",
         "rawType": "object",
         "type": "string"
        }
       ],
       "ref": "5ece80e2-ca9b-49ae-8a8d-922e91d917da",
       "rows": [
        [
         "0",
         "mommy said not to talk to strangers..but she's drunk all the time why should i listen to her advice?",
         "1.0",
         "SchooshooterTexts"
        ],
        [
         "1",
         "1.i was immune to getting hurt/killed/infected with a std\n2.i had 43 million worshippers\n3.i had a life..",
         "1.0",
         "SchooshooterTexts"
        ],
        [
         "2",
         "i mean terrorist attacks happen all the time. sure thousands died, but millions have died from george. honestly, it's been almost 10 years and idiots are still whining. 911 did make a lot of idiot patriot extremists in america, you have to give 911 that. i wish another terrorist plane attack would happen so that i could go back to europe and back for 3 cents. ahh, i remember i was a little kindergartener.. (could of been 1st grader but i was \"too\nyoung\")",
         "1.0",
         "SchooshooterTexts"
        ],
        [
         "3",
         "as a god, it would be my responsibility not to destroy the universal balance; thus, i am unable to just appear instantly. i would need to \"convert\" them to being open minded about other gods and then i will appear. i will give out my 3 main rules:\n\n1.do not harm any living thing, if you break this rule, i will break your skull.\n2.do not act in violence of any form.\n3.don't be a stuffhead.\n\ni would try to act with any other gods out there, such as if gaia was real, i would let her take care of her creations, and her earth. i would let zeus and poseidon make the hurricanes and earthquakes, and i would let hades rule the energy of darkness.\n\ni would be sure to \"educate\" them on solar/wind/water powered technology.",
         "1.0",
         "SchooshooterTexts"
        ],
        [
         "4",
         "i am going to grab a knife and shove it in the neck of my mother. i will then drag her dead body by the trash can, drain her blood and then finally cut her and grind her up into little pieces. i will eat some of those pieces and then i will probably barf.. i will throw her body away in the trash can.. i will then go slaughter sacred animals to appease the gods.\n\nhail satan\n\n..i am agnostic, not satanist..",
         "1.0",
         "SchooshooterTexts"
        ]
       ],
       "shape": {
        "columns": 3,
        "rows": 5
       }
      },
      "text/html": [
       "<div>\n",
       "<style scoped>\n",
       "    .dataframe tbody tr th:only-of-type {\n",
       "        vertical-align: middle;\n",
       "    }\n",
       "\n",
       "    .dataframe tbody tr th {\n",
       "        vertical-align: top;\n",
       "    }\n",
       "\n",
       "    .dataframe thead th {\n",
       "        text-align: right;\n",
       "    }\n",
       "</style>\n",
       "<table border=\"1\" class=\"dataframe\">\n",
       "  <thead>\n",
       "    <tr style=\"text-align: right;\">\n",
       "      <th></th>\n",
       "      <th>Text</th>\n",
       "      <th>Target</th>\n",
       "      <th>Source</th>\n",
       "    </tr>\n",
       "  </thead>\n",
       "  <tbody>\n",
       "    <tr>\n",
       "      <th>0</th>\n",
       "      <td>mommy said not to talk to strangers..but she's...</td>\n",
       "      <td>1.0</td>\n",
       "      <td>SchooshooterTexts</td>\n",
       "    </tr>\n",
       "    <tr>\n",
       "      <th>1</th>\n",
       "      <td>1.i was immune to getting hurt/killed/infected...</td>\n",
       "      <td>1.0</td>\n",
       "      <td>SchooshooterTexts</td>\n",
       "    </tr>\n",
       "    <tr>\n",
       "      <th>2</th>\n",
       "      <td>i mean terrorist attacks happen all the time. ...</td>\n",
       "      <td>1.0</td>\n",
       "      <td>SchooshooterTexts</td>\n",
       "    </tr>\n",
       "    <tr>\n",
       "      <th>3</th>\n",
       "      <td>as a god, it would be my responsibility not to...</td>\n",
       "      <td>1.0</td>\n",
       "      <td>SchooshooterTexts</td>\n",
       "    </tr>\n",
       "    <tr>\n",
       "      <th>4</th>\n",
       "      <td>i am going to grab a knife and shove it in the...</td>\n",
       "      <td>1.0</td>\n",
       "      <td>SchooshooterTexts</td>\n",
       "    </tr>\n",
       "  </tbody>\n",
       "</table>\n",
       "</div>"
      ],
      "text/plain": [
       "                                                Text  Target  \\\n",
       "0  mommy said not to talk to strangers..but she's...     1.0   \n",
       "1  1.i was immune to getting hurt/killed/infected...     1.0   \n",
       "2  i mean terrorist attacks happen all the time. ...     1.0   \n",
       "3  as a god, it would be my responsibility not to...     1.0   \n",
       "4  i am going to grab a knife and shove it in the...     1.0   \n",
       "\n",
       "              Source  \n",
       "0  SchooshooterTexts  \n",
       "1  SchooshooterTexts  \n",
       "2  SchooshooterTexts  \n",
       "3  SchooshooterTexts  \n",
       "4  SchooshooterTexts  "
      ]
     },
     "execution_count": 5,
     "metadata": {},
     "output_type": "execute_result"
    }
   ],
   "source": [
    "import pandas as pd\n",
    "from langdetect import detect, DetectorFactory\n",
    "from langdetect.lang_detect_exception import LangDetectException\n",
    "\n",
    "DetectorFactory.seed = 42  \n",
    "\n",
    "def detect_language(text):\n",
    "    try: \n",
    "        return detect(text) if pd.notna(text) else 'unknown' \n",
    "    except LangDetectException:\n",
    "        return 'unknown'  # Handle cases where detection fails\n",
    "\n",
    "df['language'] = df['Text'].apply(detect_language)\n",
    "df = df[df['language'] == 'en']\n",
    "df = df.drop(columns=['language']) \n",
    "df.head()"
   ]
  },
  {
   "cell_type": "markdown",
   "id": "9987326f",
   "metadata": {},
   "source": [
    "## Removing URLs and HTML"
   ]
  },
  {
   "cell_type": "code",
   "execution_count": 6,
   "id": "e8877ce1",
   "metadata": {},
   "outputs": [],
   "source": [
    "import re\n",
    "\n",
    "def remove_urls(text):\n",
    "    url_pattern = re.compile(r'https?://\\S+|www\\.\\S+')\n",
    "    return url_pattern.sub(r'', text)\n",
    "\n",
    "df['Text'] = df['Text'].apply(remove_urls)\n"
   ]
  },
  {
   "cell_type": "code",
   "execution_count": 7,
   "id": "1e7066a1",
   "metadata": {},
   "outputs": [],
   "source": [
    "def remove_html(text):\n",
    "    html_pattern = re.compile('<.*?>')\n",
    "    return html_pattern.sub(r'', text)\n",
    "\n",
    "df['Text'] = df['Text'].apply(remove_html)\n"
   ]
  },
  {
   "cell_type": "markdown",
   "id": "60f685b0",
   "metadata": {},
   "source": [
    "## Remove Punctuation \n"
   ]
  },
  {
   "cell_type": "code",
   "execution_count": 8,
   "id": "289c16cf",
   "metadata": {},
   "outputs": [
    {
     "data": {
      "application/vnd.microsoft.datawrangler.viewer.v0+json": {
       "columns": [
        {
         "name": "index",
         "rawType": "int64",
         "type": "integer"
        },
        {
         "name": "Text",
         "rawType": "object",
         "type": "string"
        },
        {
         "name": "Target",
         "rawType": "float64",
         "type": "float"
        },
        {
         "name": "Source",
         "rawType": "object",
         "type": "string"
        }
       ],
       "ref": "2fb21777-ba66-412d-b0c1-3aa603a537b1",
       "rows": [
        [
         "0",
         "mommy said not to talk to strangers  but shes drunk all the time why should i listen to her advice ",
         "1.0",
         "SchooshooterTexts"
        ],
        [
         "1",
         "1 i was immune to getting hurt killed infected with a std\n2 i had 43 million worshippers\n3 i had a life  ",
         "1.0",
         "SchooshooterTexts"
        ],
        [
         "2",
         "i mean terrorist attacks happen all the time  sure thousands died  but millions have died from george  honestly  its been almost 10 years and idiots are still whining  911 did make a lot of idiot patriot extremists in america  you have to give 911 that  i wish another terrorist plane attack would happen so that i could go back to europe and back for 3 cents  ahh  i remember i was a little kindergartener    could of been 1st grader but i was  too\nyoung  ",
         "1.0",
         "SchooshooterTexts"
        ],
        [
         "3",
         "as a god  it would be my responsibility not to destroy the universal balance  thus  i am unable to just appear instantly  i would need to  convert  them to being open minded about other gods and then i will appear  i will give out my 3 main rules \n\n1 do not harm any living thing  if you break this rule  i will break your skull \n2 do not act in violence of any form \n3 dont be a stuffhead \n\ni would try to act with any other gods out there  such as if gaia was real  i would let her take care of her creations  and her earth  i would let zeus and poseidon make the hurricanes and earthquakes  and i would let hades rule the energy of darkness \n\ni would be sure to  educate  them on solar wind water powered technology ",
         "1.0",
         "SchooshooterTexts"
        ],
        [
         "4",
         "i am going to grab a knife and shove it in the neck of my mother  i will then drag her dead body by the trash can  drain her blood and then finally cut her and grind her up into little pieces  i will eat some of those pieces and then i will probably barf   i will throw her body away in the trash can   i will then go slaughter sacred animals to appease the gods \n\nhail satan\n\n  i am agnostic  not satanist  ",
         "1.0",
         "SchooshooterTexts"
        ]
       ],
       "shape": {
        "columns": 3,
        "rows": 5
       }
      },
      "text/html": [
       "<div>\n",
       "<style scoped>\n",
       "    .dataframe tbody tr th:only-of-type {\n",
       "        vertical-align: middle;\n",
       "    }\n",
       "\n",
       "    .dataframe tbody tr th {\n",
       "        vertical-align: top;\n",
       "    }\n",
       "\n",
       "    .dataframe thead th {\n",
       "        text-align: right;\n",
       "    }\n",
       "</style>\n",
       "<table border=\"1\" class=\"dataframe\">\n",
       "  <thead>\n",
       "    <tr style=\"text-align: right;\">\n",
       "      <th></th>\n",
       "      <th>Text</th>\n",
       "      <th>Target</th>\n",
       "      <th>Source</th>\n",
       "    </tr>\n",
       "  </thead>\n",
       "  <tbody>\n",
       "    <tr>\n",
       "      <th>0</th>\n",
       "      <td>mommy said not to talk to strangers  but shes ...</td>\n",
       "      <td>1.0</td>\n",
       "      <td>SchooshooterTexts</td>\n",
       "    </tr>\n",
       "    <tr>\n",
       "      <th>1</th>\n",
       "      <td>1 i was immune to getting hurt killed infected...</td>\n",
       "      <td>1.0</td>\n",
       "      <td>SchooshooterTexts</td>\n",
       "    </tr>\n",
       "    <tr>\n",
       "      <th>2</th>\n",
       "      <td>i mean terrorist attacks happen all the time  ...</td>\n",
       "      <td>1.0</td>\n",
       "      <td>SchooshooterTexts</td>\n",
       "    </tr>\n",
       "    <tr>\n",
       "      <th>3</th>\n",
       "      <td>as a god  it would be my responsibility not to...</td>\n",
       "      <td>1.0</td>\n",
       "      <td>SchooshooterTexts</td>\n",
       "    </tr>\n",
       "    <tr>\n",
       "      <th>4</th>\n",
       "      <td>i am going to grab a knife and shove it in the...</td>\n",
       "      <td>1.0</td>\n",
       "      <td>SchooshooterTexts</td>\n",
       "    </tr>\n",
       "  </tbody>\n",
       "</table>\n",
       "</div>"
      ],
      "text/plain": [
       "                                                Text  Target  \\\n",
       "0  mommy said not to talk to strangers  but shes ...     1.0   \n",
       "1  1 i was immune to getting hurt killed infected...     1.0   \n",
       "2  i mean terrorist attacks happen all the time  ...     1.0   \n",
       "3  as a god  it would be my responsibility not to...     1.0   \n",
       "4  i am going to grab a knife and shove it in the...     1.0   \n",
       "\n",
       "              Source  \n",
       "0  SchooshooterTexts  \n",
       "1  SchooshooterTexts  \n",
       "2  SchooshooterTexts  \n",
       "3  SchooshooterTexts  \n",
       "4  SchooshooterTexts  "
      ]
     },
     "execution_count": 8,
     "metadata": {},
     "output_type": "execute_result"
    }
   ],
   "source": [
    "import string\n",
    "import re\n",
    "\n",
    "def custom_punct_replace(text):\n",
    "    # Remove apostrophes\n",
    "    text = text.replace(\"'\", \"\")\n",
    "    # Create a punctuation set excluding apostrophe\n",
    "    punct = string.punctuation.replace(\"'\", \"\")\n",
    "    # Replace all other punctuation with a space\n",
    "    return re.sub(f\"[{re.escape(punct)}]\", \" \", text)\n",
    "\n",
    "df[\"Text\"] = df[\"Text\"].apply(custom_punct_replace)\n",
    "df.head()\n"
   ]
  },
  {
   "cell_type": "markdown",
   "id": "766205b6",
   "metadata": {},
   "source": [
    "## Tokenization"
   ]
  },
  {
   "cell_type": "code",
   "execution_count": 9,
   "id": "1cceeff8",
   "metadata": {},
   "outputs": [
    {
     "data": {
      "application/vnd.microsoft.datawrangler.viewer.v0+json": {
       "columns": [
        {
         "name": "index",
         "rawType": "int64",
         "type": "integer"
        },
        {
         "name": "Text",
         "rawType": "object",
         "type": "unknown"
        },
        {
         "name": "Target",
         "rawType": "float64",
         "type": "float"
        },
        {
         "name": "Source",
         "rawType": "object",
         "type": "string"
        }
       ],
       "ref": "e035a397-f827-47d3-8a85-420b3a4ba32d",
       "rows": [
        [
         "0",
         "['mommy', 'said', 'not', 'to', 'talk', 'to', 'strangers', 'but', 'shes', 'drunk', 'all', 'the', 'time', 'why', 'should', 'i', 'listen', 'to', 'her', 'advice']",
         "1.0",
         "SchooshooterTexts"
        ],
        [
         "1",
         "['1', 'i', 'was', 'immune', 'to', 'getting', 'hurt', 'killed', 'infected', 'with', 'a', 'std', '2', 'i', 'had', '43', 'million', 'worshippers', '3', 'i', 'had', 'a', 'life']",
         "1.0",
         "SchooshooterTexts"
        ],
        [
         "2",
         "['i', 'mean', 'terrorist', 'attacks', 'happen', 'all', 'the', 'time', 'sure', 'thousands', 'died', 'but', 'millions', 'have', 'died', 'from', 'george', 'honestly', 'its', 'been', 'almost', '10', 'years', 'and', 'idiots', 'are', 'still', 'whining', '911', 'did', 'make', 'a', 'lot', 'of', 'idiot', 'patriot', 'extremists', 'in', 'america', 'you', 'have', 'to', 'give', '911', 'that', 'i', 'wish', 'another', 'terrorist', 'plane', 'attack', 'would', 'happen', 'so', 'that', 'i', 'could', 'go', 'back', 'to', 'europe', 'and', 'back', 'for', '3', 'cents', 'ahh', 'i', 'remember', 'i', 'was', 'a', 'little', 'kindergartener', 'could', 'of', 'been', '1st', 'grader', 'but', 'i', 'was', 'too', 'young']",
         "1.0",
         "SchooshooterTexts"
        ],
        [
         "3",
         "['as', 'a', 'god', 'it', 'would', 'be', 'my', 'responsibility', 'not', 'to', 'destroy', 'the', 'universal', 'balance', 'thus', 'i', 'am', 'unable', 'to', 'just', 'appear', 'instantly', 'i', 'would', 'need', 'to', 'convert', 'them', 'to', 'being', 'open', 'minded', 'about', 'other', 'gods', 'and', 'then', 'i', 'will', 'appear', 'i', 'will', 'give', 'out', 'my', '3', 'main', 'rules', '1', 'do', 'not', 'harm', 'any', 'living', 'thing', 'if', 'you', 'break', 'this', 'rule', 'i', 'will', 'break', 'your', 'skull', '2', 'do', 'not', 'act', 'in', 'violence', 'of', 'any', 'form', '3', 'dont', 'be', 'a', 'stuffhead', 'i', 'would', 'try', 'to', 'act', 'with', 'any', 'other', 'gods', 'out', 'there', 'such', 'as', 'if', 'gaia', 'was', 'real', 'i', 'would', 'let', 'her', 'take', 'care', 'of', 'her', 'creations', 'and', 'her', 'earth', 'i', 'would', 'let', 'zeus', 'and', 'poseidon', 'make', 'the', 'hurricanes', 'and', 'earthquakes', 'and', 'i', 'would', 'let', 'hades', 'rule', 'the', 'energy', 'of', 'darkness', 'i', 'would', 'be', 'sure', 'to', 'educate', 'them', 'on', 'solar', 'wind', 'water', 'powered', 'technology']",
         "1.0",
         "SchooshooterTexts"
        ],
        [
         "4",
         "['i', 'am', 'going', 'to', 'grab', 'a', 'knife', 'and', 'shove', 'it', 'in', 'the', 'neck', 'of', 'my', 'mother', 'i', 'will', 'then', 'drag', 'her', 'dead', 'body', 'by', 'the', 'trash', 'can', 'drain', 'her', 'blood', 'and', 'then', 'finally', 'cut', 'her', 'and', 'grind', 'her', 'up', 'into', 'little', 'pieces', 'i', 'will', 'eat', 'some', 'of', 'those', 'pieces', 'and', 'then', 'i', 'will', 'probably', 'barf', 'i', 'will', 'throw', 'her', 'body', 'away', 'in', 'the', 'trash', 'can', 'i', 'will', 'then', 'go', 'slaughter', 'sacred', 'animals', 'to', 'appease', 'the', 'gods', 'hail', 'satan', 'i', 'am', 'agnostic', 'not', 'satanist']",
         "1.0",
         "SchooshooterTexts"
        ]
       ],
       "shape": {
        "columns": 3,
        "rows": 5
       }
      },
      "text/html": [
       "<div>\n",
       "<style scoped>\n",
       "    .dataframe tbody tr th:only-of-type {\n",
       "        vertical-align: middle;\n",
       "    }\n",
       "\n",
       "    .dataframe tbody tr th {\n",
       "        vertical-align: top;\n",
       "    }\n",
       "\n",
       "    .dataframe thead th {\n",
       "        text-align: right;\n",
       "    }\n",
       "</style>\n",
       "<table border=\"1\" class=\"dataframe\">\n",
       "  <thead>\n",
       "    <tr style=\"text-align: right;\">\n",
       "      <th></th>\n",
       "      <th>Text</th>\n",
       "      <th>Target</th>\n",
       "      <th>Source</th>\n",
       "    </tr>\n",
       "  </thead>\n",
       "  <tbody>\n",
       "    <tr>\n",
       "      <th>0</th>\n",
       "      <td>[mommy, said, not, to, talk, to, strangers, bu...</td>\n",
       "      <td>1.0</td>\n",
       "      <td>SchooshooterTexts</td>\n",
       "    </tr>\n",
       "    <tr>\n",
       "      <th>1</th>\n",
       "      <td>[1, i, was, immune, to, getting, hurt, killed,...</td>\n",
       "      <td>1.0</td>\n",
       "      <td>SchooshooterTexts</td>\n",
       "    </tr>\n",
       "    <tr>\n",
       "      <th>2</th>\n",
       "      <td>[i, mean, terrorist, attacks, happen, all, the...</td>\n",
       "      <td>1.0</td>\n",
       "      <td>SchooshooterTexts</td>\n",
       "    </tr>\n",
       "    <tr>\n",
       "      <th>3</th>\n",
       "      <td>[as, a, god, it, would, be, my, responsibility...</td>\n",
       "      <td>1.0</td>\n",
       "      <td>SchooshooterTexts</td>\n",
       "    </tr>\n",
       "    <tr>\n",
       "      <th>4</th>\n",
       "      <td>[i, am, going, to, grab, a, knife, and, shove,...</td>\n",
       "      <td>1.0</td>\n",
       "      <td>SchooshooterTexts</td>\n",
       "    </tr>\n",
       "  </tbody>\n",
       "</table>\n",
       "</div>"
      ],
      "text/plain": [
       "                                                Text  Target  \\\n",
       "0  [mommy, said, not, to, talk, to, strangers, bu...     1.0   \n",
       "1  [1, i, was, immune, to, getting, hurt, killed,...     1.0   \n",
       "2  [i, mean, terrorist, attacks, happen, all, the...     1.0   \n",
       "3  [as, a, god, it, would, be, my, responsibility...     1.0   \n",
       "4  [i, am, going, to, grab, a, knife, and, shove,...     1.0   \n",
       "\n",
       "              Source  \n",
       "0  SchooshooterTexts  \n",
       "1  SchooshooterTexts  \n",
       "2  SchooshooterTexts  \n",
       "3  SchooshooterTexts  \n",
       "4  SchooshooterTexts  "
      ]
     },
     "execution_count": 9,
     "metadata": {},
     "output_type": "execute_result"
    }
   ],
   "source": [
    "import nltk\n",
    "from nltk.tokenize import word_tokenize\n",
    "\n",
    "\n",
    "df['Text'] = df['Text'].apply(nltk.word_tokenize)\n",
    "df.head()"
   ]
  },
  {
   "cell_type": "markdown",
   "id": "e922f3e2",
   "metadata": {},
   "source": [
    "## Expanding Abbreviations"
   ]
  },
  {
   "cell_type": "code",
   "execution_count": null,
   "id": "f6eb8b9f",
   "metadata": {},
   "outputs": [
    {
     "data": {
      "application/vnd.microsoft.datawrangler.viewer.v0+json": {
       "columns": [
        {
         "name": "index",
         "rawType": "int64",
         "type": "integer"
        },
        {
         "name": "Text",
         "rawType": "object",
         "type": "unknown"
        },
        {
         "name": "Target",
         "rawType": "float64",
         "type": "float"
        },
        {
         "name": "Source",
         "rawType": "object",
         "type": "string"
        }
       ],
       "ref": "7bf39904-11fb-4726-9a9d-d7d71fb85488",
       "rows": [
        [
         "0",
         "['mommy', 'said', 'not', 'to', 'talk', 'to', 'strangers', 'but', 'shes', 'drunk', 'all', 'the', 'tears in my eyes', 'why', 'should', 'i', 'listen', 'to', 'her', 'advice']",
         "1.0",
         "SchooshooterTexts"
        ],
        [
         "1",
         "['1', 'i', 'was', 'immune', 'to', 'getting', 'hurt', 'killed', 'infected', 'with', 'a', 'std', '2', 'i', 'had', '43', 'million', 'worshippers', '3', 'i', 'had', 'a', 'life']",
         "1.0",
         "SchooshooterTexts"
        ],
        [
         "2",
         "['i', 'mean', 'terrorist', 'attacks', 'happen', 'all', 'the', 'tears in my eyes', 'sure', 'thousands', 'died', 'but', 'millions', 'have', 'died', 'from', 'george', 'honestly', 'its', 'been', 'almost', '10', 'years', 'and', 'idiots', 'are', 'still', 'whining', '911', 'did', 'make', 'a', 'lot', 'of', 'idiot', 'patriot', 'extremists', 'in', 'america', 'you', 'have', 'to', 'give', '911', 'that', 'i', 'wish', 'another', 'terrorist', 'plane', 'attack', 'would', 'happen', 'so', 'that', 'i', 'could', 'go', 'back', 'to', 'europe', 'and', 'back', 'for', '3', 'cents', 'ahh', 'i', 'remember', 'i', 'was', 'a', 'little', 'kindergartener', 'could', 'of', 'been', '1st', 'grader', 'but', 'i', 'was', 'too', 'young']",
         "1.0",
         "SchooshooterTexts"
        ],
        [
         "3",
         "['as', 'a', 'god', 'it', 'would', 'be', 'my', 'responsibility', 'not', 'to', 'destroy', 'the', 'universal', 'balance', 'thus', 'i', 'am', 'unable', 'to', 'just', 'appear', 'instantly', 'i', 'would', 'need', 'to', 'convert', 'them', 'to', 'being', 'open', 'minded', 'about', 'other', 'gods', 'and', 'then', 'i', 'will', 'appear', 'i', 'will', 'give', 'out', 'my', '3', 'main', 'rules', '1', 'do', 'not', 'harm', 'any', 'living', 'thing', 'if', 'you', 'break', 'this', 'rule', 'i', 'will', 'break', 'your', 'skull', '2', 'do', 'not', 'act', 'in', 'violence', 'of', 'any', 'form', '3', 'dont', 'be', 'a', 'stuffhead', 'i', 'would', 'try', 'to', 'act', 'with', 'any', 'other', 'gods', 'out', 'there', 'such', 'as', 'if', 'gaia', 'was', 'real', 'i', 'would', 'let', 'her', 'take', 'care', 'of', 'her', 'creations', 'and', 'her', 'earth', 'i', 'would', 'let', 'zeus', 'and', 'poseidon', 'make', 'the', 'hurricanes', 'and', 'earthquakes', 'and', 'i', 'would', 'let', 'hades', 'rule', 'the', 'energy', 'of', 'darkness', 'i', 'would', 'be', 'sure', 'to', 'educate', 'them', 'on', 'solar', 'wind', 'water', 'powered', 'technology']",
         "1.0",
         "SchooshooterTexts"
        ],
        [
         "4",
         "['i', 'am', 'going', 'to', 'grab', 'a', 'knife', 'and', 'shove', 'it', 'in', 'the', 'neck', 'of', 'my', 'mother', 'i', 'will', 'then', 'drag', 'her', 'dead', 'body', 'by', 'the', 'trash', 'can', 'drain', 'her', 'blood', 'and', 'then', 'finally', 'cut', 'her', 'and', 'grind', 'her', 'up', 'into', 'little', 'pieces', 'i', 'will', 'eat', 'some', 'of', 'those', 'pieces', 'and', 'then', 'i', 'will', 'probably', 'barf', 'i', 'will', 'throw', 'her', 'body', 'away', 'in', 'the', 'trash', 'can', 'i', 'will', 'then', 'go', 'slaughter', 'sacred', 'animals', 'to', 'appease', 'the', 'gods', 'hail', 'satan', 'i', 'am', 'agnostic', 'not', 'satanist']",
         "1.0",
         "SchooshooterTexts"
        ]
       ],
       "shape": {
        "columns": 3,
        "rows": 5
       }
      },
      "text/html": [
       "<div>\n",
       "<style scoped>\n",
       "    .dataframe tbody tr th:only-of-type {\n",
       "        vertical-align: middle;\n",
       "    }\n",
       "\n",
       "    .dataframe tbody tr th {\n",
       "        vertical-align: top;\n",
       "    }\n",
       "\n",
       "    .dataframe thead th {\n",
       "        text-align: right;\n",
       "    }\n",
       "</style>\n",
       "<table border=\"1\" class=\"dataframe\">\n",
       "  <thead>\n",
       "    <tr style=\"text-align: right;\">\n",
       "      <th></th>\n",
       "      <th>Text</th>\n",
       "      <th>Target</th>\n",
       "      <th>Source</th>\n",
       "    </tr>\n",
       "  </thead>\n",
       "  <tbody>\n",
       "    <tr>\n",
       "      <th>0</th>\n",
       "      <td>[mommy, said, not, to, talk, to, strangers, bu...</td>\n",
       "      <td>1.0</td>\n",
       "      <td>SchooshooterTexts</td>\n",
       "    </tr>\n",
       "    <tr>\n",
       "      <th>1</th>\n",
       "      <td>[1, i, was, immune, to, getting, hurt, killed,...</td>\n",
       "      <td>1.0</td>\n",
       "      <td>SchooshooterTexts</td>\n",
       "    </tr>\n",
       "    <tr>\n",
       "      <th>2</th>\n",
       "      <td>[i, mean, terrorist, attacks, happen, all, the...</td>\n",
       "      <td>1.0</td>\n",
       "      <td>SchooshooterTexts</td>\n",
       "    </tr>\n",
       "    <tr>\n",
       "      <th>3</th>\n",
       "      <td>[as, a, god, it, would, be, my, responsibility...</td>\n",
       "      <td>1.0</td>\n",
       "      <td>SchooshooterTexts</td>\n",
       "    </tr>\n",
       "    <tr>\n",
       "      <th>4</th>\n",
       "      <td>[i, am, going, to, grab, a, knife, and, shove,...</td>\n",
       "      <td>1.0</td>\n",
       "      <td>SchooshooterTexts</td>\n",
       "    </tr>\n",
       "  </tbody>\n",
       "</table>\n",
       "</div>"
      ],
      "text/plain": [
       "                                                Text  Target  \\\n",
       "0  [mommy, said, not, to, talk, to, strangers, bu...     1.0   \n",
       "1  [1, i, was, immune, to, getting, hurt, killed,...     1.0   \n",
       "2  [i, mean, terrorist, attacks, happen, all, the...     1.0   \n",
       "3  [as, a, god, it, would, be, my, responsibility...     1.0   \n",
       "4  [i, am, going, to, grab, a, knife, and, shove,...     1.0   \n",
       "\n",
       "              Source  \n",
       "0  SchooshooterTexts  \n",
       "1  SchooshooterTexts  \n",
       "2  SchooshooterTexts  \n",
       "3  SchooshooterTexts  \n",
       "4  SchooshooterTexts  "
      ]
     },
     "execution_count": 10,
     "metadata": {},
     "output_type": "execute_result"
    }
   ],
   "source": [
    "abbreviation_dict = {\n",
    "    \"u\": \"you\", \"ur\": \"your\", \"lol\": \"laughing out loud\", \"lmao\": \"laughing my ass off\", \"rofl\": \"rolling on the floor laughing\", \"brb\": \"be right back\", \"idk\": \"i don't know\",\n",
    "    \"tbh\": \"to be honest\", \"smh\": \"shaking my head\", \"wtf\": \"what the fuck\", \"omg\": \"oh my god\", \"thx\": \"thank you\", \"ty\": \"thank you\", \"np\": \"no problem\",\n",
    "    \"yw\": \"you're welcome\", \"fyi\": \"for your information\", \"b4\": \"before\", \"nvm\": \"never mind\", \"gtg\": \"got to go\", \"ttyl\": \"talk to you later\", \"gr8\": \"great\",\n",
    "    \"bff\": \"best friends forever\", \"cya\": \"see you\", \"imo\": \"in my opinion\", \"imho\": \"in my humble opinion\", \"jk\": \"just kidding\", \"afk\": \"away from keyboard\", \"irl\": \"in real life\",\n",
    "    \"gg\": \"good game\", \"wp\": \"well played\", \"btw\": \"by the way\", \"dm\": \"direct message\", \"rn\": \"right now\", \"afaik\": \"as far as i know\", \"asap\": \"as soon as possible\",\n",
    "    \"fml\": \"fuck my life\", \"ikr\": \"i know right\", \"ily\": \"i love you\", \"lmk\": \"let me know\", \"ppl\": \"people\", \"bc\": \"because\", \"cuz\": \"because\",\n",
    "    \"tho\": \"though\", \"y\": \"why\", \"r\": \"are\", \"k\": \"okay\", \"n\": \"and\", \"w/\": \"with\", \"w/o\": \"without\",\n",
    "    \"stfu\": \"shut the fuck up\", \"hmu\": \"hit me up\", \"g2g\": \"got to go\", \"wyd\": \"what are you doing\", \"wym\": \"what you mean\", \"wbu\": \"what about you\", \"wb\": \"welcome back\",\n",
    "    \"ofc\": \"of course\", \"pls\": \"please\", \"plz\": \"please\", \"bday\": \"birthday\", \"fav\": \"favorite\", \"msg\": \"message\", \"fb\": \"facebook\",\n",
    "    \"yt\": \"youtube\", \"ig\": \"instagram\", \"snap\": \"snapchat\", \"twt\": \"twitter\", \"ftw\": \"for the win\", \"icymi\": \"in case you missed it\", \"mfw\": \"my face when\",\n",
    "    \"tfw\": \"that feeling when\", \"ftl\": \"for the loss\", \"roflmao\": \"rolling on the floor laughing my ass off\", \"atk\": \"at the keyboard\", \"atm\": \"at the moment\", \"a3\": \"anytime anywhere anyplace\", \"bak\": \"back at keyboard\",\n",
    "    \"bbl\": \"be back later\", \"bbs\": \"be back soon\", \"bfn\": \"bye for now\", \"b4n\": \"bye for now\", \"brt\": \"be right there\", \"cu\": \"see you\", \"cul8r\": \"see you later\",\n",
    "    \"faq\": \"frequently asked questions\", \"fc\": \"fingers crossed\", \"fwiw\": \"for what it's worth\", \"gal\": \"get a life\", \"gn\": \"good night\", \"gmta\": \"great minds think alike\", \"g9\": \"genius\",\n",
    "    \"ic\": \"i see\", \"ilu\": \"i love you\", \"iow\": \"in other words\", \"kiss\": \"keep it simple stupid\", \"ldr\": \"long distance relationship\", \"ltns\": \"long time no see\", \"l8r\": \"later\",\n",
    "    \"mte\": \"my thoughts exactly\", \"m8\": \"mate\", \"nrn\": \"no reply necessary\", \"oic\": \"oh i see\", \"pita\": \"pain in the ass\", \"prt\": \"party\", \"prw\": \"parents are watching\",\n",
    "    \"qpsa?\": \"que pasa\", \"roflol\": \"rolling on the floor laughing out loud\", \"rotflmao\": \"rolling on the floor laughing my ass off\", \"sk8\": \"skate\", \"stats\": \"your sex and age\", \"asl\": \"age sex location\", \"ttfn\": \"ta ta for now\",\n",
    "    \"u2\": \"you too\", \"u4e\": \"yours forever\", \"wtg\": \"way to go\", \"wuf\": \"where are you from\", \"w8\": \"wait\", \"7k\": \"sick laughter\", \"tntl\": \"trying not to laugh\",\n",
    "    \"idu\": \"i don't understand\", \"imu\": \"i miss you\", \"adih\": \"another day in hell\", \"zzz\": \"sleeping tired\", \"wywh\": \"wish you were here\", \"time\": \"tears in my eyes\", \"bae\": \"before anyone else\",\n",
    "    \"fimh\": \"forever in my heart\", \"bsaaw\": \"big smile and a wink\", \"bwl\": \"bursting with laughter\", \"csl\": \"can't stop laughing\", \"std\": \"sexually transmitted disease\"\n",
    "}\n",
    "\n",
    "def expand_abbreviations(tokenized_text):\n",
    "    return [abbreviation_dict.get(word, word) for word in tokenized_text]\n",
    "\n",
    "df['Text'] = df['Text'].apply(expand_abbreviations)\n",
    "\n",
    "df.head()"
   ]
  },
  {
   "cell_type": "markdown",
   "id": "739c98ee",
   "metadata": {},
   "source": [
    "## Expanding contractions"
   ]
  },
  {
   "cell_type": "code",
   "execution_count": 11,
   "id": "c9ceeb14",
   "metadata": {},
   "outputs": [
    {
     "data": {
      "application/vnd.microsoft.datawrangler.viewer.v0+json": {
       "columns": [
        {
         "name": "index",
         "rawType": "int64",
         "type": "integer"
        },
        {
         "name": "Text",
         "rawType": "object",
         "type": "unknown"
        },
        {
         "name": "Target",
         "rawType": "float64",
         "type": "float"
        },
        {
         "name": "Source",
         "rawType": "object",
         "type": "string"
        }
       ],
       "ref": "d0444ea6-5ac7-4656-becf-9fb5b877c18f",
       "rows": [
        [
         "0",
         "['mommy', 'said', 'not', 'to', 'talk', 'to', 'strangers', 'but', 'she is', 'drunk', 'all', 'the', 'tears in my eyes', 'why', 'should', 'i', 'listen', 'to', 'her', 'advice']",
         "1.0",
         "SchooshooterTexts"
        ],
        [
         "1",
         "['1', 'i', 'was', 'immune', 'to', 'getting', 'hurt', 'killed', 'infected', 'with', 'a', 'std', '2', 'i', 'had', '43', 'million', 'worshippers', '3', 'i', 'had', 'a', 'life']",
         "1.0",
         "SchooshooterTexts"
        ],
        [
         "2",
         "['i', 'mean', 'terrorist', 'attacks', 'happen', 'all', 'the', 'tears in my eyes', 'sure', 'thousands', 'died', 'but', 'millions', 'have', 'died', 'from', 'george', 'honestly', 'its', 'been', 'almost', '10', 'years', 'and', 'idiots', 'are', 'still', 'whining', '911', 'did', 'make', 'a', 'lot', 'of', 'idiot', 'patriot', 'extremists', 'in', 'america', 'you', 'have', 'to', 'give', '911', 'that', 'i', 'wish', 'another', 'terrorist', 'plane', 'attack', 'would', 'happen', 'so', 'that', 'i', 'could', 'go', 'back', 'to', 'europe', 'and', 'back', 'for', '3', 'cents', 'ahh', 'i', 'remember', 'i', 'was', 'a', 'little', 'kindergartener', 'could', 'of', 'been', '1st', 'grader', 'but', 'i', 'was', 'too', 'young']",
         "1.0",
         "SchooshooterTexts"
        ],
        [
         "3",
         "['as', 'a', 'god', 'it', 'would', 'be', 'my', 'responsibility', 'not', 'to', 'destroy', 'the', 'universal', 'balance', 'thus', 'i', 'am', 'unable', 'to', 'just', 'appear', 'instantly', 'i', 'would', 'need', 'to', 'convert', 'them', 'to', 'being', 'open', 'minded', 'about', 'other', 'gods', 'and', 'then', 'i', 'will', 'appear', 'i', 'will', 'give', 'out', 'my', '3', 'main', 'rules', '1', 'do', 'not', 'harm', 'any', 'living', 'thing', 'if', 'you', 'break', 'this', 'rule', 'i', 'will', 'break', 'your', 'skull', '2', 'do', 'not', 'act', 'in', 'violence', 'of', 'any', 'form', '3', 'do not', 'be', 'a', 'stuffhead', 'i', 'would', 'try', 'to', 'act', 'with', 'any', 'other', 'gods', 'out', 'there', 'such', 'as', 'if', 'gaia', 'was', 'real', 'i', 'would', 'let', 'her', 'take', 'care', 'of', 'her', 'creations', 'and', 'her', 'earth', 'i', 'would', 'let', 'zeus', 'and', 'poseidon', 'make', 'the', 'hurricanes', 'and', 'earthquakes', 'and', 'i', 'would', 'let', 'hades', 'rule', 'the', 'energy', 'of', 'darkness', 'i', 'would', 'be', 'sure', 'to', 'educate', 'them', 'on', 'solar', 'wind', 'water', 'powered', 'technology']",
         "1.0",
         "SchooshooterTexts"
        ],
        [
         "4",
         "['i', 'am', 'going', 'to', 'grab', 'a', 'knife', 'and', 'shove', 'it', 'in', 'the', 'neck', 'of', 'my', 'mother', 'i', 'will', 'then', 'drag', 'her', 'dead', 'body', 'by', 'the', 'trash', 'can', 'drain', 'her', 'blood', 'and', 'then', 'finally', 'cut', 'her', 'and', 'grind', 'her', 'up', 'into', 'little', 'pieces', 'i', 'will', 'eat', 'some', 'of', 'those', 'pieces', 'and', 'then', 'i', 'will', 'probably', 'barf', 'i', 'will', 'throw', 'her', 'body', 'away', 'in', 'the', 'trash', 'can', 'i', 'will', 'then', 'go', 'slaughter', 'sacred', 'animals', 'to', 'appease', 'the', 'gods', 'hail', 'satan', 'i', 'am', 'agnostic', 'not', 'satanist']",
         "1.0",
         "SchooshooterTexts"
        ]
       ],
       "shape": {
        "columns": 3,
        "rows": 5
       }
      },
      "text/html": [
       "<div>\n",
       "<style scoped>\n",
       "    .dataframe tbody tr th:only-of-type {\n",
       "        vertical-align: middle;\n",
       "    }\n",
       "\n",
       "    .dataframe tbody tr th {\n",
       "        vertical-align: top;\n",
       "    }\n",
       "\n",
       "    .dataframe thead th {\n",
       "        text-align: right;\n",
       "    }\n",
       "</style>\n",
       "<table border=\"1\" class=\"dataframe\">\n",
       "  <thead>\n",
       "    <tr style=\"text-align: right;\">\n",
       "      <th></th>\n",
       "      <th>Text</th>\n",
       "      <th>Target</th>\n",
       "      <th>Source</th>\n",
       "    </tr>\n",
       "  </thead>\n",
       "  <tbody>\n",
       "    <tr>\n",
       "      <th>0</th>\n",
       "      <td>[mommy, said, not, to, talk, to, strangers, bu...</td>\n",
       "      <td>1.0</td>\n",
       "      <td>SchooshooterTexts</td>\n",
       "    </tr>\n",
       "    <tr>\n",
       "      <th>1</th>\n",
       "      <td>[1, i, was, immune, to, getting, hurt, killed,...</td>\n",
       "      <td>1.0</td>\n",
       "      <td>SchooshooterTexts</td>\n",
       "    </tr>\n",
       "    <tr>\n",
       "      <th>2</th>\n",
       "      <td>[i, mean, terrorist, attacks, happen, all, the...</td>\n",
       "      <td>1.0</td>\n",
       "      <td>SchooshooterTexts</td>\n",
       "    </tr>\n",
       "    <tr>\n",
       "      <th>3</th>\n",
       "      <td>[as, a, god, it, would, be, my, responsibility...</td>\n",
       "      <td>1.0</td>\n",
       "      <td>SchooshooterTexts</td>\n",
       "    </tr>\n",
       "    <tr>\n",
       "      <th>4</th>\n",
       "      <td>[i, am, going, to, grab, a, knife, and, shove,...</td>\n",
       "      <td>1.0</td>\n",
       "      <td>SchooshooterTexts</td>\n",
       "    </tr>\n",
       "  </tbody>\n",
       "</table>\n",
       "</div>"
      ],
      "text/plain": [
       "                                                Text  Target  \\\n",
       "0  [mommy, said, not, to, talk, to, strangers, bu...     1.0   \n",
       "1  [1, i, was, immune, to, getting, hurt, killed,...     1.0   \n",
       "2  [i, mean, terrorist, attacks, happen, all, the...     1.0   \n",
       "3  [as, a, god, it, would, be, my, responsibility...     1.0   \n",
       "4  [i, am, going, to, grab, a, knife, and, shove,...     1.0   \n",
       "\n",
       "              Source  \n",
       "0  SchooshooterTexts  \n",
       "1  SchooshooterTexts  \n",
       "2  SchooshooterTexts  \n",
       "3  SchooshooterTexts  \n",
       "4  SchooshooterTexts  "
      ]
     },
     "execution_count": 11,
     "metadata": {},
     "output_type": "execute_result"
    }
   ],
   "source": [
    "import contractions\n",
    "\n",
    "def expand_contractions_in_tokens(tokens):\n",
    "    expanded = []\n",
    "    for token in tokens:\n",
    "        expanded_token = contractions.fix(token)\n",
    "        expanded.append(expanded_token)\n",
    "    return expanded\n",
    "\n",
    "df['Text'] = df['Text'].apply(expand_contractions_in_tokens)\n",
    "df.head()"
   ]
  },
  {
   "cell_type": "markdown",
   "id": "59502e78",
   "metadata": {},
   "source": [
    "## Pos Tagging and Lemmatization"
   ]
  },
  {
   "cell_type": "code",
   "execution_count": 12,
   "id": "43ac17e4",
   "metadata": {},
   "outputs": [
    {
     "name": "stderr",
     "output_type": "stream",
     "text": [
      "[nltk_data] Downloading package averaged_perceptron_tagger to\n",
      "[nltk_data]     C:\\Users\\user\\AppData\\Roaming\\nltk_data...\n",
      "[nltk_data]   Package averaged_perceptron_tagger is already up-to-\n",
      "[nltk_data]       date!\n",
      "[nltk_data] Downloading package wordnet to\n",
      "[nltk_data]     C:\\Users\\user\\AppData\\Roaming\\nltk_data...\n",
      "[nltk_data]   Package wordnet is already up-to-date!\n"
     ]
    },
    {
     "data": {
      "application/vnd.microsoft.datawrangler.viewer.v0+json": {
       "columns": [
        {
         "name": "index",
         "rawType": "int64",
         "type": "integer"
        },
        {
         "name": "Text",
         "rawType": "object",
         "type": "unknown"
        },
        {
         "name": "Target",
         "rawType": "float64",
         "type": "float"
        },
        {
         "name": "Source",
         "rawType": "object",
         "type": "string"
        }
       ],
       "ref": "138ae32f-42ef-4fef-8c6a-92e433c53c2a",
       "rows": [
        [
         "0",
         "['mommy', 'say', 'not', 'to', 'talk', 'to', 'stranger', 'but', 'she is', 'drunk', 'all', 'the', 'tears in my eyes', 'why', 'should', 'i', 'listen', 'to', 'her', 'advice']",
         "1.0",
         "SchooshooterTexts"
        ],
        [
         "1",
         "['1', 'i', 'be', 'immune', 'to', 'get', 'hurt', 'kill', 'infect', 'with', 'a', 'std', '2', 'i', 'have', '43', 'million', 'worshipper', '3', 'i', 'have', 'a', 'life']",
         "1.0",
         "SchooshooterTexts"
        ],
        [
         "2",
         "['i', 'mean', 'terrorist', 'attack', 'happen', 'all', 'the', 'tears in my eyes', 'sure', 'thousand', 'die', 'but', 'million', 'have', 'die', 'from', 'george', 'honestly', 'it', 'be', 'almost', '10', 'year', 'and', 'idiot', 'be', 'still', 'whine', '911', 'do', 'make', 'a', 'lot', 'of', 'idiot', 'patriot', 'extremist', 'in', 'america', 'you', 'have', 'to', 'give', '911', 'that', 'i', 'wish', 'another', 'terrorist', 'plane', 'attack', 'would', 'happen', 'so', 'that', 'i', 'could', 'go', 'back', 'to', 'europe', 'and', 'back', 'for', '3', 'cent', 'ahh', 'i', 'remember', 'i', 'be', 'a', 'little', 'kindergartener', 'could', 'of', 'be', '1st', 'grader', 'but', 'i', 'be', 'too', 'young']",
         "1.0",
         "SchooshooterTexts"
        ],
        [
         "3",
         "['a', 'a', 'god', 'it', 'would', 'be', 'my', 'responsibility', 'not', 'to', 'destroy', 'the', 'universal', 'balance', 'thus', 'i', 'be', 'unable', 'to', 'just', 'appear', 'instantly', 'i', 'would', 'need', 'to', 'convert', 'them', 'to', 'be', 'open', 'mind', 'about', 'other', 'god', 'and', 'then', 'i', 'will', 'appear', 'i', 'will', 'give', 'out', 'my', '3', 'main', 'rule', '1', 'do', 'not', 'harm', 'any', 'living', 'thing', 'if', 'you', 'break', 'this', 'rule', 'i', 'will', 'break', 'your', 'skull', '2', 'do', 'not', 'act', 'in', 'violence', 'of', 'any', 'form', '3', 'do not', 'be', 'a', 'stuffhead', 'i', 'would', 'try', 'to', 'act', 'with', 'any', 'other', 'god', 'out', 'there', 'such', 'a', 'if', 'gaia', 'be', 'real', 'i', 'would', 'let', 'her', 'take', 'care', 'of', 'her', 'creation', 'and', 'her', 'earth', 'i', 'would', 'let', 'zeus', 'and', 'poseidon', 'make', 'the', 'hurricane', 'and', 'earthquake', 'and', 'i', 'would', 'let', 'hades', 'rule', 'the', 'energy', 'of', 'darkness', 'i', 'would', 'be', 'sure', 'to', 'educate', 'them', 'on', 'solar', 'wind', 'water', 'power', 'technology']",
         "1.0",
         "SchooshooterTexts"
        ],
        [
         "4",
         "['i', 'be', 'go', 'to', 'grab', 'a', 'knife', 'and', 'shove', 'it', 'in', 'the', 'neck', 'of', 'my', 'mother', 'i', 'will', 'then', 'drag', 'her', 'dead', 'body', 'by', 'the', 'trash', 'can', 'drain', 'her', 'blood', 'and', 'then', 'finally', 'cut', 'her', 'and', 'grind', 'her', 'up', 'into', 'little', 'piece', 'i', 'will', 'eat', 'some', 'of', 'those', 'piece', 'and', 'then', 'i', 'will', 'probably', 'barf', 'i', 'will', 'throw', 'her', 'body', 'away', 'in', 'the', 'trash', 'can', 'i', 'will', 'then', 'go', 'slaughter', 'sacred', 'animal', 'to', 'appease', 'the', 'god', 'hail', 'satan', 'i', 'be', 'agnostic', 'not', 'satanist']",
         "1.0",
         "SchooshooterTexts"
        ]
       ],
       "shape": {
        "columns": 3,
        "rows": 5
       }
      },
      "text/html": [
       "<div>\n",
       "<style scoped>\n",
       "    .dataframe tbody tr th:only-of-type {\n",
       "        vertical-align: middle;\n",
       "    }\n",
       "\n",
       "    .dataframe tbody tr th {\n",
       "        vertical-align: top;\n",
       "    }\n",
       "\n",
       "    .dataframe thead th {\n",
       "        text-align: right;\n",
       "    }\n",
       "</style>\n",
       "<table border=\"1\" class=\"dataframe\">\n",
       "  <thead>\n",
       "    <tr style=\"text-align: right;\">\n",
       "      <th></th>\n",
       "      <th>Text</th>\n",
       "      <th>Target</th>\n",
       "      <th>Source</th>\n",
       "    </tr>\n",
       "  </thead>\n",
       "  <tbody>\n",
       "    <tr>\n",
       "      <th>0</th>\n",
       "      <td>[mommy, say, not, to, talk, to, stranger, but,...</td>\n",
       "      <td>1.0</td>\n",
       "      <td>SchooshooterTexts</td>\n",
       "    </tr>\n",
       "    <tr>\n",
       "      <th>1</th>\n",
       "      <td>[1, i, be, immune, to, get, hurt, kill, infect...</td>\n",
       "      <td>1.0</td>\n",
       "      <td>SchooshooterTexts</td>\n",
       "    </tr>\n",
       "    <tr>\n",
       "      <th>2</th>\n",
       "      <td>[i, mean, terrorist, attack, happen, all, the,...</td>\n",
       "      <td>1.0</td>\n",
       "      <td>SchooshooterTexts</td>\n",
       "    </tr>\n",
       "    <tr>\n",
       "      <th>3</th>\n",
       "      <td>[a, a, god, it, would, be, my, responsibility,...</td>\n",
       "      <td>1.0</td>\n",
       "      <td>SchooshooterTexts</td>\n",
       "    </tr>\n",
       "    <tr>\n",
       "      <th>4</th>\n",
       "      <td>[i, be, go, to, grab, a, knife, and, shove, it...</td>\n",
       "      <td>1.0</td>\n",
       "      <td>SchooshooterTexts</td>\n",
       "    </tr>\n",
       "  </tbody>\n",
       "</table>\n",
       "</div>"
      ],
      "text/plain": [
       "                                                Text  Target  \\\n",
       "0  [mommy, say, not, to, talk, to, stranger, but,...     1.0   \n",
       "1  [1, i, be, immune, to, get, hurt, kill, infect...     1.0   \n",
       "2  [i, mean, terrorist, attack, happen, all, the,...     1.0   \n",
       "3  [a, a, god, it, would, be, my, responsibility,...     1.0   \n",
       "4  [i, be, go, to, grab, a, knife, and, shove, it...     1.0   \n",
       "\n",
       "              Source  \n",
       "0  SchooshooterTexts  \n",
       "1  SchooshooterTexts  \n",
       "2  SchooshooterTexts  \n",
       "3  SchooshooterTexts  \n",
       "4  SchooshooterTexts  "
      ]
     },
     "execution_count": 12,
     "metadata": {},
     "output_type": "execute_result"
    }
   ],
   "source": [
    "import nltk\n",
    "from nltk.corpus import wordnet\n",
    "from nltk.stem import WordNetLemmatizer\n",
    "\n",
    "# Download required NLTK resources\n",
    "nltk.download('averaged_perceptron_tagger')\n",
    "nltk.download('wordnet')\n",
    "\n",
    "# Initialize lemmatizer\n",
    "lemmatizer = WordNetLemmatizer()\n",
    "\n",
    "# Function to get the correct WordNet POS tag\n",
    "def get_wordnet_pos(word):\n",
    "    # Converts NLTK POS tags to WordNet POS tags for better lemmatization.\n",
    "    tag = nltk.pos_tag([word])[0][1][0].upper()  # Extract first letter of POS tag\n",
    "    tag_dict = {\"J\": wordnet.ADJ, \"N\": wordnet.NOUN, \"V\": wordnet.VERB, \"R\": wordnet.ADV}\n",
    "    return tag_dict.get(tag, wordnet.NOUN)  # Default to NOUN\n",
    "\n",
    "# Apply lemmatization\n",
    "df['Text'] = df['Text'].apply(\n",
    "    lambda tokens: [lemmatizer.lemmatize(token, get_wordnet_pos(token)) for token in tokens]\n",
    ")\n",
    "\n",
    "\n",
    "df.head()\n"
   ]
  },
  {
   "cell_type": "markdown",
   "id": "07ea17ca",
   "metadata": {},
   "source": [
    "## Emoji conversion"
   ]
  },
  {
   "cell_type": "code",
   "execution_count": 13,
   "id": "3d9be17f",
   "metadata": {},
   "outputs": [
    {
     "data": {
      "application/vnd.microsoft.datawrangler.viewer.v0+json": {
       "columns": [
        {
         "name": "index",
         "rawType": "int64",
         "type": "integer"
        },
        {
         "name": "Text",
         "rawType": "object",
         "type": "unknown"
        },
        {
         "name": "Target",
         "rawType": "float64",
         "type": "float"
        },
        {
         "name": "Source",
         "rawType": "object",
         "type": "string"
        }
       ],
       "ref": "ded8689c-fd79-4067-8873-4f34b6f55087",
       "rows": [
        [
         "0",
         "['mommy', 'say', 'not', 'to', 'talk', 'to', 'stranger', 'but', 'she is', 'drunk', 'all', 'the', 'tears in my eyes', 'why', 'should', 'i', 'listen', 'to', 'her', 'advice']",
         "1.0",
         "SchooshooterTexts"
        ],
        [
         "1",
         "['1', 'i', 'be', 'immune', 'to', 'get', 'hurt', 'kill', 'infect', 'with', 'a', 'std', '2', 'i', 'have', '43', 'million', 'worshipper', '3', 'i', 'have', 'a', 'life']",
         "1.0",
         "SchooshooterTexts"
        ],
        [
         "2",
         "['i', 'mean', 'terrorist', 'attack', 'happen', 'all', 'the', 'tears in my eyes', 'sure', 'thousand', 'die', 'but', 'million', 'have', 'die', 'from', 'george', 'honestly', 'it', 'be', 'almost', '10', 'year', 'and', 'idiot', 'be', 'still', 'whine', '911', 'do', 'make', 'a', 'lot', 'of', 'idiot', 'patriot', 'extremist', 'in', 'america', 'you', 'have', 'to', 'give', '911', 'that', 'i', 'wish', 'another', 'terrorist', 'plane', 'attack', 'would', 'happen', 'so', 'that', 'i', 'could', 'go', 'back', 'to', 'europe', 'and', 'back', 'for', '3', 'cent', 'ahh', 'i', 'remember', 'i', 'be', 'a', 'little', 'kindergartener', 'could', 'of', 'be', '1st', 'grader', 'but', 'i', 'be', 'too', 'young']",
         "1.0",
         "SchooshooterTexts"
        ],
        [
         "3",
         "['a', 'a', 'god', 'it', 'would', 'be', 'my', 'responsibility', 'not', 'to', 'destroy', 'the', 'universal', 'balance', 'thus', 'i', 'be', 'unable', 'to', 'just', 'appear', 'instantly', 'i', 'would', 'need', 'to', 'convert', 'them', 'to', 'be', 'open', 'mind', 'about', 'other', 'god', 'and', 'then', 'i', 'will', 'appear', 'i', 'will', 'give', 'out', 'my', '3', 'main', 'rule', '1', 'do', 'not', 'harm', 'any', 'living', 'thing', 'if', 'you', 'break', 'this', 'rule', 'i', 'will', 'break', 'your', 'skull', '2', 'do', 'not', 'act', 'in', 'violence', 'of', 'any', 'form', '3', 'do not', 'be', 'a', 'stuffhead', 'i', 'would', 'try', 'to', 'act', 'with', 'any', 'other', 'god', 'out', 'there', 'such', 'a', 'if', 'gaia', 'be', 'real', 'i', 'would', 'let', 'her', 'take', 'care', 'of', 'her', 'creation', 'and', 'her', 'earth', 'i', 'would', 'let', 'zeus', 'and', 'poseidon', 'make', 'the', 'hurricane', 'and', 'earthquake', 'and', 'i', 'would', 'let', 'hades', 'rule', 'the', 'energy', 'of', 'darkness', 'i', 'would', 'be', 'sure', 'to', 'educate', 'them', 'on', 'solar', 'wind', 'water', 'power', 'technology']",
         "1.0",
         "SchooshooterTexts"
        ],
        [
         "4",
         "['i', 'be', 'go', 'to', 'grab', 'a', 'knife', 'and', 'shove', 'it', 'in', 'the', 'neck', 'of', 'my', 'mother', 'i', 'will', 'then', 'drag', 'her', 'dead', 'body', 'by', 'the', 'trash', 'can', 'drain', 'her', 'blood', 'and', 'then', 'finally', 'cut', 'her', 'and', 'grind', 'her', 'up', 'into', 'little', 'piece', 'i', 'will', 'eat', 'some', 'of', 'those', 'piece', 'and', 'then', 'i', 'will', 'probably', 'barf', 'i', 'will', 'throw', 'her', 'body', 'away', 'in', 'the', 'trash', 'can', 'i', 'will', 'then', 'go', 'slaughter', 'sacred', 'animal', 'to', 'appease', 'the', 'god', 'hail', 'satan', 'i', 'be', 'agnostic', 'not', 'satanist']",
         "1.0",
         "SchooshooterTexts"
        ]
       ],
       "shape": {
        "columns": 3,
        "rows": 5
       }
      },
      "text/html": [
       "<div>\n",
       "<style scoped>\n",
       "    .dataframe tbody tr th:only-of-type {\n",
       "        vertical-align: middle;\n",
       "    }\n",
       "\n",
       "    .dataframe tbody tr th {\n",
       "        vertical-align: top;\n",
       "    }\n",
       "\n",
       "    .dataframe thead th {\n",
       "        text-align: right;\n",
       "    }\n",
       "</style>\n",
       "<table border=\"1\" class=\"dataframe\">\n",
       "  <thead>\n",
       "    <tr style=\"text-align: right;\">\n",
       "      <th></th>\n",
       "      <th>Text</th>\n",
       "      <th>Target</th>\n",
       "      <th>Source</th>\n",
       "    </tr>\n",
       "  </thead>\n",
       "  <tbody>\n",
       "    <tr>\n",
       "      <th>0</th>\n",
       "      <td>[mommy, say, not, to, talk, to, stranger, but,...</td>\n",
       "      <td>1.0</td>\n",
       "      <td>SchooshooterTexts</td>\n",
       "    </tr>\n",
       "    <tr>\n",
       "      <th>1</th>\n",
       "      <td>[1, i, be, immune, to, get, hurt, kill, infect...</td>\n",
       "      <td>1.0</td>\n",
       "      <td>SchooshooterTexts</td>\n",
       "    </tr>\n",
       "    <tr>\n",
       "      <th>2</th>\n",
       "      <td>[i, mean, terrorist, attack, happen, all, the,...</td>\n",
       "      <td>1.0</td>\n",
       "      <td>SchooshooterTexts</td>\n",
       "    </tr>\n",
       "    <tr>\n",
       "      <th>3</th>\n",
       "      <td>[a, a, god, it, would, be, my, responsibility,...</td>\n",
       "      <td>1.0</td>\n",
       "      <td>SchooshooterTexts</td>\n",
       "    </tr>\n",
       "    <tr>\n",
       "      <th>4</th>\n",
       "      <td>[i, be, go, to, grab, a, knife, and, shove, it...</td>\n",
       "      <td>1.0</td>\n",
       "      <td>SchooshooterTexts</td>\n",
       "    </tr>\n",
       "  </tbody>\n",
       "</table>\n",
       "</div>"
      ],
      "text/plain": [
       "                                                Text  Target  \\\n",
       "0  [mommy, say, not, to, talk, to, stranger, but,...     1.0   \n",
       "1  [1, i, be, immune, to, get, hurt, kill, infect...     1.0   \n",
       "2  [i, mean, terrorist, attack, happen, all, the,...     1.0   \n",
       "3  [a, a, god, it, would, be, my, responsibility,...     1.0   \n",
       "4  [i, be, go, to, grab, a, knife, and, shove, it...     1.0   \n",
       "\n",
       "              Source  \n",
       "0  SchooshooterTexts  \n",
       "1  SchooshooterTexts  \n",
       "2  SchooshooterTexts  \n",
       "3  SchooshooterTexts  \n",
       "4  SchooshooterTexts  "
      ]
     },
     "execution_count": 13,
     "metadata": {},
     "output_type": "execute_result"
    }
   ],
   "source": [
    "import emoji\n",
    "\n",
    "def convert_emojis_in_tokens(tokens):\n",
    "    new_tokens = []\n",
    "    for token in tokens:\n",
    "        # Replace emoji with description, e.g. 🔥 -> _fire_\n",
    "        replaced = emoji.replace_emoji(\n",
    "            token, \n",
    "            replace=lambda e, data: \"_\" + data['en'].replace(' ', '_') + \"_\" if data and 'en' in data else e\n",
    "        )\n",
    "        new_tokens.append(replaced)\n",
    "    return new_tokens\n",
    "\n",
    "# Apply to your tokenized column\n",
    "df['Text'] = df['Text'].apply(convert_emojis_in_tokens)\n",
    "df.head()"
   ]
  },
  {
   "cell_type": "markdown",
   "id": "6329c327",
   "metadata": {},
   "source": [
    "## Word Splitting"
   ]
  },
  {
   "cell_type": "code",
   "execution_count": 14,
   "id": "1d9767af",
   "metadata": {},
   "outputs": [],
   "source": [
    "import wordninja\n",
    "\n",
    "def fix_merged_tokens(tokens):\n",
    "    fixed_tokens = []\n",
    "    for token in tokens:\n",
    "        # If token is a single word, split it if needed\n",
    "        split = wordninja.split(token)\n",
    "        fixed_tokens.extend(split if len(split) > 1 else [token])\n",
    "    return fixed_tokens\n",
    "\n",
    "df['Text'] = df['Text'].apply(fix_merged_tokens)\n"
   ]
  },
  {
   "cell_type": "code",
   "execution_count": 15,
   "id": "6f722ff1",
   "metadata": {},
   "outputs": [
    {
     "data": {
      "application/vnd.microsoft.datawrangler.viewer.v0+json": {
       "columns": [
        {
         "name": "index",
         "rawType": "int64",
         "type": "integer"
        },
        {
         "name": "Text",
         "rawType": "object",
         "type": "unknown"
        },
        {
         "name": "Target",
         "rawType": "float64",
         "type": "float"
        },
        {
         "name": "Source",
         "rawType": "object",
         "type": "string"
        }
       ],
       "ref": "498c71f0-b256-446d-8f72-d298fc92c6f2",
       "rows": [
        [
         "0",
         "['mommy', 'say', 'not', 'to', 'talk', 'to', 'stranger', 'but', 'she', 'is', 'drunk', 'all', 'the', 'tears', 'in', 'my', 'eyes', 'why', 'should', 'i', 'listen', 'to', 'her', 'advice']",
         "1.0",
         "SchooshooterTexts"
        ],
        [
         "1",
         "['1', 'i', 'be', 'immune', 'to', 'get', 'hurt', 'kill', 'infect', 'with', 'a', 'std', '2', 'i', 'have', '43', 'million', 'worshipper', '3', 'i', 'have', 'a', 'life']",
         "1.0",
         "SchooshooterTexts"
        ],
        [
         "2",
         "['i', 'mean', 'terrorist', 'attack', 'happen', 'all', 'the', 'tears', 'in', 'my', 'eyes', 'sure', 'thousand', 'die', 'but', 'million', 'have', 'die', 'from', 'george', 'honestly', 'it', 'be', 'almost', '10', 'year', 'and', 'idiot', 'be', 'still', 'whine', '911', 'do', 'make', 'a', 'lot', 'of', 'idiot', 'patriot', 'extremist', 'in', 'america', 'you', 'have', 'to', 'give', '911', 'that', 'i', 'wish', 'another', 'terrorist', 'plane', 'attack', 'would', 'happen', 'so', 'that', 'i', 'could', 'go', 'back', 'to', 'europe', 'and', 'back', 'for', '3', 'cent', 'ahh', 'i', 'remember', 'i', 'be', 'a', 'little', 'kindergartener', 'could', 'of', 'be', '1', 'st', 'grader', 'but', 'i', 'be', 'too', 'young']",
         "1.0",
         "SchooshooterTexts"
        ],
        [
         "3",
         "['a', 'a', 'god', 'it', 'would', 'be', 'my', 'responsibility', 'not', 'to', 'destroy', 'the', 'universal', 'balance', 'thus', 'i', 'be', 'unable', 'to', 'just', 'appear', 'instantly', 'i', 'would', 'need', 'to', 'convert', 'them', 'to', 'be', 'open', 'mind', 'about', 'other', 'god', 'and', 'then', 'i', 'will', 'appear', 'i', 'will', 'give', 'out', 'my', '3', 'main', 'rule', '1', 'do', 'not', 'harm', 'any', 'living', 'thing', 'if', 'you', 'break', 'this', 'rule', 'i', 'will', 'break', 'your', 'skull', '2', 'do', 'not', 'act', 'in', 'violence', 'of', 'any', 'form', '3', 'do', 'not', 'be', 'a', 'stuff', 'head', 'i', 'would', 'try', 'to', 'act', 'with', 'any', 'other', 'god', 'out', 'there', 'such', 'a', 'if', 'gaia', 'be', 'real', 'i', 'would', 'let', 'her', 'take', 'care', 'of', 'her', 'creation', 'and', 'her', 'earth', 'i', 'would', 'let', 'zeus', 'and', 'poseidon', 'make', 'the', 'hurricane', 'and', 'earthquake', 'and', 'i', 'would', 'let', 'hades', 'rule', 'the', 'energy', 'of', 'darkness', 'i', 'would', 'be', 'sure', 'to', 'educate', 'them', 'on', 'solar', 'wind', 'water', 'power', 'technology']",
         "1.0",
         "SchooshooterTexts"
        ],
        [
         "4",
         "['i', 'be', 'go', 'to', 'grab', 'a', 'knife', 'and', 'shove', 'it', 'in', 'the', 'neck', 'of', 'my', 'mother', 'i', 'will', 'then', 'drag', 'her', 'dead', 'body', 'by', 'the', 'trash', 'can', 'drain', 'her', 'blood', 'and', 'then', 'finally', 'cut', 'her', 'and', 'grind', 'her', 'up', 'into', 'little', 'piece', 'i', 'will', 'eat', 'some', 'of', 'those', 'piece', 'and', 'then', 'i', 'will', 'probably', 'barf', 'i', 'will', 'throw', 'her', 'body', 'away', 'in', 'the', 'trash', 'can', 'i', 'will', 'then', 'go', 'slaughter', 'sacred', 'animal', 'to', 'appease', 'the', 'god', 'hail', 'satan', 'i', 'be', 'agnostic', 'not', 'satanist']",
         "1.0",
         "SchooshooterTexts"
        ]
       ],
       "shape": {
        "columns": 3,
        "rows": 5
       }
      },
      "text/html": [
       "<div>\n",
       "<style scoped>\n",
       "    .dataframe tbody tr th:only-of-type {\n",
       "        vertical-align: middle;\n",
       "    }\n",
       "\n",
       "    .dataframe tbody tr th {\n",
       "        vertical-align: top;\n",
       "    }\n",
       "\n",
       "    .dataframe thead th {\n",
       "        text-align: right;\n",
       "    }\n",
       "</style>\n",
       "<table border=\"1\" class=\"dataframe\">\n",
       "  <thead>\n",
       "    <tr style=\"text-align: right;\">\n",
       "      <th></th>\n",
       "      <th>Text</th>\n",
       "      <th>Target</th>\n",
       "      <th>Source</th>\n",
       "    </tr>\n",
       "  </thead>\n",
       "  <tbody>\n",
       "    <tr>\n",
       "      <th>0</th>\n",
       "      <td>[mommy, say, not, to, talk, to, stranger, but,...</td>\n",
       "      <td>1.0</td>\n",
       "      <td>SchooshooterTexts</td>\n",
       "    </tr>\n",
       "    <tr>\n",
       "      <th>1</th>\n",
       "      <td>[1, i, be, immune, to, get, hurt, kill, infect...</td>\n",
       "      <td>1.0</td>\n",
       "      <td>SchooshooterTexts</td>\n",
       "    </tr>\n",
       "    <tr>\n",
       "      <th>2</th>\n",
       "      <td>[i, mean, terrorist, attack, happen, all, the,...</td>\n",
       "      <td>1.0</td>\n",
       "      <td>SchooshooterTexts</td>\n",
       "    </tr>\n",
       "    <tr>\n",
       "      <th>3</th>\n",
       "      <td>[a, a, god, it, would, be, my, responsibility,...</td>\n",
       "      <td>1.0</td>\n",
       "      <td>SchooshooterTexts</td>\n",
       "    </tr>\n",
       "    <tr>\n",
       "      <th>4</th>\n",
       "      <td>[i, be, go, to, grab, a, knife, and, shove, it...</td>\n",
       "      <td>1.0</td>\n",
       "      <td>SchooshooterTexts</td>\n",
       "    </tr>\n",
       "  </tbody>\n",
       "</table>\n",
       "</div>"
      ],
      "text/plain": [
       "                                                Text  Target  \\\n",
       "0  [mommy, say, not, to, talk, to, stranger, but,...     1.0   \n",
       "1  [1, i, be, immune, to, get, hurt, kill, infect...     1.0   \n",
       "2  [i, mean, terrorist, attack, happen, all, the,...     1.0   \n",
       "3  [a, a, god, it, would, be, my, responsibility,...     1.0   \n",
       "4  [i, be, go, to, grab, a, knife, and, shove, it...     1.0   \n",
       "\n",
       "              Source  \n",
       "0  SchooshooterTexts  \n",
       "1  SchooshooterTexts  \n",
       "2  SchooshooterTexts  \n",
       "3  SchooshooterTexts  \n",
       "4  SchooshooterTexts  "
      ]
     },
     "execution_count": 15,
     "metadata": {},
     "output_type": "execute_result"
    }
   ],
   "source": [
    "df.head()"
   ]
  },
  {
   "cell_type": "markdown",
   "id": "aff5effc",
   "metadata": {},
   "source": [
    "## Fixing Mispelling"
   ]
  },
  {
   "cell_type": "code",
   "execution_count": 16,
   "id": "fd437383",
   "metadata": {},
   "outputs": [
    {
     "data": {
      "application/vnd.microsoft.datawrangler.viewer.v0+json": {
       "columns": [
        {
         "name": "index",
         "rawType": "int64",
         "type": "integer"
        },
        {
         "name": "Text",
         "rawType": "object",
         "type": "unknown"
        },
        {
         "name": "Target",
         "rawType": "float64",
         "type": "float"
        },
        {
         "name": "Source",
         "rawType": "object",
         "type": "string"
        }
       ],
       "ref": "970b7a23-d43d-45f3-9dec-8433187ec544",
       "rows": [
        [
         "0",
         "['mommy', 'say', 'not', 'to', 'talk', 'to', 'stranger', 'but', 'she', 'is', 'drunk', 'all', 'the', 'tears', 'in', 'my', 'eyes', 'why', 'should', 'i', 'listen', 'to', 'her', 'advice']",
         "1.0",
         "SchooshooterTexts"
        ],
        [
         "1",
         "['1', 'i', 'be', 'immune', 'to', 'get', 'hurt', 'kill', 'infect', 'with', 'a', 'sad', '2', 'i', 'have', '43', 'million', 'worshipper', '3', 'i', 'have', 'a', 'life']",
         "1.0",
         "SchooshooterTexts"
        ],
        [
         "2",
         "['i', 'mean', 'terrorist', 'attack', 'happen', 'all', 'the', 'tears', 'in', 'my', 'eyes', 'sure', 'thousand', 'die', 'but', 'million', 'have', 'die', 'from', 'george', 'honestly', 'it', 'be', 'almost', '10', 'year', 'and', 'idiot', 'be', 'still', 'whine', '911', 'do', 'make', 'a', 'lot', 'of', 'idiot', 'patriot', 'extremist', 'in', 'america', 'you', 'have', 'to', 'give', '911', 'that', 'i', 'wish', 'another', 'terrorist', 'plane', 'attack', 'would', 'happen', 'so', 'that', 'i', 'could', 'go', 'back', 'to', 'europe', 'and', 'back', 'for', '3', 'cent', 'ah', 'i', 'remember', 'i', 'be', 'a', 'little', 'kindergartener', 'could', 'of', 'be', '1', 'st', 'grader', 'but', 'i', 'be', 'too', 'young']",
         "1.0",
         "SchooshooterTexts"
        ],
        [
         "3",
         "['a', 'a', 'god', 'it', 'would', 'be', 'my', 'responsibility', 'not', 'to', 'destroy', 'the', 'universal', 'balance', 'thus', 'i', 'be', 'unable', 'to', 'just', 'appear', 'instantly', 'i', 'would', 'need', 'to', 'convert', 'them', 'to', 'be', 'open', 'mind', 'about', 'other', 'god', 'and', 'then', 'i', 'will', 'appear', 'i', 'will', 'give', 'out', 'my', '3', 'main', 'rule', '1', 'do', 'not', 'harm', 'any', 'living', 'thing', 'if', 'you', 'break', 'this', 'rule', 'i', 'will', 'break', 'your', 'skull', '2', 'do', 'not', 'act', 'in', 'violence', 'of', 'any', 'form', '3', 'do', 'not', 'be', 'a', 'stuff', 'head', 'i', 'would', 'try', 'to', 'act', 'with', 'any', 'other', 'god', 'out', 'there', 'such', 'a', 'if', 'gaia', 'be', 'real', 'i', 'would', 'let', 'her', 'take', 'care', 'of', 'her', 'creation', 'and', 'her', 'earth', 'i', 'would', 'let', 'zeus', 'and', 'poseidon', 'make', 'the', 'hurricane', 'and', 'earthquake', 'and', 'i', 'would', 'let', 'hades', 'rule', 'the', 'energy', 'of', 'darkness', 'i', 'would', 'be', 'sure', 'to', 'educate', 'them', 'on', 'solar', 'wind', 'water', 'power', 'technology']",
         "1.0",
         "SchooshooterTexts"
        ],
        [
         "4",
         "['i', 'be', 'go', 'to', 'grab', 'a', 'knife', 'and', 'shove', 'it', 'in', 'the', 'neck', 'of', 'my', 'mother', 'i', 'will', 'then', 'drag', 'her', 'dead', 'body', 'by', 'the', 'trash', 'can', 'drain', 'her', 'blood', 'and', 'then', 'finally', 'cut', 'her', 'and', 'grind', 'her', 'up', 'into', 'little', 'piece', 'i', 'will', 'eat', 'some', 'of', 'those', 'piece', 'and', 'then', 'i', 'will', 'probably', 'barf', 'i', 'will', 'throw', 'her', 'body', 'away', 'in', 'the', 'trash', 'can', 'i', 'will', 'then', 'go', 'slaughter', 'sacred', 'animal', 'to', 'appease', 'the', 'god', 'hail', 'satan', 'i', 'be', 'agnostic', 'not', 'satanist']",
         "1.0",
         "SchooshooterTexts"
        ]
       ],
       "shape": {
        "columns": 3,
        "rows": 5
       }
      },
      "text/html": [
       "<div>\n",
       "<style scoped>\n",
       "    .dataframe tbody tr th:only-of-type {\n",
       "        vertical-align: middle;\n",
       "    }\n",
       "\n",
       "    .dataframe tbody tr th {\n",
       "        vertical-align: top;\n",
       "    }\n",
       "\n",
       "    .dataframe thead th {\n",
       "        text-align: right;\n",
       "    }\n",
       "</style>\n",
       "<table border=\"1\" class=\"dataframe\">\n",
       "  <thead>\n",
       "    <tr style=\"text-align: right;\">\n",
       "      <th></th>\n",
       "      <th>Text</th>\n",
       "      <th>Target</th>\n",
       "      <th>Source</th>\n",
       "    </tr>\n",
       "  </thead>\n",
       "  <tbody>\n",
       "    <tr>\n",
       "      <th>0</th>\n",
       "      <td>[mommy, say, not, to, talk, to, stranger, but,...</td>\n",
       "      <td>1.0</td>\n",
       "      <td>SchooshooterTexts</td>\n",
       "    </tr>\n",
       "    <tr>\n",
       "      <th>1</th>\n",
       "      <td>[1, i, be, immune, to, get, hurt, kill, infect...</td>\n",
       "      <td>1.0</td>\n",
       "      <td>SchooshooterTexts</td>\n",
       "    </tr>\n",
       "    <tr>\n",
       "      <th>2</th>\n",
       "      <td>[i, mean, terrorist, attack, happen, all, the,...</td>\n",
       "      <td>1.0</td>\n",
       "      <td>SchooshooterTexts</td>\n",
       "    </tr>\n",
       "    <tr>\n",
       "      <th>3</th>\n",
       "      <td>[a, a, god, it, would, be, my, responsibility,...</td>\n",
       "      <td>1.0</td>\n",
       "      <td>SchooshooterTexts</td>\n",
       "    </tr>\n",
       "    <tr>\n",
       "      <th>4</th>\n",
       "      <td>[i, be, go, to, grab, a, knife, and, shove, it...</td>\n",
       "      <td>1.0</td>\n",
       "      <td>SchooshooterTexts</td>\n",
       "    </tr>\n",
       "  </tbody>\n",
       "</table>\n",
       "</div>"
      ],
      "text/plain": [
       "                                                Text  Target  \\\n",
       "0  [mommy, say, not, to, talk, to, stranger, but,...     1.0   \n",
       "1  [1, i, be, immune, to, get, hurt, kill, infect...     1.0   \n",
       "2  [i, mean, terrorist, attack, happen, all, the,...     1.0   \n",
       "3  [a, a, god, it, would, be, my, responsibility,...     1.0   \n",
       "4  [i, be, go, to, grab, a, knife, and, shove, it...     1.0   \n",
       "\n",
       "              Source  \n",
       "0  SchooshooterTexts  \n",
       "1  SchooshooterTexts  \n",
       "2  SchooshooterTexts  \n",
       "3  SchooshooterTexts  \n",
       "4  SchooshooterTexts  "
      ]
     },
     "execution_count": 16,
     "metadata": {},
     "output_type": "execute_result"
    }
   ],
   "source": [
    "from spellchecker import SpellChecker\n",
    "\n",
    "spell = SpellChecker()\n",
    "\n",
    "def correct_spellings_in_tokens(tokens):\n",
    "    corrected_tokens = []\n",
    "    misspelled = spell.unknown(tokens)\n",
    "    for word in tokens:\n",
    "        if word in misspelled:\n",
    "            corrected_tokens.append(spell.correction(word))\n",
    "        else:\n",
    "            corrected_tokens.append(word)\n",
    "    return corrected_tokens\n",
    "\n",
    "df['Text'] = df['Text'].apply(correct_spellings_in_tokens)\n",
    "df.head()"
   ]
  },
  {
   "cell_type": "markdown",
   "id": "8028e8b7",
   "metadata": {},
   "source": [
    "## Remove Numbers"
   ]
  },
  {
   "cell_type": "code",
   "execution_count": 17,
   "id": "40d19832",
   "metadata": {},
   "outputs": [
    {
     "data": {
      "application/vnd.microsoft.datawrangler.viewer.v0+json": {
       "columns": [
        {
         "name": "index",
         "rawType": "int64",
         "type": "integer"
        },
        {
         "name": "Text",
         "rawType": "object",
         "type": "unknown"
        },
        {
         "name": "Target",
         "rawType": "float64",
         "type": "float"
        },
        {
         "name": "Source",
         "rawType": "object",
         "type": "string"
        }
       ],
       "ref": "27299b8c-08e2-4dbc-abc1-15be0bbaad90",
       "rows": [
        [
         "0",
         "['mommy', 'say', 'not', 'to', 'talk', 'to', 'stranger', 'but', 'she', 'is', 'drunk', 'all', 'the', 'tears', 'in', 'my', 'eyes', 'why', 'should', 'i', 'listen', 'to', 'her', 'advice']",
         "1.0",
         "SchooshooterTexts"
        ],
        [
         "1",
         "['i', 'be', 'immune', 'to', 'get', 'hurt', 'kill', 'infect', 'with', 'a', 'sad', 'i', 'have', 'million', 'worshipper', 'i', 'have', 'a', 'life']",
         "1.0",
         "SchooshooterTexts"
        ],
        [
         "2",
         "['i', 'mean', 'terrorist', 'attack', 'happen', 'all', 'the', 'tears', 'in', 'my', 'eyes', 'sure', 'thousand', 'die', 'but', 'million', 'have', 'die', 'from', 'george', 'honestly', 'it', 'be', 'almost', 'year', 'and', 'idiot', 'be', 'still', 'whine', 'do', 'make', 'a', 'lot', 'of', 'idiot', 'patriot', 'extremist', 'in', 'america', 'you', 'have', 'to', 'give', 'that', 'i', 'wish', 'another', 'terrorist', 'plane', 'attack', 'would', 'happen', 'so', 'that', 'i', 'could', 'go', 'back', 'to', 'europe', 'and', 'back', 'for', 'cent', 'ah', 'i', 'remember', 'i', 'be', 'a', 'little', 'kindergartener', 'could', 'of', 'be', 'st', 'grader', 'but', 'i', 'be', 'too', 'young']",
         "1.0",
         "SchooshooterTexts"
        ],
        [
         "3",
         "['a', 'a', 'god', 'it', 'would', 'be', 'my', 'responsibility', 'not', 'to', 'destroy', 'the', 'universal', 'balance', 'thus', 'i', 'be', 'unable', 'to', 'just', 'appear', 'instantly', 'i', 'would', 'need', 'to', 'convert', 'them', 'to', 'be', 'open', 'mind', 'about', 'other', 'god', 'and', 'then', 'i', 'will', 'appear', 'i', 'will', 'give', 'out', 'my', 'main', 'rule', 'do', 'not', 'harm', 'any', 'living', 'thing', 'if', 'you', 'break', 'this', 'rule', 'i', 'will', 'break', 'your', 'skull', 'do', 'not', 'act', 'in', 'violence', 'of', 'any', 'form', 'do', 'not', 'be', 'a', 'stuff', 'head', 'i', 'would', 'try', 'to', 'act', 'with', 'any', 'other', 'god', 'out', 'there', 'such', 'a', 'if', 'gaia', 'be', 'real', 'i', 'would', 'let', 'her', 'take', 'care', 'of', 'her', 'creation', 'and', 'her', 'earth', 'i', 'would', 'let', 'zeus', 'and', 'poseidon', 'make', 'the', 'hurricane', 'and', 'earthquake', 'and', 'i', 'would', 'let', 'hades', 'rule', 'the', 'energy', 'of', 'darkness', 'i', 'would', 'be', 'sure', 'to', 'educate', 'them', 'on', 'solar', 'wind', 'water', 'power', 'technology']",
         "1.0",
         "SchooshooterTexts"
        ],
        [
         "4",
         "['i', 'be', 'go', 'to', 'grab', 'a', 'knife', 'and', 'shove', 'it', 'in', 'the', 'neck', 'of', 'my', 'mother', 'i', 'will', 'then', 'drag', 'her', 'dead', 'body', 'by', 'the', 'trash', 'can', 'drain', 'her', 'blood', 'and', 'then', 'finally', 'cut', 'her', 'and', 'grind', 'her', 'up', 'into', 'little', 'piece', 'i', 'will', 'eat', 'some', 'of', 'those', 'piece', 'and', 'then', 'i', 'will', 'probably', 'barf', 'i', 'will', 'throw', 'her', 'body', 'away', 'in', 'the', 'trash', 'can', 'i', 'will', 'then', 'go', 'slaughter', 'sacred', 'animal', 'to', 'appease', 'the', 'god', 'hail', 'satan', 'i', 'be', 'agnostic', 'not', 'satanist']",
         "1.0",
         "SchooshooterTexts"
        ]
       ],
       "shape": {
        "columns": 3,
        "rows": 5
       }
      },
      "text/html": [
       "<div>\n",
       "<style scoped>\n",
       "    .dataframe tbody tr th:only-of-type {\n",
       "        vertical-align: middle;\n",
       "    }\n",
       "\n",
       "    .dataframe tbody tr th {\n",
       "        vertical-align: top;\n",
       "    }\n",
       "\n",
       "    .dataframe thead th {\n",
       "        text-align: right;\n",
       "    }\n",
       "</style>\n",
       "<table border=\"1\" class=\"dataframe\">\n",
       "  <thead>\n",
       "    <tr style=\"text-align: right;\">\n",
       "      <th></th>\n",
       "      <th>Text</th>\n",
       "      <th>Target</th>\n",
       "      <th>Source</th>\n",
       "    </tr>\n",
       "  </thead>\n",
       "  <tbody>\n",
       "    <tr>\n",
       "      <th>0</th>\n",
       "      <td>[mommy, say, not, to, talk, to, stranger, but,...</td>\n",
       "      <td>1.0</td>\n",
       "      <td>SchooshooterTexts</td>\n",
       "    </tr>\n",
       "    <tr>\n",
       "      <th>1</th>\n",
       "      <td>[i, be, immune, to, get, hurt, kill, infect, w...</td>\n",
       "      <td>1.0</td>\n",
       "      <td>SchooshooterTexts</td>\n",
       "    </tr>\n",
       "    <tr>\n",
       "      <th>2</th>\n",
       "      <td>[i, mean, terrorist, attack, happen, all, the,...</td>\n",
       "      <td>1.0</td>\n",
       "      <td>SchooshooterTexts</td>\n",
       "    </tr>\n",
       "    <tr>\n",
       "      <th>3</th>\n",
       "      <td>[a, a, god, it, would, be, my, responsibility,...</td>\n",
       "      <td>1.0</td>\n",
       "      <td>SchooshooterTexts</td>\n",
       "    </tr>\n",
       "    <tr>\n",
       "      <th>4</th>\n",
       "      <td>[i, be, go, to, grab, a, knife, and, shove, it...</td>\n",
       "      <td>1.0</td>\n",
       "      <td>SchooshooterTexts</td>\n",
       "    </tr>\n",
       "  </tbody>\n",
       "</table>\n",
       "</div>"
      ],
      "text/plain": [
       "                                                Text  Target  \\\n",
       "0  [mommy, say, not, to, talk, to, stranger, but,...     1.0   \n",
       "1  [i, be, immune, to, get, hurt, kill, infect, w...     1.0   \n",
       "2  [i, mean, terrorist, attack, happen, all, the,...     1.0   \n",
       "3  [a, a, god, it, would, be, my, responsibility,...     1.0   \n",
       "4  [i, be, go, to, grab, a, knife, and, shove, it...     1.0   \n",
       "\n",
       "              Source  \n",
       "0  SchooshooterTexts  \n",
       "1  SchooshooterTexts  \n",
       "2  SchooshooterTexts  \n",
       "3  SchooshooterTexts  \n",
       "4  SchooshooterTexts  "
      ]
     },
     "execution_count": 17,
     "metadata": {},
     "output_type": "execute_result"
    }
   ],
   "source": [
    "def safe_remove_numbers(tokens):\n",
    "    try:\n",
    "        if not isinstance(tokens, list):\n",
    "            return []\n",
    "        return [str(token) for token in tokens if not any(char.isdigit() for char in str(token))]\n",
    "    except Exception:\n",
    "        # If any error occurs, return empty list (row will be dropped later)\n",
    "        return []\n",
    "\n",
    "# Apply the function\n",
    "df['Text'] = df['Text'].apply(safe_remove_numbers)\n",
    "\n",
    "# Drop any row where 'Text' is a empty list\n",
    "df = df[df['Text'].apply(lambda x: isinstance(x, list) and len(x) > 0)]\n",
    "\n",
    "df.head()"
   ]
  },
  {
   "cell_type": "markdown",
   "id": "d846f38e",
   "metadata": {},
   "source": [
    "## Joining Back Tokens into a single String"
   ]
  },
  {
   "cell_type": "code",
   "execution_count": 18,
   "id": "8abc916a",
   "metadata": {},
   "outputs": [
    {
     "data": {
      "application/vnd.microsoft.datawrangler.viewer.v0+json": {
       "columns": [
        {
         "name": "index",
         "rawType": "int64",
         "type": "integer"
        },
        {
         "name": "Text",
         "rawType": "object",
         "type": "string"
        },
        {
         "name": "Target",
         "rawType": "float64",
         "type": "float"
        },
        {
         "name": "Source",
         "rawType": "object",
         "type": "string"
        }
       ],
       "ref": "11aa5048-c468-4c72-80ba-9a7fe3849915",
       "rows": [
        [
         "0",
         "mommy say not to talk to stranger but she is drunk all the tears in my eyes why should i listen to her advice",
         "1.0",
         "SchooshooterTexts"
        ],
        [
         "1",
         "i be immune to get hurt kill infect with a sad i have million worshipper i have a life",
         "1.0",
         "SchooshooterTexts"
        ],
        [
         "2",
         "i mean terrorist attack happen all the tears in my eyes sure thousand die but million have die from george honestly it be almost year and idiot be still whine do make a lot of idiot patriot extremist in america you have to give that i wish another terrorist plane attack would happen so that i could go back to europe and back for cent ah i remember i be a little kindergartener could of be st grader but i be too young",
         "1.0",
         "SchooshooterTexts"
        ],
        [
         "3",
         "a a god it would be my responsibility not to destroy the universal balance thus i be unable to just appear instantly i would need to convert them to be open mind about other god and then i will appear i will give out my main rule do not harm any living thing if you break this rule i will break your skull do not act in violence of any form do not be a stuff head i would try to act with any other god out there such a if gaia be real i would let her take care of her creation and her earth i would let zeus and poseidon make the hurricane and earthquake and i would let hades rule the energy of darkness i would be sure to educate them on solar wind water power technology",
         "1.0",
         "SchooshooterTexts"
        ],
        [
         "4",
         "i be go to grab a knife and shove it in the neck of my mother i will then drag her dead body by the trash can drain her blood and then finally cut her and grind her up into little piece i will eat some of those piece and then i will probably barf i will throw her body away in the trash can i will then go slaughter sacred animal to appease the god hail satan i be agnostic not satanist",
         "1.0",
         "SchooshooterTexts"
        ]
       ],
       "shape": {
        "columns": 3,
        "rows": 5
       }
      },
      "text/html": [
       "<div>\n",
       "<style scoped>\n",
       "    .dataframe tbody tr th:only-of-type {\n",
       "        vertical-align: middle;\n",
       "    }\n",
       "\n",
       "    .dataframe tbody tr th {\n",
       "        vertical-align: top;\n",
       "    }\n",
       "\n",
       "    .dataframe thead th {\n",
       "        text-align: right;\n",
       "    }\n",
       "</style>\n",
       "<table border=\"1\" class=\"dataframe\">\n",
       "  <thead>\n",
       "    <tr style=\"text-align: right;\">\n",
       "      <th></th>\n",
       "      <th>Text</th>\n",
       "      <th>Target</th>\n",
       "      <th>Source</th>\n",
       "    </tr>\n",
       "  </thead>\n",
       "  <tbody>\n",
       "    <tr>\n",
       "      <th>0</th>\n",
       "      <td>mommy say not to talk to stranger but she is d...</td>\n",
       "      <td>1.0</td>\n",
       "      <td>SchooshooterTexts</td>\n",
       "    </tr>\n",
       "    <tr>\n",
       "      <th>1</th>\n",
       "      <td>i be immune to get hurt kill infect with a sad...</td>\n",
       "      <td>1.0</td>\n",
       "      <td>SchooshooterTexts</td>\n",
       "    </tr>\n",
       "    <tr>\n",
       "      <th>2</th>\n",
       "      <td>i mean terrorist attack happen all the tears i...</td>\n",
       "      <td>1.0</td>\n",
       "      <td>SchooshooterTexts</td>\n",
       "    </tr>\n",
       "    <tr>\n",
       "      <th>3</th>\n",
       "      <td>a a god it would be my responsibility not to d...</td>\n",
       "      <td>1.0</td>\n",
       "      <td>SchooshooterTexts</td>\n",
       "    </tr>\n",
       "    <tr>\n",
       "      <th>4</th>\n",
       "      <td>i be go to grab a knife and shove it in the ne...</td>\n",
       "      <td>1.0</td>\n",
       "      <td>SchooshooterTexts</td>\n",
       "    </tr>\n",
       "  </tbody>\n",
       "</table>\n",
       "</div>"
      ],
      "text/plain": [
       "                                                Text  Target  \\\n",
       "0  mommy say not to talk to stranger but she is d...     1.0   \n",
       "1  i be immune to get hurt kill infect with a sad...     1.0   \n",
       "2  i mean terrorist attack happen all the tears i...     1.0   \n",
       "3  a a god it would be my responsibility not to d...     1.0   \n",
       "4  i be go to grab a knife and shove it in the ne...     1.0   \n",
       "\n",
       "              Source  \n",
       "0  SchooshooterTexts  \n",
       "1  SchooshooterTexts  \n",
       "2  SchooshooterTexts  \n",
       "3  SchooshooterTexts  \n",
       "4  SchooshooterTexts  "
      ]
     },
     "execution_count": 18,
     "metadata": {},
     "output_type": "execute_result"
    }
   ],
   "source": [
    "# Join tokens back into a single string\n",
    "df['Text'] = df['Text'].apply(' '.join)\n",
    "df.head()"
   ]
  },
  {
   "cell_type": "markdown",
   "id": "9136c1fa",
   "metadata": {},
   "source": []
  }
 ],
 "metadata": {
  "kernelspec": {
   "display_name": "Python 3",
   "language": "python",
   "name": "python3"
  },
  "language_info": {
   "codemirror_mode": {
    "name": "ipython",
    "version": 3
   },
   "file_extension": ".py",
   "mimetype": "text/x-python",
   "name": "python",
   "nbconvert_exporter": "python",
   "pygments_lexer": "ipython3",
   "version": "3.11.3"
  }
 },
 "nbformat": 4,
 "nbformat_minor": 5
}
