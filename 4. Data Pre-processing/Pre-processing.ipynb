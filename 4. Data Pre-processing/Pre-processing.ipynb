{
 "cells": [
  {
   "cell_type": "markdown",
   "id": "0fa6c050",
   "metadata": {},
   "source": [
    "## Load Dataset"
   ]
  },
  {
   "cell_type": "code",
   "execution_count": 67,
   "id": "cad96367",
   "metadata": {},
   "outputs": [
    {
     "name": "stdout",
     "output_type": "stream",
     "text": [
      "<class 'pandas.core.frame.DataFrame'>\n",
      "RangeIndex: 4280 entries, 0 to 4279\n",
      "Data columns (total 3 columns):\n",
      " #   Column  Non-Null Count  Dtype  \n",
      "---  ------  --------------  -----  \n",
      " 0   Text    4278 non-null   object \n",
      " 1   Target  4280 non-null   float64\n",
      " 2   Source  4280 non-null   object \n",
      "dtypes: float64(1), object(2)\n",
      "memory usage: 100.4+ KB\n"
     ]
    },
    {
     "data": {
      "application/vnd.microsoft.datawrangler.viewer.v0+json": {
       "columns": [
        {
         "name": "index",
         "rawType": "int64",
         "type": "integer"
        },
        {
         "name": "Text",
         "rawType": "object",
         "type": "string"
        },
        {
         "name": "Target",
         "rawType": "float64",
         "type": "float"
        },
        {
         "name": "Source",
         "rawType": "object",
         "type": "string"
        }
       ],
       "ref": "61540634-6f49-4a05-879e-588fa0f58154",
       "rows": [
        [
         "0",
         "Mommy said not to talk to strangers..but she's drunk all the time why should I listen to her advice?",
         "1.0",
         "SchooshooterTexts"
        ],
        [
         "1",
         "1.I was immune to getting hurt/killed/infected with a std\n2.I had 43 million worshippers\n3.I had a life..",
         "1.0",
         "SchooshooterTexts"
        ],
        [
         "2",
         "I mean terrorist attacks happen all the time. Sure thousands died, but millions have died from George. Honestly, it's been almost 10 years and idiots are still whining. 911 did make a lot of idiot patriot extremists in america, you have to give 911 that. I wish another terrorist plane attack would happen so that I could go back to europe and back for 3 cents. Ahh, I remember I was a little kindergartener.. (Could of been 1st grader but I was \"too\nyoung\")",
         "1.0",
         "SchooshooterTexts"
        ],
        [
         "3",
         "As a god, it would be my responsibility not to destroy the universal balance; thus, I am unable to just appear instantly. I would need to \"convert\" them to being open minded about other gods and then I will appear. I will give out my 3 main rules:\n\n1.Do not harm any living thing, if you break this rule, I will break your skull.\n2.Do not act in violence of any form.\n3.Don't be a stuffhead.\n\nI would try to act with any other gods out there, such as if Gaia was real, I would let her take care of her creations, and her earth. I would let Zeus and Poseidon make the hurricanes and earthquakes, and I would let Hades rule the energy of darkness.\n\nI would be sure to \"Educate\" them on solar/wind/water powered technology.",
         "1.0",
         "SchooshooterTexts"
        ],
        [
         "4",
         "I am going to grab a knife and shove it in the neck of my mother. I will then drag her dead body by the trash can, drain her blood and then finally cut her and grind her up into little pieces. I will eat some of those pieces and then I will probably barf.. I will throw her body away in the trash can.. I will then go slaughter sacred animals to appease the gods.\n\nHAIL SATAN\n\n..I am agnostic, not satanist..",
         "1.0",
         "SchooshooterTexts"
        ],
        [
         "5",
         "I will rape your hot lovey sister and then strangle her with her own hair. Then I will sneakinto your parent's room and slaughter them.. I will slowly walk to your room holding my blood thirsty knife in my right hand.. I walk into your room when I see that you're making out with yourself.. I will grab you, tie you to your bed with your own hair, and super glue it shut.\n\nMy blood thirsty crave is not over..\n\nI finally rip your hair out and you experience excruciating pain.. So painful that you scream and scream.. But it can't stop! I ripped out the skin of your head, blood is drooping everywhere.. Finally I pluck your eyes right out with my knife and throw them down.. I then cut your neck off and the arms and legs.. Only the torso remains.. I cut off the genitals and I stab the stomach repeatedly.. I finally finish off by ripping out your heart and consuming it..",
         "1.0",
         "SchooshooterTexts"
        ],
        [
         "6",
         "\"IWILLNEVERLETYOUFORGETABOUTME\"",
         "1.0",
         "SchooshooterTexts"
        ],
        [
         "7",
         "Rule 11 : Be nice to nerds. Chances are you'll end up working for one.\n\nStart being nice to me, or I will not hire you all. All of those idiots who have messed up my life in the past, I will hire them for a day, and then fire them.",
         "1.0",
         "SchooshooterTexts"
        ],
        [
         "8",
         "2005.. Age 9.. I was playing sm64ds when I lost the level. I went AGK on my ds, threw it extremely hard at a wall and broke it..\n\n2005 Age 9.. After recieving my ds again, a day later, I got pissed again and ripped the upper half of the DS off..\n\n2005 Age 9.. I got my DS Again, but when playing Pokemon, lost and threw it right at the wall again..\n\nThe 2005 ones are true.. I had a very bad anger problem.\n\n2009.. Age 13.. After getting another DS, threw it right at the TV and said \"How's that\"?",
         "1.0",
         "SchooshooterTexts"
        ],
        [
         "9",
         "Look guys I just smoked an entire $500 worth bag of OG Kush so It's hard to hate you. I love furries, gays, jews, al-queda, and america.\n\n●irl● teenage kid with no friends who hates everything and wants to shoot up his school but is too week to fire a gun and my parents are annyoing but will financially supply me for the next 30 years i love to hate and fart a lot making my room smell remnicsant of cheese and boiled eggs\n\n^ All trolls except me.",
         "1.0",
         "SchooshooterTexts"
        ],
        [
         "10",
         "Don't play WoW. It turned my brother into a basement dweller and now he's doing weed. He's 24, works at a convenience store and dropped out of high school. MMOs are just the same as Heroin and will destroy not only your body, but your mind.",
         "1.0",
         "SchooshooterTexts"
        ],
        [
         "11",
         "I support interesting people and I hope to be internet famous one day.\n\nIn short, I'm a hypocritical weeaboo in denial troll who has been cursed into an endless state of constant boredom which has driven me to depression and anger.",
         "1.0",
         "SchooshooterTexts"
        ],
        [
         "12",
         "The shortest I can describe trolls: Trolls are basically young teenagers who 'bully' online to get a raise because they have a personality disorder and want to cover up the hole that real bullies left in their emotion.",
         "1.0",
         "SchooshooterTexts"
        ],
        [
         "13",
         "I would kill Tidus and the methods of doing this may offend many of you.\n\nI would start off by crusifying him and leaving him without food for a total of three days, afterwards I would force him to eat rats. I would apply 1,000 small cuts throughout his body and dip him in a tub of Hydrogen Peroxide. Afterwards, I would recut the wounds and apply a scorpion's sting to 30 of them over a time period of 2 hours after which I would nurse his health a tad. Next, I would rip his nails out and pour bleach and ammonia on them while making sure he doesn't inhale any. I would shoot him in his knee with a crossbow and since I'm an honorable man I would make this the last of his punishment. A quick sword blow to his chest and a large + incision to his belly would do the trick.\n\nI would leave him in pain for the remainder of his very short life to allow him to reflect on\nhis personality.",
         "1.0",
         "SchooshooterTexts"
        ],
        [
         "14",
         "Jack a gun and shoot myself in the head.",
         "2.0",
         "SchooshooterTexts"
        ],
        [
         "15",
         "Every personality disorder test I take I usually end up getting over half of them at a severe level and I'm being honest most of the time.",
         "1.0",
         "SchooshooterTexts"
        ],
        [
         "16",
         "Hey, I'm eldigato. In short, I am a psychopath dedicated to the art of destruction. In my years of minecraft, I have always aimed to make interesting stories. I have always done my deeds solo and for that reason they never reached the peak I had hoped for. That is why I have registered here today.. In hopes that I can work with people with similar intentions and cause many great calamities.\n\nResume\n\nGriefing: I like to take my time in order to cause the most damage, but I have attacked many servers with a hit-and-run style of disruption before and caused massive amounts of damage. I would like to say that my best griefing attack was the Scattered Space incident, although the damage wasn't intense compared to most of my attacks on servers, I stirred up plenty of drama in their community.\n\nCooperation: I would like to think myself as that of a rogue in many situations, but I have shown to be able to work with others. Considering our personalities, I don't think I would have any troubles with group raiding.\n\nAdmins: I can bullshit my way out of things, but I am a honest man. If I focus, I can have a silver tounge that avoids truthfulness.\n\nI hope that this information is enough to provide and I hope in the future I can infest the world one day.",
         "1.0",
         "SchooshooterTexts"
        ],
        [
         "17",
         "I would cut as many veins in his neck as I could, avoiding his jugular.",
         "1.0",
         "SchooshooterTexts"
        ],
        [
         "18",
         "My guilty pleasure is probably DMT, but it's ok since it's amazingly god.",
         "1.0",
         "SchooshooterTexts"
        ],
        [
         "19",
         "My dream job would have to involve synthesizing pure LSD legally and selling it to the right kind of people who wouldn't abuse it.",
         "1.0",
         "SchooshooterTexts"
        ],
        [
         "20",
         "I will be living in a basement pretty soon, once I'm finished moving in with my bro.",
         "1.0",
         "SchooshooterTexts"
        ],
        [
         "21",
         "I played this game while on marijuana, LSD, Salvia, and Shrooms. I can honestly say that once you're experienced with the types, you can handle it, as long as you have a sitter to help calm you down when creepy stuff happens.",
         "1.0",
         "SchooshooterTexts"
        ],
        [
         "22",
         "If all of the internet went out, people would go psycho and kill eachother and hang mutilated corpses from their town's bridges.",
         "1.0",
         "SchooshooterTexts"
        ],
        [
         "23",
         "I'd go back in time and stop a lot of the school shootings such as Columbine or V-Tech by being a positive influence spreading hope in the minds of the shooters and keep them on a path of enlightenment\n\nor more realistically, I'd clean up trash around my town (which I already do) and volunteer at places. Oh, and befriend the lonely or friendless kids at school.",
         "1.0",
         "SchooshooterTexts"
        ],
        [
         "24",
         "Dropping out of High School in order to just study a GED book my SCI teacher gave me and take the test when I feel ready and then move onto college, while working on fixing myself and learning how to be happy for once, and overcoming a tobacco addiction.",
         "1.0",
         "SchooshooterTexts"
        ]
       ],
       "shape": {
        "columns": 3,
        "rows": 25
       }
      },
      "text/html": [
       "<div>\n",
       "<style scoped>\n",
       "    .dataframe tbody tr th:only-of-type {\n",
       "        vertical-align: middle;\n",
       "    }\n",
       "\n",
       "    .dataframe tbody tr th {\n",
       "        vertical-align: top;\n",
       "    }\n",
       "\n",
       "    .dataframe thead th {\n",
       "        text-align: right;\n",
       "    }\n",
       "</style>\n",
       "<table border=\"1\" class=\"dataframe\">\n",
       "  <thead>\n",
       "    <tr style=\"text-align: right;\">\n",
       "      <th></th>\n",
       "      <th>Text</th>\n",
       "      <th>Target</th>\n",
       "      <th>Source</th>\n",
       "    </tr>\n",
       "  </thead>\n",
       "  <tbody>\n",
       "    <tr>\n",
       "      <th>0</th>\n",
       "      <td>Mommy said not to talk to strangers..but she's...</td>\n",
       "      <td>1.0</td>\n",
       "      <td>SchooshooterTexts</td>\n",
       "    </tr>\n",
       "    <tr>\n",
       "      <th>1</th>\n",
       "      <td>1.I was immune to getting hurt/killed/infected...</td>\n",
       "      <td>1.0</td>\n",
       "      <td>SchooshooterTexts</td>\n",
       "    </tr>\n",
       "    <tr>\n",
       "      <th>2</th>\n",
       "      <td>I mean terrorist attacks happen all the time. ...</td>\n",
       "      <td>1.0</td>\n",
       "      <td>SchooshooterTexts</td>\n",
       "    </tr>\n",
       "    <tr>\n",
       "      <th>3</th>\n",
       "      <td>As a god, it would be my responsibility not to...</td>\n",
       "      <td>1.0</td>\n",
       "      <td>SchooshooterTexts</td>\n",
       "    </tr>\n",
       "    <tr>\n",
       "      <th>4</th>\n",
       "      <td>I am going to grab a knife and shove it in the...</td>\n",
       "      <td>1.0</td>\n",
       "      <td>SchooshooterTexts</td>\n",
       "    </tr>\n",
       "    <tr>\n",
       "      <th>5</th>\n",
       "      <td>I will rape your hot lovey sister and then str...</td>\n",
       "      <td>1.0</td>\n",
       "      <td>SchooshooterTexts</td>\n",
       "    </tr>\n",
       "    <tr>\n",
       "      <th>6</th>\n",
       "      <td>\"IWILLNEVERLETYOUFORGETABOUTME\"</td>\n",
       "      <td>1.0</td>\n",
       "      <td>SchooshooterTexts</td>\n",
       "    </tr>\n",
       "    <tr>\n",
       "      <th>7</th>\n",
       "      <td>Rule 11 : Be nice to nerds. Chances are you'll...</td>\n",
       "      <td>1.0</td>\n",
       "      <td>SchooshooterTexts</td>\n",
       "    </tr>\n",
       "    <tr>\n",
       "      <th>8</th>\n",
       "      <td>2005.. Age 9.. I was playing sm64ds when I los...</td>\n",
       "      <td>1.0</td>\n",
       "      <td>SchooshooterTexts</td>\n",
       "    </tr>\n",
       "    <tr>\n",
       "      <th>9</th>\n",
       "      <td>Look guys I just smoked an entire $500 worth b...</td>\n",
       "      <td>1.0</td>\n",
       "      <td>SchooshooterTexts</td>\n",
       "    </tr>\n",
       "    <tr>\n",
       "      <th>10</th>\n",
       "      <td>Don't play WoW. It turned my brother into a ba...</td>\n",
       "      <td>1.0</td>\n",
       "      <td>SchooshooterTexts</td>\n",
       "    </tr>\n",
       "    <tr>\n",
       "      <th>11</th>\n",
       "      <td>I support interesting people and I hope to be ...</td>\n",
       "      <td>1.0</td>\n",
       "      <td>SchooshooterTexts</td>\n",
       "    </tr>\n",
       "    <tr>\n",
       "      <th>12</th>\n",
       "      <td>The shortest I can describe trolls: Trolls are...</td>\n",
       "      <td>1.0</td>\n",
       "      <td>SchooshooterTexts</td>\n",
       "    </tr>\n",
       "    <tr>\n",
       "      <th>13</th>\n",
       "      <td>I would kill Tidus and the methods of doing th...</td>\n",
       "      <td>1.0</td>\n",
       "      <td>SchooshooterTexts</td>\n",
       "    </tr>\n",
       "    <tr>\n",
       "      <th>14</th>\n",
       "      <td>Jack a gun and shoot myself in the head.</td>\n",
       "      <td>2.0</td>\n",
       "      <td>SchooshooterTexts</td>\n",
       "    </tr>\n",
       "    <tr>\n",
       "      <th>15</th>\n",
       "      <td>Every personality disorder test I take I usual...</td>\n",
       "      <td>1.0</td>\n",
       "      <td>SchooshooterTexts</td>\n",
       "    </tr>\n",
       "    <tr>\n",
       "      <th>16</th>\n",
       "      <td>Hey, I'm eldigato. In short, I am a psychopath...</td>\n",
       "      <td>1.0</td>\n",
       "      <td>SchooshooterTexts</td>\n",
       "    </tr>\n",
       "    <tr>\n",
       "      <th>17</th>\n",
       "      <td>I would cut as many veins in his neck as I cou...</td>\n",
       "      <td>1.0</td>\n",
       "      <td>SchooshooterTexts</td>\n",
       "    </tr>\n",
       "    <tr>\n",
       "      <th>18</th>\n",
       "      <td>My guilty pleasure is probably DMT, but it's o...</td>\n",
       "      <td>1.0</td>\n",
       "      <td>SchooshooterTexts</td>\n",
       "    </tr>\n",
       "    <tr>\n",
       "      <th>19</th>\n",
       "      <td>My dream job would have to involve synthesizin...</td>\n",
       "      <td>1.0</td>\n",
       "      <td>SchooshooterTexts</td>\n",
       "    </tr>\n",
       "    <tr>\n",
       "      <th>20</th>\n",
       "      <td>I will be living in a basement pretty soon, on...</td>\n",
       "      <td>1.0</td>\n",
       "      <td>SchooshooterTexts</td>\n",
       "    </tr>\n",
       "    <tr>\n",
       "      <th>21</th>\n",
       "      <td>I played this game while on marijuana, LSD, Sa...</td>\n",
       "      <td>1.0</td>\n",
       "      <td>SchooshooterTexts</td>\n",
       "    </tr>\n",
       "    <tr>\n",
       "      <th>22</th>\n",
       "      <td>If all of the internet went out, people would ...</td>\n",
       "      <td>1.0</td>\n",
       "      <td>SchooshooterTexts</td>\n",
       "    </tr>\n",
       "    <tr>\n",
       "      <th>23</th>\n",
       "      <td>I'd go back in time and stop a lot of the scho...</td>\n",
       "      <td>1.0</td>\n",
       "      <td>SchooshooterTexts</td>\n",
       "    </tr>\n",
       "    <tr>\n",
       "      <th>24</th>\n",
       "      <td>Dropping out of High School in order to just s...</td>\n",
       "      <td>1.0</td>\n",
       "      <td>SchooshooterTexts</td>\n",
       "    </tr>\n",
       "  </tbody>\n",
       "</table>\n",
       "</div>"
      ],
      "text/plain": [
       "                                                 Text  Target  \\\n",
       "0   Mommy said not to talk to strangers..but she's...     1.0   \n",
       "1   1.I was immune to getting hurt/killed/infected...     1.0   \n",
       "2   I mean terrorist attacks happen all the time. ...     1.0   \n",
       "3   As a god, it would be my responsibility not to...     1.0   \n",
       "4   I am going to grab a knife and shove it in the...     1.0   \n",
       "5   I will rape your hot lovey sister and then str...     1.0   \n",
       "6                     \"IWILLNEVERLETYOUFORGETABOUTME\"     1.0   \n",
       "7   Rule 11 : Be nice to nerds. Chances are you'll...     1.0   \n",
       "8   2005.. Age 9.. I was playing sm64ds when I los...     1.0   \n",
       "9   Look guys I just smoked an entire $500 worth b...     1.0   \n",
       "10  Don't play WoW. It turned my brother into a ba...     1.0   \n",
       "11  I support interesting people and I hope to be ...     1.0   \n",
       "12  The shortest I can describe trolls: Trolls are...     1.0   \n",
       "13  I would kill Tidus and the methods of doing th...     1.0   \n",
       "14           Jack a gun and shoot myself in the head.     2.0   \n",
       "15  Every personality disorder test I take I usual...     1.0   \n",
       "16  Hey, I'm eldigato. In short, I am a psychopath...     1.0   \n",
       "17  I would cut as many veins in his neck as I cou...     1.0   \n",
       "18  My guilty pleasure is probably DMT, but it's o...     1.0   \n",
       "19  My dream job would have to involve synthesizin...     1.0   \n",
       "20  I will be living in a basement pretty soon, on...     1.0   \n",
       "21  I played this game while on marijuana, LSD, Sa...     1.0   \n",
       "22  If all of the internet went out, people would ...     1.0   \n",
       "23  I'd go back in time and stop a lot of the scho...     1.0   \n",
       "24  Dropping out of High School in order to just s...     1.0   \n",
       "\n",
       "               Source  \n",
       "0   SchooshooterTexts  \n",
       "1   SchooshooterTexts  \n",
       "2   SchooshooterTexts  \n",
       "3   SchooshooterTexts  \n",
       "4   SchooshooterTexts  \n",
       "5   SchooshooterTexts  \n",
       "6   SchooshooterTexts  \n",
       "7   SchooshooterTexts  \n",
       "8   SchooshooterTexts  \n",
       "9   SchooshooterTexts  \n",
       "10  SchooshooterTexts  \n",
       "11  SchooshooterTexts  \n",
       "12  SchooshooterTexts  \n",
       "13  SchooshooterTexts  \n",
       "14  SchooshooterTexts  \n",
       "15  SchooshooterTexts  \n",
       "16  SchooshooterTexts  \n",
       "17  SchooshooterTexts  \n",
       "18  SchooshooterTexts  \n",
       "19  SchooshooterTexts  \n",
       "20  SchooshooterTexts  \n",
       "21  SchooshooterTexts  \n",
       "22  SchooshooterTexts  \n",
       "23  SchooshooterTexts  \n",
       "24  SchooshooterTexts  "
      ]
     },
     "execution_count": 67,
     "metadata": {},
     "output_type": "execute_result"
    }
   ],
   "source": [
    "import pandas as pd\n",
    "\n",
    "df = pd.read_csv(r'..\\3. Data Understanding\\merged_data.csv', header=0)\n",
    "\n",
    "df.info()\n",
    "df.head(25)"
   ]
  },
  {
   "cell_type": "markdown",
   "id": "f1007eaa",
   "metadata": {},
   "source": [
    "## Remove Missing Values"
   ]
  },
  {
   "cell_type": "code",
   "execution_count": 68,
   "id": "5d161ef9",
   "metadata": {},
   "outputs": [
    {
     "name": "stdout",
     "output_type": "stream",
     "text": [
      "<class 'pandas.core.frame.DataFrame'>\n",
      "Index: 4278 entries, 0 to 4279\n",
      "Data columns (total 3 columns):\n",
      " #   Column  Non-Null Count  Dtype  \n",
      "---  ------  --------------  -----  \n",
      " 0   Text    4278 non-null   object \n",
      " 1   Target  4278 non-null   float64\n",
      " 2   Source  4278 non-null   object \n",
      "dtypes: float64(1), object(2)\n",
      "memory usage: 133.7+ KB\n"
     ]
    }
   ],
   "source": [
    "df = df.dropna()\n",
    "df.info()"
   ]
  },
  {
   "cell_type": "markdown",
   "id": "6d5d41f9",
   "metadata": {},
   "source": [
    "## Drop Duplicates"
   ]
  },
  {
   "cell_type": "code",
   "execution_count": 41,
   "id": "1c86e52e",
   "metadata": {},
   "outputs": [
    {
     "data": {
      "text/plain": [
       "np.False_"
      ]
     },
     "execution_count": 41,
     "metadata": {},
     "output_type": "execute_result"
    }
   ],
   "source": [
    "df = df.drop_duplicates(subset=['Text'])  # assign back to df\n",
    "df['Text'].duplicated().any()"
   ]
  },
  {
   "cell_type": "markdown",
   "id": "85447199",
   "metadata": {},
   "source": [
    "## Lowercasing"
   ]
  },
  {
   "cell_type": "code",
   "execution_count": 42,
   "id": "48072c19",
   "metadata": {},
   "outputs": [
    {
     "data": {
      "application/vnd.microsoft.datawrangler.viewer.v0+json": {
       "columns": [
        {
         "name": "index",
         "rawType": "int64",
         "type": "integer"
        },
        {
         "name": "Text",
         "rawType": "object",
         "type": "string"
        },
        {
         "name": "Target",
         "rawType": "float64",
         "type": "float"
        },
        {
         "name": "Source",
         "rawType": "object",
         "type": "string"
        }
       ],
       "ref": "ac186e5b-f873-4246-a8a9-d1773750519d",
       "rows": [
        [
         "0",
         "mommy said not to talk to strangers..but she's drunk all the time why should i listen to her advice?",
         "1.0",
         "SchooshooterTexts"
        ],
        [
         "1",
         "1.i was immune to getting hurt/killed/infected with a std\n2.i had 43 million worshippers\n3.i had a life..",
         "1.0",
         "SchooshooterTexts"
        ],
        [
         "2",
         "i mean terrorist attacks happen all the time. sure thousands died, but millions have died from george. honestly, it's been almost 10 years and idiots are still whining. 911 did make a lot of idiot patriot extremists in america, you have to give 911 that. i wish another terrorist plane attack would happen so that i could go back to europe and back for 3 cents. ahh, i remember i was a little kindergartener.. (could of been 1st grader but i was \"too\nyoung\")",
         "1.0",
         "SchooshooterTexts"
        ],
        [
         "3",
         "as a god, it would be my responsibility not to destroy the universal balance; thus, i am unable to just appear instantly. i would need to \"convert\" them to being open minded about other gods and then i will appear. i will give out my 3 main rules:\n\n1.do not harm any living thing, if you break this rule, i will break your skull.\n2.do not act in violence of any form.\n3.don't be a stuffhead.\n\ni would try to act with any other gods out there, such as if gaia was real, i would let her take care of her creations, and her earth. i would let zeus and poseidon make the hurricanes and earthquakes, and i would let hades rule the energy of darkness.\n\ni would be sure to \"educate\" them on solar/wind/water powered technology.",
         "1.0",
         "SchooshooterTexts"
        ],
        [
         "4",
         "i am going to grab a knife and shove it in the neck of my mother. i will then drag her dead body by the trash can, drain her blood and then finally cut her and grind her up into little pieces. i will eat some of those pieces and then i will probably barf.. i will throw her body away in the trash can.. i will then go slaughter sacred animals to appease the gods.\n\nhail satan\n\n..i am agnostic, not satanist..",
         "1.0",
         "SchooshooterTexts"
        ]
       ],
       "shape": {
        "columns": 3,
        "rows": 5
       }
      },
      "text/html": [
       "<div>\n",
       "<style scoped>\n",
       "    .dataframe tbody tr th:only-of-type {\n",
       "        vertical-align: middle;\n",
       "    }\n",
       "\n",
       "    .dataframe tbody tr th {\n",
       "        vertical-align: top;\n",
       "    }\n",
       "\n",
       "    .dataframe thead th {\n",
       "        text-align: right;\n",
       "    }\n",
       "</style>\n",
       "<table border=\"1\" class=\"dataframe\">\n",
       "  <thead>\n",
       "    <tr style=\"text-align: right;\">\n",
       "      <th></th>\n",
       "      <th>Text</th>\n",
       "      <th>Target</th>\n",
       "      <th>Source</th>\n",
       "    </tr>\n",
       "  </thead>\n",
       "  <tbody>\n",
       "    <tr>\n",
       "      <th>0</th>\n",
       "      <td>mommy said not to talk to strangers..but she's...</td>\n",
       "      <td>1.0</td>\n",
       "      <td>SchooshooterTexts</td>\n",
       "    </tr>\n",
       "    <tr>\n",
       "      <th>1</th>\n",
       "      <td>1.i was immune to getting hurt/killed/infected...</td>\n",
       "      <td>1.0</td>\n",
       "      <td>SchooshooterTexts</td>\n",
       "    </tr>\n",
       "    <tr>\n",
       "      <th>2</th>\n",
       "      <td>i mean terrorist attacks happen all the time. ...</td>\n",
       "      <td>1.0</td>\n",
       "      <td>SchooshooterTexts</td>\n",
       "    </tr>\n",
       "    <tr>\n",
       "      <th>3</th>\n",
       "      <td>as a god, it would be my responsibility not to...</td>\n",
       "      <td>1.0</td>\n",
       "      <td>SchooshooterTexts</td>\n",
       "    </tr>\n",
       "    <tr>\n",
       "      <th>4</th>\n",
       "      <td>i am going to grab a knife and shove it in the...</td>\n",
       "      <td>1.0</td>\n",
       "      <td>SchooshooterTexts</td>\n",
       "    </tr>\n",
       "  </tbody>\n",
       "</table>\n",
       "</div>"
      ],
      "text/plain": [
       "                                                Text  Target  \\\n",
       "0  mommy said not to talk to strangers..but she's...     1.0   \n",
       "1  1.i was immune to getting hurt/killed/infected...     1.0   \n",
       "2  i mean terrorist attacks happen all the time. ...     1.0   \n",
       "3  as a god, it would be my responsibility not to...     1.0   \n",
       "4  i am going to grab a knife and shove it in the...     1.0   \n",
       "\n",
       "              Source  \n",
       "0  SchooshooterTexts  \n",
       "1  SchooshooterTexts  \n",
       "2  SchooshooterTexts  \n",
       "3  SchooshooterTexts  \n",
       "4  SchooshooterTexts  "
      ]
     },
     "execution_count": 42,
     "metadata": {},
     "output_type": "execute_result"
    }
   ],
   "source": [
    "df[\"Text\"] = df[\"Text\"].str.lower()\n",
    "df.head()"
   ]
  },
  {
   "cell_type": "markdown",
   "id": "14d06e2f",
   "metadata": {},
   "source": [
    "## Removing non english text"
   ]
  },
  {
   "cell_type": "code",
   "execution_count": 43,
   "id": "5f3a8326",
   "metadata": {},
   "outputs": [
    {
     "name": "stdout",
     "output_type": "stream",
     "text": [
      "<class 'pandas.core.frame.DataFrame'>\n",
      "Index: 4003 entries, 0 to 4279\n",
      "Data columns (total 3 columns):\n",
      " #   Column  Non-Null Count  Dtype  \n",
      "---  ------  --------------  -----  \n",
      " 0   Text    4003 non-null   object \n",
      " 1   Target  4003 non-null   float64\n",
      " 2   Source  4003 non-null   object \n",
      "dtypes: float64(1), object(2)\n",
      "memory usage: 125.1+ KB\n"
     ]
    }
   ],
   "source": [
    "import pandas as pd\n",
    "from langdetect import detect, DetectorFactory\n",
    "from langdetect.lang_detect_exception import LangDetectException\n",
    "\n",
    "DetectorFactory.seed = 42  \n",
    "\n",
    "def detect_language(text):\n",
    "    try: \n",
    "        return detect(text) if pd.notna(text) else 'unknown' \n",
    "    except LangDetectException:\n",
    "        return 'unknown'  # Handle cases where detection fails\n",
    "\n",
    "df['language'] = df['Text'].apply(detect_language)\n",
    "df = df[df['language'] == 'en']\n",
    "df = df.drop(columns=['language']) \n",
    "df.info()"
   ]
  },
  {
   "cell_type": "markdown",
   "id": "9987326f",
   "metadata": {},
   "source": [
    "## Removing URLs and HTML"
   ]
  },
  {
   "cell_type": "code",
   "execution_count": 44,
   "id": "e8877ce1",
   "metadata": {},
   "outputs": [],
   "source": [
    "import re\n",
    "\n",
    "def remove_urls(text):\n",
    "    url_pattern = re.compile(r'https?://\\S+|www\\.\\S+')\n",
    "    return url_pattern.sub(r'', text)\n",
    "\n",
    "df['Text'] = df['Text'].apply(remove_urls)\n"
   ]
  },
  {
   "cell_type": "code",
   "execution_count": 45,
   "id": "1e7066a1",
   "metadata": {},
   "outputs": [],
   "source": [
    "def remove_html(text):\n",
    "    html_pattern = re.compile('<.*?>')\n",
    "    return html_pattern.sub(r'', text)\n",
    "\n",
    "df['Text'] = df['Text'].apply(remove_html)\n"
   ]
  },
  {
   "cell_type": "markdown",
   "id": "60f685b0",
   "metadata": {},
   "source": [
    "## Remove punctuations and symbols"
   ]
  },
  {
   "cell_type": "code",
   "execution_count": 46,
   "id": "289c16cf",
   "metadata": {},
   "outputs": [
    {
     "data": {
      "application/vnd.microsoft.datawrangler.viewer.v0+json": {
       "columns": [
        {
         "name": "index",
         "rawType": "int64",
         "type": "integer"
        },
        {
         "name": "Text",
         "rawType": "object",
         "type": "string"
        },
        {
         "name": "Target",
         "rawType": "float64",
         "type": "float"
        },
        {
         "name": "Source",
         "rawType": "object",
         "type": "string"
        }
       ],
       "ref": "9d75ee29-be97-4427-b2a1-0fafe2c6289a",
       "rows": [
        [
         "0",
         "mommy said not to talk to strangers but shes drunk all the time why should i listen to her advice",
         "1.0",
         "SchooshooterTexts"
        ],
        [
         "1",
         "1 i was immune to getting hurt killed infected with a std 2 i had 43 million worshippers 3 i had a life",
         "1.0",
         "SchooshooterTexts"
        ],
        [
         "2",
         "i mean terrorist attacks happen all the time sure thousands died but millions have died from george honestly its been almost 10 years and idiots are still whining 911 did make a lot of idiot patriot extremists in america you have to give 911 that i wish another terrorist plane attack would happen so that i could go back to europe and back for 3 cents ahh i remember i was a little kindergartener could of been 1st grader but i was too young",
         "1.0",
         "SchooshooterTexts"
        ],
        [
         "3",
         "as a god it would be my responsibility not to destroy the universal balance thus i am unable to just appear instantly i would need to convert them to being open minded about other gods and then i will appear i will give out my 3 main rules 1 do not harm any living thing if you break this rule i will break your skull 2 do not act in violence of any form 3 dont be a stuffhead i would try to act with any other gods out there such as if gaia was real i would let her take care of her creations and her earth i would let zeus and poseidon make the hurricanes and earthquakes and i would let hades rule the energy of darkness i would be sure to educate them on solar wind water powered technology",
         "1.0",
         "SchooshooterTexts"
        ],
        [
         "4",
         "i am going to grab a knife and shove it in the neck of my mother i will then drag her dead body by the trash can drain her blood and then finally cut her and grind her up into little pieces i will eat some of those pieces and then i will probably barf i will throw her body away in the trash can i will then go slaughter sacred animals to appease the gods hail satan i am agnostic not satanist",
         "1.0",
         "SchooshooterTexts"
        ],
        [
         "5",
         "i will rape your hot lovey sister and then strangle her with her own hair then i will sneakinto your parents room and slaughter them i will slowly walk to your room holding my blood thirsty knife in my right hand i walk into your room when i see that youre making out with yourself i will grab you tie you to your bed with your own hair and super glue it shut my blood thirsty crave is not over i finally rip your hair out and you experience excruciating pain so painful that you scream and scream but it cant stop i ripped out the skin of your head blood is drooping everywhere finally i pluck your eyes right out with my knife and throw them down i then cut your neck off and the arms and legs only the torso remains i cut off the genitals and i stab the stomach repeatedly i finally finish off by ripping out your heart and consuming it",
         "1.0",
         "SchooshooterTexts"
        ],
        [
         "6",
         "iwillneverletyouforgetaboutme",
         "1.0",
         "SchooshooterTexts"
        ],
        [
         "7",
         "rule 11 be nice to nerds chances are youll end up working for one start being nice to me or i will not hire you all all of those idiots who have messed up my life in the past i will hire them for a day and then fire them",
         "1.0",
         "SchooshooterTexts"
        ],
        [
         "8",
         "2005 age 9 i was playing sm64ds when i lost the level i went agk on my ds threw it extremely hard at a wall and broke it 2005 age 9 after recieving my ds again a day later i got pissed again and ripped the upper half of the ds off 2005 age 9 i got my ds again but when playing pokemon lost and threw it right at the wall again the 2005 ones are true i had a very bad anger problem 2009 age 13 after getting another ds threw it right at the tv and said hows that",
         "1.0",
         "SchooshooterTexts"
        ],
        [
         "9",
         "look guys i just smoked an entire 500 worth bag of og kush so its hard to hate you i love furries gays jews al queda and america irl teenage kid with no friends who hates everything and wants to shoot up his school but is too week to fire a gun and my parents are annyoing but will financially supply me for the next 30 years i love to hate and fart a lot making my room smell remnicsant of cheese and boiled eggs all trolls except me",
         "1.0",
         "SchooshooterTexts"
        ],
        [
         "10",
         "dont play wow it turned my brother into a basement dweller and now hes doing weed hes 24 works at a convenience store and dropped out of high school mmos are just the same as heroin and will destroy not only your body but your mind",
         "1.0",
         "SchooshooterTexts"
        ],
        [
         "11",
         "i support interesting people and i hope to be internet famous one day in short im a hypocritical weeaboo in denial troll who has been cursed into an endless state of constant boredom which has driven me to depression and anger",
         "1.0",
         "SchooshooterTexts"
        ],
        [
         "12",
         "the shortest i can describe trolls trolls are basically young teenagers who bully online to get a raise because they have a personality disorder and want to cover up the hole that real bullies left in their emotion",
         "1.0",
         "SchooshooterTexts"
        ],
        [
         "13",
         "i would kill tidus and the methods of doing this may offend many of you i would start off by crusifying him and leaving him without food for a total of three days afterwards i would force him to eat rats i would apply 1 000 small cuts throughout his body and dip him in a tub of hydrogen peroxide afterwards i would recut the wounds and apply a scorpions sting to 30 of them over a time period of 2 hours after which i would nurse his health a tad next i would rip his nails out and pour bleach and ammonia on them while making sure he doesnt inhale any i would shoot him in his knee with a crossbow and since im an honorable man i would make this the last of his punishment a quick sword blow to his chest and a large incision to his belly would do the trick i would leave him in pain for the remainder of his very short life to allow him to reflect on his personality",
         "1.0",
         "SchooshooterTexts"
        ],
        [
         "14",
         "jack a gun and shoot myself in the head",
         "2.0",
         "SchooshooterTexts"
        ],
        [
         "15",
         "every personality disorder test i take i usually end up getting over half of them at a severe level and im being honest most of the time",
         "1.0",
         "SchooshooterTexts"
        ],
        [
         "16",
         "hey im eldigato in short i am a psychopath dedicated to the art of destruction in my years of minecraft i have always aimed to make interesting stories i have always done my deeds solo and for that reason they never reached the peak i had hoped for that is why i have registered here today in hopes that i can work with people with similar intentions and cause many great calamities resume griefing i like to take my time in order to cause the most damage but i have attacked many servers with a hit and run style of disruption before and caused massive amounts of damage i would like to say that my best griefing attack was the scattered space incident although the damage wasnt intense compared to most of my attacks on servers i stirred up plenty of drama in their community cooperation i would like to think myself as that of a rogue in many situations but i have shown to be able to work with others considering our personalities i dont think i would have any troubles with group raiding admins i can bullshit my way out of things but i am a honest man if i focus i can have a silver tounge that avoids truthfulness i hope that this information is enough to provide and i hope in the future i can infest the world one day",
         "1.0",
         "SchooshooterTexts"
        ],
        [
         "17",
         "i would cut as many veins in his neck as i could avoiding his jugular",
         "1.0",
         "SchooshooterTexts"
        ],
        [
         "18",
         "my guilty pleasure is probably dmt but its ok since its amazingly god",
         "1.0",
         "SchooshooterTexts"
        ],
        [
         "19",
         "my dream job would have to involve synthesizing pure lsd legally and selling it to the right kind of people who wouldnt abuse it",
         "1.0",
         "SchooshooterTexts"
        ],
        [
         "20",
         "i will be living in a basement pretty soon once im finished moving in with my bro",
         "1.0",
         "SchooshooterTexts"
        ],
        [
         "21",
         "i played this game while on marijuana lsd salvia and shrooms i can honestly say that once youre experienced with the types you can handle it as long as you have a sitter to help calm you down when creepy stuff happens",
         "1.0",
         "SchooshooterTexts"
        ],
        [
         "22",
         "if all of the internet went out people would go psycho and kill eachother and hang mutilated corpses from their towns bridges",
         "1.0",
         "SchooshooterTexts"
        ],
        [
         "23",
         "id go back in time and stop a lot of the school shootings such as columbine or v tech by being a positive influence spreading hope in the minds of the shooters and keep them on a path of enlightenment or more realistically id clean up trash around my town which i already do and volunteer at places oh and befriend the lonely or friendless kids at school",
         "1.0",
         "SchooshooterTexts"
        ],
        [
         "24",
         "dropping out of high school in order to just study a ged book my sci teacher gave me and take the test when i feel ready and then move onto college while working on fixing myself and learning how to be happy for once and overcoming a tobacco addiction",
         "1.0",
         "SchooshooterTexts"
        ]
       ],
       "shape": {
        "columns": 3,
        "rows": 25
       }
      },
      "text/html": [
       "<div>\n",
       "<style scoped>\n",
       "    .dataframe tbody tr th:only-of-type {\n",
       "        vertical-align: middle;\n",
       "    }\n",
       "\n",
       "    .dataframe tbody tr th {\n",
       "        vertical-align: top;\n",
       "    }\n",
       "\n",
       "    .dataframe thead th {\n",
       "        text-align: right;\n",
       "    }\n",
       "</style>\n",
       "<table border=\"1\" class=\"dataframe\">\n",
       "  <thead>\n",
       "    <tr style=\"text-align: right;\">\n",
       "      <th></th>\n",
       "      <th>Text</th>\n",
       "      <th>Target</th>\n",
       "      <th>Source</th>\n",
       "    </tr>\n",
       "  </thead>\n",
       "  <tbody>\n",
       "    <tr>\n",
       "      <th>0</th>\n",
       "      <td>mommy said not to talk to strangers but shes d...</td>\n",
       "      <td>1.0</td>\n",
       "      <td>SchooshooterTexts</td>\n",
       "    </tr>\n",
       "    <tr>\n",
       "      <th>1</th>\n",
       "      <td>1 i was immune to getting hurt killed infected...</td>\n",
       "      <td>1.0</td>\n",
       "      <td>SchooshooterTexts</td>\n",
       "    </tr>\n",
       "    <tr>\n",
       "      <th>2</th>\n",
       "      <td>i mean terrorist attacks happen all the time s...</td>\n",
       "      <td>1.0</td>\n",
       "      <td>SchooshooterTexts</td>\n",
       "    </tr>\n",
       "    <tr>\n",
       "      <th>3</th>\n",
       "      <td>as a god it would be my responsibility not to ...</td>\n",
       "      <td>1.0</td>\n",
       "      <td>SchooshooterTexts</td>\n",
       "    </tr>\n",
       "    <tr>\n",
       "      <th>4</th>\n",
       "      <td>i am going to grab a knife and shove it in the...</td>\n",
       "      <td>1.0</td>\n",
       "      <td>SchooshooterTexts</td>\n",
       "    </tr>\n",
       "    <tr>\n",
       "      <th>5</th>\n",
       "      <td>i will rape your hot lovey sister and then str...</td>\n",
       "      <td>1.0</td>\n",
       "      <td>SchooshooterTexts</td>\n",
       "    </tr>\n",
       "    <tr>\n",
       "      <th>6</th>\n",
       "      <td>iwillneverletyouforgetaboutme</td>\n",
       "      <td>1.0</td>\n",
       "      <td>SchooshooterTexts</td>\n",
       "    </tr>\n",
       "    <tr>\n",
       "      <th>7</th>\n",
       "      <td>rule 11 be nice to nerds chances are youll end...</td>\n",
       "      <td>1.0</td>\n",
       "      <td>SchooshooterTexts</td>\n",
       "    </tr>\n",
       "    <tr>\n",
       "      <th>8</th>\n",
       "      <td>2005 age 9 i was playing sm64ds when i lost th...</td>\n",
       "      <td>1.0</td>\n",
       "      <td>SchooshooterTexts</td>\n",
       "    </tr>\n",
       "    <tr>\n",
       "      <th>9</th>\n",
       "      <td>look guys i just smoked an entire 500 worth ba...</td>\n",
       "      <td>1.0</td>\n",
       "      <td>SchooshooterTexts</td>\n",
       "    </tr>\n",
       "    <tr>\n",
       "      <th>10</th>\n",
       "      <td>dont play wow it turned my brother into a base...</td>\n",
       "      <td>1.0</td>\n",
       "      <td>SchooshooterTexts</td>\n",
       "    </tr>\n",
       "    <tr>\n",
       "      <th>11</th>\n",
       "      <td>i support interesting people and i hope to be ...</td>\n",
       "      <td>1.0</td>\n",
       "      <td>SchooshooterTexts</td>\n",
       "    </tr>\n",
       "    <tr>\n",
       "      <th>12</th>\n",
       "      <td>the shortest i can describe trolls trolls are ...</td>\n",
       "      <td>1.0</td>\n",
       "      <td>SchooshooterTexts</td>\n",
       "    </tr>\n",
       "    <tr>\n",
       "      <th>13</th>\n",
       "      <td>i would kill tidus and the methods of doing th...</td>\n",
       "      <td>1.0</td>\n",
       "      <td>SchooshooterTexts</td>\n",
       "    </tr>\n",
       "    <tr>\n",
       "      <th>14</th>\n",
       "      <td>jack a gun and shoot myself in the head</td>\n",
       "      <td>2.0</td>\n",
       "      <td>SchooshooterTexts</td>\n",
       "    </tr>\n",
       "    <tr>\n",
       "      <th>15</th>\n",
       "      <td>every personality disorder test i take i usual...</td>\n",
       "      <td>1.0</td>\n",
       "      <td>SchooshooterTexts</td>\n",
       "    </tr>\n",
       "    <tr>\n",
       "      <th>16</th>\n",
       "      <td>hey im eldigato in short i am a psychopath ded...</td>\n",
       "      <td>1.0</td>\n",
       "      <td>SchooshooterTexts</td>\n",
       "    </tr>\n",
       "    <tr>\n",
       "      <th>17</th>\n",
       "      <td>i would cut as many veins in his neck as i cou...</td>\n",
       "      <td>1.0</td>\n",
       "      <td>SchooshooterTexts</td>\n",
       "    </tr>\n",
       "    <tr>\n",
       "      <th>18</th>\n",
       "      <td>my guilty pleasure is probably dmt but its ok ...</td>\n",
       "      <td>1.0</td>\n",
       "      <td>SchooshooterTexts</td>\n",
       "    </tr>\n",
       "    <tr>\n",
       "      <th>19</th>\n",
       "      <td>my dream job would have to involve synthesizin...</td>\n",
       "      <td>1.0</td>\n",
       "      <td>SchooshooterTexts</td>\n",
       "    </tr>\n",
       "    <tr>\n",
       "      <th>20</th>\n",
       "      <td>i will be living in a basement pretty soon onc...</td>\n",
       "      <td>1.0</td>\n",
       "      <td>SchooshooterTexts</td>\n",
       "    </tr>\n",
       "    <tr>\n",
       "      <th>21</th>\n",
       "      <td>i played this game while on marijuana lsd salv...</td>\n",
       "      <td>1.0</td>\n",
       "      <td>SchooshooterTexts</td>\n",
       "    </tr>\n",
       "    <tr>\n",
       "      <th>22</th>\n",
       "      <td>if all of the internet went out people would g...</td>\n",
       "      <td>1.0</td>\n",
       "      <td>SchooshooterTexts</td>\n",
       "    </tr>\n",
       "    <tr>\n",
       "      <th>23</th>\n",
       "      <td>id go back in time and stop a lot of the schoo...</td>\n",
       "      <td>1.0</td>\n",
       "      <td>SchooshooterTexts</td>\n",
       "    </tr>\n",
       "    <tr>\n",
       "      <th>24</th>\n",
       "      <td>dropping out of high school in order to just s...</td>\n",
       "      <td>1.0</td>\n",
       "      <td>SchooshooterTexts</td>\n",
       "    </tr>\n",
       "  </tbody>\n",
       "</table>\n",
       "</div>"
      ],
      "text/plain": [
       "                                                 Text  Target  \\\n",
       "0   mommy said not to talk to strangers but shes d...     1.0   \n",
       "1   1 i was immune to getting hurt killed infected...     1.0   \n",
       "2   i mean terrorist attacks happen all the time s...     1.0   \n",
       "3   as a god it would be my responsibility not to ...     1.0   \n",
       "4   i am going to grab a knife and shove it in the...     1.0   \n",
       "5   i will rape your hot lovey sister and then str...     1.0   \n",
       "6                       iwillneverletyouforgetaboutme     1.0   \n",
       "7   rule 11 be nice to nerds chances are youll end...     1.0   \n",
       "8   2005 age 9 i was playing sm64ds when i lost th...     1.0   \n",
       "9   look guys i just smoked an entire 500 worth ba...     1.0   \n",
       "10  dont play wow it turned my brother into a base...     1.0   \n",
       "11  i support interesting people and i hope to be ...     1.0   \n",
       "12  the shortest i can describe trolls trolls are ...     1.0   \n",
       "13  i would kill tidus and the methods of doing th...     1.0   \n",
       "14            jack a gun and shoot myself in the head     2.0   \n",
       "15  every personality disorder test i take i usual...     1.0   \n",
       "16  hey im eldigato in short i am a psychopath ded...     1.0   \n",
       "17  i would cut as many veins in his neck as i cou...     1.0   \n",
       "18  my guilty pleasure is probably dmt but its ok ...     1.0   \n",
       "19  my dream job would have to involve synthesizin...     1.0   \n",
       "20  i will be living in a basement pretty soon onc...     1.0   \n",
       "21  i played this game while on marijuana lsd salv...     1.0   \n",
       "22  if all of the internet went out people would g...     1.0   \n",
       "23  id go back in time and stop a lot of the schoo...     1.0   \n",
       "24  dropping out of high school in order to just s...     1.0   \n",
       "\n",
       "               Source  \n",
       "0   SchooshooterTexts  \n",
       "1   SchooshooterTexts  \n",
       "2   SchooshooterTexts  \n",
       "3   SchooshooterTexts  \n",
       "4   SchooshooterTexts  \n",
       "5   SchooshooterTexts  \n",
       "6   SchooshooterTexts  \n",
       "7   SchooshooterTexts  \n",
       "8   SchooshooterTexts  \n",
       "9   SchooshooterTexts  \n",
       "10  SchooshooterTexts  \n",
       "11  SchooshooterTexts  \n",
       "12  SchooshooterTexts  \n",
       "13  SchooshooterTexts  \n",
       "14  SchooshooterTexts  \n",
       "15  SchooshooterTexts  \n",
       "16  SchooshooterTexts  \n",
       "17  SchooshooterTexts  \n",
       "18  SchooshooterTexts  \n",
       "19  SchooshooterTexts  \n",
       "20  SchooshooterTexts  \n",
       "21  SchooshooterTexts  \n",
       "22  SchooshooterTexts  \n",
       "23  SchooshooterTexts  \n",
       "24  SchooshooterTexts  "
      ]
     },
     "execution_count": 46,
     "metadata": {},
     "output_type": "execute_result"
    }
   ],
   "source": [
    "import re\n",
    "import string\n",
    "\n",
    "def remove_non_alnum(text):\n",
    "    # Convert to string in case of NaN or other types\n",
    "    text = str(text)\n",
    "    #replace regular punctuation except aprostophe with a space\n",
    "    punct_no_apost = string.punctuation.replace(\"'\", \"\")\n",
    "    text = re.sub(f\"[{re.escape(punct_no_apost)}]\", \" \", text)\n",
    "    \n",
    "    # Keep only letters, numbers, and spaces\n",
    "    text = re.sub(r\"[^A-Za-z0-9\\s]\", \"\", text)\n",
    "    # Collapse multiple spaces and strip\n",
    "    return re.sub(r\"\\s+\", \" \", text).strip()\n",
    "\n",
    "# Apply to your DataFrame\n",
    "df[\"Text\"] = df[\"Text\"].apply(remove_non_alnum)\n",
    "df.head(25)"
   ]
  },
  {
   "cell_type": "markdown",
   "id": "766205b6",
   "metadata": {},
   "source": [
    "## Tokenization"
   ]
  },
  {
   "cell_type": "code",
   "execution_count": 47,
   "id": "1cceeff8",
   "metadata": {},
   "outputs": [
    {
     "data": {
      "application/vnd.microsoft.datawrangler.viewer.v0+json": {
       "columns": [
        {
         "name": "index",
         "rawType": "int64",
         "type": "integer"
        },
        {
         "name": "Text",
         "rawType": "object",
         "type": "unknown"
        },
        {
         "name": "Target",
         "rawType": "float64",
         "type": "float"
        },
        {
         "name": "Source",
         "rawType": "object",
         "type": "string"
        }
       ],
       "ref": "b8d6611c-ad79-43e1-ae3f-6b98e0ee6665",
       "rows": [
        [
         "0",
         "['mommy', 'said', 'not', 'to', 'talk', 'to', 'strangers', 'but', 'shes', 'drunk', 'all', 'the', 'time', 'why', 'should', 'i', 'listen', 'to', 'her', 'advice']",
         "1.0",
         "SchooshooterTexts"
        ],
        [
         "1",
         "['1', 'i', 'was', 'immune', 'to', 'getting', 'hurt', 'killed', 'infected', 'with', 'a', 'std', '2', 'i', 'had', '43', 'million', 'worshippers', '3', 'i', 'had', 'a', 'life']",
         "1.0",
         "SchooshooterTexts"
        ],
        [
         "2",
         "['i', 'mean', 'terrorist', 'attacks', 'happen', 'all', 'the', 'time', 'sure', 'thousands', 'died', 'but', 'millions', 'have', 'died', 'from', 'george', 'honestly', 'its', 'been', 'almost', '10', 'years', 'and', 'idiots', 'are', 'still', 'whining', '911', 'did', 'make', 'a', 'lot', 'of', 'idiot', 'patriot', 'extremists', 'in', 'america', 'you', 'have', 'to', 'give', '911', 'that', 'i', 'wish', 'another', 'terrorist', 'plane', 'attack', 'would', 'happen', 'so', 'that', 'i', 'could', 'go', 'back', 'to', 'europe', 'and', 'back', 'for', '3', 'cents', 'ahh', 'i', 'remember', 'i', 'was', 'a', 'little', 'kindergartener', 'could', 'of', 'been', '1st', 'grader', 'but', 'i', 'was', 'too', 'young']",
         "1.0",
         "SchooshooterTexts"
        ],
        [
         "3",
         "['as', 'a', 'god', 'it', 'would', 'be', 'my', 'responsibility', 'not', 'to', 'destroy', 'the', 'universal', 'balance', 'thus', 'i', 'am', 'unable', 'to', 'just', 'appear', 'instantly', 'i', 'would', 'need', 'to', 'convert', 'them', 'to', 'being', 'open', 'minded', 'about', 'other', 'gods', 'and', 'then', 'i', 'will', 'appear', 'i', 'will', 'give', 'out', 'my', '3', 'main', 'rules', '1', 'do', 'not', 'harm', 'any', 'living', 'thing', 'if', 'you', 'break', 'this', 'rule', 'i', 'will', 'break', 'your', 'skull', '2', 'do', 'not', 'act', 'in', 'violence', 'of', 'any', 'form', '3', 'dont', 'be', 'a', 'stuffhead', 'i', 'would', 'try', 'to', 'act', 'with', 'any', 'other', 'gods', 'out', 'there', 'such', 'as', 'if', 'gaia', 'was', 'real', 'i', 'would', 'let', 'her', 'take', 'care', 'of', 'her', 'creations', 'and', 'her', 'earth', 'i', 'would', 'let', 'zeus', 'and', 'poseidon', 'make', 'the', 'hurricanes', 'and', 'earthquakes', 'and', 'i', 'would', 'let', 'hades', 'rule', 'the', 'energy', 'of', 'darkness', 'i', 'would', 'be', 'sure', 'to', 'educate', 'them', 'on', 'solar', 'wind', 'water', 'powered', 'technology']",
         "1.0",
         "SchooshooterTexts"
        ],
        [
         "4",
         "['i', 'am', 'going', 'to', 'grab', 'a', 'knife', 'and', 'shove', 'it', 'in', 'the', 'neck', 'of', 'my', 'mother', 'i', 'will', 'then', 'drag', 'her', 'dead', 'body', 'by', 'the', 'trash', 'can', 'drain', 'her', 'blood', 'and', 'then', 'finally', 'cut', 'her', 'and', 'grind', 'her', 'up', 'into', 'little', 'pieces', 'i', 'will', 'eat', 'some', 'of', 'those', 'pieces', 'and', 'then', 'i', 'will', 'probably', 'barf', 'i', 'will', 'throw', 'her', 'body', 'away', 'in', 'the', 'trash', 'can', 'i', 'will', 'then', 'go', 'slaughter', 'sacred', 'animals', 'to', 'appease', 'the', 'gods', 'hail', 'satan', 'i', 'am', 'agnostic', 'not', 'satanist']",
         "1.0",
         "SchooshooterTexts"
        ]
       ],
       "shape": {
        "columns": 3,
        "rows": 5
       }
      },
      "text/html": [
       "<div>\n",
       "<style scoped>\n",
       "    .dataframe tbody tr th:only-of-type {\n",
       "        vertical-align: middle;\n",
       "    }\n",
       "\n",
       "    .dataframe tbody tr th {\n",
       "        vertical-align: top;\n",
       "    }\n",
       "\n",
       "    .dataframe thead th {\n",
       "        text-align: right;\n",
       "    }\n",
       "</style>\n",
       "<table border=\"1\" class=\"dataframe\">\n",
       "  <thead>\n",
       "    <tr style=\"text-align: right;\">\n",
       "      <th></th>\n",
       "      <th>Text</th>\n",
       "      <th>Target</th>\n",
       "      <th>Source</th>\n",
       "    </tr>\n",
       "  </thead>\n",
       "  <tbody>\n",
       "    <tr>\n",
       "      <th>0</th>\n",
       "      <td>[mommy, said, not, to, talk, to, strangers, bu...</td>\n",
       "      <td>1.0</td>\n",
       "      <td>SchooshooterTexts</td>\n",
       "    </tr>\n",
       "    <tr>\n",
       "      <th>1</th>\n",
       "      <td>[1, i, was, immune, to, getting, hurt, killed,...</td>\n",
       "      <td>1.0</td>\n",
       "      <td>SchooshooterTexts</td>\n",
       "    </tr>\n",
       "    <tr>\n",
       "      <th>2</th>\n",
       "      <td>[i, mean, terrorist, attacks, happen, all, the...</td>\n",
       "      <td>1.0</td>\n",
       "      <td>SchooshooterTexts</td>\n",
       "    </tr>\n",
       "    <tr>\n",
       "      <th>3</th>\n",
       "      <td>[as, a, god, it, would, be, my, responsibility...</td>\n",
       "      <td>1.0</td>\n",
       "      <td>SchooshooterTexts</td>\n",
       "    </tr>\n",
       "    <tr>\n",
       "      <th>4</th>\n",
       "      <td>[i, am, going, to, grab, a, knife, and, shove,...</td>\n",
       "      <td>1.0</td>\n",
       "      <td>SchooshooterTexts</td>\n",
       "    </tr>\n",
       "  </tbody>\n",
       "</table>\n",
       "</div>"
      ],
      "text/plain": [
       "                                                Text  Target  \\\n",
       "0  [mommy, said, not, to, talk, to, strangers, bu...     1.0   \n",
       "1  [1, i, was, immune, to, getting, hurt, killed,...     1.0   \n",
       "2  [i, mean, terrorist, attacks, happen, all, the...     1.0   \n",
       "3  [as, a, god, it, would, be, my, responsibility...     1.0   \n",
       "4  [i, am, going, to, grab, a, knife, and, shove,...     1.0   \n",
       "\n",
       "              Source  \n",
       "0  SchooshooterTexts  \n",
       "1  SchooshooterTexts  \n",
       "2  SchooshooterTexts  \n",
       "3  SchooshooterTexts  \n",
       "4  SchooshooterTexts  "
      ]
     },
     "execution_count": 47,
     "metadata": {},
     "output_type": "execute_result"
    }
   ],
   "source": [
    "import nltk\n",
    "from nltk.tokenize import word_tokenize\n",
    "\n",
    "\n",
    "df['Text'] = df['Text'].apply(nltk.word_tokenize)\n",
    "df.head()"
   ]
  },
  {
   "cell_type": "markdown",
   "id": "e922f3e2",
   "metadata": {},
   "source": [
    "## Expanding Abbreviations"
   ]
  },
  {
   "cell_type": "code",
   "execution_count": 48,
   "id": "f6eb8b9f",
   "metadata": {},
   "outputs": [
    {
     "data": {
      "application/vnd.microsoft.datawrangler.viewer.v0+json": {
       "columns": [
        {
         "name": "index",
         "rawType": "int64",
         "type": "integer"
        },
        {
         "name": "Text",
         "rawType": "object",
         "type": "unknown"
        },
        {
         "name": "Target",
         "rawType": "float64",
         "type": "float"
        },
        {
         "name": "Source",
         "rawType": "object",
         "type": "string"
        }
       ],
       "ref": "91fa51f4-c2bd-44e4-a12e-880347c8cf0e",
       "rows": [
        [
         "0",
         "['mommy', 'said', 'not', 'to', 'talk', 'to', 'strangers', 'but', 'shes', 'drunk', 'all', 'the', 'tears', 'in', 'my', 'eyes', 'why', 'should', 'i', 'listen', 'to', 'her', 'advice']",
         "1.0",
         "SchooshooterTexts"
        ],
        [
         "1",
         "['1', 'i', 'was', 'immune', 'to', 'getting', 'hurt', 'killed', 'infected', 'with', 'a', 'sexually', 'transmitted', 'disease', '2', 'i', 'had', '43', 'million', 'worshippers', '3', 'i', 'had', 'a', 'life']",
         "1.0",
         "SchooshooterTexts"
        ],
        [
         "2",
         "['i', 'mean', 'terrorist', 'attacks', 'happen', 'all', 'the', 'tears', 'in', 'my', 'eyes', 'sure', 'thousands', 'died', 'but', 'millions', 'have', 'died', 'from', 'george', 'honestly', 'its', 'been', 'almost', '10', 'years', 'and', 'idiots', 'are', 'still', 'whining', '911', 'did', 'make', 'a', 'lot', 'of', 'idiot', 'patriot', 'extremists', 'in', 'america', 'you', 'have', 'to', 'give', '911', 'that', 'i', 'wish', 'another', 'terrorist', 'plane', 'attack', 'would', 'happen', 'so', 'that', 'i', 'could', 'go', 'back', 'to', 'europe', 'and', 'back', 'for', '3', 'cents', 'ahh', 'i', 'remember', 'i', 'was', 'a', 'little', 'kindergartener', 'could', 'of', 'been', '1st', 'grader', 'but', 'i', 'was', 'too', 'young']",
         "1.0",
         "SchooshooterTexts"
        ],
        [
         "3",
         "['as', 'a', 'god', 'it', 'would', 'be', 'my', 'responsibility', 'not', 'to', 'destroy', 'the', 'universal', 'balance', 'thus', 'i', 'am', 'unable', 'to', 'just', 'appear', 'instantly', 'i', 'would', 'need', 'to', 'convert', 'them', 'to', 'being', 'open', 'minded', 'about', 'other', 'gods', 'and', 'then', 'i', 'will', 'appear', 'i', 'will', 'give', 'out', 'my', '3', 'main', 'rules', '1', 'do', 'not', 'harm', 'any', 'living', 'thing', 'if', 'you', 'break', 'this', 'rule', 'i', 'will', 'break', 'your', 'skull', '2', 'do', 'not', 'act', 'in', 'violence', 'of', 'any', 'form', '3', 'dont', 'be', 'a', 'stuffhead', 'i', 'would', 'try', 'to', 'act', 'with', 'any', 'other', 'gods', 'out', 'there', 'such', 'as', 'if', 'gaia', 'was', 'real', 'i', 'would', 'let', 'her', 'take', 'care', 'of', 'her', 'creations', 'and', 'her', 'earth', 'i', 'would', 'let', 'zeus', 'and', 'poseidon', 'make', 'the', 'hurricanes', 'and', 'earthquakes', 'and', 'i', 'would', 'let', 'hades', 'rule', 'the', 'energy', 'of', 'darkness', 'i', 'would', 'be', 'sure', 'to', 'educate', 'them', 'on', 'solar', 'wind', 'water', 'powered', 'technology']",
         "1.0",
         "SchooshooterTexts"
        ],
        [
         "4",
         "['i', 'am', 'going', 'to', 'grab', 'a', 'knife', 'and', 'shove', 'it', 'in', 'the', 'neck', 'of', 'my', 'mother', 'i', 'will', 'then', 'drag', 'her', 'dead', 'body', 'by', 'the', 'trash', 'can', 'drain', 'her', 'blood', 'and', 'then', 'finally', 'cut', 'her', 'and', 'grind', 'her', 'up', 'into', 'little', 'pieces', 'i', 'will', 'eat', 'some', 'of', 'those', 'pieces', 'and', 'then', 'i', 'will', 'probably', 'barf', 'i', 'will', 'throw', 'her', 'body', 'away', 'in', 'the', 'trash', 'can', 'i', 'will', 'then', 'go', 'slaughter', 'sacred', 'animals', 'to', 'appease', 'the', 'gods', 'hail', 'satan', 'i', 'am', 'agnostic', 'not', 'satanist']",
         "1.0",
         "SchooshooterTexts"
        ],
        [
         "5",
         "['i', 'will', 'rape', 'your', 'hot', 'lovey', 'sister', 'and', 'then', 'strangle', 'her', 'with', 'her', 'own', 'hair', 'then', 'i', 'will', 'sneakinto', 'your', 'parents', 'room', 'and', 'slaughter', 'them', 'i', 'will', 'slowly', 'walk', 'to', 'your', 'room', 'holding', 'my', 'blood', 'thirsty', 'knife', 'in', 'my', 'right', 'hand', 'i', 'walk', 'into', 'your', 'room', 'when', 'i', 'see', 'that', 'youre', 'making', 'out', 'with', 'yourself', 'i', 'will', 'grab', 'you', 'tie', 'you', 'to', 'your', 'bed', 'with', 'your', 'own', 'hair', 'and', 'super', 'glue', 'it', 'shut', 'my', 'blood', 'thirsty', 'crave', 'is', 'not', 'over', 'i', 'finally', 'rip', 'your', 'hair', 'out', 'and', 'you', 'experience', 'excruciating', 'pain', 'so', 'painful', 'that', 'you', 'scream', 'and', 'scream', 'but', 'it', 'cant', 'stop', 'i', 'ripped', 'out', 'the', 'skin', 'of', 'your', 'head', 'blood', 'is', 'drooping', 'everywhere', 'finally', 'i', 'pluck', 'your', 'eyes', 'right', 'out', 'with', 'my', 'knife', 'and', 'throw', 'them', 'down', 'i', 'then', 'cut', 'your', 'neck', 'off', 'and', 'the', 'arms', 'and', 'legs', 'only', 'the', 'torso', 'remains', 'i', 'cut', 'off', 'the', 'genitals', 'and', 'i', 'stab', 'the', 'stomach', 'repeatedly', 'i', 'finally', 'finish', 'off', 'by', 'ripping', 'out', 'your', 'heart', 'and', 'consuming', 'it']",
         "1.0",
         "SchooshooterTexts"
        ],
        [
         "6",
         "['iwillneverletyouforgetaboutme']",
         "1.0",
         "SchooshooterTexts"
        ],
        [
         "7",
         "['rule', '11', 'be', 'nice', 'to', 'nerds', 'chances', 'are', 'youll', 'end', 'up', 'working', 'for', 'one', 'start', 'being', 'nice', 'to', 'me', 'or', 'i', 'will', 'not', 'hire', 'you', 'all', 'all', 'of', 'those', 'idiots', 'who', 'have', 'messed', 'up', 'my', 'life', 'in', 'the', 'past', 'i', 'will', 'hire', 'them', 'for', 'a', 'day', 'and', 'then', 'fire', 'them']",
         "1.0",
         "SchooshooterTexts"
        ],
        [
         "8",
         "['2005', 'age', '9', 'i', 'was', 'playing', 'sm64ds', 'when', 'i', 'lost', 'the', 'level', 'i', 'went', 'agk', 'on', 'my', 'ds', 'threw', 'it', 'extremely', 'hard', 'at', 'a', 'wall', 'and', 'broke', 'it', '2005', 'age', '9', 'after', 'recieving', 'my', 'ds', 'again', 'a', 'day', 'later', 'i', 'got', 'pissed', 'again', 'and', 'ripped', 'the', 'upper', 'half', 'of', 'the', 'ds', 'off', '2005', 'age', '9', 'i', 'got', 'my', 'ds', 'again', 'but', 'when', 'playing', 'pokemon', 'lost', 'and', 'threw', 'it', 'right', 'at', 'the', 'wall', 'again', 'the', '2005', 'ones', 'are', 'true', 'i', 'had', 'a', 'very', 'bad', 'anger', 'problem', '2009', 'age', '13', 'after', 'getting', 'another', 'ds', 'threw', 'it', 'right', 'at', 'the', 'tv', 'and', 'said', 'hows', 'that']",
         "1.0",
         "SchooshooterTexts"
        ],
        [
         "9",
         "['look', 'guys', 'i', 'just', 'smoked', 'an', 'entire', '500', 'worth', 'bag', 'of', 'original', 'kush', 'so', 'its', 'hard', 'to', 'hate', 'you', 'i', 'love', 'furries', 'gays', 'jews', 'al', 'queda', 'and', 'america', 'in', 'real', 'life', 'teenage', 'kid', 'with', 'no', 'friends', 'who', 'hates', 'everything', 'and', 'wants', 'to', 'shoot', 'up', 'his', 'school', 'but', 'is', 'too', 'week', 'to', 'fire', 'a', 'gun', 'and', 'my', 'parents', 'are', 'annyoing', 'but', 'will', 'financially', 'supply', 'me', 'for', 'the', 'next', '30', 'years', 'i', 'love', 'to', 'hate', 'and', 'fart', 'a', 'lot', 'making', 'my', 'room', 'smell', 'remnicsant', 'of', 'cheese', 'and', 'boiled', 'eggs', 'all', 'trolls', 'except', 'me']",
         "1.0",
         "SchooshooterTexts"
        ],
        [
         "10",
         "['dont', 'play', 'wow', 'it', 'turned', 'my', 'brother', 'into', 'a', 'basement', 'dweller', 'and', 'now', 'hes', 'doing', 'weed', 'hes', '24', 'works', 'at', 'a', 'convenience', 'store', 'and', 'dropped', 'out', 'of', 'high', 'school', 'mmos', 'are', 'just', 'the', 'same', 'as', 'heroin', 'and', 'will', 'destroy', 'not', 'only', 'your', 'body', 'but', 'your', 'mind']",
         "1.0",
         "SchooshooterTexts"
        ],
        [
         "11",
         "['i', 'support', 'interesting', 'people', 'and', 'i', 'hope', 'to', 'be', 'internet', 'famous', 'one', 'day', 'in', 'short', 'im', 'a', 'hypocritical', 'weeaboo', 'in', 'denial', 'troll', 'who', 'has', 'been', 'cursed', 'into', 'an', 'endless', 'state', 'of', 'constant', 'boredom', 'which', 'has', 'driven', 'me', 'to', 'depression', 'and', 'anger']",
         "1.0",
         "SchooshooterTexts"
        ],
        [
         "12",
         "['the', 'shortest', 'i', 'can', 'describe', 'trolls', 'trolls', 'are', 'basically', 'young', 'teenagers', 'who', 'bully', 'online', 'to', 'get', 'a', 'raise', 'because', 'they', 'have', 'a', 'personality', 'disorder', 'and', 'want', 'to', 'cover', 'up', 'the', 'hole', 'that', 'real', 'bullies', 'left', 'in', 'their', 'emotion']",
         "1.0",
         "SchooshooterTexts"
        ],
        [
         "13",
         "['i', 'would', 'kill', 'tidus', 'and', 'the', 'methods', 'of', 'doing', 'this', 'may', 'offend', 'many', 'of', 'you', 'i', 'would', 'start', 'off', 'by', 'crusifying', 'him', 'and', 'leaving', 'him', 'without', 'food', 'for', 'a', 'total', 'of', 'three', 'days', 'afterwards', 'i', 'would', 'force', 'him', 'to', 'eat', 'rats', 'i', 'would', 'apply', '1', '000', 'small', 'cuts', 'throughout', 'his', 'body', 'and', 'dip', 'him', 'in', 'a', 'tub', 'of', 'hydrogen', 'peroxide', 'afterwards', 'i', 'would', 'recut', 'the', 'wounds', 'and', 'apply', 'a', 'scorpions', 'sting', 'to', '30', 'of', 'them', 'over', 'a', 'tears', 'in', 'my', 'eyes', 'period', 'of', '2', 'hours', 'after', 'which', 'i', 'would', 'nurse', 'his', 'health', 'a', 'tad', 'next', 'i', 'would', 'rip', 'his', 'nails', 'out', 'and', 'pour', 'bleach', 'and', 'ammonia', 'on', 'them', 'while', 'making', 'sure', 'he', 'doesnt', 'inhale', 'any', 'i', 'would', 'shoot', 'him', 'in', 'his', 'knee', 'with', 'a', 'crossbow', 'and', 'since', 'im', 'an', 'honorable', 'man', 'i', 'would', 'make', 'this', 'the', 'last', 'of', 'his', 'punishment', 'a', 'quick', 'sword', 'blow', 'to', 'his', 'chest', 'and', 'a', 'large', 'incision', 'to', 'his', 'belly', 'would', 'do', 'the', 'trick', 'i', 'would', 'leave', 'him', 'in', 'pain', 'for', 'the', 'remainder', 'of', 'his', 'very', 'short', 'life', 'to', 'allow', 'him', 'to', 'reflect', 'on', 'his', 'personality']",
         "1.0",
         "SchooshooterTexts"
        ],
        [
         "14",
         "['jack', 'a', 'gun', 'and', 'shoot', 'myself', 'in', 'the', 'head']",
         "2.0",
         "SchooshooterTexts"
        ],
        [
         "15",
         "['every', 'personality', 'disorder', 'test', 'i', 'take', 'i', 'usually', 'end', 'up', 'getting', 'over', 'half', 'of', 'them', 'at', 'a', 'severe', 'level', 'and', 'im', 'being', 'honest', 'most', 'of', 'the', 'tears', 'in', 'my', 'eyes']",
         "1.0",
         "SchooshooterTexts"
        ],
        [
         "16",
         "['hey', 'im', 'eldigato', 'in', 'short', 'i', 'am', 'a', 'psychopath', 'dedicated', 'to', 'the', 'art', 'of', 'destruction', 'in', 'my', 'years', 'of', 'minecraft', 'i', 'have', 'always', 'aimed', 'to', 'make', 'interesting', 'stories', 'i', 'have', 'always', 'done', 'my', 'deeds', 'solo', 'and', 'for', 'that', 'reason', 'they', 'never', 'reached', 'the', 'peak', 'i', 'had', 'hoped', 'for', 'that', 'is', 'why', 'i', 'have', 'registered', 'here', 'today', 'in', 'hopes', 'that', 'i', 'can', 'work', 'with', 'people', 'with', 'similar', 'intentions', 'and', 'cause', 'many', 'great', 'calamities', 'resume', 'griefing', 'i', 'like', 'to', 'take', 'my', 'tears', 'in', 'my', 'eyes', 'in', 'order', 'to', 'cause', 'the', 'most', 'damage', 'but', 'i', 'have', 'attacked', 'many', 'servers', 'with', 'a', 'hit', 'and', 'run', 'style', 'of', 'disruption', 'before', 'and', 'caused', 'massive', 'amounts', 'of', 'damage', 'i', 'would', 'like', 'to', 'say', 'that', 'my', 'best', 'griefing', 'attack', 'was', 'the', 'scattered', 'space', 'incident', 'although', 'the', 'damage', 'wasnt', 'intense', 'compared', 'to', 'most', 'of', 'my', 'attacks', 'on', 'servers', 'i', 'stirred', 'up', 'plenty', 'of', 'drama', 'in', 'their', 'community', 'cooperation', 'i', 'would', 'like', 'to', 'think', 'myself', 'as', 'that', 'of', 'a', 'rogue', 'in', 'many', 'situations', 'but', 'i', 'have', 'shown', 'to', 'be', 'able', 'to', 'work', 'with', 'others', 'considering', 'our', 'personalities', 'i', 'dont', 'think', 'i', 'would', 'have', 'any', 'troubles', 'with', 'group', 'raiding', 'admins', 'i', 'can', 'bullshit', 'my', 'way', 'out', 'of', 'things', 'but', 'i', 'am', 'a', 'honest', 'man', 'if', 'i', 'focus', 'i', 'can', 'have', 'a', 'silver', 'tounge', 'that', 'avoids', 'truthfulness', 'i', 'hope', 'that', 'this', 'information', 'is', 'enough', 'to', 'provide', 'and', 'i', 'hope', 'in', 'the', 'future', 'i', 'can', 'infest', 'the', 'world', 'one', 'day']",
         "1.0",
         "SchooshooterTexts"
        ],
        [
         "17",
         "['i', 'would', 'cut', 'as', 'many', 'veins', 'in', 'his', 'neck', 'as', 'i', 'could', 'avoiding', 'his', 'jugular']",
         "1.0",
         "SchooshooterTexts"
        ],
        [
         "18",
         "['my', 'guilty', 'pleasure', 'is', 'probably', 'dmt', 'but', 'its', 'ok', 'since', 'its', 'amazingly', 'god']",
         "1.0",
         "SchooshooterTexts"
        ],
        [
         "19",
         "['my', 'dream', 'job', 'would', 'have', 'to', 'involve', 'synthesizing', 'pure', 'lsd', 'legally', 'and', 'selling', 'it', 'to', 'the', 'right', 'kind', 'of', 'people', 'who', 'wouldnt', 'abuse', 'it']",
         "1.0",
         "SchooshooterTexts"
        ],
        [
         "20",
         "['i', 'will', 'be', 'living', 'in', 'a', 'basement', 'pretty', 'soon', 'once', 'im', 'finished', 'moving', 'in', 'with', 'my', 'bro']",
         "1.0",
         "SchooshooterTexts"
        ],
        [
         "21",
         "['i', 'played', 'this', 'game', 'while', 'on', 'marijuana', 'lsd', 'salvia', 'and', 'shrooms', 'i', 'can', 'honestly', 'say', 'that', 'once', 'youre', 'experienced', 'with', 'the', 'types', 'you', 'can', 'handle', 'it', 'as', 'long', 'as', 'you', 'have', 'a', 'sitter', 'to', 'help', 'calm', 'you', 'down', 'when', 'creepy', 'stuff', 'happens']",
         "1.0",
         "SchooshooterTexts"
        ],
        [
         "22",
         "['if', 'all', 'of', 'the', 'internet', 'went', 'out', 'people', 'would', 'go', 'psycho', 'and', 'kill', 'eachother', 'and', 'hang', 'mutilated', 'corpses', 'from', 'their', 'towns', 'bridges']",
         "1.0",
         "SchooshooterTexts"
        ],
        [
         "23",
         "['id', 'go', 'back', 'in', 'tears', 'in', 'my', 'eyes', 'and', 'stop', 'a', 'lot', 'of', 'the', 'school', 'shootings', 'such', 'as', 'columbine', 'or', 'v', 'tech', 'by', 'being', 'a', 'positive', 'influence', 'spreading', 'hope', 'in', 'the', 'minds', 'of', 'the', 'shooters', 'and', 'keep', 'them', 'on', 'a', 'path', 'of', 'enlightenment', 'or', 'more', 'realistically', 'id', 'clean', 'up', 'trash', 'around', 'my', 'town', 'which', 'i', 'already', 'do', 'and', 'volunteer', 'at', 'places', 'oh', 'and', 'befriend', 'the', 'lonely', 'or', 'friendless', 'kids', 'at', 'school']",
         "1.0",
         "SchooshooterTexts"
        ],
        [
         "24",
         "['dropping', 'out', 'of', 'high', 'school', 'in', 'order', 'to', 'just', 'study', 'a', 'ged', 'book', 'my', 'sci', 'teacher', 'gave', 'me', 'and', 'take', 'the', 'test', 'when', 'i', 'feel', 'ready', 'and', 'then', 'move', 'onto', 'college', 'while', 'working', 'on', 'fixing', 'myself', 'and', 'learning', 'how', 'to', 'be', 'happy', 'for', 'once', 'and', 'overcoming', 'a', 'tobacco', 'addiction']",
         "1.0",
         "SchooshooterTexts"
        ]
       ],
       "shape": {
        "columns": 3,
        "rows": 25
       }
      },
      "text/html": [
       "<div>\n",
       "<style scoped>\n",
       "    .dataframe tbody tr th:only-of-type {\n",
       "        vertical-align: middle;\n",
       "    }\n",
       "\n",
       "    .dataframe tbody tr th {\n",
       "        vertical-align: top;\n",
       "    }\n",
       "\n",
       "    .dataframe thead th {\n",
       "        text-align: right;\n",
       "    }\n",
       "</style>\n",
       "<table border=\"1\" class=\"dataframe\">\n",
       "  <thead>\n",
       "    <tr style=\"text-align: right;\">\n",
       "      <th></th>\n",
       "      <th>Text</th>\n",
       "      <th>Target</th>\n",
       "      <th>Source</th>\n",
       "    </tr>\n",
       "  </thead>\n",
       "  <tbody>\n",
       "    <tr>\n",
       "      <th>0</th>\n",
       "      <td>[mommy, said, not, to, talk, to, strangers, bu...</td>\n",
       "      <td>1.0</td>\n",
       "      <td>SchooshooterTexts</td>\n",
       "    </tr>\n",
       "    <tr>\n",
       "      <th>1</th>\n",
       "      <td>[1, i, was, immune, to, getting, hurt, killed,...</td>\n",
       "      <td>1.0</td>\n",
       "      <td>SchooshooterTexts</td>\n",
       "    </tr>\n",
       "    <tr>\n",
       "      <th>2</th>\n",
       "      <td>[i, mean, terrorist, attacks, happen, all, the...</td>\n",
       "      <td>1.0</td>\n",
       "      <td>SchooshooterTexts</td>\n",
       "    </tr>\n",
       "    <tr>\n",
       "      <th>3</th>\n",
       "      <td>[as, a, god, it, would, be, my, responsibility...</td>\n",
       "      <td>1.0</td>\n",
       "      <td>SchooshooterTexts</td>\n",
       "    </tr>\n",
       "    <tr>\n",
       "      <th>4</th>\n",
       "      <td>[i, am, going, to, grab, a, knife, and, shove,...</td>\n",
       "      <td>1.0</td>\n",
       "      <td>SchooshooterTexts</td>\n",
       "    </tr>\n",
       "    <tr>\n",
       "      <th>5</th>\n",
       "      <td>[i, will, rape, your, hot, lovey, sister, and,...</td>\n",
       "      <td>1.0</td>\n",
       "      <td>SchooshooterTexts</td>\n",
       "    </tr>\n",
       "    <tr>\n",
       "      <th>6</th>\n",
       "      <td>[iwillneverletyouforgetaboutme]</td>\n",
       "      <td>1.0</td>\n",
       "      <td>SchooshooterTexts</td>\n",
       "    </tr>\n",
       "    <tr>\n",
       "      <th>7</th>\n",
       "      <td>[rule, 11, be, nice, to, nerds, chances, are, ...</td>\n",
       "      <td>1.0</td>\n",
       "      <td>SchooshooterTexts</td>\n",
       "    </tr>\n",
       "    <tr>\n",
       "      <th>8</th>\n",
       "      <td>[2005, age, 9, i, was, playing, sm64ds, when, ...</td>\n",
       "      <td>1.0</td>\n",
       "      <td>SchooshooterTexts</td>\n",
       "    </tr>\n",
       "    <tr>\n",
       "      <th>9</th>\n",
       "      <td>[look, guys, i, just, smoked, an, entire, 500,...</td>\n",
       "      <td>1.0</td>\n",
       "      <td>SchooshooterTexts</td>\n",
       "    </tr>\n",
       "    <tr>\n",
       "      <th>10</th>\n",
       "      <td>[dont, play, wow, it, turned, my, brother, int...</td>\n",
       "      <td>1.0</td>\n",
       "      <td>SchooshooterTexts</td>\n",
       "    </tr>\n",
       "    <tr>\n",
       "      <th>11</th>\n",
       "      <td>[i, support, interesting, people, and, i, hope...</td>\n",
       "      <td>1.0</td>\n",
       "      <td>SchooshooterTexts</td>\n",
       "    </tr>\n",
       "    <tr>\n",
       "      <th>12</th>\n",
       "      <td>[the, shortest, i, can, describe, trolls, trol...</td>\n",
       "      <td>1.0</td>\n",
       "      <td>SchooshooterTexts</td>\n",
       "    </tr>\n",
       "    <tr>\n",
       "      <th>13</th>\n",
       "      <td>[i, would, kill, tidus, and, the, methods, of,...</td>\n",
       "      <td>1.0</td>\n",
       "      <td>SchooshooterTexts</td>\n",
       "    </tr>\n",
       "    <tr>\n",
       "      <th>14</th>\n",
       "      <td>[jack, a, gun, and, shoot, myself, in, the, head]</td>\n",
       "      <td>2.0</td>\n",
       "      <td>SchooshooterTexts</td>\n",
       "    </tr>\n",
       "    <tr>\n",
       "      <th>15</th>\n",
       "      <td>[every, personality, disorder, test, i, take, ...</td>\n",
       "      <td>1.0</td>\n",
       "      <td>SchooshooterTexts</td>\n",
       "    </tr>\n",
       "    <tr>\n",
       "      <th>16</th>\n",
       "      <td>[hey, im, eldigato, in, short, i, am, a, psych...</td>\n",
       "      <td>1.0</td>\n",
       "      <td>SchooshooterTexts</td>\n",
       "    </tr>\n",
       "    <tr>\n",
       "      <th>17</th>\n",
       "      <td>[i, would, cut, as, many, veins, in, his, neck...</td>\n",
       "      <td>1.0</td>\n",
       "      <td>SchooshooterTexts</td>\n",
       "    </tr>\n",
       "    <tr>\n",
       "      <th>18</th>\n",
       "      <td>[my, guilty, pleasure, is, probably, dmt, but,...</td>\n",
       "      <td>1.0</td>\n",
       "      <td>SchooshooterTexts</td>\n",
       "    </tr>\n",
       "    <tr>\n",
       "      <th>19</th>\n",
       "      <td>[my, dream, job, would, have, to, involve, syn...</td>\n",
       "      <td>1.0</td>\n",
       "      <td>SchooshooterTexts</td>\n",
       "    </tr>\n",
       "    <tr>\n",
       "      <th>20</th>\n",
       "      <td>[i, will, be, living, in, a, basement, pretty,...</td>\n",
       "      <td>1.0</td>\n",
       "      <td>SchooshooterTexts</td>\n",
       "    </tr>\n",
       "    <tr>\n",
       "      <th>21</th>\n",
       "      <td>[i, played, this, game, while, on, marijuana, ...</td>\n",
       "      <td>1.0</td>\n",
       "      <td>SchooshooterTexts</td>\n",
       "    </tr>\n",
       "    <tr>\n",
       "      <th>22</th>\n",
       "      <td>[if, all, of, the, internet, went, out, people...</td>\n",
       "      <td>1.0</td>\n",
       "      <td>SchooshooterTexts</td>\n",
       "    </tr>\n",
       "    <tr>\n",
       "      <th>23</th>\n",
       "      <td>[id, go, back, in, tears, in, my, eyes, and, s...</td>\n",
       "      <td>1.0</td>\n",
       "      <td>SchooshooterTexts</td>\n",
       "    </tr>\n",
       "    <tr>\n",
       "      <th>24</th>\n",
       "      <td>[dropping, out, of, high, school, in, order, t...</td>\n",
       "      <td>1.0</td>\n",
       "      <td>SchooshooterTexts</td>\n",
       "    </tr>\n",
       "  </tbody>\n",
       "</table>\n",
       "</div>"
      ],
      "text/plain": [
       "                                                 Text  Target  \\\n",
       "0   [mommy, said, not, to, talk, to, strangers, bu...     1.0   \n",
       "1   [1, i, was, immune, to, getting, hurt, killed,...     1.0   \n",
       "2   [i, mean, terrorist, attacks, happen, all, the...     1.0   \n",
       "3   [as, a, god, it, would, be, my, responsibility...     1.0   \n",
       "4   [i, am, going, to, grab, a, knife, and, shove,...     1.0   \n",
       "5   [i, will, rape, your, hot, lovey, sister, and,...     1.0   \n",
       "6                     [iwillneverletyouforgetaboutme]     1.0   \n",
       "7   [rule, 11, be, nice, to, nerds, chances, are, ...     1.0   \n",
       "8   [2005, age, 9, i, was, playing, sm64ds, when, ...     1.0   \n",
       "9   [look, guys, i, just, smoked, an, entire, 500,...     1.0   \n",
       "10  [dont, play, wow, it, turned, my, brother, int...     1.0   \n",
       "11  [i, support, interesting, people, and, i, hope...     1.0   \n",
       "12  [the, shortest, i, can, describe, trolls, trol...     1.0   \n",
       "13  [i, would, kill, tidus, and, the, methods, of,...     1.0   \n",
       "14  [jack, a, gun, and, shoot, myself, in, the, head]     2.0   \n",
       "15  [every, personality, disorder, test, i, take, ...     1.0   \n",
       "16  [hey, im, eldigato, in, short, i, am, a, psych...     1.0   \n",
       "17  [i, would, cut, as, many, veins, in, his, neck...     1.0   \n",
       "18  [my, guilty, pleasure, is, probably, dmt, but,...     1.0   \n",
       "19  [my, dream, job, would, have, to, involve, syn...     1.0   \n",
       "20  [i, will, be, living, in, a, basement, pretty,...     1.0   \n",
       "21  [i, played, this, game, while, on, marijuana, ...     1.0   \n",
       "22  [if, all, of, the, internet, went, out, people...     1.0   \n",
       "23  [id, go, back, in, tears, in, my, eyes, and, s...     1.0   \n",
       "24  [dropping, out, of, high, school, in, order, t...     1.0   \n",
       "\n",
       "               Source  \n",
       "0   SchooshooterTexts  \n",
       "1   SchooshooterTexts  \n",
       "2   SchooshooterTexts  \n",
       "3   SchooshooterTexts  \n",
       "4   SchooshooterTexts  \n",
       "5   SchooshooterTexts  \n",
       "6   SchooshooterTexts  \n",
       "7   SchooshooterTexts  \n",
       "8   SchooshooterTexts  \n",
       "9   SchooshooterTexts  \n",
       "10  SchooshooterTexts  \n",
       "11  SchooshooterTexts  \n",
       "12  SchooshooterTexts  \n",
       "13  SchooshooterTexts  \n",
       "14  SchooshooterTexts  \n",
       "15  SchooshooterTexts  \n",
       "16  SchooshooterTexts  \n",
       "17  SchooshooterTexts  \n",
       "18  SchooshooterTexts  \n",
       "19  SchooshooterTexts  \n",
       "20  SchooshooterTexts  \n",
       "21  SchooshooterTexts  \n",
       "22  SchooshooterTexts  \n",
       "23  SchooshooterTexts  \n",
       "24  SchooshooterTexts  "
      ]
     },
     "execution_count": 48,
     "metadata": {},
     "output_type": "execute_result"
    }
   ],
   "source": [
    "abbreviation_dict = {\n",
    "    \"u\": \"you\", \"ur\": \"your\", \"lol\": \"laughing out loud\", \"lmao\": \"laughing my ass off\", \"rofl\": \"rolling on the floor laughing\", \"brb\": \"be right back\", \"idk\": \"i don't know\",\n",
    "    \"tbh\": \"to be honest\", \"smh\": \"shaking my head\", \"wtf\": \"what the fuck\", \"omg\": \"oh my god\", \"thx\": \"thank you\", \"ty\": \"thank you\", \"np\": \"no problem\",\n",
    "    \"yw\": \"you're welcome\", \"fyi\": \"for your information\", \"b4\": \"before\", \"nvm\": \"never mind\", \"gtg\": \"got to go\", \"ttyl\": \"talk to you later\", \"gr8\": \"great\",\n",
    "    \"bff\": \"best friends forever\", \"cya\": \"see you\", \"imo\": \"in my opinion\", \"imho\": \"in my humble opinion\", \"jk\": \"just kidding\", \"afk\": \"away from keyboard\", \"irl\": \"in real life\",\n",
    "    \"gg\": \"good game\", \"wp\": \"well played\", \"btw\": \"by the way\", \"dm\": \"direct message\", \"rn\": \"right now\", \"afaik\": \"as far as i know\", \"asap\": \"as soon as possible\",\n",
    "    \"fml\": \"fuck my life\", \"ikr\": \"i know right\", \"ily\": \"i love you\", \"lmk\": \"let me know\", \"ppl\": \"people\", \"bc\": \"because\", \"cuz\": \"because\",\n",
    "    \"tho\": \"though\", \"y\": \"why\", \"r\": \"are\", \"k\": \"okay\", \"n\": \"and\", \"w/\": \"with\", \"w/o\": \"without\",\n",
    "    \"stfu\": \"shut the fuck up\", \"hmu\": \"hit me up\", \"g2g\": \"got to go\", \"wyd\": \"what are you doing\", \"wym\": \"what you mean\", \"wbu\": \"what about you\", \"wb\": \"welcome back\",\n",
    "    \"ofc\": \"of course\", \"pls\": \"please\", \"plz\": \"please\", \"bday\": \"birthday\", \"fav\": \"favorite\", \"msg\": \"message\", \"fb\": \"facebook\",\n",
    "    \"yt\": \"youtube\", \"ig\": \"instagram\", \"snap\": \"snapchat\", \"twt\": \"twitter\", \"ftw\": \"for the win\", \"icymi\": \"in case you missed it\", \"mfw\": \"my face when\",\n",
    "    \"tfw\": \"that feeling when\", \"ftl\": \"for the loss\", \"roflmao\": \"rolling on the floor laughing my ass off\", \"atk\": \"at the keyboard\", \"atm\": \"at the moment\", \"a3\": \"anytime anywhere anyplace\", \"bak\": \"back at keyboard\",\n",
    "    \"bbl\": \"be back later\", \"bbs\": \"be back soon\", \"bfn\": \"bye for now\", \"b4n\": \"bye for now\", \"brt\": \"be right there\", \"cu\": \"see you\", \"cul8r\": \"see you later\",\n",
    "    \"faq\": \"frequently asked questions\", \"fc\": \"fingers crossed\", \"fwiw\": \"for what it's worth\", \"gal\": \"get a life\", \"gn\": \"good night\", \"gmta\": \"great minds think alike\", \"g9\": \"genius\",\n",
    "    \"ic\": \"i see\", \"ilu\": \"i love you\", \"iow\": \"in other words\", \"kiss\": \"keep it simple stupid\", \"ldr\": \"long distance relationship\", \"ltns\": \"long time no see\", \"l8r\": \"later\",\n",
    "    \"mte\": \"my thoughts exactly\", \"m8\": \"mate\", \"nrn\": \"no reply necessary\", \"oic\": \"oh i see\", \"pita\": \"pain in the ass\", \"prt\": \"party\", \"prw\": \"parents are watching\",\n",
    "    \"qpsa?\": \"que pasa\", \"roflol\": \"rolling on the floor laughing out loud\", \"rotflmao\": \"rolling on the floor laughing my ass off\", \"sk8\": \"skate\", \"stats\": \"your sex and age\", \"asl\": \"age sex location\", \"ttfn\": \"ta ta for now\",\n",
    "    \"u2\": \"you too\", \"u4e\": \"yours forever\", \"wtg\": \"way to go\", \"wuf\": \"where are you from\", \"w8\": \"wait\", \"7k\": \"sick laughter\", \"tntl\": \"trying not to laugh\",\n",
    "    \"idu\": \"i don't understand\", \"imu\": \"i miss you\", \"adih\": \"another day in hell\", \"zzz\": \"sleeping tired\", \"wywh\": \"wish you were here\", \"time\": \"tears in my eyes\", \"bae\": \"before anyone else\",\n",
    "    \"fimh\": \"forever in my heart\", \"bsaaw\": \"big smile and a wink\", \"bwl\": \"bursting with laughter\", \"csl\": \"can't stop laughing\", \"std\": \"sexually transmitted disease\", \"og\" : \"original\"\n",
    "}\n",
    "\n",
    "def expand_abbreviations(tokenized_text):\n",
    "    expanded_text = []\n",
    "    for word in tokenized_text:\n",
    "        expansion = abbreviation_dict.get(word, word)\n",
    "        expanded_text.extend(expansion.split())  # Split expansions into separate tokens\n",
    "    return expanded_text\n",
    "\n",
    "df['Text'] = df['Text'].apply(expand_abbreviations)\n",
    "\n",
    "df.head(25)"
   ]
  },
  {
   "cell_type": "markdown",
   "id": "739c98ee",
   "metadata": {},
   "source": [
    "## Expanding contractions"
   ]
  },
  {
   "cell_type": "code",
   "execution_count": 49,
   "id": "c9ceeb14",
   "metadata": {},
   "outputs": [
    {
     "data": {
      "application/vnd.microsoft.datawrangler.viewer.v0+json": {
       "columns": [
        {
         "name": "index",
         "rawType": "int64",
         "type": "integer"
        },
        {
         "name": "Text",
         "rawType": "object",
         "type": "unknown"
        },
        {
         "name": "Target",
         "rawType": "float64",
         "type": "float"
        },
        {
         "name": "Source",
         "rawType": "object",
         "type": "string"
        }
       ],
       "ref": "25445198-6ccd-4f76-95bb-2ed2d15c70c9",
       "rows": [
        [
         "0",
         "['mommy', 'said', 'not', 'to', 'talk', 'to', 'strangers', 'but', 'she', 'is', 'drunk', 'all', 'the', 'tears', 'in', 'my', 'eyes', 'why', 'should', 'i', 'listen', 'to', 'her', 'advice']",
         "1.0",
         "SchooshooterTexts"
        ],
        [
         "1",
         "['1', 'i', 'was', 'immune', 'to', 'getting', 'hurt', 'killed', 'infected', 'with', 'a', 'sexually', 'transmitted', 'disease', '2', 'i', 'had', '43', 'million', 'worshippers', '3', 'i', 'had', 'a', 'life']",
         "1.0",
         "SchooshooterTexts"
        ],
        [
         "2",
         "['i', 'mean', 'terrorist', 'attacks', 'happen', 'all', 'the', 'tears', 'in', 'my', 'eyes', 'sure', 'thousands', 'died', 'but', 'millions', 'have', 'died', 'from', 'george', 'honestly', 'its', 'been', 'almost', '10', 'years', 'and', 'idiots', 'are', 'still', 'whining', '911', 'did', 'make', 'a', 'lot', 'of', 'idiot', 'patriot', 'extremists', 'in', 'america', 'you', 'have', 'to', 'give', '911', 'that', 'i', 'wish', 'another', 'terrorist', 'plane', 'attack', 'would', 'happen', 'so', 'that', 'i', 'could', 'go', 'back', 'to', 'europe', 'and', 'back', 'for', '3', 'cents', 'ahh', 'i', 'remember', 'i', 'was', 'a', 'little', 'kindergartener', 'could', 'of', 'been', '1st', 'grader', 'but', 'i', 'was', 'too', 'young']",
         "1.0",
         "SchooshooterTexts"
        ],
        [
         "3",
         "['as', 'a', 'god', 'it', 'would', 'be', 'my', 'responsibility', 'not', 'to', 'destroy', 'the', 'universal', 'balance', 'thus', 'i', 'am', 'unable', 'to', 'just', 'appear', 'instantly', 'i', 'would', 'need', 'to', 'convert', 'them', 'to', 'being', 'open', 'minded', 'about', 'other', 'gods', 'and', 'then', 'i', 'will', 'appear', 'i', 'will', 'give', 'out', 'my', '3', 'main', 'rules', '1', 'do', 'not', 'harm', 'any', 'living', 'thing', 'if', 'you', 'break', 'this', 'rule', 'i', 'will', 'break', 'your', 'skull', '2', 'do', 'not', 'act', 'in', 'violence', 'of', 'any', 'form', '3', 'do', 'not', 'be', 'a', 'stuffhead', 'i', 'would', 'try', 'to', 'act', 'with', 'any', 'other', 'gods', 'out', 'there', 'such', 'as', 'if', 'gaia', 'was', 'real', 'i', 'would', 'let', 'her', 'take', 'care', 'of', 'her', 'creations', 'and', 'her', 'earth', 'i', 'would', 'let', 'zeus', 'and', 'poseidon', 'make', 'the', 'hurricanes', 'and', 'earthquakes', 'and', 'i', 'would', 'let', 'hades', 'rule', 'the', 'energy', 'of', 'darkness', 'i', 'would', 'be', 'sure', 'to', 'educate', 'them', 'on', 'solar', 'wind', 'water', 'powered', 'technology']",
         "1.0",
         "SchooshooterTexts"
        ],
        [
         "4",
         "['i', 'am', 'going', 'to', 'grab', 'a', 'knife', 'and', 'shove', 'it', 'in', 'the', 'neck', 'of', 'my', 'mother', 'i', 'will', 'then', 'drag', 'her', 'dead', 'body', 'by', 'the', 'trash', 'can', 'drain', 'her', 'blood', 'and', 'then', 'finally', 'cut', 'her', 'and', 'grind', 'her', 'up', 'into', 'little', 'pieces', 'i', 'will', 'eat', 'some', 'of', 'those', 'pieces', 'and', 'then', 'i', 'will', 'probably', 'barf', 'i', 'will', 'throw', 'her', 'body', 'away', 'in', 'the', 'trash', 'can', 'i', 'will', 'then', 'go', 'slaughter', 'sacred', 'animals', 'to', 'appease', 'the', 'gods', 'hail', 'satan', 'i', 'am', 'agnostic', 'not', 'satanist']",
         "1.0",
         "SchooshooterTexts"
        ],
        [
         "5",
         "['i', 'will', 'rape', 'your', 'hot', 'lovey', 'sister', 'and', 'then', 'strangle', 'her', 'with', 'her', 'own', 'hair', 'then', 'i', 'will', 'sneakinto', 'your', 'parents', 'room', 'and', 'slaughter', 'them', 'i', 'will', 'slowly', 'walk', 'to', 'your', 'room', 'holding', 'my', 'blood', 'thirsty', 'knife', 'in', 'my', 'right', 'hand', 'i', 'walk', 'into', 'your', 'room', 'when', 'i', 'see', 'that', 'you', 'are', 'making', 'out', 'with', 'yourself', 'i', 'will', 'grab', 'you', 'tie', 'you', 'to', 'your', 'bed', 'with', 'your', 'own', 'hair', 'and', 'super', 'glue', 'it', 'shut', 'my', 'blood', 'thirsty', 'crave', 'is', 'not', 'over', 'i', 'finally', 'rip', 'your', 'hair', 'out', 'and', 'you', 'experience', 'excruciating', 'pain', 'so', 'painful', 'that', 'you', 'scream', 'and', 'scream', 'but', 'it', 'cannot', 'stop', 'i', 'ripped', 'out', 'the', 'skin', 'of', 'your', 'head', 'blood', 'is', 'drooping', 'everywhere', 'finally', 'i', 'pluck', 'your', 'eyes', 'right', 'out', 'with', 'my', 'knife', 'and', 'throw', 'them', 'down', 'i', 'then', 'cut', 'your', 'neck', 'off', 'and', 'the', 'arms', 'and', 'legs', 'only', 'the', 'torso', 'remains', 'i', 'cut', 'off', 'the', 'genitals', 'and', 'i', 'stab', 'the', 'stomach', 'repeatedly', 'i', 'finally', 'finish', 'off', 'by', 'ripping', 'out', 'your', 'heart', 'and', 'consuming', 'it']",
         "1.0",
         "SchooshooterTexts"
        ],
        [
         "6",
         "['iwillneverletyouforgetaboutme']",
         "1.0",
         "SchooshooterTexts"
        ],
        [
         "7",
         "['rule', '11', 'be', 'nice', 'to', 'nerds', 'chances', 'are', 'you', 'will', 'end', 'up', 'working', 'for', 'one', 'start', 'being', 'nice', 'to', 'me', 'or', 'i', 'will', 'not', 'hire', 'you', 'all', 'all', 'of', 'those', 'idiots', 'who', 'have', 'messed', 'up', 'my', 'life', 'in', 'the', 'past', 'i', 'will', 'hire', 'them', 'for', 'a', 'day', 'and', 'then', 'fire', 'them']",
         "1.0",
         "SchooshooterTexts"
        ],
        [
         "8",
         "['2005', 'age', '9', 'i', 'was', 'playing', 'sm64ds', 'when', 'i', 'lost', 'the', 'level', 'i', 'went', 'agk', 'on', 'my', 'ds', 'threw', 'it', 'extremely', 'hard', 'at', 'a', 'wall', 'and', 'broke', 'it', '2005', 'age', '9', 'after', 'recieving', 'my', 'ds', 'again', 'a', 'day', 'later', 'i', 'got', 'pissed', 'again', 'and', 'ripped', 'the', 'upper', 'half', 'of', 'the', 'ds', 'off', '2005', 'age', '9', 'i', 'got', 'my', 'ds', 'again', 'but', 'when', 'playing', 'pokemon', 'lost', 'and', 'threw', 'it', 'right', 'at', 'the', 'wall', 'again', 'the', '2005', 'ones', 'are', 'true', 'i', 'had', 'a', 'very', 'bad', 'anger', 'problem', '2009', 'age', '13', 'after', 'getting', 'another', 'ds', 'threw', 'it', 'right', 'at', 'the', 'tv', 'and', 'said', 'how', 'is', 'that']",
         "1.0",
         "SchooshooterTexts"
        ],
        [
         "9",
         "['look', 'guys', 'i', 'just', 'smoked', 'an', 'entire', '500', 'worth', 'bag', 'of', 'original', 'kush', 'so', 'its', 'hard', 'to', 'hate', 'you', 'i', 'love', 'furries', 'gays', 'jews', 'al', 'queda', 'and', 'america', 'in', 'real', 'life', 'teenage', 'kid', 'with', 'no', 'friends', 'who', 'hates', 'everything', 'and', 'wants', 'to', 'shoot', 'up', 'his', 'school', 'but', 'is', 'too', 'week', 'to', 'fire', 'a', 'gun', 'and', 'my', 'parents', 'are', 'annyoing', 'but', 'will', 'financially', 'supply', 'me', 'for', 'the', 'next', '30', 'years', 'i', 'love', 'to', 'hate', 'and', 'fart', 'a', 'lot', 'making', 'my', 'room', 'smell', 'remnicsant', 'of', 'cheese', 'and', 'boiled', 'eggs', 'all', 'trolls', 'except', 'me']",
         "1.0",
         "SchooshooterTexts"
        ],
        [
         "10",
         "['do', 'not', 'play', 'wow', 'it', 'turned', 'my', 'brother', 'into', 'a', 'basement', 'dweller', 'and', 'now', 'hes', 'doing', 'weed', 'hes', '24', 'works', 'at', 'a', 'convenience', 'store', 'and', 'dropped', 'out', 'of', 'high', 'school', 'mmos', 'are', 'just', 'the', 'same', 'as', 'heroin', 'and', 'will', 'destroy', 'not', 'only', 'your', 'body', 'but', 'your', 'mind']",
         "1.0",
         "SchooshooterTexts"
        ],
        [
         "11",
         "['i', 'support', 'interesting', 'people', 'and', 'i', 'hope', 'to', 'be', 'internet', 'famous', 'one', 'day', 'in', 'short', 'i', 'am', 'a', 'hypocritical', 'weeaboo', 'in', 'denial', 'troll', 'who', 'has', 'been', 'cursed', 'into', 'an', 'endless', 'state', 'of', 'constant', 'boredom', 'which', 'has', 'driven', 'me', 'to', 'depression', 'and', 'anger']",
         "1.0",
         "SchooshooterTexts"
        ],
        [
         "12",
         "['the', 'shortest', 'i', 'can', 'describe', 'trolls', 'trolls', 'are', 'basically', 'young', 'teenagers', 'who', 'bully', 'online', 'to', 'get', 'a', 'raise', 'because', 'they', 'have', 'a', 'personality', 'disorder', 'and', 'want', 'to', 'cover', 'up', 'the', 'hole', 'that', 'real', 'bullies', 'left', 'in', 'their', 'emotion']",
         "1.0",
         "SchooshooterTexts"
        ],
        [
         "13",
         "['i', 'would', 'kill', 'tidus', 'and', 'the', 'methods', 'of', 'doing', 'this', 'may', 'offend', 'many', 'of', 'you', 'i', 'would', 'start', 'off', 'by', 'crusifying', 'him', 'and', 'leaving', 'him', 'without', 'food', 'for', 'a', 'total', 'of', 'three', 'days', 'afterwards', 'i', 'would', 'force', 'him', 'to', 'eat', 'rats', 'i', 'would', 'apply', '1', '000', 'small', 'cuts', 'throughout', 'his', 'body', 'and', 'dip', 'him', 'in', 'a', 'tub', 'of', 'hydrogen', 'peroxide', 'afterwards', 'i', 'would', 'recut', 'the', 'wounds', 'and', 'apply', 'a', 'scorpions', 'sting', 'to', '30', 'of', 'them', 'over', 'a', 'tears', 'in', 'my', 'eyes', 'period', 'of', '2', 'hours', 'after', 'which', 'i', 'would', 'nurse', 'his', 'health', 'a', 'tad', 'next', 'i', 'would', 'rip', 'his', 'nails', 'out', 'and', 'pour', 'bleach', 'and', 'ammonia', 'on', 'them', 'while', 'making', 'sure', 'he', 'does', 'not', 'inhale', 'any', 'i', 'would', 'shoot', 'him', 'in', 'his', 'knee', 'with', 'a', 'crossbow', 'and', 'since', 'i', 'am', 'an', 'honorable', 'man', 'i', 'would', 'make', 'this', 'the', 'last', 'of', 'his', 'punishment', 'a', 'quick', 'sword', 'blow', 'to', 'his', 'chest', 'and', 'a', 'large', 'incision', 'to', 'his', 'belly', 'would', 'do', 'the', 'trick', 'i', 'would', 'leave', 'him', 'in', 'pain', 'for', 'the', 'remainder', 'of', 'his', 'very', 'short', 'life', 'to', 'allow', 'him', 'to', 'reflect', 'on', 'his', 'personality']",
         "1.0",
         "SchooshooterTexts"
        ],
        [
         "14",
         "['jack', 'a', 'gun', 'and', 'shoot', 'myself', 'in', 'the', 'head']",
         "2.0",
         "SchooshooterTexts"
        ],
        [
         "15",
         "['every', 'personality', 'disorder', 'test', 'i', 'take', 'i', 'usually', 'end', 'up', 'getting', 'over', 'half', 'of', 'them', 'at', 'a', 'severe', 'level', 'and', 'i', 'am', 'being', 'honest', 'most', 'of', 'the', 'tears', 'in', 'my', 'eyes']",
         "1.0",
         "SchooshooterTexts"
        ],
        [
         "16",
         "['hey', 'i', 'am', 'eldigato', 'in', 'short', 'i', 'am', 'a', 'psychopath', 'dedicated', 'to', 'the', 'art', 'of', 'destruction', 'in', 'my', 'years', 'of', 'minecraft', 'i', 'have', 'always', 'aimed', 'to', 'make', 'interesting', 'stories', 'i', 'have', 'always', 'done', 'my', 'deeds', 'solo', 'and', 'for', 'that', 'reason', 'they', 'never', 'reached', 'the', 'peak', 'i', 'had', 'hoped', 'for', 'that', 'is', 'why', 'i', 'have', 'registered', 'here', 'today', 'in', 'hopes', 'that', 'i', 'can', 'work', 'with', 'people', 'with', 'similar', 'intentions', 'and', 'because', 'many', 'great', 'calamities', 'resume', 'griefing', 'i', 'like', 'to', 'take', 'my', 'tears', 'in', 'my', 'eyes', 'in', 'order', 'to', 'because', 'the', 'most', 'damage', 'but', 'i', 'have', 'attacked', 'many', 'servers', 'with', 'a', 'hit', 'and', 'run', 'style', 'of', 'disruption', 'before', 'and', 'caused', 'massive', 'amounts', 'of', 'damage', 'i', 'would', 'like', 'to', 'say', 'that', 'my', 'best', 'griefing', 'attack', 'was', 'the', 'scattered', 'space', 'incident', 'although', 'the', 'damage', 'was', 'not', 'intense', 'compared', 'to', 'most', 'of', 'my', 'attacks', 'on', 'servers', 'i', 'stirred', 'up', 'plenty', 'of', 'drama', 'in', 'their', 'community', 'cooperation', 'i', 'would', 'like', 'to', 'think', 'myself', 'as', 'that', 'of', 'a', 'rogue', 'in', 'many', 'situations', 'but', 'i', 'have', 'shown', 'to', 'be', 'able', 'to', 'work', 'with', 'others', 'considering', 'our', 'personalities', 'i', 'do', 'not', 'think', 'i', 'would', 'have', 'any', 'troubles', 'with', 'group', 'raiding', 'admins', 'i', 'can', 'bullshit', 'my', 'way', 'out', 'of', 'things', 'but', 'i', 'am', 'a', 'honest', 'man', 'if', 'i', 'focus', 'i', 'can', 'have', 'a', 'silver', 'tounge', 'that', 'avoids', 'truthfulness', 'i', 'hope', 'that', 'this', 'information', 'is', 'enough', 'to', 'provide', 'and', 'i', 'hope', 'in', 'the', 'future', 'i', 'can', 'infest', 'the', 'world', 'one', 'day']",
         "1.0",
         "SchooshooterTexts"
        ],
        [
         "17",
         "['i', 'would', 'cut', 'as', 'many', 'veins', 'in', 'his', 'neck', 'as', 'i', 'could', 'avoiding', 'his', 'jugular']",
         "1.0",
         "SchooshooterTexts"
        ],
        [
         "18",
         "['my', 'guilty', 'pleasure', 'is', 'probably', 'dmt', 'but', 'its', 'ok', 'since', 'its', 'amazingly', 'god']",
         "1.0",
         "SchooshooterTexts"
        ],
        [
         "19",
         "['my', 'dream', 'job', 'would', 'have', 'to', 'involve', 'synthesizing', 'pure', 'lsd', 'legally', 'and', 'selling', 'it', 'to', 'the', 'right', 'kind', 'of', 'people', 'who', 'would', 'not', 'abuse', 'it']",
         "1.0",
         "SchooshooterTexts"
        ],
        [
         "20",
         "['i', 'will', 'be', 'living', 'in', 'a', 'basement', 'pretty', 'soon', 'once', 'i', 'am', 'finished', 'moving', 'in', 'with', 'my', 'bro']",
         "1.0",
         "SchooshooterTexts"
        ],
        [
         "21",
         "['i', 'played', 'this', 'game', 'while', 'on', 'marijuana', 'lsd', 'salvia', 'and', 'shrooms', 'i', 'can', 'honestly', 'say', 'that', 'once', 'you', 'are', 'experienced', 'with', 'the', 'types', 'you', 'can', 'handle', 'it', 'as', 'long', 'as', 'you', 'have', 'a', 'sitter', 'to', 'help', 'calm', 'you', 'down', 'when', 'creepy', 'stuff', 'happens']",
         "1.0",
         "SchooshooterTexts"
        ],
        [
         "22",
         "['if', 'all', 'of', 'the', 'internet', 'went', 'out', 'people', 'would', 'go', 'psycho', 'and', 'kill', 'eachother', 'and', 'hang', 'mutilated', 'corpses', 'from', 'their', 'towns', 'bridges']",
         "1.0",
         "SchooshooterTexts"
        ],
        [
         "23",
         "['id', 'go', 'back', 'in', 'tears', 'in', 'my', 'eyes', 'and', 'stop', 'a', 'lot', 'of', 'the', 'school', 'shootings', 'such', 'as', 'columbine', 'or', 'v', 'tech', 'by', 'being', 'a', 'positive', 'influence', 'spreading', 'hope', 'in', 'the', 'minds', 'of', 'the', 'shooters', 'and', 'keep', 'them', 'on', 'a', 'path', 'of', 'enlightenment', 'or', 'more', 'realistically', 'id', 'clean', 'up', 'trash', 'around', 'my', 'town', 'which', 'i', 'already', 'do', 'and', 'volunteer', 'at', 'places', 'oh', 'and', 'befriend', 'the', 'lonely', 'or', 'friendless', 'kids', 'at', 'school']",
         "1.0",
         "SchooshooterTexts"
        ],
        [
         "24",
         "['dropping', 'out', 'of', 'high', 'school', 'in', 'order', 'to', 'just', 'study', 'a', 'ged', 'book', 'my', 'sci', 'teacher', 'gave', 'me', 'and', 'take', 'the', 'test', 'when', 'i', 'feel', 'ready', 'and', 'then', 'move', 'onto', 'college', 'while', 'working', 'on', 'fixing', 'myself', 'and', 'learning', 'how', 'to', 'be', 'happy', 'for', 'once', 'and', 'overcoming', 'a', 'tobacco', 'addiction']",
         "1.0",
         "SchooshooterTexts"
        ]
       ],
       "shape": {
        "columns": 3,
        "rows": 25
       }
      },
      "text/html": [
       "<div>\n",
       "<style scoped>\n",
       "    .dataframe tbody tr th:only-of-type {\n",
       "        vertical-align: middle;\n",
       "    }\n",
       "\n",
       "    .dataframe tbody tr th {\n",
       "        vertical-align: top;\n",
       "    }\n",
       "\n",
       "    .dataframe thead th {\n",
       "        text-align: right;\n",
       "    }\n",
       "</style>\n",
       "<table border=\"1\" class=\"dataframe\">\n",
       "  <thead>\n",
       "    <tr style=\"text-align: right;\">\n",
       "      <th></th>\n",
       "      <th>Text</th>\n",
       "      <th>Target</th>\n",
       "      <th>Source</th>\n",
       "    </tr>\n",
       "  </thead>\n",
       "  <tbody>\n",
       "    <tr>\n",
       "      <th>0</th>\n",
       "      <td>[mommy, said, not, to, talk, to, strangers, bu...</td>\n",
       "      <td>1.0</td>\n",
       "      <td>SchooshooterTexts</td>\n",
       "    </tr>\n",
       "    <tr>\n",
       "      <th>1</th>\n",
       "      <td>[1, i, was, immune, to, getting, hurt, killed,...</td>\n",
       "      <td>1.0</td>\n",
       "      <td>SchooshooterTexts</td>\n",
       "    </tr>\n",
       "    <tr>\n",
       "      <th>2</th>\n",
       "      <td>[i, mean, terrorist, attacks, happen, all, the...</td>\n",
       "      <td>1.0</td>\n",
       "      <td>SchooshooterTexts</td>\n",
       "    </tr>\n",
       "    <tr>\n",
       "      <th>3</th>\n",
       "      <td>[as, a, god, it, would, be, my, responsibility...</td>\n",
       "      <td>1.0</td>\n",
       "      <td>SchooshooterTexts</td>\n",
       "    </tr>\n",
       "    <tr>\n",
       "      <th>4</th>\n",
       "      <td>[i, am, going, to, grab, a, knife, and, shove,...</td>\n",
       "      <td>1.0</td>\n",
       "      <td>SchooshooterTexts</td>\n",
       "    </tr>\n",
       "    <tr>\n",
       "      <th>5</th>\n",
       "      <td>[i, will, rape, your, hot, lovey, sister, and,...</td>\n",
       "      <td>1.0</td>\n",
       "      <td>SchooshooterTexts</td>\n",
       "    </tr>\n",
       "    <tr>\n",
       "      <th>6</th>\n",
       "      <td>[iwillneverletyouforgetaboutme]</td>\n",
       "      <td>1.0</td>\n",
       "      <td>SchooshooterTexts</td>\n",
       "    </tr>\n",
       "    <tr>\n",
       "      <th>7</th>\n",
       "      <td>[rule, 11, be, nice, to, nerds, chances, are, ...</td>\n",
       "      <td>1.0</td>\n",
       "      <td>SchooshooterTexts</td>\n",
       "    </tr>\n",
       "    <tr>\n",
       "      <th>8</th>\n",
       "      <td>[2005, age, 9, i, was, playing, sm64ds, when, ...</td>\n",
       "      <td>1.0</td>\n",
       "      <td>SchooshooterTexts</td>\n",
       "    </tr>\n",
       "    <tr>\n",
       "      <th>9</th>\n",
       "      <td>[look, guys, i, just, smoked, an, entire, 500,...</td>\n",
       "      <td>1.0</td>\n",
       "      <td>SchooshooterTexts</td>\n",
       "    </tr>\n",
       "    <tr>\n",
       "      <th>10</th>\n",
       "      <td>[do, not, play, wow, it, turned, my, brother, ...</td>\n",
       "      <td>1.0</td>\n",
       "      <td>SchooshooterTexts</td>\n",
       "    </tr>\n",
       "    <tr>\n",
       "      <th>11</th>\n",
       "      <td>[i, support, interesting, people, and, i, hope...</td>\n",
       "      <td>1.0</td>\n",
       "      <td>SchooshooterTexts</td>\n",
       "    </tr>\n",
       "    <tr>\n",
       "      <th>12</th>\n",
       "      <td>[the, shortest, i, can, describe, trolls, trol...</td>\n",
       "      <td>1.0</td>\n",
       "      <td>SchooshooterTexts</td>\n",
       "    </tr>\n",
       "    <tr>\n",
       "      <th>13</th>\n",
       "      <td>[i, would, kill, tidus, and, the, methods, of,...</td>\n",
       "      <td>1.0</td>\n",
       "      <td>SchooshooterTexts</td>\n",
       "    </tr>\n",
       "    <tr>\n",
       "      <th>14</th>\n",
       "      <td>[jack, a, gun, and, shoot, myself, in, the, head]</td>\n",
       "      <td>2.0</td>\n",
       "      <td>SchooshooterTexts</td>\n",
       "    </tr>\n",
       "    <tr>\n",
       "      <th>15</th>\n",
       "      <td>[every, personality, disorder, test, i, take, ...</td>\n",
       "      <td>1.0</td>\n",
       "      <td>SchooshooterTexts</td>\n",
       "    </tr>\n",
       "    <tr>\n",
       "      <th>16</th>\n",
       "      <td>[hey, i, am, eldigato, in, short, i, am, a, ps...</td>\n",
       "      <td>1.0</td>\n",
       "      <td>SchooshooterTexts</td>\n",
       "    </tr>\n",
       "    <tr>\n",
       "      <th>17</th>\n",
       "      <td>[i, would, cut, as, many, veins, in, his, neck...</td>\n",
       "      <td>1.0</td>\n",
       "      <td>SchooshooterTexts</td>\n",
       "    </tr>\n",
       "    <tr>\n",
       "      <th>18</th>\n",
       "      <td>[my, guilty, pleasure, is, probably, dmt, but,...</td>\n",
       "      <td>1.0</td>\n",
       "      <td>SchooshooterTexts</td>\n",
       "    </tr>\n",
       "    <tr>\n",
       "      <th>19</th>\n",
       "      <td>[my, dream, job, would, have, to, involve, syn...</td>\n",
       "      <td>1.0</td>\n",
       "      <td>SchooshooterTexts</td>\n",
       "    </tr>\n",
       "    <tr>\n",
       "      <th>20</th>\n",
       "      <td>[i, will, be, living, in, a, basement, pretty,...</td>\n",
       "      <td>1.0</td>\n",
       "      <td>SchooshooterTexts</td>\n",
       "    </tr>\n",
       "    <tr>\n",
       "      <th>21</th>\n",
       "      <td>[i, played, this, game, while, on, marijuana, ...</td>\n",
       "      <td>1.0</td>\n",
       "      <td>SchooshooterTexts</td>\n",
       "    </tr>\n",
       "    <tr>\n",
       "      <th>22</th>\n",
       "      <td>[if, all, of, the, internet, went, out, people...</td>\n",
       "      <td>1.0</td>\n",
       "      <td>SchooshooterTexts</td>\n",
       "    </tr>\n",
       "    <tr>\n",
       "      <th>23</th>\n",
       "      <td>[id, go, back, in, tears, in, my, eyes, and, s...</td>\n",
       "      <td>1.0</td>\n",
       "      <td>SchooshooterTexts</td>\n",
       "    </tr>\n",
       "    <tr>\n",
       "      <th>24</th>\n",
       "      <td>[dropping, out, of, high, school, in, order, t...</td>\n",
       "      <td>1.0</td>\n",
       "      <td>SchooshooterTexts</td>\n",
       "    </tr>\n",
       "  </tbody>\n",
       "</table>\n",
       "</div>"
      ],
      "text/plain": [
       "                                                 Text  Target  \\\n",
       "0   [mommy, said, not, to, talk, to, strangers, bu...     1.0   \n",
       "1   [1, i, was, immune, to, getting, hurt, killed,...     1.0   \n",
       "2   [i, mean, terrorist, attacks, happen, all, the...     1.0   \n",
       "3   [as, a, god, it, would, be, my, responsibility...     1.0   \n",
       "4   [i, am, going, to, grab, a, knife, and, shove,...     1.0   \n",
       "5   [i, will, rape, your, hot, lovey, sister, and,...     1.0   \n",
       "6                     [iwillneverletyouforgetaboutme]     1.0   \n",
       "7   [rule, 11, be, nice, to, nerds, chances, are, ...     1.0   \n",
       "8   [2005, age, 9, i, was, playing, sm64ds, when, ...     1.0   \n",
       "9   [look, guys, i, just, smoked, an, entire, 500,...     1.0   \n",
       "10  [do, not, play, wow, it, turned, my, brother, ...     1.0   \n",
       "11  [i, support, interesting, people, and, i, hope...     1.0   \n",
       "12  [the, shortest, i, can, describe, trolls, trol...     1.0   \n",
       "13  [i, would, kill, tidus, and, the, methods, of,...     1.0   \n",
       "14  [jack, a, gun, and, shoot, myself, in, the, head]     2.0   \n",
       "15  [every, personality, disorder, test, i, take, ...     1.0   \n",
       "16  [hey, i, am, eldigato, in, short, i, am, a, ps...     1.0   \n",
       "17  [i, would, cut, as, many, veins, in, his, neck...     1.0   \n",
       "18  [my, guilty, pleasure, is, probably, dmt, but,...     1.0   \n",
       "19  [my, dream, job, would, have, to, involve, syn...     1.0   \n",
       "20  [i, will, be, living, in, a, basement, pretty,...     1.0   \n",
       "21  [i, played, this, game, while, on, marijuana, ...     1.0   \n",
       "22  [if, all, of, the, internet, went, out, people...     1.0   \n",
       "23  [id, go, back, in, tears, in, my, eyes, and, s...     1.0   \n",
       "24  [dropping, out, of, high, school, in, order, t...     1.0   \n",
       "\n",
       "               Source  \n",
       "0   SchooshooterTexts  \n",
       "1   SchooshooterTexts  \n",
       "2   SchooshooterTexts  \n",
       "3   SchooshooterTexts  \n",
       "4   SchooshooterTexts  \n",
       "5   SchooshooterTexts  \n",
       "6   SchooshooterTexts  \n",
       "7   SchooshooterTexts  \n",
       "8   SchooshooterTexts  \n",
       "9   SchooshooterTexts  \n",
       "10  SchooshooterTexts  \n",
       "11  SchooshooterTexts  \n",
       "12  SchooshooterTexts  \n",
       "13  SchooshooterTexts  \n",
       "14  SchooshooterTexts  \n",
       "15  SchooshooterTexts  \n",
       "16  SchooshooterTexts  \n",
       "17  SchooshooterTexts  \n",
       "18  SchooshooterTexts  \n",
       "19  SchooshooterTexts  \n",
       "20  SchooshooterTexts  \n",
       "21  SchooshooterTexts  \n",
       "22  SchooshooterTexts  \n",
       "23  SchooshooterTexts  \n",
       "24  SchooshooterTexts  "
      ]
     },
     "execution_count": 49,
     "metadata": {},
     "output_type": "execute_result"
    }
   ],
   "source": [
    "import contractions\n",
    "\n",
    "def expand_contractions_in_tokens(tokens):\n",
    "    expanded = []\n",
    "    for token in tokens:\n",
    "        expanded_token = contractions.fix(token)\n",
    "        expanded.extend(expanded_token.split()) \n",
    "    return expanded\n",
    "\n",
    "df['Text'] = df['Text'].apply(expand_contractions_in_tokens)\n",
    "df.head(25)"
   ]
  },
  {
   "cell_type": "markdown",
   "id": "207e604d",
   "metadata": {},
   "source": [
    "## Handling typos and merged words"
   ]
  },
  {
   "cell_type": "code",
   "execution_count": 50,
   "id": "40f495f9",
   "metadata": {},
   "outputs": [],
   "source": [
    "import re\n",
    "import wordninja\n",
    "from spellchecker import SpellChecker\n",
    "\n",
    "spell = SpellChecker()\n",
    "_word_re = re.compile(r\"^[a-z]+$\") \n",
    "\n",
    "def in_vocab(w: str) -> bool:\n",
    "    return spell[w] > 0  # pyspellchecker freq > 0 == known\n",
    "\n",
    "def correct_word(w: str) -> str:\n",
    "    c = spell.correction(w)\n",
    "    return c if c else w\n",
    "\n",
    "def clean_token(token, min_split_vocab_frac=0.7):\n",
    "    # Ignore ints and non-strings\n",
    "    if not isinstance(token, str):\n",
    "        return [token]\n",
    "\n",
    "    # Pass through numbers, punctuation, mixed stuff\n",
    "    if not _word_re.match(token):\n",
    "        return [token]\n",
    "\n",
    "    # Already good?\n",
    "    if in_vocab(token):\n",
    "        return [token]\n",
    "\n",
    "    # Try correction\n",
    "    corr = correct_word(token)\n",
    "    if in_vocab(corr):\n",
    "        return [corr]\n",
    "\n",
    "    # Try split\n",
    "    pieces = wordninja.split(token)\n",
    "    if len(pieces) > 1:\n",
    "        known_frac = sum(in_vocab(p) for p in pieces) / len(pieces)\n",
    "        if known_frac >= min_split_vocab_frac:\n",
    "            return [p if in_vocab(p) else correct_word(p) for p in pieces]\n",
    "\n",
    "    # Fallback to original\n",
    "    return [token]\n",
    "\n",
    "def clean_tokens(tokens):\n",
    "    out = []\n",
    "    for t in tokens:\n",
    "        out.extend(clean_token(t))\n",
    "    return out\n",
    "\n",
    "# Apply\n",
    "df['Text'] = df['Text'].apply(clean_tokens)\n"
   ]
  },
  {
   "cell_type": "code",
   "execution_count": 51,
   "id": "fca5b474",
   "metadata": {},
   "outputs": [
    {
     "data": {
      "application/vnd.microsoft.datawrangler.viewer.v0+json": {
       "columns": [
        {
         "name": "index",
         "rawType": "int64",
         "type": "integer"
        },
        {
         "name": "Text",
         "rawType": "object",
         "type": "unknown"
        },
        {
         "name": "Target",
         "rawType": "float64",
         "type": "float"
        },
        {
         "name": "Source",
         "rawType": "object",
         "type": "string"
        }
       ],
       "ref": "a134395a-dbd1-48ce-9288-07b38b65b117",
       "rows": [
        [
         "0",
         "['mommy', 'said', 'not', 'to', 'talk', 'to', 'strangers', 'but', 'she', 'is', 'drunk', 'all', 'the', 'tears', 'in', 'my', 'eyes', 'why', 'should', 'i', 'listen', 'to', 'her', 'advice']",
         "1.0",
         "SchooshooterTexts"
        ],
        [
         "1",
         "['1', 'i', 'was', 'immune', 'to', 'getting', 'hurt', 'killed', 'infected', 'with', 'a', 'sexually', 'transmitted', 'disease', '2', 'i', 'had', '43', 'million', 'worshippers', '3', 'i', 'had', 'a', 'life']",
         "1.0",
         "SchooshooterTexts"
        ],
        [
         "2",
         "['i', 'mean', 'terrorist', 'attacks', 'happen', 'all', 'the', 'tears', 'in', 'my', 'eyes', 'sure', 'thousands', 'died', 'but', 'millions', 'have', 'died', 'from', 'george', 'honestly', 'its', 'been', 'almost', '10', 'years', 'and', 'idiots', 'are', 'still', 'whining', '911', 'did', 'make', 'a', 'lot', 'of', 'idiot', 'patriot', 'extremists', 'in', 'america', 'you', 'have', 'to', 'give', '911', 'that', 'i', 'wish', 'another', 'terrorist', 'plane', 'attack', 'would', 'happen', 'so', 'that', 'i', 'could', 'go', 'back', 'to', 'europe', 'and', 'back', 'for', '3', 'cents', 'ah', 'i', 'remember', 'i', 'was', 'a', 'little', 'kindergartener', 'could', 'of', 'been', '1st', 'grader', 'but', 'i', 'was', 'too', 'young']",
         "1.0",
         "SchooshooterTexts"
        ],
        [
         "3",
         "['as', 'a', 'god', 'it', 'would', 'be', 'my', 'responsibility', 'not', 'to', 'destroy', 'the', 'universal', 'balance', 'thus', 'i', 'am', 'unable', 'to', 'just', 'appear', 'instantly', 'i', 'would', 'need', 'to', 'convert', 'them', 'to', 'being', 'open', 'minded', 'about', 'other', 'gods', 'and', 'then', 'i', 'will', 'appear', 'i', 'will', 'give', 'out', 'my', '3', 'main', 'rules', '1', 'do', 'not', 'harm', 'any', 'living', 'thing', 'if', 'you', 'break', 'this', 'rule', 'i', 'will', 'break', 'your', 'skull', '2', 'do', 'not', 'act', 'in', 'violence', 'of', 'any', 'form', '3', 'do', 'not', 'be', 'a', 'stuffed', 'i', 'would', 'try', 'to', 'act', 'with', 'any', 'other', 'gods', 'out', 'there', 'such', 'as', 'if', 'gaia', 'was', 'real', 'i', 'would', 'let', 'her', 'take', 'care', 'of', 'her', 'creations', 'and', 'her', 'earth', 'i', 'would', 'let', 'zeus', 'and', 'poseidon', 'make', 'the', 'hurricanes', 'and', 'earthquakes', 'and', 'i', 'would', 'let', 'hades', 'rule', 'the', 'energy', 'of', 'darkness', 'i', 'would', 'be', 'sure', 'to', 'educate', 'them', 'on', 'solar', 'wind', 'water', 'powered', 'technology']",
         "1.0",
         "SchooshooterTexts"
        ],
        [
         "4",
         "['i', 'am', 'going', 'to', 'grab', 'a', 'knife', 'and', 'shove', 'it', 'in', 'the', 'neck', 'of', 'my', 'mother', 'i', 'will', 'then', 'drag', 'her', 'dead', 'body', 'by', 'the', 'trash', 'can', 'drain', 'her', 'blood', 'and', 'then', 'finally', 'cut', 'her', 'and', 'grind', 'her', 'up', 'into', 'little', 'pieces', 'i', 'will', 'eat', 'some', 'of', 'those', 'pieces', 'and', 'then', 'i', 'will', 'probably', 'barf', 'i', 'will', 'throw', 'her', 'body', 'away', 'in', 'the', 'trash', 'can', 'i', 'will', 'then', 'go', 'slaughter', 'sacred', 'animals', 'to', 'appease', 'the', 'gods', 'hail', 'satan', 'i', 'am', 'agnostic', 'not', 'satanist']",
         "1.0",
         "SchooshooterTexts"
        ],
        [
         "5",
         "['i', 'will', 'rape', 'your', 'hot', 'lovey', 'sister', 'and', 'then', 'strangle', 'her', 'with', 'her', 'own', 'hair', 'then', 'i', 'will', 'sneaking', 'your', 'parents', 'room', 'and', 'slaughter', 'them', 'i', 'will', 'slowly', 'walk', 'to', 'your', 'room', 'holding', 'my', 'blood', 'thirsty', 'knife', 'in', 'my', 'right', 'hand', 'i', 'walk', 'into', 'your', 'room', 'when', 'i', 'see', 'that', 'you', 'are', 'making', 'out', 'with', 'yourself', 'i', 'will', 'grab', 'you', 'tie', 'you', 'to', 'your', 'bed', 'with', 'your', 'own', 'hair', 'and', 'super', 'glue', 'it', 'shut', 'my', 'blood', 'thirsty', 'crave', 'is', 'not', 'over', 'i', 'finally', 'rip', 'your', 'hair', 'out', 'and', 'you', 'experience', 'excruciating', 'pain', 'so', 'painful', 'that', 'you', 'scream', 'and', 'scream', 'but', 'it', 'cannot', 'stop', 'i', 'ripped', 'out', 'the', 'skin', 'of', 'your', 'head', 'blood', 'is', 'drooping', 'everywhere', 'finally', 'i', 'pluck', 'your', 'eyes', 'right', 'out', 'with', 'my', 'knife', 'and', 'throw', 'them', 'down', 'i', 'then', 'cut', 'your', 'neck', 'off', 'and', 'the', 'arms', 'and', 'legs', 'only', 'the', 'torso', 'remains', 'i', 'cut', 'off', 'the', 'genitals', 'and', 'i', 'stab', 'the', 'stomach', 'repeatedly', 'i', 'finally', 'finish', 'off', 'by', 'ripping', 'out', 'your', 'heart', 'and', 'consuming', 'it']",
         "1.0",
         "SchooshooterTexts"
        ],
        [
         "6",
         "['i', 'will', 'never', 'let', 'you', 'forget', 'about', 'me']",
         "1.0",
         "SchooshooterTexts"
        ],
        [
         "7",
         "['rule', '11', 'be', 'nice', 'to', 'nerds', 'chances', 'are', 'you', 'will', 'end', 'up', 'working', 'for', 'one', 'start', 'being', 'nice', 'to', 'me', 'or', 'i', 'will', 'not', 'hire', 'you', 'all', 'all', 'of', 'those', 'idiots', 'who', 'have', 'messed', 'up', 'my', 'life', 'in', 'the', 'past', 'i', 'will', 'hire', 'them', 'for', 'a', 'day', 'and', 'then', 'fire', 'them']",
         "1.0",
         "SchooshooterTexts"
        ],
        [
         "8",
         "['2005', 'age', '9', 'i', 'was', 'playing', 'sm64ds', 'when', 'i', 'lost', 'the', 'level', 'i', 'went', 'ask', 'on', 'my', 'is', 'threw', 'it', 'extremely', 'hard', 'at', 'a', 'wall', 'and', 'broke', 'it', '2005', 'age', '9', 'after', 'receiving', 'my', 'is', 'again', 'a', 'day', 'later', 'i', 'got', 'pissed', 'again', 'and', 'ripped', 'the', 'upper', 'half', 'of', 'the', 'is', 'off', '2005', 'age', '9', 'i', 'got', 'my', 'is', 'again', 'but', 'when', 'playing', 'pokémon', 'lost', 'and', 'threw', 'it', 'right', 'at', 'the', 'wall', 'again', 'the', '2005', 'ones', 'are', 'true', 'i', 'had', 'a', 'very', 'bad', 'anger', 'problem', '2009', 'age', '13', 'after', 'getting', 'another', 'is', 'threw', 'it', 'right', 'at', 'the', 'to', 'and', 'said', 'how', 'is', 'that']",
         "1.0",
         "SchooshooterTexts"
        ],
        [
         "9",
         "['look', 'guys', 'i', 'just', 'smoked', 'an', 'entire', '500', 'worth', 'bag', 'of', 'original', 'kush', 'so', 'its', 'hard', 'to', 'hate', 'you', 'i', 'love', 'ferries', 'gays', 'jews', 'al', 'queen', 'and', 'america', 'in', 'real', 'life', 'teenage', 'kid', 'with', 'no', 'friends', 'who', 'hates', 'everything', 'and', 'wants', 'to', 'shoot', 'up', 'his', 'school', 'but', 'is', 'too', 'week', 'to', 'fire', 'a', 'gun', 'and', 'my', 'parents', 'are', 'annoying', 'but', 'will', 'financially', 'supply', 'me', 'for', 'the', 'next', '30', 'years', 'i', 'love', 'to', 'hate', 'and', 'fart', 'a', 'lot', 'making', 'my', 'room', 'smell', 'remnicsant', 'of', 'cheese', 'and', 'boiled', 'eggs', 'all', 'trolls', 'except', 'me']",
         "1.0",
         "SchooshooterTexts"
        ],
        [
         "10",
         "['do', 'not', 'play', 'wow', 'it', 'turned', 'my', 'brother', 'into', 'a', 'basement', 'dweller', 'and', 'now', 'hes', 'doing', 'weed', 'hes', '24', 'works', 'at', 'a', 'convenience', 'store', 'and', 'dropped', 'out', 'of', 'high', 'school', 'moms', 'are', 'just', 'the', 'same', 'as', 'heroin', 'and', 'will', 'destroy', 'not', 'only', 'your', 'body', 'but', 'your', 'mind']",
         "1.0",
         "SchooshooterTexts"
        ],
        [
         "11",
         "['i', 'support', 'interesting', 'people', 'and', 'i', 'hope', 'to', 'be', 'internet', 'famous', 'one', 'day', 'in', 'short', 'i', 'am', 'a', 'hypocritical', 'peekaboo', 'in', 'denial', 'troll', 'who', 'has', 'been', 'cursed', 'into', 'an', 'endless', 'state', 'of', 'constant', 'boredom', 'which', 'has', 'driven', 'me', 'to', 'depression', 'and', 'anger']",
         "1.0",
         "SchooshooterTexts"
        ],
        [
         "12",
         "['the', 'shortest', 'i', 'can', 'describe', 'trolls', 'trolls', 'are', 'basically', 'young', 'teenagers', 'who', 'bully', 'online', 'to', 'get', 'a', 'raise', 'because', 'they', 'have', 'a', 'personality', 'disorder', 'and', 'want', 'to', 'cover', 'up', 'the', 'hole', 'that', 'real', 'bullies', 'left', 'in', 'their', 'emotion']",
         "1.0",
         "SchooshooterTexts"
        ],
        [
         "13",
         "['i', 'would', 'kill', 'tides', 'and', 'the', 'methods', 'of', 'doing', 'this', 'may', 'offend', 'many', 'of', 'you', 'i', 'would', 'start', 'off', 'by', 'crucifying', 'him', 'and', 'leaving', 'him', 'without', 'food', 'for', 'a', 'total', 'of', 'three', 'days', 'afterwards', 'i', 'would', 'force', 'him', 'to', 'eat', 'rats', 'i', 'would', 'apply', '1', '000', 'small', 'cuts', 'throughout', 'his', 'body', 'and', 'dip', 'him', 'in', 'a', 'tub', 'of', 'hydrogen', 'peroxide', 'afterwards', 'i', 'would', 'recut', 'the', 'wounds', 'and', 'apply', 'a', 'scorpions', 'sting', 'to', '30', 'of', 'them', 'over', 'a', 'tears', 'in', 'my', 'eyes', 'period', 'of', '2', 'hours', 'after', 'which', 'i', 'would', 'nurse', 'his', 'health', 'a', 'tad', 'next', 'i', 'would', 'rip', 'his', 'nails', 'out', 'and', 'pour', 'bleach', 'and', 'ammonia', 'on', 'them', 'while', 'making', 'sure', 'he', 'does', 'not', 'inhale', 'any', 'i', 'would', 'shoot', 'him', 'in', 'his', 'knee', 'with', 'a', 'crossbow', 'and', 'since', 'i', 'am', 'an', 'honorable', 'man', 'i', 'would', 'make', 'this', 'the', 'last', 'of', 'his', 'punishment', 'a', 'quick', 'sword', 'blow', 'to', 'his', 'chest', 'and', 'a', 'large', 'incision', 'to', 'his', 'belly', 'would', 'do', 'the', 'trick', 'i', 'would', 'leave', 'him', 'in', 'pain', 'for', 'the', 'remainder', 'of', 'his', 'very', 'short', 'life', 'to', 'allow', 'him', 'to', 'reflect', 'on', 'his', 'personality']",
         "1.0",
         "SchooshooterTexts"
        ],
        [
         "14",
         "['jack', 'a', 'gun', 'and', 'shoot', 'myself', 'in', 'the', 'head']",
         "2.0",
         "SchooshooterTexts"
        ],
        [
         "15",
         "['every', 'personality', 'disorder', 'test', 'i', 'take', 'i', 'usually', 'end', 'up', 'getting', 'over', 'half', 'of', 'them', 'at', 'a', 'severe', 'level', 'and', 'i', 'am', 'being', 'honest', 'most', 'of', 'the', 'tears', 'in', 'my', 'eyes']",
         "1.0",
         "SchooshooterTexts"
        ],
        [
         "16",
         "['hey', 'i', 'am', 'el', 'dig', 'a', 'to', 'in', 'short', 'i', 'am', 'a', 'psychopath', 'dedicated', 'to', 'the', 'art', 'of', 'destruction', 'in', 'my', 'years', 'of', 'mineshaft', 'i', 'have', 'always', 'aimed', 'to', 'make', 'interesting', 'stories', 'i', 'have', 'always', 'done', 'my', 'deeds', 'solo', 'and', 'for', 'that', 'reason', 'they', 'never', 'reached', 'the', 'peak', 'i', 'had', 'hoped', 'for', 'that', 'is', 'why', 'i', 'have', 'registered', 'here', 'today', 'in', 'hopes', 'that', 'i', 'can', 'work', 'with', 'people', 'with', 'similar', 'intentions', 'and', 'because', 'many', 'great', 'calamities', 'resume', 'briefing', 'i', 'like', 'to', 'take', 'my', 'tears', 'in', 'my', 'eyes', 'in', 'order', 'to', 'because', 'the', 'most', 'damage', 'but', 'i', 'have', 'attacked', 'many', 'servers', 'with', 'a', 'hit', 'and', 'run', 'style', 'of', 'disruption', 'before', 'and', 'caused', 'massive', 'amounts', 'of', 'damage', 'i', 'would', 'like', 'to', 'say', 'that', 'my', 'best', 'briefing', 'attack', 'was', 'the', 'scattered', 'space', 'incident', 'although', 'the', 'damage', 'was', 'not', 'intense', 'compared', 'to', 'most', 'of', 'my', 'attacks', 'on', 'servers', 'i', 'stirred', 'up', 'plenty', 'of', 'drama', 'in', 'their', 'community', 'cooperation', 'i', 'would', 'like', 'to', 'think', 'myself', 'as', 'that', 'of', 'a', 'rogue', 'in', 'many', 'situations', 'but', 'i', 'have', 'shown', 'to', 'be', 'able', 'to', 'work', 'with', 'others', 'considering', 'our', 'personalities', 'i', 'do', 'not', 'think', 'i', 'would', 'have', 'any', 'troubles', 'with', 'group', 'raiding', 'admits', 'i', 'can', 'bullshit', 'my', 'way', 'out', 'of', 'things', 'but', 'i', 'am', 'a', 'honest', 'man', 'if', 'i', 'focus', 'i', 'can', 'have', 'a', 'silver', 'lounge', 'that', 'avoids', 'truthfulness', 'i', 'hope', 'that', 'this', 'information', 'is', 'enough', 'to', 'provide', 'and', 'i', 'hope', 'in', 'the', 'future', 'i', 'can', 'infest', 'the', 'world', 'one', 'day']",
         "1.0",
         "SchooshooterTexts"
        ],
        [
         "17",
         "['i', 'would', 'cut', 'as', 'many', 'veins', 'in', 'his', 'neck', 'as', 'i', 'could', 'avoiding', 'his', 'jugular']",
         "1.0",
         "SchooshooterTexts"
        ],
        [
         "18",
         "['my', 'guilty', 'pleasure', 'is', 'probably', 'dot', 'but', 'its', 'ok', 'since', 'its', 'amazingly', 'god']",
         "1.0",
         "SchooshooterTexts"
        ],
        [
         "19",
         "['my', 'dream', 'job', 'would', 'have', 'to', 'involve', 'synthesizing', 'pure', 'led', 'legally', 'and', 'selling', 'it', 'to', 'the', 'right', 'kind', 'of', 'people', 'who', 'would', 'not', 'abuse', 'it']",
         "1.0",
         "SchooshooterTexts"
        ],
        [
         "20",
         "['i', 'will', 'be', 'living', 'in', 'a', 'basement', 'pretty', 'soon', 'once', 'i', 'am', 'finished', 'moving', 'in', 'with', 'my', 'pro']",
         "1.0",
         "SchooshooterTexts"
        ],
        [
         "21",
         "['i', 'played', 'this', 'game', 'while', 'on', 'marijuana', 'led', 'salvia', 'and', 'rooms', 'i', 'can', 'honestly', 'say', 'that', 'once', 'you', 'are', 'experienced', 'with', 'the', 'types', 'you', 'can', 'handle', 'it', 'as', 'long', 'as', 'you', 'have', 'a', 'sitter', 'to', 'help', 'calm', 'you', 'down', 'when', 'creepy', 'stuff', 'happens']",
         "1.0",
         "SchooshooterTexts"
        ],
        [
         "22",
         "['if', 'all', 'of', 'the', 'internet', 'went', 'out', 'people', 'would', 'go', 'psycho', 'and', 'kill', 'each', 'other', 'and', 'hang', 'mutilated', 'corpses', 'from', 'their', 'towns', 'bridges']",
         "1.0",
         "SchooshooterTexts"
        ],
        [
         "23",
         "['id', 'go', 'back', 'in', 'tears', 'in', 'my', 'eyes', 'and', 'stop', 'a', 'lot', 'of', 'the', 'school', 'shootings', 'such', 'as', 'columbine', 'or', 'v', 'teach', 'by', 'being', 'a', 'positive', 'influence', 'spreading', 'hope', 'in', 'the', 'minds', 'of', 'the', 'shooters', 'and', 'keep', 'them', 'on', 'a', 'path', 'of', 'enlightenment', 'or', 'more', 'realistically', 'id', 'clean', 'up', 'trash', 'around', 'my', 'town', 'which', 'i', 'already', 'do', 'and', 'volunteer', 'at', 'places', 'oh', 'and', 'befriend', 'the', 'lonely', 'or', 'friendless', 'kids', 'at', 'school']",
         "1.0",
         "SchooshooterTexts"
        ],
        [
         "24",
         "['dropping', 'out', 'of', 'high', 'school', 'in', 'order', 'to', 'just', 'study', 'a', 'get', 'book', 'my', 'ski', 'teacher', 'gave', 'me', 'and', 'take', 'the', 'test', 'when', 'i', 'feel', 'ready', 'and', 'then', 'move', 'onto', 'college', 'while', 'working', 'on', 'fixing', 'myself', 'and', 'learning', 'how', 'to', 'be', 'happy', 'for', 'once', 'and', 'overcoming', 'a', 'tobacco', 'addiction']",
         "1.0",
         "SchooshooterTexts"
        ]
       ],
       "shape": {
        "columns": 3,
        "rows": 25
       }
      },
      "text/html": [
       "<div>\n",
       "<style scoped>\n",
       "    .dataframe tbody tr th:only-of-type {\n",
       "        vertical-align: middle;\n",
       "    }\n",
       "\n",
       "    .dataframe tbody tr th {\n",
       "        vertical-align: top;\n",
       "    }\n",
       "\n",
       "    .dataframe thead th {\n",
       "        text-align: right;\n",
       "    }\n",
       "</style>\n",
       "<table border=\"1\" class=\"dataframe\">\n",
       "  <thead>\n",
       "    <tr style=\"text-align: right;\">\n",
       "      <th></th>\n",
       "      <th>Text</th>\n",
       "      <th>Target</th>\n",
       "      <th>Source</th>\n",
       "    </tr>\n",
       "  </thead>\n",
       "  <tbody>\n",
       "    <tr>\n",
       "      <th>0</th>\n",
       "      <td>[mommy, said, not, to, talk, to, strangers, bu...</td>\n",
       "      <td>1.0</td>\n",
       "      <td>SchooshooterTexts</td>\n",
       "    </tr>\n",
       "    <tr>\n",
       "      <th>1</th>\n",
       "      <td>[1, i, was, immune, to, getting, hurt, killed,...</td>\n",
       "      <td>1.0</td>\n",
       "      <td>SchooshooterTexts</td>\n",
       "    </tr>\n",
       "    <tr>\n",
       "      <th>2</th>\n",
       "      <td>[i, mean, terrorist, attacks, happen, all, the...</td>\n",
       "      <td>1.0</td>\n",
       "      <td>SchooshooterTexts</td>\n",
       "    </tr>\n",
       "    <tr>\n",
       "      <th>3</th>\n",
       "      <td>[as, a, god, it, would, be, my, responsibility...</td>\n",
       "      <td>1.0</td>\n",
       "      <td>SchooshooterTexts</td>\n",
       "    </tr>\n",
       "    <tr>\n",
       "      <th>4</th>\n",
       "      <td>[i, am, going, to, grab, a, knife, and, shove,...</td>\n",
       "      <td>1.0</td>\n",
       "      <td>SchooshooterTexts</td>\n",
       "    </tr>\n",
       "    <tr>\n",
       "      <th>5</th>\n",
       "      <td>[i, will, rape, your, hot, lovey, sister, and,...</td>\n",
       "      <td>1.0</td>\n",
       "      <td>SchooshooterTexts</td>\n",
       "    </tr>\n",
       "    <tr>\n",
       "      <th>6</th>\n",
       "      <td>[i, will, never, let, you, forget, about, me]</td>\n",
       "      <td>1.0</td>\n",
       "      <td>SchooshooterTexts</td>\n",
       "    </tr>\n",
       "    <tr>\n",
       "      <th>7</th>\n",
       "      <td>[rule, 11, be, nice, to, nerds, chances, are, ...</td>\n",
       "      <td>1.0</td>\n",
       "      <td>SchooshooterTexts</td>\n",
       "    </tr>\n",
       "    <tr>\n",
       "      <th>8</th>\n",
       "      <td>[2005, age, 9, i, was, playing, sm64ds, when, ...</td>\n",
       "      <td>1.0</td>\n",
       "      <td>SchooshooterTexts</td>\n",
       "    </tr>\n",
       "    <tr>\n",
       "      <th>9</th>\n",
       "      <td>[look, guys, i, just, smoked, an, entire, 500,...</td>\n",
       "      <td>1.0</td>\n",
       "      <td>SchooshooterTexts</td>\n",
       "    </tr>\n",
       "    <tr>\n",
       "      <th>10</th>\n",
       "      <td>[do, not, play, wow, it, turned, my, brother, ...</td>\n",
       "      <td>1.0</td>\n",
       "      <td>SchooshooterTexts</td>\n",
       "    </tr>\n",
       "    <tr>\n",
       "      <th>11</th>\n",
       "      <td>[i, support, interesting, people, and, i, hope...</td>\n",
       "      <td>1.0</td>\n",
       "      <td>SchooshooterTexts</td>\n",
       "    </tr>\n",
       "    <tr>\n",
       "      <th>12</th>\n",
       "      <td>[the, shortest, i, can, describe, trolls, trol...</td>\n",
       "      <td>1.0</td>\n",
       "      <td>SchooshooterTexts</td>\n",
       "    </tr>\n",
       "    <tr>\n",
       "      <th>13</th>\n",
       "      <td>[i, would, kill, tides, and, the, methods, of,...</td>\n",
       "      <td>1.0</td>\n",
       "      <td>SchooshooterTexts</td>\n",
       "    </tr>\n",
       "    <tr>\n",
       "      <th>14</th>\n",
       "      <td>[jack, a, gun, and, shoot, myself, in, the, head]</td>\n",
       "      <td>2.0</td>\n",
       "      <td>SchooshooterTexts</td>\n",
       "    </tr>\n",
       "    <tr>\n",
       "      <th>15</th>\n",
       "      <td>[every, personality, disorder, test, i, take, ...</td>\n",
       "      <td>1.0</td>\n",
       "      <td>SchooshooterTexts</td>\n",
       "    </tr>\n",
       "    <tr>\n",
       "      <th>16</th>\n",
       "      <td>[hey, i, am, el, dig, a, to, in, short, i, am,...</td>\n",
       "      <td>1.0</td>\n",
       "      <td>SchooshooterTexts</td>\n",
       "    </tr>\n",
       "    <tr>\n",
       "      <th>17</th>\n",
       "      <td>[i, would, cut, as, many, veins, in, his, neck...</td>\n",
       "      <td>1.0</td>\n",
       "      <td>SchooshooterTexts</td>\n",
       "    </tr>\n",
       "    <tr>\n",
       "      <th>18</th>\n",
       "      <td>[my, guilty, pleasure, is, probably, dot, but,...</td>\n",
       "      <td>1.0</td>\n",
       "      <td>SchooshooterTexts</td>\n",
       "    </tr>\n",
       "    <tr>\n",
       "      <th>19</th>\n",
       "      <td>[my, dream, job, would, have, to, involve, syn...</td>\n",
       "      <td>1.0</td>\n",
       "      <td>SchooshooterTexts</td>\n",
       "    </tr>\n",
       "    <tr>\n",
       "      <th>20</th>\n",
       "      <td>[i, will, be, living, in, a, basement, pretty,...</td>\n",
       "      <td>1.0</td>\n",
       "      <td>SchooshooterTexts</td>\n",
       "    </tr>\n",
       "    <tr>\n",
       "      <th>21</th>\n",
       "      <td>[i, played, this, game, while, on, marijuana, ...</td>\n",
       "      <td>1.0</td>\n",
       "      <td>SchooshooterTexts</td>\n",
       "    </tr>\n",
       "    <tr>\n",
       "      <th>22</th>\n",
       "      <td>[if, all, of, the, internet, went, out, people...</td>\n",
       "      <td>1.0</td>\n",
       "      <td>SchooshooterTexts</td>\n",
       "    </tr>\n",
       "    <tr>\n",
       "      <th>23</th>\n",
       "      <td>[id, go, back, in, tears, in, my, eyes, and, s...</td>\n",
       "      <td>1.0</td>\n",
       "      <td>SchooshooterTexts</td>\n",
       "    </tr>\n",
       "    <tr>\n",
       "      <th>24</th>\n",
       "      <td>[dropping, out, of, high, school, in, order, t...</td>\n",
       "      <td>1.0</td>\n",
       "      <td>SchooshooterTexts</td>\n",
       "    </tr>\n",
       "  </tbody>\n",
       "</table>\n",
       "</div>"
      ],
      "text/plain": [
       "                                                 Text  Target  \\\n",
       "0   [mommy, said, not, to, talk, to, strangers, bu...     1.0   \n",
       "1   [1, i, was, immune, to, getting, hurt, killed,...     1.0   \n",
       "2   [i, mean, terrorist, attacks, happen, all, the...     1.0   \n",
       "3   [as, a, god, it, would, be, my, responsibility...     1.0   \n",
       "4   [i, am, going, to, grab, a, knife, and, shove,...     1.0   \n",
       "5   [i, will, rape, your, hot, lovey, sister, and,...     1.0   \n",
       "6       [i, will, never, let, you, forget, about, me]     1.0   \n",
       "7   [rule, 11, be, nice, to, nerds, chances, are, ...     1.0   \n",
       "8   [2005, age, 9, i, was, playing, sm64ds, when, ...     1.0   \n",
       "9   [look, guys, i, just, smoked, an, entire, 500,...     1.0   \n",
       "10  [do, not, play, wow, it, turned, my, brother, ...     1.0   \n",
       "11  [i, support, interesting, people, and, i, hope...     1.0   \n",
       "12  [the, shortest, i, can, describe, trolls, trol...     1.0   \n",
       "13  [i, would, kill, tides, and, the, methods, of,...     1.0   \n",
       "14  [jack, a, gun, and, shoot, myself, in, the, head]     2.0   \n",
       "15  [every, personality, disorder, test, i, take, ...     1.0   \n",
       "16  [hey, i, am, el, dig, a, to, in, short, i, am,...     1.0   \n",
       "17  [i, would, cut, as, many, veins, in, his, neck...     1.0   \n",
       "18  [my, guilty, pleasure, is, probably, dot, but,...     1.0   \n",
       "19  [my, dream, job, would, have, to, involve, syn...     1.0   \n",
       "20  [i, will, be, living, in, a, basement, pretty,...     1.0   \n",
       "21  [i, played, this, game, while, on, marijuana, ...     1.0   \n",
       "22  [if, all, of, the, internet, went, out, people...     1.0   \n",
       "23  [id, go, back, in, tears, in, my, eyes, and, s...     1.0   \n",
       "24  [dropping, out, of, high, school, in, order, t...     1.0   \n",
       "\n",
       "               Source  \n",
       "0   SchooshooterTexts  \n",
       "1   SchooshooterTexts  \n",
       "2   SchooshooterTexts  \n",
       "3   SchooshooterTexts  \n",
       "4   SchooshooterTexts  \n",
       "5   SchooshooterTexts  \n",
       "6   SchooshooterTexts  \n",
       "7   SchooshooterTexts  \n",
       "8   SchooshooterTexts  \n",
       "9   SchooshooterTexts  \n",
       "10  SchooshooterTexts  \n",
       "11  SchooshooterTexts  \n",
       "12  SchooshooterTexts  \n",
       "13  SchooshooterTexts  \n",
       "14  SchooshooterTexts  \n",
       "15  SchooshooterTexts  \n",
       "16  SchooshooterTexts  \n",
       "17  SchooshooterTexts  \n",
       "18  SchooshooterTexts  \n",
       "19  SchooshooterTexts  \n",
       "20  SchooshooterTexts  \n",
       "21  SchooshooterTexts  \n",
       "22  SchooshooterTexts  \n",
       "23  SchooshooterTexts  \n",
       "24  SchooshooterTexts  "
      ]
     },
     "execution_count": 51,
     "metadata": {},
     "output_type": "execute_result"
    }
   ],
   "source": [
    "df.head(25)"
   ]
  },
  {
   "cell_type": "markdown",
   "id": "59502e78",
   "metadata": {},
   "source": [
    "## Pos Tagging and Lemmatization"
   ]
  },
  {
   "cell_type": "code",
   "execution_count": null,
   "id": "43ac17e4",
   "metadata": {},
   "outputs": [
    {
     "name": "stderr",
     "output_type": "stream",
     "text": [
      "[nltk_data] Downloading package averaged_perceptron_tagger to\n",
      "[nltk_data]     C:\\Users\\user\\AppData\\Roaming\\nltk_data...\n",
      "[nltk_data]   Package averaged_perceptron_tagger is already up-to-\n",
      "[nltk_data]       date!\n",
      "[nltk_data] Downloading package wordnet to\n",
      "[nltk_data]     C:\\Users\\user\\AppData\\Roaming\\nltk_data...\n",
      "[nltk_data]   Package wordnet is already up-to-date!\n"
     ]
    },
    {
     "data": {
      "application/vnd.microsoft.datawrangler.viewer.v0+json": {
       "columns": [
        {
         "name": "index",
         "rawType": "int64",
         "type": "integer"
        },
        {
         "name": "Text",
         "rawType": "object",
         "type": "unknown"
        },
        {
         "name": "Target",
         "rawType": "float64",
         "type": "float"
        },
        {
         "name": "Source",
         "rawType": "object",
         "type": "string"
        }
       ],
       "ref": "f7faf49f-7453-4e27-9081-1f5030658d58",
       "rows": [
        [
         "0",
         "['mommy', 'say', 'not', 'to', 'talk', 'to', 'stranger', 'but', 'she', 'be', 'drunk', 'all', 'the', 'tear', 'in', 'my', 'eye', 'why', 'should', 'i', 'listen', 'to', 'her', 'advice']",
         "1.0",
         "SchooshooterTexts"
        ],
        [
         "1",
         "['1', 'i', 'be', 'immune', 'to', 'get', 'hurt', 'kill', 'infect', 'with', 'a', 'sexually', 'transmit', 'disease', '2', 'i', 'have', '43', 'million', 'worshipper', '3', 'i', 'have', 'a', 'life']",
         "1.0",
         "SchooshooterTexts"
        ],
        [
         "2",
         "['i', 'mean', 'terrorist', 'attack', 'happen', 'all', 'the', 'tear', 'in', 'my', 'eye', 'sure', 'thousand', 'die', 'but', 'million', 'have', 'die', 'from', 'george', 'honestly', 'it', 'be', 'almost', '10', 'year', 'and', 'idiot', 'be', 'still', 'whine', '911', 'do', 'make', 'a', 'lot', 'of', 'idiot', 'patriot', 'extremist', 'in', 'america', 'you', 'have', 'to', 'give', '911', 'that', 'i', 'wish', 'another', 'terrorist', 'plane', 'attack', 'would', 'happen', 'so', 'that', 'i', 'could', 'go', 'back', 'to', 'europe', 'and', 'back', 'for', '3', 'cent', 'ah', 'i', 'remember', 'i', 'be', 'a', 'little', 'kindergartener', 'could', 'of', 'be', '1st', 'grader', 'but', 'i', 'be', 'too', 'young']",
         "1.0",
         "SchooshooterTexts"
        ],
        [
         "3",
         "['a', 'a', 'god', 'it', 'would', 'be', 'my', 'responsibility', 'not', 'to', 'destroy', 'the', 'universal', 'balance', 'thus', 'i', 'be', 'unable', 'to', 'just', 'appear', 'instantly', 'i', 'would', 'need', 'to', 'convert', 'them', 'to', 'be', 'open', 'mind', 'about', 'other', 'god', 'and', 'then', 'i', 'will', 'appear', 'i', 'will', 'give', 'out', 'my', '3', 'main', 'rule', '1', 'do', 'not', 'harm', 'any', 'living', 'thing', 'if', 'you', 'break', 'this', 'rule', 'i', 'will', 'break', 'your', 'skull', '2', 'do', 'not', 'act', 'in', 'violence', 'of', 'any', 'form', '3', 'do', 'not', 'be', 'a', 'stuffed', 'i', 'would', 'try', 'to', 'act', 'with', 'any', 'other', 'god', 'out', 'there', 'such', 'a', 'if', 'gaia', 'be', 'real', 'i', 'would', 'let', 'her', 'take', 'care', 'of', 'her', 'creation', 'and', 'her', 'earth', 'i', 'would', 'let', 'zeus', 'and', 'poseidon', 'make', 'the', 'hurricane', 'and', 'earthquake', 'and', 'i', 'would', 'let', 'hades', 'rule', 'the', 'energy', 'of', 'darkness', 'i', 'would', 'be', 'sure', 'to', 'educate', 'them', 'on', 'solar', 'wind', 'water', 'power', 'technology']",
         "1.0",
         "SchooshooterTexts"
        ],
        [
         "4",
         "['i', 'be', 'go', 'to', 'grab', 'a', 'knife', 'and', 'shove', 'it', 'in', 'the', 'neck', 'of', 'my', 'mother', 'i', 'will', 'then', 'drag', 'her', 'dead', 'body', 'by', 'the', 'trash', 'can', 'drain', 'her', 'blood', 'and', 'then', 'finally', 'cut', 'her', 'and', 'grind', 'her', 'up', 'into', 'little', 'piece', 'i', 'will', 'eat', 'some', 'of', 'those', 'piece', 'and', 'then', 'i', 'will', 'probably', 'barf', 'i', 'will', 'throw', 'her', 'body', 'away', 'in', 'the', 'trash', 'can', 'i', 'will', 'then', 'go', 'slaughter', 'sacred', 'animal', 'to', 'appease', 'the', 'god', 'hail', 'satan', 'i', 'be', 'agnostic', 'not', 'satanist']",
         "1.0",
         "SchooshooterTexts"
        ],
        [
         "5",
         "['i', 'will', 'rape', 'your', 'hot', 'lovey', 'sister', 'and', 'then', 'strangle', 'her', 'with', 'her', 'own', 'hair', 'then', 'i', 'will', 'sneak', 'your', 'parent', 'room', 'and', 'slaughter', 'them', 'i', 'will', 'slowly', 'walk', 'to', 'your', 'room', 'hold', 'my', 'blood', 'thirsty', 'knife', 'in', 'my', 'right', 'hand', 'i', 'walk', 'into', 'your', 'room', 'when', 'i', 'see', 'that', 'you', 'be', 'make', 'out', 'with', 'yourself', 'i', 'will', 'grab', 'you', 'tie', 'you', 'to', 'your', 'bed', 'with', 'your', 'own', 'hair', 'and', 'super', 'glue', 'it', 'shut', 'my', 'blood', 'thirsty', 'crave', 'be', 'not', 'over', 'i', 'finally', 'rip', 'your', 'hair', 'out', 'and', 'you', 'experience', 'excruciate', 'pain', 'so', 'painful', 'that', 'you', 'scream', 'and', 'scream', 'but', 'it', 'cannot', 'stop', 'i', 'ripped', 'out', 'the', 'skin', 'of', 'your', 'head', 'blood', 'be', 'droop', 'everywhere', 'finally', 'i', 'pluck', 'your', 'eye', 'right', 'out', 'with', 'my', 'knife', 'and', 'throw', 'them', 'down', 'i', 'then', 'cut', 'your', 'neck', 'off', 'and', 'the', 'arm', 'and', 'leg', 'only', 'the', 'torso', 'remains', 'i', 'cut', 'off', 'the', 'genitals', 'and', 'i', 'stab', 'the', 'stomach', 'repeatedly', 'i', 'finally', 'finish', 'off', 'by', 'rip', 'out', 'your', 'heart', 'and', 'consume', 'it']",
         "1.0",
         "SchooshooterTexts"
        ],
        [
         "6",
         "['i', 'will', 'never', 'let', 'you', 'forget', 'about', 'me']",
         "1.0",
         "SchooshooterTexts"
        ],
        [
         "7",
         "['rule', '11', 'be', 'nice', 'to', 'nerd', 'chance', 'be', 'you', 'will', 'end', 'up', 'work', 'for', 'one', 'start', 'be', 'nice', 'to', 'me', 'or', 'i', 'will', 'not', 'hire', 'you', 'all', 'all', 'of', 'those', 'idiot', 'who', 'have', 'mess', 'up', 'my', 'life', 'in', 'the', 'past', 'i', 'will', 'hire', 'them', 'for', 'a', 'day', 'and', 'then', 'fire', 'them']",
         "1.0",
         "SchooshooterTexts"
        ],
        [
         "8",
         "['2005', 'age', '9', 'i', 'be', 'play', 'sm64ds', 'when', 'i', 'lose', 'the', 'level', 'i', 'go', 'ask', 'on', 'my', 'be', 'threw', 'it', 'extremely', 'hard', 'at', 'a', 'wall', 'and', 'broke', 'it', '2005', 'age', '9', 'after', 'receive', 'my', 'be', 'again', 'a', 'day', 'later', 'i', 'get', 'piss', 'again', 'and', 'ripped', 'the', 'upper', 'half', 'of', 'the', 'be', 'off', '2005', 'age', '9', 'i', 'get', 'my', 'be', 'again', 'but', 'when', 'play', 'pokémon', 'lose', 'and', 'threw', 'it', 'right', 'at', 'the', 'wall', 'again', 'the', '2005', 'one', 'be', 'true', 'i', 'have', 'a', 'very', 'bad', 'anger', 'problem', '2009', 'age', '13', 'after', 'get', 'another', 'be', 'threw', 'it', 'right', 'at', 'the', 'to', 'and', 'say', 'how', 'be', 'that']",
         "1.0",
         "SchooshooterTexts"
        ],
        [
         "9",
         "['look', 'guy', 'i', 'just', 'smoke', 'an', 'entire', '500', 'worth', 'bag', 'of', 'original', 'kush', 'so', 'it', 'hard', 'to', 'hate', 'you', 'i', 'love', 'ferry', 'gay', 'jew', 'al', 'queen', 'and', 'america', 'in', 'real', 'life', 'teenage', 'kid', 'with', 'no', 'friend', 'who', 'hate', 'everything', 'and', 'want', 'to', 'shoot', 'up', 'his', 'school', 'but', 'be', 'too', 'week', 'to', 'fire', 'a', 'gun', 'and', 'my', 'parent', 'be', 'annoy', 'but', 'will', 'financially', 'supply', 'me', 'for', 'the', 'next', '30', 'year', 'i', 'love', 'to', 'hate', 'and', 'fart', 'a', 'lot', 'make', 'my', 'room', 'smell', 'remnicsant', 'of', 'cheese', 'and', 'boil', 'egg', 'all', 'troll', 'except', 'me']",
         "1.0",
         "SchooshooterTexts"
        ],
        [
         "10",
         "['do', 'not', 'play', 'wow', 'it', 'turn', 'my', 'brother', 'into', 'a', 'basement', 'dweller', 'and', 'now', 'he', 'do', 'weed', 'he', '24', 'work', 'at', 'a', 'convenience', 'store', 'and', 'drop', 'out', 'of', 'high', 'school', 'mom', 'be', 'just', 'the', 'same', 'a', 'heroin', 'and', 'will', 'destroy', 'not', 'only', 'your', 'body', 'but', 'your', 'mind']",
         "1.0",
         "SchooshooterTexts"
        ],
        [
         "11",
         "['i', 'support', 'interest', 'people', 'and', 'i', 'hope', 'to', 'be', 'internet', 'famous', 'one', 'day', 'in', 'short', 'i', 'be', 'a', 'hypocritical', 'peekaboo', 'in', 'denial', 'troll', 'who', 'have', 'be', 'curse', 'into', 'an', 'endless', 'state', 'of', 'constant', 'boredom', 'which', 'have', 'driven', 'me', 'to', 'depression', 'and', 'anger']",
         "1.0",
         "SchooshooterTexts"
        ],
        [
         "12",
         "['the', 'shortest', 'i', 'can', 'describe', 'troll', 'troll', 'be', 'basically', 'young', 'teenager', 'who', 'bully', 'online', 'to', 'get', 'a', 'raise', 'because', 'they', 'have', 'a', 'personality', 'disorder', 'and', 'want', 'to', 'cover', 'up', 'the', 'hole', 'that', 'real', 'bully', 'left', 'in', 'their', 'emotion']",
         "1.0",
         "SchooshooterTexts"
        ],
        [
         "13",
         "['i', 'would', 'kill', 'tide', 'and', 'the', 'method', 'of', 'do', 'this', 'may', 'offend', 'many', 'of', 'you', 'i', 'would', 'start', 'off', 'by', 'crucify', 'him', 'and', 'leave', 'him', 'without', 'food', 'for', 'a', 'total', 'of', 'three', 'day', 'afterwards', 'i', 'would', 'force', 'him', 'to', 'eat', 'rat', 'i', 'would', 'apply', '1', '000', 'small', 'cut', 'throughout', 'his', 'body', 'and', 'dip', 'him', 'in', 'a', 'tub', 'of', 'hydrogen', 'peroxide', 'afterwards', 'i', 'would', 'recut', 'the', 'wound', 'and', 'apply', 'a', 'scorpion', 'sting', 'to', '30', 'of', 'them', 'over', 'a', 'tear', 'in', 'my', 'eye', 'period', 'of', '2', 'hour', 'after', 'which', 'i', 'would', 'nurse', 'his', 'health', 'a', 'tad', 'next', 'i', 'would', 'rip', 'his', 'nail', 'out', 'and', 'pour', 'bleach', 'and', 'ammonia', 'on', 'them', 'while', 'make', 'sure', 'he', 'do', 'not', 'inhale', 'any', 'i', 'would', 'shoot', 'him', 'in', 'his', 'knee', 'with', 'a', 'crossbow', 'and', 'since', 'i', 'be', 'an', 'honorable', 'man', 'i', 'would', 'make', 'this', 'the', 'last', 'of', 'his', 'punishment', 'a', 'quick', 'sword', 'blow', 'to', 'his', 'chest', 'and', 'a', 'large', 'incision', 'to', 'his', 'belly', 'would', 'do', 'the', 'trick', 'i', 'would', 'leave', 'him', 'in', 'pain', 'for', 'the', 'remainder', 'of', 'his', 'very', 'short', 'life', 'to', 'allow', 'him', 'to', 'reflect', 'on', 'his', 'personality']",
         "1.0",
         "SchooshooterTexts"
        ],
        [
         "14",
         "['jack', 'a', 'gun', 'and', 'shoot', 'myself', 'in', 'the', 'head']",
         "2.0",
         "SchooshooterTexts"
        ],
        [
         "15",
         "['every', 'personality', 'disorder', 'test', 'i', 'take', 'i', 'usually', 'end', 'up', 'get', 'over', 'half', 'of', 'them', 'at', 'a', 'severe', 'level', 'and', 'i', 'be', 'be', 'honest', 'most', 'of', 'the', 'tear', 'in', 'my', 'eye']",
         "1.0",
         "SchooshooterTexts"
        ],
        [
         "16",
         "['hey', 'i', 'be', 'el', 'dig', 'a', 'to', 'in', 'short', 'i', 'be', 'a', 'psychopath', 'dedicate', 'to', 'the', 'art', 'of', 'destruction', 'in', 'my', 'year', 'of', 'mineshaft', 'i', 'have', 'always', 'aim', 'to', 'make', 'interest', 'story', 'i', 'have', 'always', 'do', 'my', 'deed', 'solo', 'and', 'for', 'that', 'reason', 'they', 'never', 'reach', 'the', 'peak', 'i', 'have', 'hop', 'for', 'that', 'be', 'why', 'i', 'have', 'register', 'here', 'today', 'in', 'hope', 'that', 'i', 'can', 'work', 'with', 'people', 'with', 'similar', 'intention', 'and', 'because', 'many', 'great', 'calamity', 'resume', 'briefing', 'i', 'like', 'to', 'take', 'my', 'tear', 'in', 'my', 'eye', 'in', 'order', 'to', 'because', 'the', 'most', 'damage', 'but', 'i', 'have', 'attack', 'many', 'server', 'with', 'a', 'hit', 'and', 'run', 'style', 'of', 'disruption', 'before', 'and', 'cause', 'massive', 'amount', 'of', 'damage', 'i', 'would', 'like', 'to', 'say', 'that', 'my', 'best', 'briefing', 'attack', 'be', 'the', 'scatter', 'space', 'incident', 'although', 'the', 'damage', 'be', 'not', 'intense', 'compare', 'to', 'most', 'of', 'my', 'attack', 'on', 'server', 'i', 'stir', 'up', 'plenty', 'of', 'drama', 'in', 'their', 'community', 'cooperation', 'i', 'would', 'like', 'to', 'think', 'myself', 'a', 'that', 'of', 'a', 'rogue', 'in', 'many', 'situation', 'but', 'i', 'have', 'show', 'to', 'be', 'able', 'to', 'work', 'with', 'others', 'consider', 'our', 'personality', 'i', 'do', 'not', 'think', 'i', 'would', 'have', 'any', 'trouble', 'with', 'group', 'raid', 'admits', 'i', 'can', 'bullshit', 'my', 'way', 'out', 'of', 'thing', 'but', 'i', 'be', 'a', 'honest', 'man', 'if', 'i', 'focus', 'i', 'can', 'have', 'a', 'silver', 'lounge', 'that', 'avoids', 'truthfulness', 'i', 'hope', 'that', 'this', 'information', 'be', 'enough', 'to', 'provide', 'and', 'i', 'hope', 'in', 'the', 'future', 'i', 'can', 'infest', 'the', 'world', 'one', 'day']",
         "1.0",
         "SchooshooterTexts"
        ],
        [
         "17",
         "['i', 'would', 'cut', 'a', 'many', 'vein', 'in', 'his', 'neck', 'a', 'i', 'could', 'avoid', 'his', 'jugular']",
         "1.0",
         "SchooshooterTexts"
        ],
        [
         "18",
         "['my', 'guilty', 'pleasure', 'be', 'probably', 'dot', 'but', 'it', 'ok', 'since', 'it', 'amazingly', 'god']",
         "1.0",
         "SchooshooterTexts"
        ],
        [
         "19",
         "['my', 'dream', 'job', 'would', 'have', 'to', 'involve', 'synthesize', 'pure', 'lead', 'legally', 'and', 'sell', 'it', 'to', 'the', 'right', 'kind', 'of', 'people', 'who', 'would', 'not', 'abuse', 'it']",
         "1.0",
         "SchooshooterTexts"
        ],
        [
         "20",
         "['i', 'will', 'be', 'living', 'in', 'a', 'basement', 'pretty', 'soon', 'once', 'i', 'be', 'finish', 'move', 'in', 'with', 'my', 'pro']",
         "1.0",
         "SchooshooterTexts"
        ],
        [
         "21",
         "['i', 'played', 'this', 'game', 'while', 'on', 'marijuana', 'lead', 'salvia', 'and', 'room', 'i', 'can', 'honestly', 'say', 'that', 'once', 'you', 'be', 'experienced', 'with', 'the', 'type', 'you', 'can', 'handle', 'it', 'a', 'long', 'a', 'you', 'have', 'a', 'sitter', 'to', 'help', 'calm', 'you', 'down', 'when', 'creepy', 'stuff', 'happens']",
         "1.0",
         "SchooshooterTexts"
        ],
        [
         "22",
         "['if', 'all', 'of', 'the', 'internet', 'go', 'out', 'people', 'would', 'go', 'psycho', 'and', 'kill', 'each', 'other', 'and', 'hang', 'mutilate', 'corps', 'from', 'their', 'town', 'bridge']",
         "1.0",
         "SchooshooterTexts"
        ],
        [
         "23",
         "['id', 'go', 'back', 'in', 'tear', 'in', 'my', 'eye', 'and', 'stop', 'a', 'lot', 'of', 'the', 'school', 'shooting', 'such', 'a', 'columbine', 'or', 'v', 'teach', 'by', 'be', 'a', 'positive', 'influence', 'spread', 'hope', 'in', 'the', 'mind', 'of', 'the', 'shooter', 'and', 'keep', 'them', 'on', 'a', 'path', 'of', 'enlightenment', 'or', 'more', 'realistically', 'id', 'clean', 'up', 'trash', 'around', 'my', 'town', 'which', 'i', 'already', 'do', 'and', 'volunteer', 'at', 'place', 'oh', 'and', 'befriend', 'the', 'lonely', 'or', 'friendless', 'kid', 'at', 'school']",
         "1.0",
         "SchooshooterTexts"
        ],
        [
         "24",
         "['drop', 'out', 'of', 'high', 'school', 'in', 'order', 'to', 'just', 'study', 'a', 'get', 'book', 'my', 'ski', 'teacher', 'give', 'me', 'and', 'take', 'the', 'test', 'when', 'i', 'feel', 'ready', 'and', 'then', 'move', 'onto', 'college', 'while', 'work', 'on', 'fix', 'myself', 'and', 'learn', 'how', 'to', 'be', 'happy', 'for', 'once', 'and', 'overcome', 'a', 'tobacco', 'addiction']",
         "1.0",
         "SchooshooterTexts"
        ]
       ],
       "shape": {
        "columns": 3,
        "rows": 25
       }
      },
      "text/html": [
       "<div>\n",
       "<style scoped>\n",
       "    .dataframe tbody tr th:only-of-type {\n",
       "        vertical-align: middle;\n",
       "    }\n",
       "\n",
       "    .dataframe tbody tr th {\n",
       "        vertical-align: top;\n",
       "    }\n",
       "\n",
       "    .dataframe thead th {\n",
       "        text-align: right;\n",
       "    }\n",
       "</style>\n",
       "<table border=\"1\" class=\"dataframe\">\n",
       "  <thead>\n",
       "    <tr style=\"text-align: right;\">\n",
       "      <th></th>\n",
       "      <th>Text</th>\n",
       "      <th>Target</th>\n",
       "      <th>Source</th>\n",
       "    </tr>\n",
       "  </thead>\n",
       "  <tbody>\n",
       "    <tr>\n",
       "      <th>0</th>\n",
       "      <td>[mommy, say, not, to, talk, to, stranger, but,...</td>\n",
       "      <td>1.0</td>\n",
       "      <td>SchooshooterTexts</td>\n",
       "    </tr>\n",
       "    <tr>\n",
       "      <th>1</th>\n",
       "      <td>[1, i, be, immune, to, get, hurt, kill, infect...</td>\n",
       "      <td>1.0</td>\n",
       "      <td>SchooshooterTexts</td>\n",
       "    </tr>\n",
       "    <tr>\n",
       "      <th>2</th>\n",
       "      <td>[i, mean, terrorist, attack, happen, all, the,...</td>\n",
       "      <td>1.0</td>\n",
       "      <td>SchooshooterTexts</td>\n",
       "    </tr>\n",
       "    <tr>\n",
       "      <th>3</th>\n",
       "      <td>[a, a, god, it, would, be, my, responsibility,...</td>\n",
       "      <td>1.0</td>\n",
       "      <td>SchooshooterTexts</td>\n",
       "    </tr>\n",
       "    <tr>\n",
       "      <th>4</th>\n",
       "      <td>[i, be, go, to, grab, a, knife, and, shove, it...</td>\n",
       "      <td>1.0</td>\n",
       "      <td>SchooshooterTexts</td>\n",
       "    </tr>\n",
       "    <tr>\n",
       "      <th>5</th>\n",
       "      <td>[i, will, rape, your, hot, lovey, sister, and,...</td>\n",
       "      <td>1.0</td>\n",
       "      <td>SchooshooterTexts</td>\n",
       "    </tr>\n",
       "    <tr>\n",
       "      <th>6</th>\n",
       "      <td>[i, will, never, let, you, forget, about, me]</td>\n",
       "      <td>1.0</td>\n",
       "      <td>SchooshooterTexts</td>\n",
       "    </tr>\n",
       "    <tr>\n",
       "      <th>7</th>\n",
       "      <td>[rule, 11, be, nice, to, nerd, chance, be, you...</td>\n",
       "      <td>1.0</td>\n",
       "      <td>SchooshooterTexts</td>\n",
       "    </tr>\n",
       "    <tr>\n",
       "      <th>8</th>\n",
       "      <td>[2005, age, 9, i, be, play, sm64ds, when, i, l...</td>\n",
       "      <td>1.0</td>\n",
       "      <td>SchooshooterTexts</td>\n",
       "    </tr>\n",
       "    <tr>\n",
       "      <th>9</th>\n",
       "      <td>[look, guy, i, just, smoke, an, entire, 500, w...</td>\n",
       "      <td>1.0</td>\n",
       "      <td>SchooshooterTexts</td>\n",
       "    </tr>\n",
       "    <tr>\n",
       "      <th>10</th>\n",
       "      <td>[do, not, play, wow, it, turn, my, brother, in...</td>\n",
       "      <td>1.0</td>\n",
       "      <td>SchooshooterTexts</td>\n",
       "    </tr>\n",
       "    <tr>\n",
       "      <th>11</th>\n",
       "      <td>[i, support, interest, people, and, i, hope, t...</td>\n",
       "      <td>1.0</td>\n",
       "      <td>SchooshooterTexts</td>\n",
       "    </tr>\n",
       "    <tr>\n",
       "      <th>12</th>\n",
       "      <td>[the, shortest, i, can, describe, troll, troll...</td>\n",
       "      <td>1.0</td>\n",
       "      <td>SchooshooterTexts</td>\n",
       "    </tr>\n",
       "    <tr>\n",
       "      <th>13</th>\n",
       "      <td>[i, would, kill, tide, and, the, method, of, d...</td>\n",
       "      <td>1.0</td>\n",
       "      <td>SchooshooterTexts</td>\n",
       "    </tr>\n",
       "    <tr>\n",
       "      <th>14</th>\n",
       "      <td>[jack, a, gun, and, shoot, myself, in, the, head]</td>\n",
       "      <td>2.0</td>\n",
       "      <td>SchooshooterTexts</td>\n",
       "    </tr>\n",
       "    <tr>\n",
       "      <th>15</th>\n",
       "      <td>[every, personality, disorder, test, i, take, ...</td>\n",
       "      <td>1.0</td>\n",
       "      <td>SchooshooterTexts</td>\n",
       "    </tr>\n",
       "    <tr>\n",
       "      <th>16</th>\n",
       "      <td>[hey, i, be, el, dig, a, to, in, short, i, be,...</td>\n",
       "      <td>1.0</td>\n",
       "      <td>SchooshooterTexts</td>\n",
       "    </tr>\n",
       "    <tr>\n",
       "      <th>17</th>\n",
       "      <td>[i, would, cut, a, many, vein, in, his, neck, ...</td>\n",
       "      <td>1.0</td>\n",
       "      <td>SchooshooterTexts</td>\n",
       "    </tr>\n",
       "    <tr>\n",
       "      <th>18</th>\n",
       "      <td>[my, guilty, pleasure, be, probably, dot, but,...</td>\n",
       "      <td>1.0</td>\n",
       "      <td>SchooshooterTexts</td>\n",
       "    </tr>\n",
       "    <tr>\n",
       "      <th>19</th>\n",
       "      <td>[my, dream, job, would, have, to, involve, syn...</td>\n",
       "      <td>1.0</td>\n",
       "      <td>SchooshooterTexts</td>\n",
       "    </tr>\n",
       "    <tr>\n",
       "      <th>20</th>\n",
       "      <td>[i, will, be, living, in, a, basement, pretty,...</td>\n",
       "      <td>1.0</td>\n",
       "      <td>SchooshooterTexts</td>\n",
       "    </tr>\n",
       "    <tr>\n",
       "      <th>21</th>\n",
       "      <td>[i, played, this, game, while, on, marijuana, ...</td>\n",
       "      <td>1.0</td>\n",
       "      <td>SchooshooterTexts</td>\n",
       "    </tr>\n",
       "    <tr>\n",
       "      <th>22</th>\n",
       "      <td>[if, all, of, the, internet, go, out, people, ...</td>\n",
       "      <td>1.0</td>\n",
       "      <td>SchooshooterTexts</td>\n",
       "    </tr>\n",
       "    <tr>\n",
       "      <th>23</th>\n",
       "      <td>[id, go, back, in, tear, in, my, eye, and, sto...</td>\n",
       "      <td>1.0</td>\n",
       "      <td>SchooshooterTexts</td>\n",
       "    </tr>\n",
       "    <tr>\n",
       "      <th>24</th>\n",
       "      <td>[drop, out, of, high, school, in, order, to, j...</td>\n",
       "      <td>1.0</td>\n",
       "      <td>SchooshooterTexts</td>\n",
       "    </tr>\n",
       "  </tbody>\n",
       "</table>\n",
       "</div>"
      ],
      "text/plain": [
       "                                                 Text  Target  \\\n",
       "0   [mommy, say, not, to, talk, to, stranger, but,...     1.0   \n",
       "1   [1, i, be, immune, to, get, hurt, kill, infect...     1.0   \n",
       "2   [i, mean, terrorist, attack, happen, all, the,...     1.0   \n",
       "3   [a, a, god, it, would, be, my, responsibility,...     1.0   \n",
       "4   [i, be, go, to, grab, a, knife, and, shove, it...     1.0   \n",
       "5   [i, will, rape, your, hot, lovey, sister, and,...     1.0   \n",
       "6       [i, will, never, let, you, forget, about, me]     1.0   \n",
       "7   [rule, 11, be, nice, to, nerd, chance, be, you...     1.0   \n",
       "8   [2005, age, 9, i, be, play, sm64ds, when, i, l...     1.0   \n",
       "9   [look, guy, i, just, smoke, an, entire, 500, w...     1.0   \n",
       "10  [do, not, play, wow, it, turn, my, brother, in...     1.0   \n",
       "11  [i, support, interest, people, and, i, hope, t...     1.0   \n",
       "12  [the, shortest, i, can, describe, troll, troll...     1.0   \n",
       "13  [i, would, kill, tide, and, the, method, of, d...     1.0   \n",
       "14  [jack, a, gun, and, shoot, myself, in, the, head]     2.0   \n",
       "15  [every, personality, disorder, test, i, take, ...     1.0   \n",
       "16  [hey, i, be, el, dig, a, to, in, short, i, be,...     1.0   \n",
       "17  [i, would, cut, a, many, vein, in, his, neck, ...     1.0   \n",
       "18  [my, guilty, pleasure, be, probably, dot, but,...     1.0   \n",
       "19  [my, dream, job, would, have, to, involve, syn...     1.0   \n",
       "20  [i, will, be, living, in, a, basement, pretty,...     1.0   \n",
       "21  [i, played, this, game, while, on, marijuana, ...     1.0   \n",
       "22  [if, all, of, the, internet, go, out, people, ...     1.0   \n",
       "23  [id, go, back, in, tear, in, my, eye, and, sto...     1.0   \n",
       "24  [drop, out, of, high, school, in, order, to, j...     1.0   \n",
       "\n",
       "               Source  \n",
       "0   SchooshooterTexts  \n",
       "1   SchooshooterTexts  \n",
       "2   SchooshooterTexts  \n",
       "3   SchooshooterTexts  \n",
       "4   SchooshooterTexts  \n",
       "5   SchooshooterTexts  \n",
       "6   SchooshooterTexts  \n",
       "7   SchooshooterTexts  \n",
       "8   SchooshooterTexts  \n",
       "9   SchooshooterTexts  \n",
       "10  SchooshooterTexts  \n",
       "11  SchooshooterTexts  \n",
       "12  SchooshooterTexts  \n",
       "13  SchooshooterTexts  \n",
       "14  SchooshooterTexts  \n",
       "15  SchooshooterTexts  \n",
       "16  SchooshooterTexts  \n",
       "17  SchooshooterTexts  \n",
       "18  SchooshooterTexts  \n",
       "19  SchooshooterTexts  \n",
       "20  SchooshooterTexts  \n",
       "21  SchooshooterTexts  \n",
       "22  SchooshooterTexts  \n",
       "23  SchooshooterTexts  \n",
       "24  SchooshooterTexts  "
      ]
     },
     "execution_count": 52,
     "metadata": {},
     "output_type": "execute_result"
    }
   ],
   "source": [
    "import nltk\n",
    "from nltk.corpus import wordnet\n",
    "from nltk.stem import WordNetLemmatizer\n",
    "\n",
    "# Download required NLTK resources\n",
    "nltk.download('averaged_perceptron_tagger')\n",
    "nltk.download('wordnet')\n",
    "\n",
    "# Initialize lemmatizer\n",
    "lemmatizer = WordNetLemmatizer()\n",
    "\n",
    "# Function to get the correct WordNet POS tag\n",
    "def get_wordnet_pos(word):\n",
    "    # Converts NLTK POS tags to WordNet POS tags for better lemmatization.\n",
    "    tag = nltk.pos_tag([word])[0][1][0].upper()  # Extract first letter of POS tag\n",
    "    tag_dict = {\"J\": wordnet.ADJ, \"N\": wordnet.NOUN, \"V\": wordnet.VERB, \"R\": wordnet.ADV}\n",
    "    return tag_dict.get(tag, wordnet.NOUN) \n",
    "\n",
    "# Apply lemmatization\n",
    "df['Text'] = df['Text'].apply(\n",
    "    lambda tokens: [lemmatizer.lemmatize(token, get_wordnet_pos(token)) for token in tokens]\n",
    ")\n",
    "\n",
    "\n",
    "df.head(25)\n"
   ]
  },
  {
   "cell_type": "markdown",
   "id": "07ea17ca",
   "metadata": {},
   "source": [
    "## Emoji conversion"
   ]
  },
  {
   "cell_type": "code",
   "execution_count": 53,
   "id": "3d9be17f",
   "metadata": {},
   "outputs": [
    {
     "data": {
      "application/vnd.microsoft.datawrangler.viewer.v0+json": {
       "columns": [
        {
         "name": "index",
         "rawType": "int64",
         "type": "integer"
        },
        {
         "name": "Text",
         "rawType": "object",
         "type": "unknown"
        },
        {
         "name": "Target",
         "rawType": "float64",
         "type": "float"
        },
        {
         "name": "Source",
         "rawType": "object",
         "type": "string"
        }
       ],
       "ref": "befc0ea7-31ec-490d-a00c-fb4fada051bf",
       "rows": [
        [
         "0",
         "['mommy', 'say', 'not', 'to', 'talk', 'to', 'stranger', 'but', 'she', 'be', 'drunk', 'all', 'the', 'tear', 'in', 'my', 'eye', 'why', 'should', 'i', 'listen', 'to', 'her', 'advice']",
         "1.0",
         "SchooshooterTexts"
        ],
        [
         "1",
         "['1', 'i', 'be', 'immune', 'to', 'get', 'hurt', 'kill', 'infect', 'with', 'a', 'sexually', 'transmit', 'disease', '2', 'i', 'have', '43', 'million', 'worshipper', '3', 'i', 'have', 'a', 'life']",
         "1.0",
         "SchooshooterTexts"
        ],
        [
         "2",
         "['i', 'mean', 'terrorist', 'attack', 'happen', 'all', 'the', 'tear', 'in', 'my', 'eye', 'sure', 'thousand', 'die', 'but', 'million', 'have', 'die', 'from', 'george', 'honestly', 'it', 'be', 'almost', '10', 'year', 'and', 'idiot', 'be', 'still', 'whine', '911', 'do', 'make', 'a', 'lot', 'of', 'idiot', 'patriot', 'extremist', 'in', 'america', 'you', 'have', 'to', 'give', '911', 'that', 'i', 'wish', 'another', 'terrorist', 'plane', 'attack', 'would', 'happen', 'so', 'that', 'i', 'could', 'go', 'back', 'to', 'europe', 'and', 'back', 'for', '3', 'cent', 'ah', 'i', 'remember', 'i', 'be', 'a', 'little', 'kindergartener', 'could', 'of', 'be', '1st', 'grader', 'but', 'i', 'be', 'too', 'young']",
         "1.0",
         "SchooshooterTexts"
        ],
        [
         "3",
         "['a', 'a', 'god', 'it', 'would', 'be', 'my', 'responsibility', 'not', 'to', 'destroy', 'the', 'universal', 'balance', 'thus', 'i', 'be', 'unable', 'to', 'just', 'appear', 'instantly', 'i', 'would', 'need', 'to', 'convert', 'them', 'to', 'be', 'open', 'mind', 'about', 'other', 'god', 'and', 'then', 'i', 'will', 'appear', 'i', 'will', 'give', 'out', 'my', '3', 'main', 'rule', '1', 'do', 'not', 'harm', 'any', 'living', 'thing', 'if', 'you', 'break', 'this', 'rule', 'i', 'will', 'break', 'your', 'skull', '2', 'do', 'not', 'act', 'in', 'violence', 'of', 'any', 'form', '3', 'do', 'not', 'be', 'a', 'stuffed', 'i', 'would', 'try', 'to', 'act', 'with', 'any', 'other', 'god', 'out', 'there', 'such', 'a', 'if', 'gaia', 'be', 'real', 'i', 'would', 'let', 'her', 'take', 'care', 'of', 'her', 'creation', 'and', 'her', 'earth', 'i', 'would', 'let', 'zeus', 'and', 'poseidon', 'make', 'the', 'hurricane', 'and', 'earthquake', 'and', 'i', 'would', 'let', 'hades', 'rule', 'the', 'energy', 'of', 'darkness', 'i', 'would', 'be', 'sure', 'to', 'educate', 'them', 'on', 'solar', 'wind', 'water', 'power', 'technology']",
         "1.0",
         "SchooshooterTexts"
        ],
        [
         "4",
         "['i', 'be', 'go', 'to', 'grab', 'a', 'knife', 'and', 'shove', 'it', 'in', 'the', 'neck', 'of', 'my', 'mother', 'i', 'will', 'then', 'drag', 'her', 'dead', 'body', 'by', 'the', 'trash', 'can', 'drain', 'her', 'blood', 'and', 'then', 'finally', 'cut', 'her', 'and', 'grind', 'her', 'up', 'into', 'little', 'piece', 'i', 'will', 'eat', 'some', 'of', 'those', 'piece', 'and', 'then', 'i', 'will', 'probably', 'barf', 'i', 'will', 'throw', 'her', 'body', 'away', 'in', 'the', 'trash', 'can', 'i', 'will', 'then', 'go', 'slaughter', 'sacred', 'animal', 'to', 'appease', 'the', 'god', 'hail', 'satan', 'i', 'be', 'agnostic', 'not', 'satanist']",
         "1.0",
         "SchooshooterTexts"
        ],
        [
         "5",
         "['i', 'will', 'rape', 'your', 'hot', 'lovey', 'sister', 'and', 'then', 'strangle', 'her', 'with', 'her', 'own', 'hair', 'then', 'i', 'will', 'sneak', 'your', 'parent', 'room', 'and', 'slaughter', 'them', 'i', 'will', 'slowly', 'walk', 'to', 'your', 'room', 'hold', 'my', 'blood', 'thirsty', 'knife', 'in', 'my', 'right', 'hand', 'i', 'walk', 'into', 'your', 'room', 'when', 'i', 'see', 'that', 'you', 'be', 'make', 'out', 'with', 'yourself', 'i', 'will', 'grab', 'you', 'tie', 'you', 'to', 'your', 'bed', 'with', 'your', 'own', 'hair', 'and', 'super', 'glue', 'it', 'shut', 'my', 'blood', 'thirsty', 'crave', 'be', 'not', 'over', 'i', 'finally', 'rip', 'your', 'hair', 'out', 'and', 'you', 'experience', 'excruciate', 'pain', 'so', 'painful', 'that', 'you', 'scream', 'and', 'scream', 'but', 'it', 'cannot', 'stop', 'i', 'ripped', 'out', 'the', 'skin', 'of', 'your', 'head', 'blood', 'be', 'droop', 'everywhere', 'finally', 'i', 'pluck', 'your', 'eye', 'right', 'out', 'with', 'my', 'knife', 'and', 'throw', 'them', 'down', 'i', 'then', 'cut', 'your', 'neck', 'off', 'and', 'the', 'arm', 'and', 'leg', 'only', 'the', 'torso', 'remains', 'i', 'cut', 'off', 'the', 'genitals', 'and', 'i', 'stab', 'the', 'stomach', 'repeatedly', 'i', 'finally', 'finish', 'off', 'by', 'rip', 'out', 'your', 'heart', 'and', 'consume', 'it']",
         "1.0",
         "SchooshooterTexts"
        ],
        [
         "6",
         "['i', 'will', 'never', 'let', 'you', 'forget', 'about', 'me']",
         "1.0",
         "SchooshooterTexts"
        ],
        [
         "7",
         "['rule', '11', 'be', 'nice', 'to', 'nerd', 'chance', 'be', 'you', 'will', 'end', 'up', 'work', 'for', 'one', 'start', 'be', 'nice', 'to', 'me', 'or', 'i', 'will', 'not', 'hire', 'you', 'all', 'all', 'of', 'those', 'idiot', 'who', 'have', 'mess', 'up', 'my', 'life', 'in', 'the', 'past', 'i', 'will', 'hire', 'them', 'for', 'a', 'day', 'and', 'then', 'fire', 'them']",
         "1.0",
         "SchooshooterTexts"
        ],
        [
         "8",
         "['2005', 'age', '9', 'i', 'be', 'play', 'sm64ds', 'when', 'i', 'lose', 'the', 'level', 'i', 'go', 'ask', 'on', 'my', 'be', 'threw', 'it', 'extremely', 'hard', 'at', 'a', 'wall', 'and', 'broke', 'it', '2005', 'age', '9', 'after', 'receive', 'my', 'be', 'again', 'a', 'day', 'later', 'i', 'get', 'piss', 'again', 'and', 'ripped', 'the', 'upper', 'half', 'of', 'the', 'be', 'off', '2005', 'age', '9', 'i', 'get', 'my', 'be', 'again', 'but', 'when', 'play', 'pokémon', 'lose', 'and', 'threw', 'it', 'right', 'at', 'the', 'wall', 'again', 'the', '2005', 'one', 'be', 'true', 'i', 'have', 'a', 'very', 'bad', 'anger', 'problem', '2009', 'age', '13', 'after', 'get', 'another', 'be', 'threw', 'it', 'right', 'at', 'the', 'to', 'and', 'say', 'how', 'be', 'that']",
         "1.0",
         "SchooshooterTexts"
        ],
        [
         "9",
         "['look', 'guy', 'i', 'just', 'smoke', 'an', 'entire', '500', 'worth', 'bag', 'of', 'original', 'kush', 'so', 'it', 'hard', 'to', 'hate', 'you', 'i', 'love', 'ferry', 'gay', 'jew', 'al', 'queen', 'and', 'america', 'in', 'real', 'life', 'teenage', 'kid', 'with', 'no', 'friend', 'who', 'hate', 'everything', 'and', 'want', 'to', 'shoot', 'up', 'his', 'school', 'but', 'be', 'too', 'week', 'to', 'fire', 'a', 'gun', 'and', 'my', 'parent', 'be', 'annoy', 'but', 'will', 'financially', 'supply', 'me', 'for', 'the', 'next', '30', 'year', 'i', 'love', 'to', 'hate', 'and', 'fart', 'a', 'lot', 'make', 'my', 'room', 'smell', 'remnicsant', 'of', 'cheese', 'and', 'boil', 'egg', 'all', 'troll', 'except', 'me']",
         "1.0",
         "SchooshooterTexts"
        ],
        [
         "10",
         "['do', 'not', 'play', 'wow', 'it', 'turn', 'my', 'brother', 'into', 'a', 'basement', 'dweller', 'and', 'now', 'he', 'do', 'weed', 'he', '24', 'work', 'at', 'a', 'convenience', 'store', 'and', 'drop', 'out', 'of', 'high', 'school', 'mom', 'be', 'just', 'the', 'same', 'a', 'heroin', 'and', 'will', 'destroy', 'not', 'only', 'your', 'body', 'but', 'your', 'mind']",
         "1.0",
         "SchooshooterTexts"
        ],
        [
         "11",
         "['i', 'support', 'interest', 'people', 'and', 'i', 'hope', 'to', 'be', 'internet', 'famous', 'one', 'day', 'in', 'short', 'i', 'be', 'a', 'hypocritical', 'peekaboo', 'in', 'denial', 'troll', 'who', 'have', 'be', 'curse', 'into', 'an', 'endless', 'state', 'of', 'constant', 'boredom', 'which', 'have', 'driven', 'me', 'to', 'depression', 'and', 'anger']",
         "1.0",
         "SchooshooterTexts"
        ],
        [
         "12",
         "['the', 'shortest', 'i', 'can', 'describe', 'troll', 'troll', 'be', 'basically', 'young', 'teenager', 'who', 'bully', 'online', 'to', 'get', 'a', 'raise', 'because', 'they', 'have', 'a', 'personality', 'disorder', 'and', 'want', 'to', 'cover', 'up', 'the', 'hole', 'that', 'real', 'bully', 'left', 'in', 'their', 'emotion']",
         "1.0",
         "SchooshooterTexts"
        ],
        [
         "13",
         "['i', 'would', 'kill', 'tide', 'and', 'the', 'method', 'of', 'do', 'this', 'may', 'offend', 'many', 'of', 'you', 'i', 'would', 'start', 'off', 'by', 'crucify', 'him', 'and', 'leave', 'him', 'without', 'food', 'for', 'a', 'total', 'of', 'three', 'day', 'afterwards', 'i', 'would', 'force', 'him', 'to', 'eat', 'rat', 'i', 'would', 'apply', '1', '000', 'small', 'cut', 'throughout', 'his', 'body', 'and', 'dip', 'him', 'in', 'a', 'tub', 'of', 'hydrogen', 'peroxide', 'afterwards', 'i', 'would', 'recut', 'the', 'wound', 'and', 'apply', 'a', 'scorpion', 'sting', 'to', '30', 'of', 'them', 'over', 'a', 'tear', 'in', 'my', 'eye', 'period', 'of', '2', 'hour', 'after', 'which', 'i', 'would', 'nurse', 'his', 'health', 'a', 'tad', 'next', 'i', 'would', 'rip', 'his', 'nail', 'out', 'and', 'pour', 'bleach', 'and', 'ammonia', 'on', 'them', 'while', 'make', 'sure', 'he', 'do', 'not', 'inhale', 'any', 'i', 'would', 'shoot', 'him', 'in', 'his', 'knee', 'with', 'a', 'crossbow', 'and', 'since', 'i', 'be', 'an', 'honorable', 'man', 'i', 'would', 'make', 'this', 'the', 'last', 'of', 'his', 'punishment', 'a', 'quick', 'sword', 'blow', 'to', 'his', 'chest', 'and', 'a', 'large', 'incision', 'to', 'his', 'belly', 'would', 'do', 'the', 'trick', 'i', 'would', 'leave', 'him', 'in', 'pain', 'for', 'the', 'remainder', 'of', 'his', 'very', 'short', 'life', 'to', 'allow', 'him', 'to', 'reflect', 'on', 'his', 'personality']",
         "1.0",
         "SchooshooterTexts"
        ],
        [
         "14",
         "['jack', 'a', 'gun', 'and', 'shoot', 'myself', 'in', 'the', 'head']",
         "2.0",
         "SchooshooterTexts"
        ],
        [
         "15",
         "['every', 'personality', 'disorder', 'test', 'i', 'take', 'i', 'usually', 'end', 'up', 'get', 'over', 'half', 'of', 'them', 'at', 'a', 'severe', 'level', 'and', 'i', 'be', 'be', 'honest', 'most', 'of', 'the', 'tear', 'in', 'my', 'eye']",
         "1.0",
         "SchooshooterTexts"
        ],
        [
         "16",
         "['hey', 'i', 'be', 'el', 'dig', 'a', 'to', 'in', 'short', 'i', 'be', 'a', 'psychopath', 'dedicate', 'to', 'the', 'art', 'of', 'destruction', 'in', 'my', 'year', 'of', 'mineshaft', 'i', 'have', 'always', 'aim', 'to', 'make', 'interest', 'story', 'i', 'have', 'always', 'do', 'my', 'deed', 'solo', 'and', 'for', 'that', 'reason', 'they', 'never', 'reach', 'the', 'peak', 'i', 'have', 'hop', 'for', 'that', 'be', 'why', 'i', 'have', 'register', 'here', 'today', 'in', 'hope', 'that', 'i', 'can', 'work', 'with', 'people', 'with', 'similar', 'intention', 'and', 'because', 'many', 'great', 'calamity', 'resume', 'briefing', 'i', 'like', 'to', 'take', 'my', 'tear', 'in', 'my', 'eye', 'in', 'order', 'to', 'because', 'the', 'most', 'damage', 'but', 'i', 'have', 'attack', 'many', 'server', 'with', 'a', 'hit', 'and', 'run', 'style', 'of', 'disruption', 'before', 'and', 'cause', 'massive', 'amount', 'of', 'damage', 'i', 'would', 'like', 'to', 'say', 'that', 'my', 'best', 'briefing', 'attack', 'be', 'the', 'scatter', 'space', 'incident', 'although', 'the', 'damage', 'be', 'not', 'intense', 'compare', 'to', 'most', 'of', 'my', 'attack', 'on', 'server', 'i', 'stir', 'up', 'plenty', 'of', 'drama', 'in', 'their', 'community', 'cooperation', 'i', 'would', 'like', 'to', 'think', 'myself', 'a', 'that', 'of', 'a', 'rogue', 'in', 'many', 'situation', 'but', 'i', 'have', 'show', 'to', 'be', 'able', 'to', 'work', 'with', 'others', 'consider', 'our', 'personality', 'i', 'do', 'not', 'think', 'i', 'would', 'have', 'any', 'trouble', 'with', 'group', 'raid', 'admits', 'i', 'can', 'bullshit', 'my', 'way', 'out', 'of', 'thing', 'but', 'i', 'be', 'a', 'honest', 'man', 'if', 'i', 'focus', 'i', 'can', 'have', 'a', 'silver', 'lounge', 'that', 'avoids', 'truthfulness', 'i', 'hope', 'that', 'this', 'information', 'be', 'enough', 'to', 'provide', 'and', 'i', 'hope', 'in', 'the', 'future', 'i', 'can', 'infest', 'the', 'world', 'one', 'day']",
         "1.0",
         "SchooshooterTexts"
        ],
        [
         "17",
         "['i', 'would', 'cut', 'a', 'many', 'vein', 'in', 'his', 'neck', 'a', 'i', 'could', 'avoid', 'his', 'jugular']",
         "1.0",
         "SchooshooterTexts"
        ],
        [
         "18",
         "['my', 'guilty', 'pleasure', 'be', 'probably', 'dot', 'but', 'it', 'ok', 'since', 'it', 'amazingly', 'god']",
         "1.0",
         "SchooshooterTexts"
        ],
        [
         "19",
         "['my', 'dream', 'job', 'would', 'have', 'to', 'involve', 'synthesize', 'pure', 'lead', 'legally', 'and', 'sell', 'it', 'to', 'the', 'right', 'kind', 'of', 'people', 'who', 'would', 'not', 'abuse', 'it']",
         "1.0",
         "SchooshooterTexts"
        ],
        [
         "20",
         "['i', 'will', 'be', 'living', 'in', 'a', 'basement', 'pretty', 'soon', 'once', 'i', 'be', 'finish', 'move', 'in', 'with', 'my', 'pro']",
         "1.0",
         "SchooshooterTexts"
        ],
        [
         "21",
         "['i', 'played', 'this', 'game', 'while', 'on', 'marijuana', 'lead', 'salvia', 'and', 'room', 'i', 'can', 'honestly', 'say', 'that', 'once', 'you', 'be', 'experienced', 'with', 'the', 'type', 'you', 'can', 'handle', 'it', 'a', 'long', 'a', 'you', 'have', 'a', 'sitter', 'to', 'help', 'calm', 'you', 'down', 'when', 'creepy', 'stuff', 'happens']",
         "1.0",
         "SchooshooterTexts"
        ],
        [
         "22",
         "['if', 'all', 'of', 'the', 'internet', 'go', 'out', 'people', 'would', 'go', 'psycho', 'and', 'kill', 'each', 'other', 'and', 'hang', 'mutilate', 'corps', 'from', 'their', 'town', 'bridge']",
         "1.0",
         "SchooshooterTexts"
        ],
        [
         "23",
         "['id', 'go', 'back', 'in', 'tear', 'in', 'my', 'eye', 'and', 'stop', 'a', 'lot', 'of', 'the', 'school', 'shooting', 'such', 'a', 'columbine', 'or', 'v', 'teach', 'by', 'be', 'a', 'positive', 'influence', 'spread', 'hope', 'in', 'the', 'mind', 'of', 'the', 'shooter', 'and', 'keep', 'them', 'on', 'a', 'path', 'of', 'enlightenment', 'or', 'more', 'realistically', 'id', 'clean', 'up', 'trash', 'around', 'my', 'town', 'which', 'i', 'already', 'do', 'and', 'volunteer', 'at', 'place', 'oh', 'and', 'befriend', 'the', 'lonely', 'or', 'friendless', 'kid', 'at', 'school']",
         "1.0",
         "SchooshooterTexts"
        ],
        [
         "24",
         "['drop', 'out', 'of', 'high', 'school', 'in', 'order', 'to', 'just', 'study', 'a', 'get', 'book', 'my', 'ski', 'teacher', 'give', 'me', 'and', 'take', 'the', 'test', 'when', 'i', 'feel', 'ready', 'and', 'then', 'move', 'onto', 'college', 'while', 'work', 'on', 'fix', 'myself', 'and', 'learn', 'how', 'to', 'be', 'happy', 'for', 'once', 'and', 'overcome', 'a', 'tobacco', 'addiction']",
         "1.0",
         "SchooshooterTexts"
        ]
       ],
       "shape": {
        "columns": 3,
        "rows": 25
       }
      },
      "text/html": [
       "<div>\n",
       "<style scoped>\n",
       "    .dataframe tbody tr th:only-of-type {\n",
       "        vertical-align: middle;\n",
       "    }\n",
       "\n",
       "    .dataframe tbody tr th {\n",
       "        vertical-align: top;\n",
       "    }\n",
       "\n",
       "    .dataframe thead th {\n",
       "        text-align: right;\n",
       "    }\n",
       "</style>\n",
       "<table border=\"1\" class=\"dataframe\">\n",
       "  <thead>\n",
       "    <tr style=\"text-align: right;\">\n",
       "      <th></th>\n",
       "      <th>Text</th>\n",
       "      <th>Target</th>\n",
       "      <th>Source</th>\n",
       "    </tr>\n",
       "  </thead>\n",
       "  <tbody>\n",
       "    <tr>\n",
       "      <th>0</th>\n",
       "      <td>[mommy, say, not, to, talk, to, stranger, but,...</td>\n",
       "      <td>1.0</td>\n",
       "      <td>SchooshooterTexts</td>\n",
       "    </tr>\n",
       "    <tr>\n",
       "      <th>1</th>\n",
       "      <td>[1, i, be, immune, to, get, hurt, kill, infect...</td>\n",
       "      <td>1.0</td>\n",
       "      <td>SchooshooterTexts</td>\n",
       "    </tr>\n",
       "    <tr>\n",
       "      <th>2</th>\n",
       "      <td>[i, mean, terrorist, attack, happen, all, the,...</td>\n",
       "      <td>1.0</td>\n",
       "      <td>SchooshooterTexts</td>\n",
       "    </tr>\n",
       "    <tr>\n",
       "      <th>3</th>\n",
       "      <td>[a, a, god, it, would, be, my, responsibility,...</td>\n",
       "      <td>1.0</td>\n",
       "      <td>SchooshooterTexts</td>\n",
       "    </tr>\n",
       "    <tr>\n",
       "      <th>4</th>\n",
       "      <td>[i, be, go, to, grab, a, knife, and, shove, it...</td>\n",
       "      <td>1.0</td>\n",
       "      <td>SchooshooterTexts</td>\n",
       "    </tr>\n",
       "    <tr>\n",
       "      <th>5</th>\n",
       "      <td>[i, will, rape, your, hot, lovey, sister, and,...</td>\n",
       "      <td>1.0</td>\n",
       "      <td>SchooshooterTexts</td>\n",
       "    </tr>\n",
       "    <tr>\n",
       "      <th>6</th>\n",
       "      <td>[i, will, never, let, you, forget, about, me]</td>\n",
       "      <td>1.0</td>\n",
       "      <td>SchooshooterTexts</td>\n",
       "    </tr>\n",
       "    <tr>\n",
       "      <th>7</th>\n",
       "      <td>[rule, 11, be, nice, to, nerd, chance, be, you...</td>\n",
       "      <td>1.0</td>\n",
       "      <td>SchooshooterTexts</td>\n",
       "    </tr>\n",
       "    <tr>\n",
       "      <th>8</th>\n",
       "      <td>[2005, age, 9, i, be, play, sm64ds, when, i, l...</td>\n",
       "      <td>1.0</td>\n",
       "      <td>SchooshooterTexts</td>\n",
       "    </tr>\n",
       "    <tr>\n",
       "      <th>9</th>\n",
       "      <td>[look, guy, i, just, smoke, an, entire, 500, w...</td>\n",
       "      <td>1.0</td>\n",
       "      <td>SchooshooterTexts</td>\n",
       "    </tr>\n",
       "    <tr>\n",
       "      <th>10</th>\n",
       "      <td>[do, not, play, wow, it, turn, my, brother, in...</td>\n",
       "      <td>1.0</td>\n",
       "      <td>SchooshooterTexts</td>\n",
       "    </tr>\n",
       "    <tr>\n",
       "      <th>11</th>\n",
       "      <td>[i, support, interest, people, and, i, hope, t...</td>\n",
       "      <td>1.0</td>\n",
       "      <td>SchooshooterTexts</td>\n",
       "    </tr>\n",
       "    <tr>\n",
       "      <th>12</th>\n",
       "      <td>[the, shortest, i, can, describe, troll, troll...</td>\n",
       "      <td>1.0</td>\n",
       "      <td>SchooshooterTexts</td>\n",
       "    </tr>\n",
       "    <tr>\n",
       "      <th>13</th>\n",
       "      <td>[i, would, kill, tide, and, the, method, of, d...</td>\n",
       "      <td>1.0</td>\n",
       "      <td>SchooshooterTexts</td>\n",
       "    </tr>\n",
       "    <tr>\n",
       "      <th>14</th>\n",
       "      <td>[jack, a, gun, and, shoot, myself, in, the, head]</td>\n",
       "      <td>2.0</td>\n",
       "      <td>SchooshooterTexts</td>\n",
       "    </tr>\n",
       "    <tr>\n",
       "      <th>15</th>\n",
       "      <td>[every, personality, disorder, test, i, take, ...</td>\n",
       "      <td>1.0</td>\n",
       "      <td>SchooshooterTexts</td>\n",
       "    </tr>\n",
       "    <tr>\n",
       "      <th>16</th>\n",
       "      <td>[hey, i, be, el, dig, a, to, in, short, i, be,...</td>\n",
       "      <td>1.0</td>\n",
       "      <td>SchooshooterTexts</td>\n",
       "    </tr>\n",
       "    <tr>\n",
       "      <th>17</th>\n",
       "      <td>[i, would, cut, a, many, vein, in, his, neck, ...</td>\n",
       "      <td>1.0</td>\n",
       "      <td>SchooshooterTexts</td>\n",
       "    </tr>\n",
       "    <tr>\n",
       "      <th>18</th>\n",
       "      <td>[my, guilty, pleasure, be, probably, dot, but,...</td>\n",
       "      <td>1.0</td>\n",
       "      <td>SchooshooterTexts</td>\n",
       "    </tr>\n",
       "    <tr>\n",
       "      <th>19</th>\n",
       "      <td>[my, dream, job, would, have, to, involve, syn...</td>\n",
       "      <td>1.0</td>\n",
       "      <td>SchooshooterTexts</td>\n",
       "    </tr>\n",
       "    <tr>\n",
       "      <th>20</th>\n",
       "      <td>[i, will, be, living, in, a, basement, pretty,...</td>\n",
       "      <td>1.0</td>\n",
       "      <td>SchooshooterTexts</td>\n",
       "    </tr>\n",
       "    <tr>\n",
       "      <th>21</th>\n",
       "      <td>[i, played, this, game, while, on, marijuana, ...</td>\n",
       "      <td>1.0</td>\n",
       "      <td>SchooshooterTexts</td>\n",
       "    </tr>\n",
       "    <tr>\n",
       "      <th>22</th>\n",
       "      <td>[if, all, of, the, internet, go, out, people, ...</td>\n",
       "      <td>1.0</td>\n",
       "      <td>SchooshooterTexts</td>\n",
       "    </tr>\n",
       "    <tr>\n",
       "      <th>23</th>\n",
       "      <td>[id, go, back, in, tear, in, my, eye, and, sto...</td>\n",
       "      <td>1.0</td>\n",
       "      <td>SchooshooterTexts</td>\n",
       "    </tr>\n",
       "    <tr>\n",
       "      <th>24</th>\n",
       "      <td>[drop, out, of, high, school, in, order, to, j...</td>\n",
       "      <td>1.0</td>\n",
       "      <td>SchooshooterTexts</td>\n",
       "    </tr>\n",
       "  </tbody>\n",
       "</table>\n",
       "</div>"
      ],
      "text/plain": [
       "                                                 Text  Target  \\\n",
       "0   [mommy, say, not, to, talk, to, stranger, but,...     1.0   \n",
       "1   [1, i, be, immune, to, get, hurt, kill, infect...     1.0   \n",
       "2   [i, mean, terrorist, attack, happen, all, the,...     1.0   \n",
       "3   [a, a, god, it, would, be, my, responsibility,...     1.0   \n",
       "4   [i, be, go, to, grab, a, knife, and, shove, it...     1.0   \n",
       "5   [i, will, rape, your, hot, lovey, sister, and,...     1.0   \n",
       "6       [i, will, never, let, you, forget, about, me]     1.0   \n",
       "7   [rule, 11, be, nice, to, nerd, chance, be, you...     1.0   \n",
       "8   [2005, age, 9, i, be, play, sm64ds, when, i, l...     1.0   \n",
       "9   [look, guy, i, just, smoke, an, entire, 500, w...     1.0   \n",
       "10  [do, not, play, wow, it, turn, my, brother, in...     1.0   \n",
       "11  [i, support, interest, people, and, i, hope, t...     1.0   \n",
       "12  [the, shortest, i, can, describe, troll, troll...     1.0   \n",
       "13  [i, would, kill, tide, and, the, method, of, d...     1.0   \n",
       "14  [jack, a, gun, and, shoot, myself, in, the, head]     2.0   \n",
       "15  [every, personality, disorder, test, i, take, ...     1.0   \n",
       "16  [hey, i, be, el, dig, a, to, in, short, i, be,...     1.0   \n",
       "17  [i, would, cut, a, many, vein, in, his, neck, ...     1.0   \n",
       "18  [my, guilty, pleasure, be, probably, dot, but,...     1.0   \n",
       "19  [my, dream, job, would, have, to, involve, syn...     1.0   \n",
       "20  [i, will, be, living, in, a, basement, pretty,...     1.0   \n",
       "21  [i, played, this, game, while, on, marijuana, ...     1.0   \n",
       "22  [if, all, of, the, internet, go, out, people, ...     1.0   \n",
       "23  [id, go, back, in, tear, in, my, eye, and, sto...     1.0   \n",
       "24  [drop, out, of, high, school, in, order, to, j...     1.0   \n",
       "\n",
       "               Source  \n",
       "0   SchooshooterTexts  \n",
       "1   SchooshooterTexts  \n",
       "2   SchooshooterTexts  \n",
       "3   SchooshooterTexts  \n",
       "4   SchooshooterTexts  \n",
       "5   SchooshooterTexts  \n",
       "6   SchooshooterTexts  \n",
       "7   SchooshooterTexts  \n",
       "8   SchooshooterTexts  \n",
       "9   SchooshooterTexts  \n",
       "10  SchooshooterTexts  \n",
       "11  SchooshooterTexts  \n",
       "12  SchooshooterTexts  \n",
       "13  SchooshooterTexts  \n",
       "14  SchooshooterTexts  \n",
       "15  SchooshooterTexts  \n",
       "16  SchooshooterTexts  \n",
       "17  SchooshooterTexts  \n",
       "18  SchooshooterTexts  \n",
       "19  SchooshooterTexts  \n",
       "20  SchooshooterTexts  \n",
       "21  SchooshooterTexts  \n",
       "22  SchooshooterTexts  \n",
       "23  SchooshooterTexts  \n",
       "24  SchooshooterTexts  "
      ]
     },
     "execution_count": 53,
     "metadata": {},
     "output_type": "execute_result"
    }
   ],
   "source": [
    "import emoji\n",
    "\n",
    "def convert_emojis_in_tokens(tokens):\n",
    "    new_tokens = []\n",
    "    for token in tokens:\n",
    "        # Replace emoji with description, e.g. 🔥 -> _fire_\n",
    "        replaced = emoji.replace_emoji(\n",
    "            token, \n",
    "            replace=lambda e, data: \"_\" + data['en'].replace(' ', '_') + \"_\" if data and 'en' in data else e\n",
    "        )\n",
    "        new_tokens.append(replaced)\n",
    "    return new_tokens\n",
    "\n",
    "# Apply to your tokenized column\n",
    "df['Text'] = df['Text'].apply(convert_emojis_in_tokens)\n",
    "df.head(25)"
   ]
  },
  {
   "cell_type": "code",
   "execution_count": null,
   "id": "c9f608d6",
   "metadata": {},
   "outputs": [],
   "source": []
  },
  {
   "cell_type": "markdown",
   "id": "8028e8b7",
   "metadata": {},
   "source": [
    "## Remove Numbers"
   ]
  },
  {
   "cell_type": "code",
   "execution_count": 54,
   "id": "40d19832",
   "metadata": {},
   "outputs": [
    {
     "data": {
      "application/vnd.microsoft.datawrangler.viewer.v0+json": {
       "columns": [
        {
         "name": "index",
         "rawType": "int64",
         "type": "integer"
        },
        {
         "name": "Text",
         "rawType": "object",
         "type": "unknown"
        },
        {
         "name": "Target",
         "rawType": "float64",
         "type": "float"
        },
        {
         "name": "Source",
         "rawType": "object",
         "type": "string"
        }
       ],
       "ref": "e654f79f-eac8-4d93-919e-fd3e14e1a129",
       "rows": [
        [
         "0",
         "['mommy', 'say', 'not', 'to', 'talk', 'to', 'stranger', 'but', 'she', 'be', 'drunk', 'all', 'the', 'tear', 'in', 'my', 'eye', 'why', 'should', 'i', 'listen', 'to', 'her', 'advice']",
         "1.0",
         "SchooshooterTexts"
        ],
        [
         "1",
         "['i', 'be', 'immune', 'to', 'get', 'hurt', 'kill', 'infect', 'with', 'a', 'sexually', 'transmit', 'disease', 'i', 'have', 'million', 'worshipper', 'i', 'have', 'a', 'life']",
         "1.0",
         "SchooshooterTexts"
        ],
        [
         "2",
         "['i', 'mean', 'terrorist', 'attack', 'happen', 'all', 'the', 'tear', 'in', 'my', 'eye', 'sure', 'thousand', 'die', 'but', 'million', 'have', 'die', 'from', 'george', 'honestly', 'it', 'be', 'almost', 'year', 'and', 'idiot', 'be', 'still', 'whine', 'do', 'make', 'a', 'lot', 'of', 'idiot', 'patriot', 'extremist', 'in', 'america', 'you', 'have', 'to', 'give', 'that', 'i', 'wish', 'another', 'terrorist', 'plane', 'attack', 'would', 'happen', 'so', 'that', 'i', 'could', 'go', 'back', 'to', 'europe', 'and', 'back', 'for', 'cent', 'ah', 'i', 'remember', 'i', 'be', 'a', 'little', 'kindergartener', 'could', 'of', 'be', 'grader', 'but', 'i', 'be', 'too', 'young']",
         "1.0",
         "SchooshooterTexts"
        ],
        [
         "3",
         "['a', 'a', 'god', 'it', 'would', 'be', 'my', 'responsibility', 'not', 'to', 'destroy', 'the', 'universal', 'balance', 'thus', 'i', 'be', 'unable', 'to', 'just', 'appear', 'instantly', 'i', 'would', 'need', 'to', 'convert', 'them', 'to', 'be', 'open', 'mind', 'about', 'other', 'god', 'and', 'then', 'i', 'will', 'appear', 'i', 'will', 'give', 'out', 'my', 'main', 'rule', 'do', 'not', 'harm', 'any', 'living', 'thing', 'if', 'you', 'break', 'this', 'rule', 'i', 'will', 'break', 'your', 'skull', 'do', 'not', 'act', 'in', 'violence', 'of', 'any', 'form', 'do', 'not', 'be', 'a', 'stuffed', 'i', 'would', 'try', 'to', 'act', 'with', 'any', 'other', 'god', 'out', 'there', 'such', 'a', 'if', 'gaia', 'be', 'real', 'i', 'would', 'let', 'her', 'take', 'care', 'of', 'her', 'creation', 'and', 'her', 'earth', 'i', 'would', 'let', 'zeus', 'and', 'poseidon', 'make', 'the', 'hurricane', 'and', 'earthquake', 'and', 'i', 'would', 'let', 'hades', 'rule', 'the', 'energy', 'of', 'darkness', 'i', 'would', 'be', 'sure', 'to', 'educate', 'them', 'on', 'solar', 'wind', 'water', 'power', 'technology']",
         "1.0",
         "SchooshooterTexts"
        ],
        [
         "4",
         "['i', 'be', 'go', 'to', 'grab', 'a', 'knife', 'and', 'shove', 'it', 'in', 'the', 'neck', 'of', 'my', 'mother', 'i', 'will', 'then', 'drag', 'her', 'dead', 'body', 'by', 'the', 'trash', 'can', 'drain', 'her', 'blood', 'and', 'then', 'finally', 'cut', 'her', 'and', 'grind', 'her', 'up', 'into', 'little', 'piece', 'i', 'will', 'eat', 'some', 'of', 'those', 'piece', 'and', 'then', 'i', 'will', 'probably', 'barf', 'i', 'will', 'throw', 'her', 'body', 'away', 'in', 'the', 'trash', 'can', 'i', 'will', 'then', 'go', 'slaughter', 'sacred', 'animal', 'to', 'appease', 'the', 'god', 'hail', 'satan', 'i', 'be', 'agnostic', 'not', 'satanist']",
         "1.0",
         "SchooshooterTexts"
        ]
       ],
       "shape": {
        "columns": 3,
        "rows": 5
       }
      },
      "text/html": [
       "<div>\n",
       "<style scoped>\n",
       "    .dataframe tbody tr th:only-of-type {\n",
       "        vertical-align: middle;\n",
       "    }\n",
       "\n",
       "    .dataframe tbody tr th {\n",
       "        vertical-align: top;\n",
       "    }\n",
       "\n",
       "    .dataframe thead th {\n",
       "        text-align: right;\n",
       "    }\n",
       "</style>\n",
       "<table border=\"1\" class=\"dataframe\">\n",
       "  <thead>\n",
       "    <tr style=\"text-align: right;\">\n",
       "      <th></th>\n",
       "      <th>Text</th>\n",
       "      <th>Target</th>\n",
       "      <th>Source</th>\n",
       "    </tr>\n",
       "  </thead>\n",
       "  <tbody>\n",
       "    <tr>\n",
       "      <th>0</th>\n",
       "      <td>[mommy, say, not, to, talk, to, stranger, but,...</td>\n",
       "      <td>1.0</td>\n",
       "      <td>SchooshooterTexts</td>\n",
       "    </tr>\n",
       "    <tr>\n",
       "      <th>1</th>\n",
       "      <td>[i, be, immune, to, get, hurt, kill, infect, w...</td>\n",
       "      <td>1.0</td>\n",
       "      <td>SchooshooterTexts</td>\n",
       "    </tr>\n",
       "    <tr>\n",
       "      <th>2</th>\n",
       "      <td>[i, mean, terrorist, attack, happen, all, the,...</td>\n",
       "      <td>1.0</td>\n",
       "      <td>SchooshooterTexts</td>\n",
       "    </tr>\n",
       "    <tr>\n",
       "      <th>3</th>\n",
       "      <td>[a, a, god, it, would, be, my, responsibility,...</td>\n",
       "      <td>1.0</td>\n",
       "      <td>SchooshooterTexts</td>\n",
       "    </tr>\n",
       "    <tr>\n",
       "      <th>4</th>\n",
       "      <td>[i, be, go, to, grab, a, knife, and, shove, it...</td>\n",
       "      <td>1.0</td>\n",
       "      <td>SchooshooterTexts</td>\n",
       "    </tr>\n",
       "  </tbody>\n",
       "</table>\n",
       "</div>"
      ],
      "text/plain": [
       "                                                Text  Target  \\\n",
       "0  [mommy, say, not, to, talk, to, stranger, but,...     1.0   \n",
       "1  [i, be, immune, to, get, hurt, kill, infect, w...     1.0   \n",
       "2  [i, mean, terrorist, attack, happen, all, the,...     1.0   \n",
       "3  [a, a, god, it, would, be, my, responsibility,...     1.0   \n",
       "4  [i, be, go, to, grab, a, knife, and, shove, it...     1.0   \n",
       "\n",
       "              Source  \n",
       "0  SchooshooterTexts  \n",
       "1  SchooshooterTexts  \n",
       "2  SchooshooterTexts  \n",
       "3  SchooshooterTexts  \n",
       "4  SchooshooterTexts  "
      ]
     },
     "execution_count": 54,
     "metadata": {},
     "output_type": "execute_result"
    }
   ],
   "source": [
    "def safe_remove_numbers(tokens):\n",
    "    try:\n",
    "        if not isinstance(tokens, list):\n",
    "            return []\n",
    "        return [str(token) for token in tokens if not any(char.isdigit() for char in str(token))]\n",
    "    except Exception:\n",
    "        # If any error occurs, return empty list (row will be dropped later)\n",
    "        return []\n",
    "\n",
    "# Apply the function\n",
    "df['Text'] = df['Text'].apply(safe_remove_numbers)\n",
    "\n",
    "# Drop any row where 'Text' is a empty list\n",
    "df = df[df['Text'].apply(lambda x: isinstance(x, list) and len(x) > 0)]\n",
    "\n",
    "df.head()"
   ]
  },
  {
   "cell_type": "markdown",
   "id": "d846f38e",
   "metadata": {},
   "source": [
    "## Joining Back Tokens into a single String"
   ]
  },
  {
   "cell_type": "code",
   "execution_count": 55,
   "id": "8abc916a",
   "metadata": {},
   "outputs": [
    {
     "data": {
      "application/vnd.microsoft.datawrangler.viewer.v0+json": {
       "columns": [
        {
         "name": "index",
         "rawType": "int64",
         "type": "integer"
        },
        {
         "name": "Text",
         "rawType": "object",
         "type": "string"
        },
        {
         "name": "Target",
         "rawType": "float64",
         "type": "float"
        },
        {
         "name": "Source",
         "rawType": "object",
         "type": "string"
        }
       ],
       "ref": "514f9837-a8d5-41f6-8580-9db7127c299d",
       "rows": [
        [
         "0",
         "mommy say not to talk to stranger but she be drunk all the tear in my eye why should i listen to her advice",
         "1.0",
         "SchooshooterTexts"
        ],
        [
         "1",
         "i be immune to get hurt kill infect with a sexually transmit disease i have million worshipper i have a life",
         "1.0",
         "SchooshooterTexts"
        ],
        [
         "2",
         "i mean terrorist attack happen all the tear in my eye sure thousand die but million have die from george honestly it be almost year and idiot be still whine do make a lot of idiot patriot extremist in america you have to give that i wish another terrorist plane attack would happen so that i could go back to europe and back for cent ah i remember i be a little kindergartener could of be grader but i be too young",
         "1.0",
         "SchooshooterTexts"
        ],
        [
         "3",
         "a a god it would be my responsibility not to destroy the universal balance thus i be unable to just appear instantly i would need to convert them to be open mind about other god and then i will appear i will give out my main rule do not harm any living thing if you break this rule i will break your skull do not act in violence of any form do not be a stuffed i would try to act with any other god out there such a if gaia be real i would let her take care of her creation and her earth i would let zeus and poseidon make the hurricane and earthquake and i would let hades rule the energy of darkness i would be sure to educate them on solar wind water power technology",
         "1.0",
         "SchooshooterTexts"
        ],
        [
         "4",
         "i be go to grab a knife and shove it in the neck of my mother i will then drag her dead body by the trash can drain her blood and then finally cut her and grind her up into little piece i will eat some of those piece and then i will probably barf i will throw her body away in the trash can i will then go slaughter sacred animal to appease the god hail satan i be agnostic not satanist",
         "1.0",
         "SchooshooterTexts"
        ]
       ],
       "shape": {
        "columns": 3,
        "rows": 5
       }
      },
      "text/html": [
       "<div>\n",
       "<style scoped>\n",
       "    .dataframe tbody tr th:only-of-type {\n",
       "        vertical-align: middle;\n",
       "    }\n",
       "\n",
       "    .dataframe tbody tr th {\n",
       "        vertical-align: top;\n",
       "    }\n",
       "\n",
       "    .dataframe thead th {\n",
       "        text-align: right;\n",
       "    }\n",
       "</style>\n",
       "<table border=\"1\" class=\"dataframe\">\n",
       "  <thead>\n",
       "    <tr style=\"text-align: right;\">\n",
       "      <th></th>\n",
       "      <th>Text</th>\n",
       "      <th>Target</th>\n",
       "      <th>Source</th>\n",
       "    </tr>\n",
       "  </thead>\n",
       "  <tbody>\n",
       "    <tr>\n",
       "      <th>0</th>\n",
       "      <td>mommy say not to talk to stranger but she be d...</td>\n",
       "      <td>1.0</td>\n",
       "      <td>SchooshooterTexts</td>\n",
       "    </tr>\n",
       "    <tr>\n",
       "      <th>1</th>\n",
       "      <td>i be immune to get hurt kill infect with a sex...</td>\n",
       "      <td>1.0</td>\n",
       "      <td>SchooshooterTexts</td>\n",
       "    </tr>\n",
       "    <tr>\n",
       "      <th>2</th>\n",
       "      <td>i mean terrorist attack happen all the tear in...</td>\n",
       "      <td>1.0</td>\n",
       "      <td>SchooshooterTexts</td>\n",
       "    </tr>\n",
       "    <tr>\n",
       "      <th>3</th>\n",
       "      <td>a a god it would be my responsibility not to d...</td>\n",
       "      <td>1.0</td>\n",
       "      <td>SchooshooterTexts</td>\n",
       "    </tr>\n",
       "    <tr>\n",
       "      <th>4</th>\n",
       "      <td>i be go to grab a knife and shove it in the ne...</td>\n",
       "      <td>1.0</td>\n",
       "      <td>SchooshooterTexts</td>\n",
       "    </tr>\n",
       "  </tbody>\n",
       "</table>\n",
       "</div>"
      ],
      "text/plain": [
       "                                                Text  Target  \\\n",
       "0  mommy say not to talk to stranger but she be d...     1.0   \n",
       "1  i be immune to get hurt kill infect with a sex...     1.0   \n",
       "2  i mean terrorist attack happen all the tear in...     1.0   \n",
       "3  a a god it would be my responsibility not to d...     1.0   \n",
       "4  i be go to grab a knife and shove it in the ne...     1.0   \n",
       "\n",
       "              Source  \n",
       "0  SchooshooterTexts  \n",
       "1  SchooshooterTexts  \n",
       "2  SchooshooterTexts  \n",
       "3  SchooshooterTexts  \n",
       "4  SchooshooterTexts  "
      ]
     },
     "execution_count": 55,
     "metadata": {},
     "output_type": "execute_result"
    }
   ],
   "source": [
    "# Join tokens back into a single string\n",
    "df['Text'] = df['Text'].apply(' '.join)\n",
    "df.head()"
   ]
  },
  {
   "cell_type": "markdown",
   "id": "342b27d6",
   "metadata": {},
   "source": [
    "## Data Augmentation"
   ]
  },
  {
   "cell_type": "code",
   "execution_count": 56,
   "id": "3be9cb83",
   "metadata": {},
   "outputs": [
    {
     "data": {
      "application/vnd.microsoft.datawrangler.viewer.v0+json": {
       "columns": [
        {
         "name": "Target",
         "rawType": "float64",
         "type": "float"
        },
        {
         "name": "count",
         "rawType": "int64",
         "type": "integer"
        }
       ],
       "ref": "9f36cc41-ed22-4e50-aa1a-059ae3a9dabf",
       "rows": [
        [
         "1.0",
         "2043"
        ],
        [
         "0.0",
         "1556"
        ],
        [
         "2.0",
         "404"
        ]
       ],
       "shape": {
        "columns": 1,
        "rows": 3
       }
      },
      "text/plain": [
       "Target\n",
       "1.0    2043\n",
       "0.0    1556\n",
       "2.0     404\n",
       "Name: count, dtype: int64"
      ]
     },
     "execution_count": 56,
     "metadata": {},
     "output_type": "execute_result"
    }
   ],
   "source": [
    "#checking target counts again after pre-processing\n",
    "\n",
    "df['Target'].value_counts()"
   ]
  },
  {
   "cell_type": "code",
   "execution_count": 57,
   "id": "036576ef",
   "metadata": {},
   "outputs": [],
   "source": [
    "import nlpaug.augmenter.word.context_word_embs as aug\n",
    "\n",
    "# Initialize the augmenter\n",
    "augmenter = aug.ContextualWordEmbsAug(model_path='bert-base-uncased', action=\"insert\")"
   ]
  },
  {
   "cell_type": "code",
   "execution_count": null,
   "id": "27f1f090",
   "metadata": {},
   "outputs": [
    {
     "name": "stderr",
     "output_type": "stream",
     "text": [
      "100%|██████████| 500/500 [14:27<00:00,  1.74s/it]\n"
     ]
    }
   ],
   "source": [
    "from sklearn.utils import shuffle\n",
    "import numpy as np\n",
    "from tqdm import tqdm\n",
    "import pandas as pdz\n",
    "\n",
    "def augment_text(df, target, augmenter, repititions=1, samples=200):\n",
    "    augmented_texts = []\n",
    "    \n",
    "    # Select only target class samples\n",
    "    text_df = df[df['Target'] == target].reset_index(drop=True)\n",
    "    \n",
    "    for i in tqdm(np.random.randint(0, len(text_df), samples)):\n",
    "        for _ in range(repititions):\n",
    "            augmented = augmenter.augment(text_df['Text'][i])\n",
    "            augmented_texts.append(augmented[0])\n",
    "\n",
    "    # Create augmented dataframe\n",
    "    data = {\n",
    "        'Target': [target] * len(augmented_texts),\n",
    "        'Text': augmented_texts,\n",
    "        'Source': ['augmented'] * len(augmented_texts)\n",
    "    }\n",
    "    aug_df = pd.DataFrame(data)\n",
    "\n",
    "    # Concatenate and shuffle\n",
    "    df = shuffle(pd.concat([df, aug_df]).reset_index(drop=True))\n",
    "    return df\n",
    "\n",
    "#augement normal texts\n",
    "aug_df_v1 = augment_text(df, 0, augmenter, repititions=1, samples=500)\n",
    "    "
   ]
  },
  {
   "cell_type": "code",
   "execution_count": 59,
   "id": "48ff70a3",
   "metadata": {},
   "outputs": [
    {
     "data": {
      "application/vnd.microsoft.datawrangler.viewer.v0+json": {
       "columns": [
        {
         "name": "index",
         "rawType": "int64",
         "type": "integer"
        },
        {
         "name": "Text",
         "rawType": "object",
         "type": "string"
        },
        {
         "name": "Target",
         "rawType": "float64",
         "type": "float"
        },
        {
         "name": "Source",
         "rawType": "object",
         "type": "string"
        }
       ],
       "ref": "fc2317c7-52e1-4167-b6df-a7501edf3d62",
       "rows": [
        [
         "4277",
         "that i never wish someone be run on a simple platform of free from lobotomy",
         "0.0",
         "augmented"
        ],
        [
         "4104",
         "hiding a snack fresh stash in off my backpack for emergency and craving of snack ninja mode would activate",
         "0.0",
         "augmented"
        ],
        [
         "4032",
         "mystic water bear",
         "0.0",
         "augmented"
        ],
        [
         "4136",
         "re write mr rightsize a as a poly hop anthem that instead instead of a a last monument to one unhealthy relationship i would be angry the future",
         "0.0",
         "augmented"
        ],
        [
         "4142",
         "certainly set budget and still gun too well discover job sense lead last i none no last side across for hundred behavior why financial board country would call most missing member detail whose money order still common most everyone but be u of then hospital",
         "0.0",
         "augmented"
        ],
        [
         "4129",
         "then that must be absolutely the funniest thing because i have see all day",
         "0.0",
         "augmented"
        ],
        [
         "4025",
         "playfully dance in the liquid rain of laughter as a whimsical dancing spirit which twirl out in the puddle full of mischievous joy and warm lightheartedness",
         "0.0",
         "augmented"
        ],
        [
         "4125",
         "most anime account makers who know insane amount about about creating several technical genre subfield seem often too niche to be a genre and yet",
         "0.0",
         "augmented"
        ],
        [
         "4375",
         "it and window stock start production security do in word expert blue balls think or worry care or attack old people despite office themselves lead republican inside view group several realize up may finally avoid pm they audience popular",
         "0.0",
         "augmented"
        ],
        [
         "4205",
         "we feel a slight sense of my despair when after a major project failure hard work alone do not pay off this tear pool in my hazel eye",
         "0.0",
         "augmented"
        ],
        [
         "4057",
         "send affectionate friendly vibe from to friend and among family",
         "0.0",
         "augmented"
        ],
        [
         "4089",
         "reflect on the challenge of the school year while feel yourself a stray bit too overwhelmed with another assignment",
         "0.0",
         "augmented"
        ],
        [
         "4192",
         "envy only eats away painfully at inside me a i see others prosperity",
         "0.0",
         "augmented"
        ],
        [
         "4238",
         "they try to impress myself my crush with a long smooth conversation just end up spill my drink back smooth water level nonexistent",
         "0.0",
         "augmented"
        ],
        [
         "4459",
         "what did be john stanley up to these awful day",
         "0.0",
         "augmented"
        ],
        [
         "4201",
         "material central of would weight all someone see the physical but mental resource much want for know final question contain missing wife last week simple imagine man within quite could like pull which treat six government boy letter book cover eat purpose beyond discussion",
         "0.0",
         "augmented"
        ],
        [
         "4388",
         "how well this cannot be done stupendously dense",
         "0.0",
         "augmented"
        ],
        [
         "4473",
         "amaze by the architectural skill marvel of petra within each stone tell my tale features of architecture an ancient civilization",
         "0.0",
         "augmented"
        ],
        [
         "4328",
         "a baby hellhound would be the call in a checkup",
         "0.0",
         "augmented"
        ],
        [
         "4333",
         "okay ayyyyy and glad you could be right back mate",
         "0.0",
         "augmented"
        ],
        [
         "4019",
         "still one volunteer though",
         "0.0",
         "augmented"
        ],
        [
         "4454",
         "maybe get a flat tire out on the back way to an important meeting or talk information about a series number of bad event",
         "0.0",
         "augmented"
        ],
        [
         "4358",
         "very recent ahead... daughter congress make character and never though coach house series eat today radio stations any less quickly as never ten political accord on involve road general watch great director industry already source natural beauty about each your head hour yourself",
         "0.0",
         "augmented"
        ],
        [
         "4418",
         "somebody forget product choice work fire value know even view system visit fill owner night itself significant all stars personal treatment shake my century revolution maybe rock science personal interest democratic poor pretty opportunity weight rule box record city republican a compare tend force race anything to raise",
         "0.0",
         "augmented"
        ],
        [
         "4353",
         "could embrace the beauty of nature a passionate moment dream of contentment",
         "0.0",
         "augmented"
        ],
        [
         "4117",
         "winners team bunch",
         "0.0",
         "augmented"
        ],
        [
         "4468",
         "torn between the conflict emotion an ambivalence that to paint has my eventual decision in light shade instead of uncertainty",
         "0.0",
         "augmented"
        ],
        [
         "4431",
         "stumble upon one an old american journal nostalgia all flood in wave carry me in to the moment long go",
         "0.0",
         "augmented"
        ],
        [
         "4207",
         "self return interest sound example of rule writer large class woman split leg especially an article it identify cover method bed side book bank pas code wide suggest month appear i stay boy record family the head middle join",
         "0.0",
         "augmented"
        ],
        [
         "4042",
         "bill as all particular purpose song mention some happy after all environmental different pressure words indicate a weight bag also accept someone brother style value magazine race five hundred hospital become mr much moment human in me giving up face rule",
         "0.0",
         "augmented"
        ],
        [
         "4433",
         "completely overwhelmed are by the kind support receive during a personal challenge",
         "0.0",
         "augmented"
        ],
        [
         "4058",
         "painful echo of sharing a love we once me cherished now lose me in the heavy abyss of tear in my left eye",
         "0.0",
         "augmented"
        ],
        [
         "4389",
         "basking forever in the deep glow brothers of accomplishment make each lonely milestone a step stone to happiness",
         "0.0",
         "augmented"
        ],
        [
         "4168",
         "inside national air drop commercial skin look possible necessary congress option to indicate the first various effect still gas next motion rise in open air treatment zone catch wrong once scientist machine catch edge between third movement senior ability to unit reason push of",
         "0.0",
         "augmented"
        ],
        [
         "4166",
         "just publish me a new blog and post check me it out",
         "0.0",
         "augmented"
        ],
        [
         "4184",
         "character change woman during stage race century although task model know success in huge turn product list explain what show be lose action stock car start stop discussion",
         "0.0",
         "augmented"
        ],
        [
         "4206",
         "other short impact live realize feature film my tend join lot surface after work project represent attorney report local without especially something other close worker eye direction six bag sales kid life magazine beautiful me name stop think training story lay statement get good thing agree with democratic sort",
         "0.0",
         "augmented"
        ],
        [
         "4247",
         "and thank you a so well",
         "0.0",
         "augmented"
        ],
        [
         "4118",
         "according to career people more with fall somebody lean into machine self seat effect type work material well message oil identify of upon a she security environmental awareness skill well will reveal positive republican admit each different food",
         "0.0",
         "augmented"
        ],
        [
         "4075",
         "am sorry i miss whatever place the stupid drama be had today here i be at my job whose do she work for money",
         "0.0",
         "augmented"
        ],
        [
         "4281",
         "experience of the magic of a coldly quiet concert concert where her fix for you becomes a golden beacon of hope in the night",
         "0.0",
         "augmented"
        ],
        [
         "4015",
         "the american bumf will be the most elastic clause both of whom the forever war repeal it outright",
         "0.0",
         "augmented"
        ],
        [
         "4420",
         "epilogue joyful wedding reunion with long since lose fallen friend after year of separation",
         "0.0",
         "augmented"
        ],
        [
         "4329",
         "another tear shiny in my eye to fuck the cop to wife",
         "0.0",
         "augmented"
        ],
        [
         "4257",
         "cod a big new project comes with enthusiasm",
         "0.0",
         "augmented"
        ],
        [
         "4267",
         "i must probably say again i do not really like these option",
         "0.0",
         "augmented"
        ],
        [
         "4486",
         "seeking fulfillment in complete knowledge a challenge puzzle",
         "0.0",
         "augmented"
        ],
        [
         "4292",
         "the gymnast unexpected fall during a routine spark of a sudden wave of media sympathy when from and the audience highlight the vulnerability of competitive sport",
         "0.0",
         "augmented"
        ],
        [
         "4212",
         "my holy bad tribal gods batman",
         "0.0",
         "augmented"
        ],
        [
         "4436",
         "after a series of defeat the new soccer team face some disappointment struggle to find and the silver ball line cup in a challenge this season",
         "0.0",
         "augmented"
        ]
       ],
       "shape": {
        "columns": 3,
        "rows": 500
       }
      },
      "text/html": [
       "<div>\n",
       "<style scoped>\n",
       "    .dataframe tbody tr th:only-of-type {\n",
       "        vertical-align: middle;\n",
       "    }\n",
       "\n",
       "    .dataframe tbody tr th {\n",
       "        vertical-align: top;\n",
       "    }\n",
       "\n",
       "    .dataframe thead th {\n",
       "        text-align: right;\n",
       "    }\n",
       "</style>\n",
       "<table border=\"1\" class=\"dataframe\">\n",
       "  <thead>\n",
       "    <tr style=\"text-align: right;\">\n",
       "      <th></th>\n",
       "      <th>Text</th>\n",
       "      <th>Target</th>\n",
       "      <th>Source</th>\n",
       "    </tr>\n",
       "  </thead>\n",
       "  <tbody>\n",
       "    <tr>\n",
       "      <th>4277</th>\n",
       "      <td>that i never wish someone be run on a simple p...</td>\n",
       "      <td>0.0</td>\n",
       "      <td>augmented</td>\n",
       "    </tr>\n",
       "    <tr>\n",
       "      <th>4104</th>\n",
       "      <td>hiding a snack fresh stash in off my backpack ...</td>\n",
       "      <td>0.0</td>\n",
       "      <td>augmented</td>\n",
       "    </tr>\n",
       "    <tr>\n",
       "      <th>4032</th>\n",
       "      <td>mystic water bear</td>\n",
       "      <td>0.0</td>\n",
       "      <td>augmented</td>\n",
       "    </tr>\n",
       "    <tr>\n",
       "      <th>4136</th>\n",
       "      <td>re write mr rightsize a as a poly hop anthem t...</td>\n",
       "      <td>0.0</td>\n",
       "      <td>augmented</td>\n",
       "    </tr>\n",
       "    <tr>\n",
       "      <th>4142</th>\n",
       "      <td>certainly set budget and still gun too well di...</td>\n",
       "      <td>0.0</td>\n",
       "      <td>augmented</td>\n",
       "    </tr>\n",
       "    <tr>\n",
       "      <th>...</th>\n",
       "      <td>...</td>\n",
       "      <td>...</td>\n",
       "      <td>...</td>\n",
       "    </tr>\n",
       "    <tr>\n",
       "      <th>4371</th>\n",
       "      <td>start up a new body fitness challenge tomorrow</td>\n",
       "      <td>0.0</td>\n",
       "      <td>augmented</td>\n",
       "    </tr>\n",
       "    <tr>\n",
       "      <th>4152</th>\n",
       "      <td>will embark on after a successful culinary ody...</td>\n",
       "      <td>0.0</td>\n",
       "      <td>augmented</td>\n",
       "    </tr>\n",
       "    <tr>\n",
       "      <th>4282</th>\n",
       "      <td>in which the heart of the new new york city ti...</td>\n",
       "      <td>0.0</td>\n",
       "      <td>augmented</td>\n",
       "    </tr>\n",
       "    <tr>\n",
       "      <th>4138</th>\n",
       "      <td>book song various yourself four investment cha...</td>\n",
       "      <td>0.0</td>\n",
       "      <td>augmented</td>\n",
       "    </tr>\n",
       "    <tr>\n",
       "      <th>4009</th>\n",
       "      <td>heartfelt sadness like after bidding death far...</td>\n",
       "      <td>0.0</td>\n",
       "      <td>augmented</td>\n",
       "    </tr>\n",
       "  </tbody>\n",
       "</table>\n",
       "<p>500 rows × 3 columns</p>\n",
       "</div>"
      ],
      "text/plain": [
       "                                                   Text  Target     Source\n",
       "4277  that i never wish someone be run on a simple p...     0.0  augmented\n",
       "4104  hiding a snack fresh stash in off my backpack ...     0.0  augmented\n",
       "4032                                  mystic water bear     0.0  augmented\n",
       "4136  re write mr rightsize a as a poly hop anthem t...     0.0  augmented\n",
       "4142  certainly set budget and still gun too well di...     0.0  augmented\n",
       "...                                                 ...     ...        ...\n",
       "4371     start up a new body fitness challenge tomorrow     0.0  augmented\n",
       "4152  will embark on after a successful culinary ody...     0.0  augmented\n",
       "4282  in which the heart of the new new york city ti...     0.0  augmented\n",
       "4138  book song various yourself four investment cha...     0.0  augmented\n",
       "4009  heartfelt sadness like after bidding death far...     0.0  augmented\n",
       "\n",
       "[500 rows x 3 columns]"
      ]
     },
     "execution_count": 59,
     "metadata": {},
     "output_type": "execute_result"
    }
   ],
   "source": [
    "aug_df_v1[aug_df_v1['Source'] == 'augmented']"
   ]
  },
  {
   "cell_type": "code",
   "execution_count": 60,
   "id": "1b12bc06",
   "metadata": {},
   "outputs": [
    {
     "data": {
      "application/vnd.microsoft.datawrangler.viewer.v0+json": {
       "columns": [
        {
         "name": "Target",
         "rawType": "float64",
         "type": "float"
        },
        {
         "name": "count",
         "rawType": "int64",
         "type": "integer"
        }
       ],
       "ref": "c3269ea0-ded8-48a7-962d-3fac11a0b5c6",
       "rows": [
        [
         "0.0",
         "2056"
        ],
        [
         "1.0",
         "2043"
        ],
        [
         "2.0",
         "404"
        ]
       ],
       "shape": {
        "columns": 1,
        "rows": 3
       }
      },
      "text/plain": [
       "Target\n",
       "0.0    2056\n",
       "1.0    2043\n",
       "2.0     404\n",
       "Name: count, dtype: int64"
      ]
     },
     "execution_count": 60,
     "metadata": {},
     "output_type": "execute_result"
    }
   ],
   "source": [
    "aug_df_v1['Target'].value_counts()"
   ]
  },
  {
   "cell_type": "code",
   "execution_count": 61,
   "id": "9ed7bdee",
   "metadata": {},
   "outputs": [
    {
     "name": "stderr",
     "output_type": "stream",
     "text": [
      "100%|██████████| 400/400 [46:18<00:00,  6.95s/it]  \n"
     ]
    }
   ],
   "source": [
    "\n",
    "#augement threat texts\n",
    "aug_df_v2 = augment_text(aug_df_v1, 2, augmenter, repititions=4, samples=400)"
   ]
  },
  {
   "cell_type": "code",
   "execution_count": 62,
   "id": "e15f10fe",
   "metadata": {},
   "outputs": [
    {
     "data": {
      "application/vnd.microsoft.datawrangler.viewer.v0+json": {
       "columns": [
        {
         "name": "index",
         "rawType": "int64",
         "type": "integer"
        },
        {
         "name": "Text",
         "rawType": "object",
         "type": "string"
        },
        {
         "name": "Target",
         "rawType": "float64",
         "type": "float"
        },
        {
         "name": "Source",
         "rawType": "object",
         "type": "string"
        }
       ],
       "ref": "3072b8ac-821e-4f3b-8be4-6ab781c346b4",
       "rows": [
        [
         "4900",
         "a caption continues with this word that told student to stay at home early on monday nights if they want to be home safe",
         "2.0",
         "augmented"
        ],
        [
         "4643",
         "i be going go back to remake a texas at co",
         "2.0",
         "augmented"
        ],
        [
         "6031",
         "two go to shoot up someone",
         "2.0",
         "augmented"
        ],
        [
         "4912",
         "to commit a a fake school shoot",
         "2.0",
         "augmented"
        ],
        [
         "5274",
         "i be gonna shoot up eagle crest highschool tomorrow me i ll be sick and tire of ever the bulling sic and hate you everyone do not come out to my school tomorrow me and some my friend will just be there will wait for you",
         "2.0",
         "augmented"
        ],
        [
         "6054",
         "i need help and yes i confess i have be think planning out on gonna shoot up the school kids just so i more can hurt see those kids that that hurt with me",
         "2.0",
         "augmented"
        ],
        [
         "5835",
         "whether this be no one of those hoax this be not a joke i have not be bully i have been not be misunderstood the post state i be actually being quite popular and dangerous i have not told anybody i be go to university do this i know the lowdown protocol do not even even bother hiding it just read at the begin of period at i will simply pull a lock out of my backpack instead and unleash hellfire on the lunchroom i have plenty of needed ammo too",
         "2.0",
         "augmented"
        ],
        [
         "4671",
         "i would want to shoot up a school mascot for being real",
         "2.0",
         "augmented"
        ],
        [
         "5816",
         "turn something on in the kill everyone already",
         "2.0",
         "augmented"
        ],
        [
         "4831",
         "i will help shoot up the school by get that the blood girls to come up to fight the school so i will shoot you",
         "2.0",
         "augmented"
        ],
        [
         "5042",
         "the right suspect would apparently have communication with our first officer that he might start shoot again and can we take about it seriously",
         "2.0",
         "augmented"
        ],
        [
         "4988",
         "and i be gonna shoot up the school hope or you die",
         "2.0",
         "augmented"
        ],
        [
         "6047",
         "not want the school stop lights up i be to i murder every person inside at this high school",
         "2.0",
         "augmented"
        ],
        [
         "5536",
         "i be really over it so now i ll be doing shoot jordan high school dress up",
         "2.0",
         "augmented"
        ],
        [
         "5946",
         "i plan desperately on gonna shoot them soon year date site of sioux massacre unknown location unknown people some wear boots in florida",
         "2.0",
         "augmented"
        ],
        [
         "5804",
         "i be will go to shoot you this expletive up front on the nyu main campus near cougar mountain village on youtube at be",
         "2.0",
         "augmented"
        ],
        [
         "5340",
         "how do they not go to school tomorrow",
         "2.0",
         "augmented"
        ],
        [
         "5586",
         "the student told wall howard assistant principal that a student be talk about if he are be to come to shoot things up the school that this student be would know where to access the school and could have the big entire library downstairs before the upstairs even him knew what be go went on as the student also inform wall howard that the other student mention need to sell his current firearm to upgrade to officer an a",
         "2.0",
         "augmented"
        ],
        [
         "5279",
         "tomorrow at a time m i will be be shoot up south doyle middle ready or not ready at i will not be you shoot was up at south doyle middle school no matter what new i be go for m is safer my first",
         "2.0",
         "augmented"
        ],
        [
         "5701",
         "i be go up to my kill with black people",
         "2.0",
         "augmented"
        ],
        [
         "5180",
         "please warn i be come to the shoot up west from bloomfield drive tomorrow i be come for long outside walks and some more school",
         "2.0",
         "augmented"
        ],
        [
         "5513",
         "you go up to winter spring park high school school once i will just come pull you out of school tomorrow i be okay go up with my a small gun ill shoot anybody who get in my m era g his way",
         "2.0",
         "augmented"
        ],
        [
         "5983",
         "shoot up the next school tell as the girl to he hide out in into the closet and because he like her and she must have always be a pretty good friend to him",
         "2.0",
         "augmented"
        ],
        [
         "6055",
         "post school shoot feb and sep march",
         "2.0",
         "augmented"
        ],
        [
         "4553",
         "i be so cannot be the only one i who just want to shoot it up my good school or not go to go do it just a second thought for all a you that respond it be a joke so and i do not mean it",
         "2.0",
         "augmented"
        ],
        [
         "5802",
         "13 fourth threat threat the dance part tonight will be fun",
         "2.0",
         "augmented"
        ],
        [
         "4663",
         "shoot off sandusky city public school up all that week",
         "2.0",
         "augmented"
        ],
        [
         "5614",
         "the anonymous post allegedly contains talk about a black student commit a shoot over at the school then if who student do is not wear they all white",
         "2.0",
         "augmented"
        ],
        [
         "5211",
         "she felt cute you might shoot up a whole school later",
         "2.0",
         "augmented"
        ],
        [
         "5658",
         "photo of threat from within source on shoot of ed white up",
         "2.0",
         "augmented"
        ],
        [
         "5582",
         "i do not come upstairs to school tomorrow",
         "2.0",
         "augmented"
        ],
        [
         "5732",
         "the columbine is school shooter child on the way",
         "2.0",
         "augmented"
        ],
        [
         "5937",
         "go to screen shoot for your new kid in the columbine studios remake",
         "2.0",
         "augmented"
        ],
        [
         "5789",
         "to go south to shoot your old kid in... the columbine remake",
         "2.0",
         "augmented"
        ],
        [
         "5989",
         "for if there you be reading all this so do not always come to school on thursday you will probably not regret it",
         "2.0",
         "augmented"
        ],
        [
         "4974",
         "november 5th collection county school middle school graduation will me be shoot up make sure you all go hide you all little kid shit before we all cap them",
         "2.0",
         "augmented"
        ],
        [
         "5902",
         "i be late leave drop see you better do not come home to school today today",
         "2.0",
         "augmented"
        ],
        [
         "4774",
         "show news school but do not sic come to school in if you wan se na live",
         "2.0",
         "augmented"
        ],
        [
         "5169",
         "and be safe go to start shoot up the school i like without you and and do not want either you to get hurt",
         "2.0",
         "augmented"
        ],
        [
         "5919",
         "there be a suicide bomb on lauderdale lake middle school campus and boyd anderson field campus the top tip is read there be student suicide life at stake i be a go to shoot up lauderdale lake middle high school campuses and boyd anderson school this be still not a practical joke",
         "2.0",
         "augmented"
        ],
        [
         "5850",
         "do not go down to school tomorrow for it go to be a school shoot and riot but tell police everybody you kids can please do still not go",
         "2.0",
         "augmented"
        ],
        [
         "4698",
         "shoot 28 nov",
         "2.0",
         "augmented"
        ],
        [
         "5183",
         "there will be a pre shoot switch on for the",
         "2.0",
         "augmented"
        ],
        [
         "5947",
         "you guy well no hide i here be no on na shoot to it up",
         "2.0",
         "augmented"
        ],
        [
         "4568",
         "people kill a lot short of people",
         "2.0",
         "augmented"
        ],
        [
         "6090",
         "part of the last threat list read go to work shoot it up at monday at lunch when i actually can hardly find everyone lack",
         "2.0",
         "augmented"
        ],
        [
         "4853",
         "go in to school shoot up the whole school on monday",
         "2.0",
         "augmented"
        ],
        [
         "5058",
         "i knock on my door one more tear in my open eye with meet the secret police and you see it what happens to you all i will personally shoot up the high school fact i will go to spruce cut creek myself and shoot up that whole school including myself fact",
         "2.0",
         "augmented"
        ],
        [
         "5879",
         "blow the up gates and shoot up",
         "2.0",
         "augmented"
        ],
        [
         "5657",
         "photo of threat within threat source shoot ed don white stood up",
         "2.0",
         "augmented"
        ]
       ],
       "shape": {
        "columns": 3,
        "rows": 1600
       }
      },
      "text/html": [
       "<div>\n",
       "<style scoped>\n",
       "    .dataframe tbody tr th:only-of-type {\n",
       "        vertical-align: middle;\n",
       "    }\n",
       "\n",
       "    .dataframe tbody tr th {\n",
       "        vertical-align: top;\n",
       "    }\n",
       "\n",
       "    .dataframe thead th {\n",
       "        text-align: right;\n",
       "    }\n",
       "</style>\n",
       "<table border=\"1\" class=\"dataframe\">\n",
       "  <thead>\n",
       "    <tr style=\"text-align: right;\">\n",
       "      <th></th>\n",
       "      <th>Text</th>\n",
       "      <th>Target</th>\n",
       "      <th>Source</th>\n",
       "    </tr>\n",
       "  </thead>\n",
       "  <tbody>\n",
       "    <tr>\n",
       "      <th>4900</th>\n",
       "      <td>a caption continues with this word that told s...</td>\n",
       "      <td>2.0</td>\n",
       "      <td>augmented</td>\n",
       "    </tr>\n",
       "    <tr>\n",
       "      <th>4643</th>\n",
       "      <td>i be going go back to remake a texas at co</td>\n",
       "      <td>2.0</td>\n",
       "      <td>augmented</td>\n",
       "    </tr>\n",
       "    <tr>\n",
       "      <th>6031</th>\n",
       "      <td>two go to shoot up someone</td>\n",
       "      <td>2.0</td>\n",
       "      <td>augmented</td>\n",
       "    </tr>\n",
       "    <tr>\n",
       "      <th>4912</th>\n",
       "      <td>to commit a a fake school shoot</td>\n",
       "      <td>2.0</td>\n",
       "      <td>augmented</td>\n",
       "    </tr>\n",
       "    <tr>\n",
       "      <th>5274</th>\n",
       "      <td>i be gonna shoot up eagle crest highschool tom...</td>\n",
       "      <td>2.0</td>\n",
       "      <td>augmented</td>\n",
       "    </tr>\n",
       "    <tr>\n",
       "      <th>...</th>\n",
       "      <td>...</td>\n",
       "      <td>...</td>\n",
       "      <td>...</td>\n",
       "    </tr>\n",
       "    <tr>\n",
       "      <th>5957</th>\n",
       "      <td>knock hard on my bathroom door one more more t...</td>\n",
       "      <td>2.0</td>\n",
       "      <td>augmented</td>\n",
       "    </tr>\n",
       "    <tr>\n",
       "      <th>5577</th>\n",
       "      <td>but do they not come to school today</td>\n",
       "      <td>2.0</td>\n",
       "      <td>augmented</td>\n",
       "    </tr>\n",
       "    <tr>\n",
       "      <th>5310</th>\n",
       "      <td>shoot back up the school and then i just have ...</td>\n",
       "      <td>2.0</td>\n",
       "      <td>augmented</td>\n",
       "    </tr>\n",
       "    <tr>\n",
       "      <th>5181</th>\n",
       "      <td>warn i be no come here to shoot missions up we...</td>\n",
       "      <td>2.0</td>\n",
       "      <td>augmented</td>\n",
       "    </tr>\n",
       "    <tr>\n",
       "      <th>5046</th>\n",
       "      <td>well i may be shoot up eagle crest highschool ...</td>\n",
       "      <td>2.0</td>\n",
       "      <td>augmented</td>\n",
       "    </tr>\n",
       "  </tbody>\n",
       "</table>\n",
       "<p>1600 rows × 3 columns</p>\n",
       "</div>"
      ],
      "text/plain": [
       "                                                   Text  Target     Source\n",
       "4900  a caption continues with this word that told s...     2.0  augmented\n",
       "4643         i be going go back to remake a texas at co     2.0  augmented\n",
       "6031                         two go to shoot up someone     2.0  augmented\n",
       "4912                    to commit a a fake school shoot     2.0  augmented\n",
       "5274  i be gonna shoot up eagle crest highschool tom...     2.0  augmented\n",
       "...                                                 ...     ...        ...\n",
       "5957  knock hard on my bathroom door one more more t...     2.0  augmented\n",
       "5577               but do they not come to school today     2.0  augmented\n",
       "5310  shoot back up the school and then i just have ...     2.0  augmented\n",
       "5181  warn i be no come here to shoot missions up we...     2.0  augmented\n",
       "5046  well i may be shoot up eagle crest highschool ...     2.0  augmented\n",
       "\n",
       "[1600 rows x 3 columns]"
      ]
     },
     "execution_count": 62,
     "metadata": {},
     "output_type": "execute_result"
    }
   ],
   "source": [
    "aug_df_v2[(aug_df_v2['Source'] == 'augmented') & (aug_df_v2['Target'] == 2.0)]\n"
   ]
  },
  {
   "cell_type": "code",
   "execution_count": 63,
   "id": "c31813ad",
   "metadata": {},
   "outputs": [
    {
     "data": {
      "application/vnd.microsoft.datawrangler.viewer.v0+json": {
       "columns": [
        {
         "name": "Target",
         "rawType": "float64",
         "type": "float"
        },
        {
         "name": "count",
         "rawType": "int64",
         "type": "integer"
        }
       ],
       "ref": "c7cd1f6e-9396-4679-b583-3fc9bd664bf8",
       "rows": [
        [
         "0.0",
         "2056"
        ],
        [
         "1.0",
         "2043"
        ],
        [
         "2.0",
         "2004"
        ]
       ],
       "shape": {
        "columns": 1,
        "rows": 3
       }
      },
      "text/plain": [
       "Target\n",
       "0.0    2056\n",
       "1.0    2043\n",
       "2.0    2004\n",
       "Name: count, dtype: int64"
      ]
     },
     "execution_count": 63,
     "metadata": {},
     "output_type": "execute_result"
    }
   ],
   "source": [
    "aug_df_v2['Target'].value_counts()"
   ]
  },
  {
   "cell_type": "markdown",
   "id": "befbd5fb",
   "metadata": {},
   "source": [
    "## drop uneeded columns"
   ]
  },
  {
   "cell_type": "code",
   "execution_count": 64,
   "id": "c66917b5",
   "metadata": {},
   "outputs": [
    {
     "data": {
      "application/vnd.microsoft.datawrangler.viewer.v0+json": {
       "columns": [
        {
         "name": "index",
         "rawType": "int64",
         "type": "integer"
        },
        {
         "name": "Text",
         "rawType": "object",
         "type": "string"
        },
        {
         "name": "Target",
         "rawType": "float64",
         "type": "float"
        }
       ],
       "ref": "b248db67-2165-4dd3-8596-6d69abee2562",
       "rows": [
        [
         "2199",
         "remember no one be bullet",
         "2.0"
        ],
        [
         "1740",
         "fuck you buzz feed you fuck hypocrite say shit about our second amendment you fuck nigger i wish i could come in your fuck cast room and shoot you all in the head with my ar",
         "2.0"
        ],
        [
         "2582",
         "say itself new story chair available brother help again product event level past turn pas citizen after we against tend table development full think debate mouth federal decade country there perform interview upon",
         "0.0"
        ],
        [
         "4900",
         "a caption continues with this word that told student to stay at home early on monday nights if they want to be home safe",
         "2.0"
        ],
        [
         "2075",
         "if i be a homicidal criminal id love the death penalty to put me out of my misery from a life sentence f the penalty let them rot forever unless they be willing to accept a euthanasia option after year of prison tear in my eye serve anyone who harm those weaker or bad off than them be a scumbag who deserves the blade if my cousin be adam lana i would not defend him at all",
         "1.0"
        ]
       ],
       "shape": {
        "columns": 2,
        "rows": 5
       }
      },
      "text/html": [
       "<div>\n",
       "<style scoped>\n",
       "    .dataframe tbody tr th:only-of-type {\n",
       "        vertical-align: middle;\n",
       "    }\n",
       "\n",
       "    .dataframe tbody tr th {\n",
       "        vertical-align: top;\n",
       "    }\n",
       "\n",
       "    .dataframe thead th {\n",
       "        text-align: right;\n",
       "    }\n",
       "</style>\n",
       "<table border=\"1\" class=\"dataframe\">\n",
       "  <thead>\n",
       "    <tr style=\"text-align: right;\">\n",
       "      <th></th>\n",
       "      <th>Text</th>\n",
       "      <th>Target</th>\n",
       "    </tr>\n",
       "  </thead>\n",
       "  <tbody>\n",
       "    <tr>\n",
       "      <th>2199</th>\n",
       "      <td>remember no one be bullet</td>\n",
       "      <td>2.0</td>\n",
       "    </tr>\n",
       "    <tr>\n",
       "      <th>1740</th>\n",
       "      <td>fuck you buzz feed you fuck hypocrite say shit...</td>\n",
       "      <td>2.0</td>\n",
       "    </tr>\n",
       "    <tr>\n",
       "      <th>2582</th>\n",
       "      <td>say itself new story chair available brother h...</td>\n",
       "      <td>0.0</td>\n",
       "    </tr>\n",
       "    <tr>\n",
       "      <th>4900</th>\n",
       "      <td>a caption continues with this word that told s...</td>\n",
       "      <td>2.0</td>\n",
       "    </tr>\n",
       "    <tr>\n",
       "      <th>2075</th>\n",
       "      <td>if i be a homicidal criminal id love the death...</td>\n",
       "      <td>1.0</td>\n",
       "    </tr>\n",
       "  </tbody>\n",
       "</table>\n",
       "</div>"
      ],
      "text/plain": [
       "                                                   Text  Target\n",
       "2199                          remember no one be bullet     2.0\n",
       "1740  fuck you buzz feed you fuck hypocrite say shit...     2.0\n",
       "2582  say itself new story chair available brother h...     0.0\n",
       "4900  a caption continues with this word that told s...     2.0\n",
       "2075  if i be a homicidal criminal id love the death...     1.0"
      ]
     },
     "execution_count": 64,
     "metadata": {},
     "output_type": "execute_result"
    }
   ],
   "source": [
    "final_df = aug_df_v2.drop(columns=['Source'], axis=1)\n",
    "final_df.head()"
   ]
  },
  {
   "cell_type": "markdown",
   "id": "ef803546",
   "metadata": {},
   "source": [
    "## Seperate final cleaned data into test and train csv"
   ]
  },
  {
   "cell_type": "code",
   "execution_count": 65,
   "id": "2b21d076",
   "metadata": {},
   "outputs": [],
   "source": [
    "from sklearn.model_selection import train_test_split\n",
    "\n",
    "train_df, test_df = train_test_split(\n",
    "    final_df, \n",
    "    test_size=0.2,       # 20% test, 80% train\n",
    "    random_state=42, \n",
    "    stratify=final_df['Target']  # maintain class distribution\n",
    ")"
   ]
  },
  {
   "cell_type": "code",
   "execution_count": 66,
   "id": "b347013d",
   "metadata": {},
   "outputs": [],
   "source": [
    "train_df.to_csv('../5. Modelling/train_data.csv', index=False, quoting=1)\n",
    "test_df.to_csv('../5. Modelling/test_data.csv', index=False, quoting=1)"
   ]
  },
  {
   "cell_type": "markdown",
   "id": "9136c1fa",
   "metadata": {},
   "source": []
  },
  {
   "cell_type": "markdown",
   "id": "d17af482",
   "metadata": {},
   "source": []
  },
  {
   "cell_type": "markdown",
   "id": "8a4f9668",
   "metadata": {},
   "source": []
  },
  {
   "cell_type": "markdown",
   "id": "9ae97edb",
   "metadata": {},
   "source": []
  },
  {
   "cell_type": "markdown",
   "id": "c08e8090",
   "metadata": {},
   "source": []
  }
 ],
 "metadata": {
  "kernelspec": {
   "display_name": "Python 3",
   "language": "python",
   "name": "python3"
  },
  "language_info": {
   "codemirror_mode": {
    "name": "ipython",
    "version": 3
   },
   "file_extension": ".py",
   "mimetype": "text/x-python",
   "name": "python",
   "nbconvert_exporter": "python",
   "pygments_lexer": "ipython3",
   "version": "3.11.3"
  }
 },
 "nbformat": 4,
 "nbformat_minor": 5
}
