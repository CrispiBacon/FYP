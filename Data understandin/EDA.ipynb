{
 "cells": [
  {
   "cell_type": "markdown",
   "metadata": {},
   "source": [
    "## 1.School Shooter dataset"
   ]
  },
  {
   "cell_type": "code",
   "execution_count": 22,
   "metadata": {},
   "outputs": [
    {
     "name": "stdout",
     "output_type": "stream",
     "text": [
      "<class 'pandas.core.frame.DataFrame'>\n",
      "RangeIndex: 854 entries, 0 to 853\n",
      "Data columns (total 1 columns):\n",
      " #   Column  Non-Null Count  Dtype \n",
      "---  ------  --------------  ----- \n",
      " 0   Post    854 non-null    object\n",
      "dtypes: object(1)\n",
      "memory usage: 6.8+ KB\n",
      "None\n",
      "                                                Post\n",
      "0  Mommy said not to talk to strangers..but she's...\n",
      "1  1.I was immune to getting hurt/killed/infected...\n",
      "2  I mean terrorist attacks happen all the time. ...\n",
      "3  As a god, it would be my responsibility not to...\n",
      "4  I am going to grab a knife and shove it in the...\n"
     ]
    },
    {
     "data": {
      "text/plain": [
       "np.int64(3)"
      ]
     },
     "execution_count": 22,
     "metadata": {},
     "output_type": "execute_result"
    }
   ],
   "source": [
    "import pandas as pd\n",
    "\n",
    "# Read CSV \n",
    "df1 = pd.read_excel('../data/Schoolshooters.info/Dataset.xlsx', header=0)\n",
    "\n",
    "print(df1.info())\n",
    "print(df1.head())\n",
    "\n",
    "df1.duplicated().sum() \n"
   ]
  },
  {
   "cell_type": "markdown",
   "metadata": {},
   "source": [
    "## 2. Mass Shooter Social Media Dataset"
   ]
  },
  {
   "cell_type": "code",
   "execution_count": 25,
   "metadata": {},
   "outputs": [
    {
     "name": "stdout",
     "output_type": "stream",
     "text": [
      "<class 'pandas.core.frame.DataFrame'>\n",
      "RangeIndex: 3002 entries, 0 to 3001\n",
      "Data columns (total 8 columns):\n",
      " #   Column    Non-Null Count  Dtype  \n",
      "---  ------    --------------  -----  \n",
      " 0   tweet     3001 non-null   object \n",
      " 1   date      3002 non-null   object \n",
      " 2   source    3002 non-null   object \n",
      " 3   RT        3002 non-null   bool   \n",
      " 4   user_tag  3002 non-null   bool   \n",
      " 5   account   2873 non-null   object \n",
      " 6   ext_link  3002 non-null   bool   \n",
      " 7   link      0 non-null      float64\n",
      "dtypes: bool(3), float64(1), object(4)\n",
      "memory usage: 126.2+ KB\n",
      "None\n",
      "                                               tweet                  date  \\\n",
      "0                                                NaN  Mar 9, 2019, 4:16 PM   \n",
      "1                                                Why  Mar 9, 2019, 4:28 PM   \n",
      "2   Today in “Manosphere Grift or Terrorist Recru...  Mar 9, 2019, 4:43 PM   \n",
      "3   How can anyone see this as a good luck charm?...  Mar 9, 2019, 4:46 PM   \n",
      "4                                  Hamms is good tho  Mar 9, 2019, 5:44 PM   \n",
      "\n",
      "                                              source     RT  user_tag  \\\n",
      "0  (Source: https://twitter.com/iamthespookster/s...  False     False   \n",
      "1  (Source: https://twitter.com/iamthespookster/s...  False      True   \n",
      "2  (Source: https://twitter.com/iamthespookster/s...   True      True   \n",
      "3  (Source: https://twitter.com/iamthespookster/s...   True      True   \n",
      "4  (Source: https://twitter.com/iamthespookster/s...  False      True   \n",
      "\n",
      "            account  ext_link  link  \n",
      "0               NaN     False   NaN  \n",
      "1  @LetsJetTogether     False   NaN  \n",
      "2   @mollycrabapple     False   NaN  \n",
      "3  @JackieMorrisArt      True   NaN  \n",
      "4       @Lubchansky     False   NaN  \n"
     ]
    },
    {
     "data": {
      "text/plain": [
       "np.int64(0)"
      ]
     },
     "execution_count": 25,
     "metadata": {},
     "output_type": "execute_result"
    }
   ],
   "source": [
    "import pandas as pd\n",
    "\n",
    "# Read CSV \n",
    "df2 = pd.read_csv(r'..\\data\\MassShooterSocialMediaDataset\\tweets.csv', header=0)\n",
    "\n",
    "print(df2.info())\n",
    "print(df2.head())\n",
    "\n",
    "df2.duplicated().sum() "
   ]
  },
  {
   "cell_type": "markdown",
   "metadata": {},
   "source": [
    "## 3. Threat Text"
   ]
  },
  {
   "cell_type": "code",
   "execution_count": 28,
   "metadata": {},
   "outputs": [
    {
     "name": "stdout",
     "output_type": "stream",
     "text": [
      "<class 'pandas.core.frame.DataFrame'>\n",
      "RangeIndex: 396 entries, 0 to 395\n",
      "Data columns (total 1 columns):\n",
      " #   Column       Non-Null Count  Dtype \n",
      "---  ------       --------------  ----- \n",
      " 0   Threat_Text  395 non-null    object\n",
      "dtypes: object(1)\n",
      "memory usage: 3.2+ KB\n",
      "None\n",
      "                                         Threat_Text\n",
      "0            \"I will shoot up the school\" on Jan. 10\n",
      "1   \"infiltrate the school from all entrances\" an...\n",
      "2   \"Nicolas (sic) Cruz you coulda done better. S...\n",
      "3   \"shoot up,\" \"bother hiding,\" \"won't be making...\n",
      "4   dont go to school tomorrow. Its going to b...\n"
     ]
    },
    {
     "data": {
      "text/plain": [
       "np.int64(19)"
      ]
     },
     "execution_count": 28,
     "metadata": {},
     "output_type": "execute_result"
    }
   ],
   "source": [
    "import pandas as pd\n",
    "\n",
    "# Read CSV \n",
    "df3 = pd.read_csv(r'..\\data\\Threat Texts.csv', encoding='ISO-8859-1', header=None,  names=['Threat_Text'])\n",
    "\n",
    "print(df3.info())\n",
    "print(df3.head())\n",
    "\n",
    "df3.duplicated().sum() "
   ]
  },
  {
   "cell_type": "markdown",
   "metadata": {},
   "source": [
    "## 4. Sentiment dataset"
   ]
  },
  {
   "cell_type": "code",
   "execution_count": null,
   "metadata": {},
   "outputs": [
    {
     "name": "stdout",
     "output_type": "stream",
     "text": [
      "<class 'pandas.core.frame.DataFrame'>\n",
      "RangeIndex: 2000 entries, 0 to 1999\n",
      "Data columns (total 10 columns):\n",
      " #   Column               Non-Null Count  Dtype \n",
      "---  ------               --------------  ----- \n",
      " 0   Post ID              2000 non-null   object\n",
      " 1   Post Content         2000 non-null   object\n",
      " 2   Sentiment Label      2000 non-null   object\n",
      " 3   Number of Likes      2000 non-null   int64 \n",
      " 4   Number of Shares     2000 non-null   int64 \n",
      " 5   Number of Comments   2000 non-null   int64 \n",
      " 6   User Follower Count  2000 non-null   int64 \n",
      " 7   Post Date and Time   2000 non-null   object\n",
      " 8   Post Type            2000 non-null   object\n",
      " 9   Language             2000 non-null   object\n",
      "dtypes: int64(4), object(6)\n",
      "memory usage: 156.4+ KB\n",
      "None\n",
      "                                Post ID  \\\n",
      "0  aa391375-7355-44b7-bcbf-97fb4e5a2ba3   \n",
      "1  1c9ec98d-437a-48d9-9cba-bd5ad853c59a   \n",
      "2  170e5b5b-1d9a-4d02-a957-93c4dbb18908   \n",
      "3  aec53496-60ee-4a06-8821-093a04dc8770   \n",
      "4  4eacddb7-990d-4056-8784-7e1d5c4d1404   \n",
      "\n",
      "                                        Post Content Sentiment Label  \\\n",
      "0  Word who nor center everything better politica...         Neutral   \n",
      "1  Begin administration population good president...        Positive   \n",
      "2  Thousand total sign. Agree product relationshi...        Positive   \n",
      "3  Individual from news third. Oil forget them di...         Neutral   \n",
      "4  Time adult letter see reduce. Attention sudden...        Negative   \n",
      "\n",
      "   Number of Likes  Number of Shares  Number of Comments  User Follower Count  \\\n",
      "0              157               243                  64                 4921   \n",
      "1              166                49                 121                  612   \n",
      "2              185               224                 179                 9441   \n",
      "3              851               369                  39                 6251   \n",
      "4              709               356                  52                 1285   \n",
      "\n",
      "    Post Date and Time Post Type Language  \n",
      "0  2024-01-10 00:14:21     video       fr  \n",
      "1  2024-02-03 00:20:11     image       es  \n",
      "2  2024-07-25 14:20:23     video       de  \n",
      "3  2024-02-20 09:15:09      text       de  \n",
      "4  2024-03-01 04:17:35     image       de  \n",
      "Sentiment Label\n",
      "Neutral     682\n",
      "Negative    675\n",
      "Positive    643\n",
      "Name: count, dtype: int64\n"
     ]
    },
    {
     "data": {
      "text/plain": [
       "np.int64(0)"
      ]
     },
     "execution_count": 33,
     "metadata": {},
     "output_type": "execute_result"
    }
   ],
   "source": [
    "import pandas as pd\n",
    "\n",
    "# Read CSV \n",
    "df4 = pd.read_csv(r'..\\data\\synthetic_social_media_data.csv', header=0)\n",
    "\n",
    "print(df4.info())\n",
    "print(df4.head())\n",
    "\n",
    "print(df4[\"Sentiment Label\"].value_counts())  # Counts occurrences of each sentiment type\n",
    "\n",
    "df4.duplicated().sum() "
   ]
  },
  {
   "cell_type": "code",
   "execution_count": null,
   "metadata": {},
   "outputs": [],
   "source": []
  }
 ],
 "metadata": {
  "kernelspec": {
   "display_name": "Python 3",
   "language": "python",
   "name": "python3"
  },
  "language_info": {
   "codemirror_mode": {
    "name": "ipython",
    "version": 3
   },
   "file_extension": ".py",
   "mimetype": "text/x-python",
   "name": "python",
   "nbconvert_exporter": "python",
   "pygments_lexer": "ipython3",
   "version": "3.11.3"
  }
 },
 "nbformat": 4,
 "nbformat_minor": 2
}
